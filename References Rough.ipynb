{
 "cells": [
  {
   "cell_type": "code",
   "execution_count": null,
   "id": "64a731b7-e1f2-400b-a205-a5f2c6ddefbe",
   "metadata": {},
   "outputs": [],
   "source": [
    "https://towardsdatascience.com/feature-engineering-for-machine-learning-3a5e293a5114"
   ]
  }
 ],
 "metadata": {
  "kernelspec": {
   "display_name": "Python 3 (ipykernel)",
   "language": "python",
   "name": "python3"
  },
  "language_info": {
   "codemirror_mode": {
    "name": "ipython",
    "version": 3
   },
   "file_extension": ".py",
   "mimetype": "text/x-python",
   "name": "python",
   "nbconvert_exporter": "python",
   "pygments_lexer": "ipython3",
   "version": "3.9.12"
  },
  "widgets": {
   "application/vnd.jupyter.widget-state+json": {
    "state": {},
    "version_major": 2,
    "version_minor": 0
   }
  }
 },
 "nbformat": 4,
 "nbformat_minor": 5
}
