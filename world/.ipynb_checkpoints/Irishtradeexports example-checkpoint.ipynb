{
 "cells": [
  {
   "cell_type": "code",
   "execution_count": 1,
   "id": "a1672659-14c1-4d2f-84bb-f810949fd7b1",
   "metadata": {},
   "outputs": [
    {
     "ename": "ModuleNotFoundError",
     "evalue": "No module named 'pycountry'",
     "output_type": "error",
     "traceback": [
      "\u001b[1;31m---------------------------------------------------------------------------\u001b[0m",
      "\u001b[1;31mModuleNotFoundError\u001b[0m                       Traceback (most recent call last)",
      "Input \u001b[1;32mIn [1]\u001b[0m, in \u001b[0;36m<cell line: 9>\u001b[1;34m()\u001b[0m\n\u001b[0;32m      6\u001b[0m \u001b[38;5;28;01mimport\u001b[39;00m \u001b[38;5;21;01mdatetime\u001b[39;00m \u001b[38;5;28;01mas\u001b[39;00m \u001b[38;5;21;01mdt\u001b[39;00m\n\u001b[0;32m      7\u001b[0m \u001b[38;5;28;01mimport\u001b[39;00m \u001b[38;5;21;01mmatplotlib\u001b[39;00m\u001b[38;5;21;01m.\u001b[39;00m\u001b[38;5;21;01mpyplot\u001b[39;00m \u001b[38;5;28;01mas\u001b[39;00m \u001b[38;5;21;01mplt\u001b[39;00m\n\u001b[1;32m----> 9\u001b[0m \u001b[38;5;28;01mimport\u001b[39;00m \u001b[38;5;21;01mpycountry\u001b[39;00m \u001b[38;5;66;03m# used for mapping\u001b[39;00m\n\u001b[0;32m     10\u001b[0m \u001b[38;5;28;01mimport\u001b[39;00m \u001b[38;5;21;01mgeopy\u001b[39;00m \u001b[38;5;66;03m# used for mapping\u001b[39;00m\n\u001b[0;32m     11\u001b[0m \u001b[38;5;28;01mfrom\u001b[39;00m \u001b[38;5;21;01mgeopy\u001b[39;00m\u001b[38;5;21;01m.\u001b[39;00m\u001b[38;5;21;01mgeocoders\u001b[39;00m \u001b[38;5;28;01mimport\u001b[39;00m Nominatim \u001b[38;5;66;03m# used for mapping\u001b[39;00m\n",
      "\u001b[1;31mModuleNotFoundError\u001b[0m: No module named 'pycountry'"
     ]
    }
   ],
   "source": [
    "# loading all relevant libraries\n",
    "\n",
    "import pandas as pd\n",
    "import seaborn as sns\n",
    "import numpy as np\n",
    "import datetime as dt\n",
    "import matplotlib.pyplot as plt\n",
    "\n",
    "import pycountry # used for mapping\n",
    "import geopy # used for mapping\n",
    "from geopy.geocoders import Nominatim # used for mapping\n",
    "\n",
    "from geopy.exc import GeocoderTimedOut \n",
    "import folium"
   ]
  },
  {
   "cell_type": "code",
   "execution_count": null,
   "id": "f72e95ef-7280-43b6-b346-511ad16cdccf",
   "metadata": {},
   "outputs": [],
   "source": [
    "# creating dataframe for exports\n",
    "df = pd.read_csv(r'World Butter Exporters 5 years.csv', header = 0)"
   ]
  },
  {
   "cell_type": "code",
   "execution_count": null,
   "id": "d7bcafe7-bbfb-4983-8d59-d098f505edae",
   "metadata": {},
   "outputs": [],
   "source": [
    "# now, fill the nas with the above state\n",
    "df['State'] = df['State'].fillna(method='ffill')"
   ]
  },
  {
   "cell_type": "code",
   "execution_count": null,
   "id": "83005d94-ecb4-44a5-b864-9c64e7879727",
   "metadata": {},
   "outputs": [],
   "source": [
    "# next issue - we have rows where the commodity is null so we should drop these rows\n",
    "df = df[df['Commodity'].notna()]"
   ]
  },
  {
   "cell_type": "code",
   "execution_count": null,
   "id": "10e65c5f-43b5-4566-afc3-17ecd3f91b6c",
   "metadata": {},
   "outputs": [],
   "source": [
    "# we have entries in the dataframe that are '..' - we need to convert them to 0's so we can group the data\n",
    "df = df.replace('..', 0)"
   ]
  },
  {
   "cell_type": "code",
   "execution_count": null,
   "id": "6fc7690d-9fc0-4c6d-bcdf-68be31522b8f",
   "metadata": {},
   "outputs": [],
   "source": [
    "# Our data is stored as objects, rather than floats - we need to convert all numeric columns to float so we can group them\n",
    "# we can do this in 2 steps: 1st create a copy of the dataframe excluding the state & commodity, 2nd we convert the remaining columns to numeric values\n",
    "cols = df.columns.drop(['State', 'Commodity'])\n",
    "df[cols] = df[cols].apply(pd.to_numeric, errors='coerce')"
   ]
  },
  {
   "cell_type": "code",
   "execution_count": null,
   "id": "58fd22f6-0edb-4554-825d-3de073decb8a",
   "metadata": {},
   "outputs": [],
   "source": [
    "# there's a column named total which is a sum of other totals - lets remove this\n",
    "df = df[df.Commodity !='Total merchandise trade (0 - 9)']"
   ]
  },
  {
   "cell_type": "code",
   "execution_count": null,
   "id": "510b5434-ff6c-48b4-862d-27f7d7366d8b",
   "metadata": {},
   "outputs": [],
   "source": [
    "# so, who do we export to the most? We can find this out by grouping by state\n",
    "countries = df.groupby('State', as_index=False).sum()"
   ]
  },
  {
   "cell_type": "code",
   "execution_count": null,
   "id": "c8a2b6a4-1c85-47e2-bd61-661f112b6325",
   "metadata": {},
   "outputs": [],
   "source": [
    "# now, create a new column that sums all the months for each state\n",
    "countries['Total'] = countries.drop('State', axis=1).sum(axis=1)"
   ]
  },
  {
   "cell_type": "code",
   "execution_count": null,
   "id": "79e11f81-58c0-4dd4-a28a-8dffc295b89b",
   "metadata": {},
   "outputs": [],
   "source": [
    "# create a df with only state & total\n",
    "countries_total = countries[['State', 'Total']]"
   ]
  },
  {
   "cell_type": "code",
   "execution_count": null,
   "id": "69535c5a-49d2-4d1c-be7b-e7a20bcac5d0",
   "metadata": {},
   "outputs": [],
   "source": [
    "# excluding non descriptive countries - we can't map these countries so let's remove them from the df\n",
    "countries_total = countries_total[(countries_total.State != 'EU country not specified') & (countries_total.State != 'Other countries')]"
   ]
  },
  {
   "cell_type": "code",
   "execution_count": null,
   "id": "2ab8bb1e-0b3b-4434-8770-55d1744ec01f",
   "metadata": {},
   "outputs": [],
   "source": [
    "# getting the country codes so we can find the longs & lats (not needed for mapping here but useful for Tableau)\n",
    "# 1st - get the names of all the states\n",
    "country_names = countries_total.State\n",
    "\n",
    "\n",
    "# open a dictionary list & find the 3 letter country code for all countries in our df\n",
    "countries = {}\n",
    "for country in pycountry.countries:\n",
    "    countries[country.name] = country.alpha_3\n",
    "\n",
    "# create a df with the country codes \n",
    "country_codes = [countries.get(country, 'Unknown code') for country in country_names]"
   ]
  },
  {
   "cell_type": "code",
   "execution_count": null,
   "id": "81d07712-3997-4f7d-86dc-c2870e41a655",
   "metadata": {},
   "outputs": [],
   "source": [
    "# now, create a new column that contains the country codes\n",
    "countries_total['country_codes'] = country_codes"
   ]
  },
  {
   "cell_type": "code",
   "execution_count": null,
   "id": "98f03dca-50d3-416c-b10d-da1a4e7aff04",
   "metadata": {},
   "outputs": [],
   "source": [
    "# function to manually enter codes that didn't appear\n",
    "\n",
    "# giving our function the state column and the country code column & creating a new df with the final country codes\n",
    "def fix_codes(x, y):\n",
    "    if x == 'Czech Republic':\n",
    "        return \"CZE\"\n",
    "    elif x == 'Great Britain':\n",
    "        return \"GBR\"\n",
    "    elif x == 'Northern Ireland':\n",
    "        return \"GBR\"\n",
    "    elif x =='Russia':\n",
    "        return \"RUS\"\n",
    "    elif x == 'South Korea':\n",
    "        return \"KOR\"\n",
    "    elif x == 'Taiwan':\n",
    "        return \"TWN\"\n",
    "    elif x =='USA':\n",
    "        return 'USA'\n",
    "    else:\n",
    "        return y\n",
    "\n",
    "func = np.vectorize(fix_codes)\n",
    "updated_codes = func(countries_total[\"State\"], countries_total[\"country_codes\"])"
   ]
  },
  {
   "cell_type": "code",
   "execution_count": null,
   "id": "11efb5f1-0ef6-4d4e-98f0-4aa20dd315e4",
   "metadata": {},
   "outputs": [],
   "source": [
    "# setting the country codes in our df to include the updated ones\n",
    "countries_total['country_codes'] = updated_codes"
   ]
  },
  {
   "cell_type": "code",
   "execution_count": null,
   "id": "f0c0e66b-0e31-4de7-a974-ff1285e53274",
   "metadata": {},
   "outputs": [],
   "source": [
    "# finding the longitude & latitudes using the country codes\n",
    "\n",
    "longitude = [] \n",
    "latitude = []\n",
    "\n",
    "\n",
    "\n",
    "\n",
    "# creating a function to find the longs & lats\n",
    "def findGeocode(country): \n",
    "\n",
    "    try: \n",
    "          \n",
    "        geolocator = Nominatim(user_agent=\"blank_app_name\")\n",
    "          \n",
    "        return geolocator.geocode(country) \n",
    "      \n",
    "    except GeocoderTimedOut: \n",
    "          \n",
    "        return findGeocode(country)     \n",
    "\n",
    "# now, using the function to find the longs & lats\n",
    "for i in (countries_total[\"country_codes\"]): \n",
    "      \n",
    "    if findGeocode(i) != None: \n",
    "           \n",
    "        loc = findGeocode(i) \n",
    "          \n",
    "        latitude.append(loc.latitude) \n",
    "        longitude.append(loc.longitude) \n",
    "       \n",
    "    else: \n",
    "        latitude.append(np.nan) \n",
    "        longitude.append(np.nan) "
   ]
  },
  {
   "cell_type": "code",
   "execution_count": null,
   "id": "6f547789-7ed5-42e2-b1eb-d73de0bd1fb7",
   "metadata": {},
   "outputs": [],
   "source": [
    "# creating new columns with the longs & lats\n",
    "\n",
    "countries_total[\"Longitude\"] = longitude \n",
    "countries_total[\"Latitude\"] = latitude "
   ]
  },
  {
   "cell_type": "code",
   "execution_count": null,
   "id": "86434f10-e0b2-415b-ae84-3b51ea01c895",
   "metadata": {},
   "outputs": [],
   "source": [
    "# now to create a map with folium\n",
    "# we can get the country shapes using the json file in at the github page for the folium package\n",
    "\n",
    "url = 'https://raw.githubusercontent.com/python-visualization/folium/master/examples/data'\n",
    "country_shapes = f'{url}/world-countries.json'"
   ]
  },
  {
   "cell_type": "code",
   "execution_count": null,
   "id": "c62ba43c-827f-4400-816b-41cebda2a7ca",
   "metadata": {},
   "outputs": [],
   "source": [
    "# now we can create the map - we're going to create a map that highlights each country depending on how much we export to them\n",
    "\n",
    "# Initialize the base map - these are starting points for the map:\n",
    "m2 = folium.Map(location=[20, 0], zoom_start=2)\n",
    " \n",
    "# defining the settings for the chloropleth:\n",
    "m2.choropleth(\n",
    " geo_data=country_shapes, # using the country shapes we got the json file\n",
    " name='Total Irish Exports between 2015 & 2020',  # name of our map\n",
    " data=countries_total, # what data we want to map\n",
    " columns=['country_codes', 'Total'], # what columns from our dataframe that we want to map\n",
    " key_on='feature.id', # what we're matching with - in our instance, we're joining the country codes to the IDs in the json file\n",
    " fill_color='YlGnBu', # the colours we want to use in the mpa\n",
    " fill_opacity=0.5, # similar to transparency - colour setting\n",
    " line_opacity=0.5,\n",
    " legend_name='Value of Exports', # the name under our legend\n",
    " smooth_factor=0, # lines around the countries as we zoom in \n",
    " highlight=True, # does the map highlight the country when we hover over it with a mouse \n",
    ")\n",
    "folium.LayerControl().add_to(m2)\n"
   ]
  },
  {
   "cell_type": "code",
   "execution_count": null,
   "id": "cedf32c0-4feb-48a1-a194-154bae79aa01",
   "metadata": {},
   "outputs": [],
   "source": [
    "# now call the map - countries not in our dataset have no colour\n",
    "m2"
   ]
  },
  {
   "cell_type": "code",
   "execution_count": null,
   "id": "b93a0275-daec-4f3b-b128-32cf55c040fc",
   "metadata": {},
   "outputs": [],
   "source": [
    "# lets take a look at the overlal numbers - we can see that exports to the US are nearly double that of the other countries\n",
    "countries_total.sort_values('Total', ascending = False)"
   ]
  },
  {
   "cell_type": "code",
   "execution_count": null,
   "id": "f760a82e-1e41-4fd6-8e4f-4c290aabd7da",
   "metadata": {},
   "outputs": [],
   "source": [
    "# finally, sometimes its useful to view the % total value, rather than absolute values\n",
    "countries_total['perc'] = round(countries_total['Total']/countries_total['Total'].sum(),2)*100"
   ]
  },
  {
   "cell_type": "code",
   "execution_count": null,
   "id": "e086b9e7-07fe-4ad7-b9f4-f0ce2c1df3b4",
   "metadata": {},
   "outputs": [],
   "source": [
    "# and now lets map the percentage rather than total value\n",
    "# now we can create the map - we're going to create a map that highlights each country depending on how much we export to them\n",
    "\n",
    "# Initialize the base map - these are starting points for the map:\n",
    "m3 = folium.Map(location=[20, 0], zoom_start=2)\n",
    " \n",
    "# defining the settings for the chloropleth:\n",
    "m3.choropleth(\n",
    " geo_data=country_shapes, # using the country shapes we got the json file\n",
    " name='Total Irish Exports between 2015 & 2020',  # name of our map\n",
    " data=countries_total, # what data we want to map\n",
    " columns=['country_codes', 'perc'], # what columns from our dataframe that we want to map\n",
    " key_on='feature.id', # what we're matching with - in our instance, we're joining the country codes to the IDs in the json file\n",
    " fill_color='YlGnBu', # the colours we want to use in the mpa\n",
    " fill_opacity=0.5, # similar to transparency - colour setting\n",
    " line_opacity=0.5,\n",
    " legend_name='Percentage Value of Exports', # the name under our legend\n",
    " smooth_factor=0, # lines around the countries as we zoom in \n",
    " highlight=True, # does the map highlight the country when we hover over it with a mouse \n",
    ")\n",
    "folium.LayerControl().add_to(m3)\n"
   ]
  },
  {
   "cell_type": "code",
   "execution_count": null,
   "id": "5e45e44f-448b-4118-8eef-783ad0c25518",
   "metadata": {},
   "outputs": [],
   "source": [
    "m3"
   ]
  },
  {
   "cell_type": "code",
   "execution_count": null,
   "id": "1e50ed61-94a9-4748-9804-d13ede1fbdfd",
   "metadata": {},
   "outputs": [],
   "source": [
    "# finally, export the DF to a csv file\n",
    "countries_total.to_csv(r\"Irish Globalisation Data\\Trade_Statistics_Export_Commodities_DF.csv\", index=False)"
   ]
  },
  {
   "cell_type": "code",
   "execution_count": null,
   "id": "439cfb52-9db2-414c-8bd7-6f8b011e50f0",
   "metadata": {},
   "outputs": [],
   "source": []
  },
  {
   "cell_type": "code",
   "execution_count": null,
   "id": "28c6592b-8de2-4d8a-a5bf-91d397880efb",
   "metadata": {},
   "outputs": [],
   "source": []
  }
 ],
 "metadata": {
  "kernelspec": {
   "display_name": "Python 3 (ipykernel)",
   "language": "python",
   "name": "python3"
  },
  "language_info": {
   "codemirror_mode": {
    "name": "ipython",
    "version": 3
   },
   "file_extension": ".py",
   "mimetype": "text/x-python",
   "name": "python",
   "nbconvert_exporter": "python",
   "pygments_lexer": "ipython3",
   "version": "3.9.12"
  },
  "widgets": {
   "application/vnd.jupyter.widget-state+json": {
    "state": {},
    "version_major": 2,
    "version_minor": 0
   }
  }
 },
 "nbformat": 4,
 "nbformat_minor": 5
}
