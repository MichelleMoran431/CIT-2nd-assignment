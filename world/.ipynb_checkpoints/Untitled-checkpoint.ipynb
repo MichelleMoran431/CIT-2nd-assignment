{
 "cells": [
  {
   "cell_type": "code",
   "execution_count": 1,
   "id": "8e479ef5-bdea-4e6d-b415-cc9d9a6fd3fe",
   "metadata": {},
   "outputs": [],
   "source": [
    "import pandas as pd\n",
    "import plotly.express as px \n",
    "WorldButterExports_df = pd.read_csv('World Butter Exporters 5 years.csv')"
   ]
  },
  {
   "cell_type": "code",
   "execution_count": 2,
   "id": "9edea348-483e-4517-bd25-a79edc62781a",
   "metadata": {},
   "outputs": [
    {
     "data": {
      "text/html": [
       "<div>\n",
       "<style scoped>\n",
       "    .dataframe tbody tr th:only-of-type {\n",
       "        vertical-align: middle;\n",
       "    }\n",
       "\n",
       "    .dataframe tbody tr th {\n",
       "        vertical-align: top;\n",
       "    }\n",
       "\n",
       "    .dataframe thead th {\n",
       "        text-align: right;\n",
       "    }\n",
       "</style>\n",
       "<table border=\"1\" class=\"dataframe\">\n",
       "  <thead>\n",
       "    <tr style=\"text-align: right;\">\n",
       "      <th></th>\n",
       "      <th>Continent</th>\n",
       "      <th>Continent ID</th>\n",
       "      <th>Country</th>\n",
       "      <th>Country ID</th>\n",
       "      <th>ISO 3</th>\n",
       "      <th>Trade Value</th>\n",
       "      <th>Year</th>\n",
       "    </tr>\n",
       "  </thead>\n",
       "  <tbody>\n",
       "    <tr>\n",
       "      <th>0</th>\n",
       "      <td>Africa</td>\n",
       "      <td>af</td>\n",
       "      <td>Angola</td>\n",
       "      <td>afago</td>\n",
       "      <td>ago</td>\n",
       "      <td>42412</td>\n",
       "      <td>2015</td>\n",
       "    </tr>\n",
       "    <tr>\n",
       "      <th>1</th>\n",
       "      <td>Africa</td>\n",
       "      <td>af</td>\n",
       "      <td>Burundi</td>\n",
       "      <td>afbdi</td>\n",
       "      <td>bdi</td>\n",
       "      <td>1</td>\n",
       "      <td>2015</td>\n",
       "    </tr>\n",
       "    <tr>\n",
       "      <th>2</th>\n",
       "      <td>Africa</td>\n",
       "      <td>af</td>\n",
       "      <td>Benin</td>\n",
       "      <td>afben</td>\n",
       "      <td>ben</td>\n",
       "      <td>3855740</td>\n",
       "      <td>2015</td>\n",
       "    </tr>\n",
       "    <tr>\n",
       "      <th>3</th>\n",
       "      <td>Africa</td>\n",
       "      <td>af</td>\n",
       "      <td>Burkina Faso</td>\n",
       "      <td>afbfa</td>\n",
       "      <td>bfa</td>\n",
       "      <td>224</td>\n",
       "      <td>2015</td>\n",
       "    </tr>\n",
       "    <tr>\n",
       "      <th>4</th>\n",
       "      <td>Africa</td>\n",
       "      <td>af</td>\n",
       "      <td>Botswana</td>\n",
       "      <td>afbwa</td>\n",
       "      <td>bwa</td>\n",
       "      <td>1736</td>\n",
       "      <td>2015</td>\n",
       "    </tr>\n",
       "  </tbody>\n",
       "</table>\n",
       "</div>"
      ],
      "text/plain": [
       "  Continent Continent ID       Country Country ID ISO 3  Trade Value  Year\n",
       "0    Africa           af        Angola      afago   ago        42412  2015\n",
       "1    Africa           af       Burundi      afbdi   bdi            1  2015\n",
       "2    Africa           af         Benin      afben   ben      3855740  2015\n",
       "3    Africa           af  Burkina Faso      afbfa   bfa          224  2015\n",
       "4    Africa           af      Botswana      afbwa   bwa         1736  2015"
      ]
     },
     "execution_count": 2,
     "metadata": {},
     "output_type": "execute_result"
    }
   ],
   "source": [
    "WorldButterExports_df.head() "
   ]
  },
  {
   "cell_type": "code",
   "execution_count": null,
   "id": "b8a08a6e-e6f0-4f40-a517-a94a93ba8643",
   "metadata": {},
   "outputs": [],
   "source": [
    "fig = px.choropleth(WorldButterExports_df,\n",
    " locations=\"ISO 3\", # colunm containing ISO 3166 country codes\n",
    " color=\"Trade Value\",\n",
    "# column by which to color-code\n",
    " hover_name=\"Country\", # column to display in hover information\n",
    " color_continuous_scale=px.colors.sequential.Plasma)\n",
    "fig.show() "
   ]
  }
 ],
 "metadata": {
  "kernelspec": {
   "display_name": "Python 3 (ipykernel)",
   "language": "python",
   "name": "python3"
  },
  "language_info": {
   "codemirror_mode": {
    "name": "ipython",
    "version": 3
   },
   "file_extension": ".py",
   "mimetype": "text/x-python",
   "name": "python",
   "nbconvert_exporter": "python",
   "pygments_lexer": "ipython3",
   "version": "3.9.12"
  },
  "widgets": {
   "application/vnd.jupyter.widget-state+json": {
    "state": {},
    "version_major": 2,
    "version_minor": 0
   }
  }
 },
 "nbformat": 4,
 "nbformat_minor": 5
}
