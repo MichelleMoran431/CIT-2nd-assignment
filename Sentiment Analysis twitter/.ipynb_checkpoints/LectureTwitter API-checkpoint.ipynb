{
 "cells": [
  {
   "cell_type": "markdown",
   "id": "69119279",
   "metadata": {},
   "source": [
    "# Twitter API Tutorial\n"
   ]
  },
  {
   "cell_type": "markdown",
   "id": "de93501e",
   "metadata": {},
   "source": [
    "Today, we're going to look at how to interact with Twitter's API so that we can easily access some tweets.\n",
    "\n",
    "Recall that API stands for Application Programming Interface, and is a way for some programmes to interact with other programmes. (An interface is a standard way to access some functionality.)\n",
    "\n",
    "We'll use the requests library to make some API requests for past tweets, and Twitter's twitter-stream library to get a real-time stream of tweets.\n",
    "\n",
    "But first: A bit on access tokens"
   ]
  },
  {
   "cell_type": "markdown",
   "id": "49acb2c5",
   "metadata": {},
   "source": [
    "## API Access Tokens"
   ]
  },
  {
   "cell_type": "markdown",
   "id": "57314360",
   "metadata": {},
   "source": [
    "Last week, we were able to use a weather API by going to the appropiate URL endpoint with the right queries. Some services like to restrict access to all or some of their APIs behind access tokens.\n",
    "\n",
    "Firstly, this let's them keep track of who is using which resources, so anyone abusing the services (intentionally or not) can have access cut off. This is called 'rate limiting'.\n",
    "\n",
    "Secondly, it let's them give different levels of access to different people. Advertisers on Twitter, as well as accedemic researchers, can get access to more powerful APIs that the rest of us!"
   ]
  },
  {
   "cell_type": "markdown",
   "id": "4039a28c",
   "metadata": {},
   "source": [
    "To save time, I'll be giving you all access tokens that I've previously registered. There are about 400,000 tweets left on it for the month, but with a class of 80+ that can go fast, so please **remember to turn off any tweet streams!**\n",
    "\n",
    "If you want to use the Twitter API for any projects/CAs, you'll need your own access tokens. Let me know and I can help you set it up!"
   ]
  },
  {
   "cell_type": "markdown",
   "id": "26786cbb",
   "metadata": {},
   "source": [
    "## Using API tokens (or other authentication materials)"
   ]
  },
  {
   "cell_type": "markdown",
   "id": "5329c65d",
   "metadata": {},
   "source": [
    "In general, you want to avoid sharing your access tokens.\n",
    "\n",
    "Beware that versioning software like Git and GitHub keeps ALL of your previous committs. So if you leave access tokens in ANY commit, people can go back though the versioning history and find it!\n",
    "\n",
    "Because of this, we are going to save our access tokens as **enviromental variables**.\n",
    "\n",
    "These can then be read by Python into our programme, without having to ever have them explicitly in the code.\n",
    "\n",
    "Another reason to do this is for when you are sharing your code: people can then just run it with their access tokens.\n",
    "\n",
    "We'll be using the python-dotenv library to handle this for us.\n",
    "\n",
    "The access tokens will be saved in a file called .env (hence the library name).\n",
    "\n",
    "These are normally **hidden files** so you may not be able to view it- you'll have to change your view settings."
   ]
  },
  {
   "cell_type": "code",
   "execution_count": 1,
   "id": "acb6b14c",
   "metadata": {},
   "outputs": [],
   "source": [
    "#!pip install python-dotenv"
   ]
  },
  {
   "cell_type": "code",
   "execution_count": 5,
   "id": "393a1fdc",
   "metadata": {},
   "outputs": [],
   "source": [
    "from dotenv import dotenv_values\n",
    "\n",
    "config = dotenv_values(\".env\")\n",
    "\n",
    "# your Twitter API key and API secret\n",
    "# We won't be using these variables, they're just for demonstration.\n",
    "my_api_key = config[\"API_KEY\"]\n",
    "my_api_key_secret = config[\"API_KEY_SECRET\"]"
   ]
  },
  {
   "cell_type": "code",
   "execution_count": 4,
   "id": "dc096614-8d5d-44a3-93d6-cb4580bf0154",
   "metadata": {},
   "outputs": [
    {
     "name": "stdout",
     "output_type": "stream",
     "text": [
      "PbxLnKwqeEpOVE9i6GdmMxeCC\n"
     ]
    }
   ],
   "source": [
    "print(config[\"API_KEY\"])"
   ]
  },
  {
   "cell_type": "markdown",
   "id": "ede04d32",
   "metadata": {},
   "source": [
    "The twitter-stream library will look for the access tokens in a particular place on your computer. This section is to make the correct file in the appropiate location. You can do this manually either."
   ]
  },
  {
   "cell_type": "code",
   "execution_count": 6,
   "id": "60c8edea",
   "metadata": {},
   "outputs": [],
   "source": [
    "twitter_keys = f'''keys:\n",
    "    access_token: {config[\"API_KEY\"]}\n",
    "    access_token_secret: {config[\"API_KEY_SECRET\"]}\n",
    "    bearer_token: {config[\"BEARER_TOKEN\"]}\n",
    "'''\n",
    "# Mac might be able to use \"~/.twitter-keys.yaml\"\n",
    "with open(\"C:/Users/User/Desktop/Masters 2022/Programming/Week 5th Dec/Week 12 Twitter API/Week 12 Twitter API/.twitter-keys.yaml\", \"w\") as file:\n",
    "    file.write(twitter_keys)\n",
    "with open(\"C:/Users/User/Desktop/Masters 2022/Programming/Week 5th Dec/Week 12 Twitter API/Week 12 Twitter API/.twitter_keys.yaml\", \"w\") as file:\n",
    "    file.write(twitter_keys)"
   ]
  },
  {
   "cell_type": "markdown",
   "id": "85edf8a1",
   "metadata": {},
   "source": [
    "Now that that is all done, we can let the fun begin!!"
   ]
  },
  {
   "cell_type": "markdown",
   "id": "16a71e14",
   "metadata": {},
   "source": [
    "## Twitter Queries"
   ]
  },
  {
   "cell_type": "code",
   "execution_count": null,
   "id": "016f33bc",
   "metadata": {},
   "outputs": [],
   "source": [
    "#!pip install requests"
   ]
  },
  {
   "cell_type": "markdown",
   "id": "12312f6a",
   "metadata": {},
   "source": [
    "Source: https://github.com/twitterdev/Twitter-API-v2-sample-code\n",
    "\n",
    "We've using the recent-search functionality:\n",
    "https://github.com/twitterdev/Twitter-API-v2-sample-code/blob/main/Recent-Search/recent_search.py\n",
    "\n",
    "For more on building tweet queries:\n",
    "https://developer.twitter.com/en/docs/twitter-api/tweets/search/integrate/build-a-query"
   ]
  },
  {
   "cell_type": "code",
   "execution_count": 14,
   "id": "4c59354f",
   "metadata": {},
   "outputs": [
    {
     "name": "stdout",
     "output_type": "stream",
     "text": [
      "200\n",
      "{'data': [{'id': '1603432079596789772', 'edit_history_tweet_ids': ['1603432079596789772'], 'text': '@WSJ Let Russia give Africa Billions$. WeThePeople are dealing with the most expensive prices in basic consumer goods MILK BUTTER EGGS OLIVE OIL BREAD VEGETABLES FRUITS something the extreme far-left media(WSJ)knows nothing about.', 'author_id': '2881807216'}, {'id': '1603427003897626624', 'edit_history_tweet_ids': ['1603427003897626624'], 'text': '@Longshoreman912 @Packratmom @NoLieWithBTC Sure, things like jobs/wages, healthcare, prescription drug prices, housing, childcare, education, the solvency of social security and medicare, infrastructure, energy development, etc.\\n\\nBread and butter issues.', 'author_id': '4039664782'}, {'id': '1603408650688921601', 'edit_history_tweet_ids': ['1603408650688921601'], 'text': '@ChuckGrassley Fact:  19.2 oz of my every day coffee was $5 two years ago.  It is now $9.50.  Butter was $4.95.  It is now $7.95.  Consumer prices are way, way, WAY up.  More than what is being reported.', 'author_id': '1516093917439139844'}, {'id': '1603401158277595137', 'edit_history_tweet_ids': ['1603401158277595137'], 'text': '@JanetBa44871836 Oh no. That stinks, nothing worse than having to throw out 1/2 lb of butter and chocolate chips. 🤬 especially with these prices', 'author_id': '1686208430'}, {'id': '1603399220811243520', 'edit_history_tweet_ids': ['1603399220811243520'], 'text': 'Eggs are nearly 50% more expensive than they were a year ago. Butter prices also shot up 27%.\\n\\nhttps://t.co/0dMmd1ACeg', 'author_id': '34664420'}, {'id': '1603398122876686339', 'edit_history_tweet_ids': ['1603398122876686339'], 'text': '@PressSec @POTUS how can you say that the economy is doing better? Have you seen the prices for food- eggs,bacon,milk,lettuce,butter staples people need! These prices are a huge problem for people on a budget! You’re not doing anything to bring these prices down! Fix these issues', 'author_id': '1592927536450772992'}, {'id': '1603391035966738433', 'edit_history_tweet_ids': ['1603391035966738433'], 'text': '@JRubinBlogger Maybe report on the astronomical increase in food prices caused by #Bidenflation\\n\\nEggs: 43.2%\\nButter and margarine: 34%\\nFlour and prepared flour mixes: 14.2%\\nMeat, poultry and fish: 13.8%\\nMilk: 13.3%\\nFresh fruits: 10.1%\\nBread: 7.1%\\nFresh vegetables: 5.9%', 'author_id': '1518959287778922497'}, {'id': '1603361053638885376', 'edit_history_tweet_ids': ['1603361053638885376'], 'text': 'Have you gotten your holiday cookie tray yet?! @MunchBKshop has you covered\\n\\nChoices: \\nChai spice \\nCaramel Pecan \\nCranberry butter bread (shortbread x butter cookie) \\nSnowball \\nAlfajores \\n\\nPrices per dozen \\n\\n$25 / 1 flavor \\n$50 / 2 flavors \\n$70 / 3 flavors\\n$100 / all 5 flavors https://t.co/VVRudzsGc6', 'author_id': '1451669340806426629'}, {'id': '1603360681100730368', 'edit_history_tweet_ids': ['1603360681100730368'], 'text': 'Have you gotten your holiday cookie tray yet?! @MunchBKshop has you covered\\n\\nChoices: \\nChai spice \\nCaramel Pecan \\nCranberry butter bread (shortbread x butter cookie) \\nSnowball \\nAlfajores \\n\\nPrices per dozen \\n\\n$25 / 1 flavor \\n$50 / 2 flavors \\n$70 / 3 flavors\\n$100 / all 5 flavors https://t.co/edjm0Z9XoD', 'author_id': '50518706'}, {'id': '1603358632384471041', 'edit_history_tweet_ids': ['1603358632384471041'], 'text': 'Ready to ship ❕\\n\\nการ์ดจองกุกของแถม วว butter \\n\\nPrices  260.-\\n\\nshipping 35.- \\n\\nOrder DM 📂\\n\\n#ตลาดนัดบังทัน #การ์ดจองกุก https://t.co/YOdXRskeLI', 'author_id': '761509995812839424'}, {'id': '1603358500859453440', 'edit_history_tweet_ids': ['1603358500859453440'], 'text': 'Ready to ship ❕\\n\\nการ์ดจองกุกเนย ครีม butter cream\\n\\nPrices  260.-\\n\\nshipping 35.- \\n\\nOrder DM 📂\\n\\n#ตลาดนัดบังทัน #การ์ดจองกุก https://t.co/h9dwIZFSyV', 'author_id': '761509995812839424'}, {'id': '1603333498139738112', 'edit_history_tweet_ids': ['1603333498139738112'], 'text': 'Four official Dutch dairy commodity prices have been cut this week by the Dutch Dairy Board/ZuivelNL. Butter is down a whopping €300 to €5,150/t, WMP down €50 to €4,100/t, SMP (feed) down €70 to €2,550/t, whey powder is down €30 to €840/t. SMP (food) unchanged at €2,810', 'author_id': '2240647826'}, {'id': '1603270626613288960', 'edit_history_tweet_ids': ['1603270626613288960'], 'text': \"Everything looks great under Modi according to you.\\nWhat has been the increase in price of daily essentials like rice, atta,dal,edible oils,potatoes, butter, bread etc., since 2014 .\\nThe prices have gone up to rub shoulders with the 'big 5' but not the income of the middle class. https://t.co/zvxWaZbW2s\", 'author_id': '4579616533'}, {'id': '1603270497873043458', 'edit_history_tweet_ids': ['1603270497873043458'], 'text': 'Taking my toasted peanut butter and chocolate spread sandwich to heavenly levels! 😍\\nBut at heavenly prices too 😅\\n\\n#lindt\\n#chocolate\\n#spoils\\n#random https://t.co/RonIz6oreB', 'author_id': '27596351'}, {'id': '1603235265199640577', 'edit_history_tweet_ids': ['1603235265199640577'], 'text': '@WhiteHouse Food prices aren’t falling ~ butter is almost $6/lb ~ hot dogs are $7 ~ milk is almost $4 ~ where do you shop that prices have come down?', 'author_id': '3005841324'}, {'id': '1603229113539473409', 'edit_history_tweet_ids': ['1603229113539473409'], 'text': '@WhiteHouse Food prices going up slowly, huh? Where have you been? Oh that’s right you don’t go shopping. Your caretakers buy your food that the taxpayers pay for. So you eat lobster and we eat peanut butter and jelly sandwiches.', 'author_id': '236860055'}, {'id': '1603222586326122496', 'edit_history_tweet_ids': ['1603222586326122496'], 'text': '#twilightsells wts lfb bts ph\\n\\nˏˋ°•*⁀➷ assorted bts photocards\\n- prices in the pics below\\n- mop: gcash (prio payo)\\n- mod: flash, lalamove\\n- onhand\\n- comment/dm to claim \\n\\n🏷 jimin jungkook namjoon taehyung v seokjin suga yoongi hobi hoseok jhope butter love yourself mots7 https://t.co/DLPOhSNVth', 'author_id': '1561555588806754306'}, {'id': '1603216403749777408', 'edit_history_tweet_ids': ['1603216403749777408'], 'text': 'lf kahati !\\n\\nPrices on pic\\n\\nseventeen svt jeon wonwoo your choice pob ld m2u lucky draw luckydraw r1 round 1 redvelvet rv red velvet wendy fmr feel my rhythm noot noot pout nootnoot heartcheek bts v butter weverse pob kim taehyung wink https://t.co/roC7hGKwkc', 'author_id': '1517483024559927297'}, {'id': '1603204788430131200', 'edit_history_tweet_ids': ['1603204788430131200'], 'text': 'We want a steel regulatory authority to control the prices and keep them  at par with Chinese prices and allow RM import. Save the MSME. Steel is bread and butter MSME @FinMinIndia @PMOIndia @ministryofsteel @minmsme @GovtOfIndia_ @eepcindia @FieoHq @FollowCII @STEELAUTHORITYO', 'author_id': '398867363'}, {'id': '1603200033289027584', 'edit_history_tweet_ids': ['1603200033289027584'], 'text': 'Ki DIZEMBA PROMO‼️\\n\\nAll prices have been reduced ‼️\\n\\n🌸🌸SHOP WITH US THIS DECEMBER 🌸🌸\\nPeruvian human hair is in stock! 10”-26”\\n\\n🌸Straight hair\\n🌸Water Wave hair\\n🌸Body mists\\n\\nTumeric, Coconut, Aloe Vera, Black seed , Sheer butter (soaps &amp; oils).\\n0975361652\\n@Luu_Fashions https://t.co/yi1qUaNvmw', 'author_id': '866658840'}, {'id': '1603197544775155713', 'edit_history_tweet_ids': ['1603197544775155713'], 'text': '@Motherofzombies @franciswhyte_ @POTUS Check out the flour butter and egg prices, baking not cheap either.', 'author_id': '1465337577720983561'}, {'id': '1603177265285992449', 'edit_history_tweet_ids': ['1603177265285992449'], 'text': '@ag_trader does anyone believe u decrease the cost of butter or milk,bread, vegetables, meat by raising rates ? that will take years ti filter through. consumer will go without an extra pair of sneakers or a vacation. but basic staples..  no way. what does decrease food prices is investment', 'author_id': '2468010452'}, {'id': '1603156191118389249', 'edit_history_tweet_ids': ['1603156191118389249'], 'text': '@SteveAspen5 Horrible, and expensive. Housing is skyrocketed, grocery prices have gone up on many regular items, eggs, butter, etc. There are help wanted signs everywhere, but when people apply they don\\'t get the job, yet the jobs are still \"available\". Luckily I\\'m retired. Gas is over $4.', 'author_id': '1360614162057945097'}, {'id': '1603141540150403076', 'edit_history_tweet_ids': ['1603141540150403076'], 'text': '“Global milk supply levels continue to stabilize with levels in Europe increasing. Global dairy commodity prices, including yellow cheese &amp; butter have declined from the previous high levels in October. Outlook is negative, driven by the continued decline in commodity prices,”', 'author_id': '200246376'}, {'id': '1603132276446928896', 'edit_history_tweet_ids': ['1603132276446928896'], 'text': 'The prices at the market are so fucking astronomical. Why my quick run cost me 25 gotdamn dollars for nothing?!\\n\\n• Milk $5.50 bc the one I normally buy is now $7!!\\n• Eggs ~$6 (the styrofoam pack was over $7) \\n• Breakfast sausage $7\\n• Butter $5.50 (stick bc spreadable is $8) https://t.co/sEHS4NiRU8', 'author_id': '3110968595'}, {'id': '1603123612654964736', 'edit_history_tweet_ids': ['1603123612654964736'], 'text': \"@slotsqueen31 @Angry_Staffer @TheDemocrats While we're on the subject of greed, let's talk about skyrocketing prices at our grocery stores.  Our local Wal-Mart charges over $6.30 for an 18-count carton of eggs.  Butter is nearly $4.50 a pound too!  Someone on Twitter told me that Publix charges over $9...(3/)\", 'author_id': '202951147'}, {'id': '1603121574974222336', 'edit_history_tweet_ids': ['1603121574974222336'], 'text': '@matlock_justyn @jrc1921 you mean like, the increasing prices on bread and butter in the supermarket? or the alarm tags on butter?', 'author_id': '1051856431203438593'}, {'id': '1603106051196346368', 'edit_history_tweet_ids': ['1603106051196346368'], 'text': \"A perfect storm of labor shortages and an uptick in demand have pushed the prices of butter up.  What's the view from Vermont butter producers? https://t.co/tYusDl4F1Y\", 'author_id': '21492467'}, {'id': '1603092501367324677', 'edit_history_tweet_ids': ['1603092501367324677'], 'text': \"@GOP Damn that Joey, I told him don't raise the prices eggs and peanut butter..\", 'author_id': '1736013541'}, {'id': '1603072674107891720', 'edit_history_tweet_ids': ['1603072674107891720'], 'text': 'Aldi’s in Wood River evidently didn’t get the memo from the President yesterday. He was bragging about how prices had dropped. Nothing I bought went down and I had to bypass eggs this week.  They jumped from $2.42 to $3.62!!   Can’t afford meat so I’m on Peanut Butter Sandwiches', 'author_id': '1596486757637390336'}, {'id': '1603065282083581952', 'edit_history_tweet_ids': ['1603065282083581952'], 'text': 'Oatmeal and peanut butter are easy staples to keep around to keep belly’s full….. these prices are egregious.', 'author_id': '4911466409'}, {'id': '1603049795207454722', 'edit_history_tweet_ids': ['1603049795207454722'], 'text': 'less ₱50 !\\n\\n🩰. . wts lfb ph .ᐟ \\n \\n   bts official photocards \\U0001fae7\\n   ✴︎ see photo for prices\\n\\n⤷ payo\\n⤷ onhand\\n⤷ don’t claim if sensitive to marks\\n\\n📓 https://t.co/Eaotfhhp0l !\\n\\n⌗ bts group jhope hobi butter pob proof compact jimin mots on:e dvd pc https://t.co/vAqywliXAt', 'author_id': '1444514437818306563'}, {'id': '1603042165436948481', 'edit_history_tweet_ids': ['1603042165436948481'], 'text': '@EpochTimes Sorry but around me prices are continuing to rise. Four sticks of butter is $5 now in Metro Detroit', 'author_id': '1267268125025853442'}, {'id': '1603041470423781376', 'edit_history_tweet_ids': ['1603041470423781376'], 'text': 'दिल्ली-NCR के बाजारों में हुई मक्खन की किल्लत, दुकानदारों ने बताई यह वजह\\n\\n@nishant1994cha1 \\n\\n#Butter #DelhiNCR #India \\n\\nhttps://t.co/rekotFAi99', 'author_id': '39240673'}, {'id': '1603037451089575948', 'edit_history_tweet_ids': ['1603037451089575948'], 'text': '@POTUS Actually food prices are up 12% year over year. Overall price index is cooling, but food is actually up. Especially items that go into baking like eggs and butter/margarine. Be honest just one time.', 'author_id': '782615087953555460'}, {'id': '1603023636977176576', 'edit_history_tweet_ids': ['1603023636977176576'], 'text': 'wts lfb ph\\n\\nbts asorted photocards :)\\n\\n☁️ butter cream / peaches\\n☁️ dicon 10 imclusioms\\n☁️ jitb\\n☁️ proof weverse pob / compact\\n\\nprices on the pic\\n\\n☁️ mod: j&amp;t or sco / mop: gcash (can do 50% payo; 24hr reservation)\\n\\n🏷 bts jin namjoon rm yoongi suga jhope jimin taehyung jungkook https://t.co/RMGN8i4Yir', 'author_id': '1442750068453359616'}, {'id': '1603020248529133568', 'edit_history_tweet_ids': ['1603020248529133568'], 'text': '@POTUS Seven dollars for butter.  😭 Overall increase in grocery prices are killing the middle class.  Your policies caused this inflation.  Stop focusing on liberal ideologies and please begin actually helping the American citizens!', 'author_id': '811576710965686276'}, {'id': '1603017429495713793', 'edit_history_tweet_ids': ['1603017429495713793'], 'text': 'less ₱50 !\\n\\n🩰. . wts lfb ph .ᐟ #heegyusells\\n \\n   bts official photocards \\U0001fae7\\n   ✴︎ see photo for prices\\n\\n⤷ payo\\n⤷ onhand\\n⤷ don’t claim if sensitive to marks\\n\\n📓 https://t.co/k7ohW8Cpcf !\\n\\n⌗ bts group jhope hobi butter pob proof compact jimin mots on:e dvd pc https://t.co/7H67QfxeuL', 'author_id': '1314425042948644865'}, {'id': '1603013939956260864', 'edit_history_tweet_ids': ['1603013939956260864'], 'text': '@WhiteHouse Eggs are up 47%, butter close behind, Meat we can No Longer afford, every other food Item Up, Up, Up. The only reason gas prices are down but still much higher then when President Trump was in office. So, stop blowing smoke up our backsides. https://t.co/jYn2UJi4sL', 'author_id': '1521086718711054337'}, {'id': '1603004074114293764', 'edit_history_tweet_ids': ['1603004074114293764'], 'text': '@Chinchillazllla Joe Biden is a massive liar.  Butter cost up 47%, milk prices up 19%, bread up 20%, margarine up 21%.  Biden is the worst President in over 200 years!', 'author_id': '1585968017531453445'}, {'id': '1602997849607868416', 'edit_history_tweet_ids': ['1602997849607868416'], 'text': '@POTUS #presidentgaslight you can tell us that food inflation is down as much as you want. It doesn’t mean that it’s actually happening. Butter and eggs prices are $7 and $6 respectively.  YOU SUCK', 'author_id': '358415466'}, {'id': '1602965846875377666', 'edit_history_tweet_ids': ['1602965846875377666'], 'text': '@MudBondage @JohnNel85681462 @saras76 @POTUS Thats probably why ALL THE OTHERS GROCERIES ARE SO HIGH TOO!!! Dalmn bird flu jacking up the beef prices and butter and milk and so on.....', 'author_id': '536071127'}, {'id': '1602941584315670529', 'edit_history_tweet_ids': ['1602941584315670529'], 'text': \"Sainsbury's increases are ridiculous. 4pint Yeo Valley Organic Semi Skimmed £3, Exactly the same Lidl's £1,95. 500g Anchor Butter Sainsbury's £4.50, Lidl's exactly the same ingredients £2.19. Also, toilet rolls, kitchen rolls, breakfast cereals big prices in Sainsbury's.\", 'author_id': '827120194631917569'}, {'id': '1602937558220013568', 'edit_history_tweet_ids': ['1602937558220013568'], 'text': '@DanivonUK @andrewschof @Taj_Ali1 Has still happened before because its linked to the interest rate so it goes down as well as up. Just look at fuel prices? Therefore, when fuel prices drop and price of butter is down this month, then surely by your logic salary should drop accordingly?', 'author_id': '904408988980318210'}, {'id': '1602926075121750016', 'edit_history_tweet_ids': ['1602926075121750016'], 'text': 'Cheese 🧀 28.3%\\nEggs 🥚 23.5%\\nFish 🐟 16%\\nPoultry 19.7\\nPasta 🍝 products 36.8%\\nMeat 🥩 16.5%\\nCrisps 15.7%\\nCoffee ☕️ 11.6%\\nTea \\U0001fad6 10.5%\\nSome easing in prices e.g. fruit 🍉 8%, potatoes 🥔 17.8%, butter 28.4%, low fat milk 🥛 45.3%!, margarine 🧈 33.9%', 'author_id': '226687478'}, {'id': '1602910524584431617', 'edit_history_tweet_ids': ['1602910524584431617'], 'text': '@martypartymusic @JoeBiden Yes, Joe goes country to country every week, to ensure your butter prices stay high.', 'author_id': '935367693246586880'}, {'id': '1602908785357774849', 'edit_history_tweet_ids': ['1602908785357774849'], 'text': \"@WhiteHouse Who economy is growing? I keep hearing that but prices keep going up. Have you tried to buy a carton of eggs or butter? A dozen eggs $7, cheap margarine small bowl $7/8. It sure ain't growing here. As for gas when it gets back to what it was before then brag.\", 'author_id': '3826347219'}, {'id': '1602901819583533056', 'edit_history_tweet_ids': ['1602901819583533056'], 'text': '@JDCocchiarella Plummeting gas prices does not equal 0.05 cents less.  Milk, eggs and Butter have tripled in price!  You are a tool!', 'author_id': '323608760'}, {'id': '1602881108055556097', 'edit_history_tweet_ids': ['1602881108055556097'], 'text': 'Beach, Butter, Crabs\\nHMM not unless the prices for them go down https://t.co/FoJX2fKk8T', 'author_id': '497479402'}, {'id': '1602871728589488129', 'edit_history_tweet_ids': ['1602871728589488129'], 'text': '@SenJohnKennedy My natural gas bill is about double. Food prices are horrific.  Butter used to be $2.49, now $7/lb, cream cheese was $1.18 now $7 for low fat and $5 for regular. Many things are double or triple.', 'author_id': '1853004673'}, {'id': '1602864285306060801', 'edit_history_tweet_ids': ['1602864285306060801'], 'text': \"Reading about gas prices going down. I call bullshit. What about 18 eggs for $7.32? Half a gallon of milk for $4.55? Butter at $6.50 a pound? Don't be taking any victory laps because fuel prices decreased.\", 'author_id': '1587184865849405440'}, {'id': '1602863786896936961', 'edit_history_tweet_ids': ['1602863786896936961'], 'text': \"@WhiteHouse I call bullshit. What about 18 eggs for $7.32? Half a gallon of milk for $4.55? Butter at $6.50 a pound? Don't be taking any victory laps because fuel prices went down.\", 'author_id': '1587184865849405440'}, {'id': '1602853879502217216', 'edit_history_tweet_ids': ['1602853879502217216'], 'text': 'Inflation is cooling, but the prices at the grocery store sure aren’t! If you are making holiday cookies, it’s going to cost you. Eggs are up 50%! Butter is up 34%. Milk is up. Flour is up.  More on \\u2066@FOX29philly\\u2069 at 10. https://t.co/EbCH3Z2xqa', 'author_id': '365001537'}, {'id': '1602845641146830849', 'edit_history_tweet_ids': ['1602845641146830849'], 'text': '@JDCocchiarella Dropping inflation where? 7.49 for 4 sticks of butter or a dozen eggs? Draining our strategic reserves and winter oil prices….. 🤡', 'author_id': '1052811920'}, {'id': '1602835323884834816', 'edit_history_tweet_ids': ['1602835323884834816'], 'text': '🩰. . wts lfb ph .ᐟ \\n \\n   bts official photocards \\U0001fae7\\n   ✴︎ see photo for prices\\n\\n⤷ payo\\n⤷ onhand\\n⤷ don’t claim if sensitive to marks\\n\\n📓 https://t.co/k7ohW8Cpcf !\\n\\n⌗ bts group jhope hobi butter pob proof compact jimin mots on:e dvd pc https://t.co/7H67QfxeuL', 'author_id': '1314425042948644865'}, {'id': '1602832676335095809', 'edit_history_tweet_ids': ['1602832676335095809'], 'text': \"Talk to the big box stores run by Republicans that are creating this skyrocketing prices. Publix - eggs $6 $7 versus Aldi's $3. What's wrong with this picture? Butter - Publix $6 vs Aldi's $3.49, what's wrong with this picture? If other companies can charge $3 to $4 less? https://t.co/TgnAmzOKuo\", 'author_id': '780609528563851265'}, {'id': '1602815520213975042', 'edit_history_tweet_ids': ['1602815520213975042'], 'text': '@onestep1999 @JDCocchiarella Right!! A pound of butter is $5.  Anyone who doesn’t noticed sky rocketing food prices has blinders on or doesn’t grocery shop. Period.  End.', 'author_id': '1601534502496608256'}, {'id': '1602815235936641027', 'edit_history_tweet_ids': ['1602815235936641027'], 'text': '@JDCocchiarella Credit for what? Plummeting gas prices are at expense of our strategic oil supply &amp; we are pretty near to lowest we’ve been in a long time - very dangerous! Inflation is 7.1% &amp; Milk is up 14%, potatoes - 16, lettuce- 19 eggs -24, flour - 49 &amp; butter 27!', 'author_id': '1495223575481098243'}, {'id': '1602814125255655425', 'edit_history_tweet_ids': ['1602814125255655425'], 'text': 'Have you tried to buy Milk, eggs, butter or meat lately?\\n\\nPrices are TOTALLY out of Control!!!! https://t.co/5G7huKs2UA', 'author_id': '991399929665945600'}, {'id': '1602802950975496192', 'edit_history_tweet_ids': ['1602802950975496192'], 'text': \"I'm going over the lastest numbers from the Consumer Price Index or CPI: Here are a few headlines of year over year prices Nov 21 -Nov 22.\\n\\nEggs + 48% \\nFlour + 25% \\nCrackers, Bread, Cereal + 19%\\nRice + 17% \\nButter + 34% \\nLettuce + 18%\\nPotatoes + 16%\\n\\nRoast -8%\\nSteak -7%\", 'author_id': '31852548'}, {'id': '1602802323595599875', 'edit_history_tweet_ids': ['1602802323595599875'], 'text': '@martypartymusic @JoeBiden Joe actually personally goes to your grocery store every day to tell them to keep the butter prices high.', 'author_id': '1285300750613176320'}, {'id': '1602777179011485696', 'edit_history_tweet_ids': ['1602777179011485696'], 'text': \"@yankumjockum @SalMoanella1 Cool.  I'm going on a steak, egg, butter, and bacon diet when I get back from the holidays.  So I hope prices do come down.\", 'author_id': '1610992177'}, {'id': '1602763729481138176', 'edit_history_tweet_ids': ['1602763729481138176'], 'text': 'Butter prices WORSE , smh', 'author_id': '1349678633665880065'}, {'id': '1602758152646463489', 'edit_history_tweet_ids': ['1602758152646463489'], 'text': '@probiotic69 dairy prices are fucking crazy here too like literally why is butter so expensive!!!!', 'author_id': '761596500837228544'}, {'id': '1602748358694940672', 'edit_history_tweet_ids': ['1602748358694940672'], 'text': '@robreiner Really Rob?  Successful in skyrocketing grocery prices. $7 butter $4 bread etc. it’s bad enough when prices go up on the non-essentials but these are basic necessities. https://t.co/b9ybsAKJI4', 'author_id': '358415466'}, {'id': '1602740101397749761', 'edit_history_tweet_ids': ['1602740101397749761'], 'text': '@melanieburnard It\\'s not true.  At the time people spoke of \"butter mountains\" and \"wine lakes\" because EU food processors were paid to store products to artificially maintain prices at a higher level.  This never applied to milk, although there may have been subsidies to produced milk powder.', 'author_id': '4187441979'}, {'id': '1602721075149905920', 'edit_history_tweet_ids': ['1602721075149905920'], 'text': '@Petei123 April 2020 oil was literally given away for free because of covid-19.\\nEggs are up because of the bird flu outbreak.\\nObviously milk and butter because of supply chain/labor issues on feed.\\nBacon prices are actually dropping. latest that one shows $8, still high but dropping.', 'author_id': '1414978022407553025'}, {'id': '1602711228899627011', 'edit_history_tweet_ids': ['1602711228899627011'], 'text': 'guy whose breakfast consists of 25 slices of bacon, 12 eggs, a gallon of milk and pound of butter thinks food prices are too high https://t.co/vJZcbAcXfR', 'author_id': '1579918554194927642'}, {'id': '1602700112094007297', 'edit_history_tweet_ids': ['1602700112094007297'], 'text': \"@NEWSMAX Prices for goods surely aren't going down where I live in NY. Americans getting accustomed to paying $5.00 for a dozen eggs, $7.00 for a pound of butter, $12.00 for a pound of bacon, so it goes....\", 'author_id': '33097805'}, {'id': '1602690035689848832', 'edit_history_tweet_ids': ['1602690035689848832'], 'text': '@SenatorHick @SenThomTillis @RepSmucker @RepTerriSewell How astute are you? Wow, it’s because a pound of butter is now $6.79, a dozen eggs is now $6.29, all thanks to your philosophy ignorance is bliss. You ignore soaring prices, border crisis, fentanyl crisis in colorado because you ignore the border, crime exploding, list is long.', 'author_id': '1347314334872064001'}, {'id': '1602682726586675200', 'edit_history_tweet_ids': ['1602682726586675200'], 'text': '@RepBenCline @HouseGOP Wrong. Prices have dropped. $2 milk. $3 butter. Yesterday', 'author_id': '4433296940'}, {'id': '1602672794231242752', 'edit_history_tweet_ids': ['1602672794231242752'], 'text': 'Best prices | Enjoy payment on delivery - Order Now.\\nDownload Enbuggy app today!\\nhttps://t.co/iIh96MaWun...\\n\\n#butter  #foodie  #accessories #clothing #photooftheday #groceries  #skincaretips #onlineshopping https://t.co/ogQlaEp8ZF', 'author_id': '1542506214856093698'}, {'id': '1602664851494535168', 'edit_history_tweet_ids': ['1602664851494535168'], 'text': 'The price for butter fell 3.5% in November, giving some relief to the enthusiasts in this great Ahed from last month.\\n\\nButter prices still up 27% from a year ago.\\nhttps://t.co/D2WgiXY29Y', 'author_id': '874611477658836992'}, {'id': '1602660865882341376', 'edit_history_tweet_ids': ['1602660865882341376'], 'text': '🍽 A closer look at food prices MoM, YoY:\\n\\nBread +2%,+15.7%\\nMeats -0.4%, +1.1%\\nEggs +2.3, +49.1%\\nMilk +0.8% +14.7%\\nFruits &amp; vegetables +1.4%, +9.7%\\nCoffee +0.5%, +14.6%\\nButter +0.2%, +27%', 'author_id': '19546277'}, {'id': '1602648260820303874', 'edit_history_tweet_ids': ['1602648260820303874'], 'text': 'lf kahati !\\n\\nPrices on pic\\n\\nseventeen svt jeon wonwoo your choice pob ld m2u lucky draw luckydraw r1 round 1 redvelvet rv red velvet wendy fmr feel my rhythm noot noot pout nootnoot heartcheek bts v butter weverse pob kim taehyung wink https://t.co/iENIFoZv6T', 'author_id': '1517483024559927297'}, {'id': '1602630557485129730', 'edit_history_tweet_ids': ['1602630557485129730'], 'text': '@Abuti10 @_Dumile Hey, check out the thread below for products info &amp; prices.\\n\\nIf you’d like to start with one product, I’d definitely recommend the hair butter - it’ll keep your hair moisturised, soft &amp; easy to manage💕 https://t.co/iZlcesPweF', 'author_id': '1287400472064806912'}, {'id': '1602629511342084101', 'edit_history_tweet_ids': ['1602629511342084101'], 'text': '@MorrisMichael When I was in California a couple months ago, I bought just one meal per day. \\n\\nMind you it was from Whole Foods (aka Whole Paycheck) but the prices stateside are even more next-level nuts.\\n\\nBehold, my basket.\\n\\n$71.45 for a salad, some olives, coconut water and peanut butter. https://t.co/c9RCG26AAu', 'author_id': '751596769822191616'}, {'id': '1602583073236754432', 'edit_history_tweet_ids': ['1602583073236754432'], 'text': '｡*ﾟwts/lfb | #aiyana_sells\\n\\n📓 — bts assorted photocards\\n           ↬ prices &amp; infos  on the pics\\n  \\nt. bts bangtan deco kit proof album in the seom butter be essential mots persona namjoon rm seokjin jin yoongi suga hoseok hobi jhope jimin taehyung v jungkook jk pc pcs ph https://t.co/TZ9VONLNIb', 'author_id': '1474580115321331714'}], 'meta': {'newest_id': '1603432079596789772', 'oldest_id': '1602583073236754432', 'result_count': 78, 'next_token': 'b26v89c19zqg8o3fqk10f0opvcczugco5384c75sq5egt'}}\n"
     ]
    }
   ],
   "source": [
    "import requests\n",
    "import json\n",
    "import pandas as pd\n",
    "\n",
    "# As an alternative to the .env file, you can do this:\n",
    "# To set your environment variables in your terminal run the following line:\n",
    "# export 'BEARER_TOKEN'='<your_bearer_token>'\n",
    "bearer_token = config[\"BEARER_TOKEN\"]\n",
    "\n",
    "search_url = \"https://api.twitter.com/2/tweets/search/recent\"\n",
    "\n",
    "# Optional params: start_time,end_time,since_id,until_id,max_results,next_token,\n",
    "# expansions,tweet.fields,media.fields,poll.fields,place.fields,user.fields\n",
    "# query_params = {'query': '(from:twitterdev -is:retweet) OR #twitterdev','tweet.fields': 'author_id', \"max_results\":\"10\"}\n",
    "query_params = {\n",
    "#     'query': 'from:elonmusk -is:retweet is:verified',\n",
    "    'query' : '\"Butter\" prices -is:retweet',\n",
    "    'tweet.fields': 'author_id', \n",
    "    'user.fields': 'name',\n",
    "    \"max_results\":\"78\",\n",
    "}\n",
    "\n",
    "def bearer_oauth(r):\n",
    "    \"\"\"\n",
    "    Method required by bearer token authentication.\n",
    "    \"\"\"\n",
    "\n",
    "    r.headers[\"Authorization\"] = f\"Bearer {bearer_token}\"\n",
    "    r.headers[\"User-Agent\"] = \"v2RecentSearchPython\"\n",
    "    return r\n",
    "\n",
    "def connect_to_endpoint(url, params):\n",
    "    response = requests.get(url, auth=bearer_oauth, params=params)\n",
    "    print(response.status_code)\n",
    "    if response.status_code != 200:\n",
    "        raise Exception(response.status_code, response.text)\n",
    "    return response.json()\n",
    "\n",
    "# Querying the API\n",
    "json_response = connect_to_endpoint(search_url, query_params)\n",
    "\n",
    "df = pd.DataFrame(json_response['data'])\n",
    "df.to_csv('response2_python.csv')\n",
    "\n",
    "\n",
    "# Parsing the response\n",
    "#parsedRes = json.dumps(json_response, indent=4, sort_keys=True, ensure_ascii=False)\n",
    "print(json_response)\n"
   ]
  },
  {
   "cell_type": "markdown",
   "id": "a1e93b03-8a85-4ca6-8ac3-3b68a514fd5d",
   "metadata": {},
   "source": [
    "## **Data Pre-processing for Sentiment Analysis"
   ]
  },
  {
   "cell_type": "markdown",
   "id": "edb9aa3e-49d7-4828-8b26-db3885247d45",
   "metadata": {},
   "source": [
    "These steps are applied during data pre-processing:\n",
    " Normalizing words.\n",
    " Removing stop words.\n",
    " Tokenizing sentences.\n",
    " Vectorizing text. \n"
   ]
  },
  {
   "cell_type": "code",
   "execution_count": null,
   "id": "cefbbfa2-2b47-4f3b-aceb-eb105359a211",
   "metadata": {},
   "outputs": [],
   "source": [
    "Import all required packages:\n",
    "import pandas as pd\n",
    "import numpy as np\n",
    "import seaborn as sns\n",
    "import re\n",
    "import string\n",
    "from string import punctuation\n",
    "import nltk\n",
    "from nltk.corpus import stopwordsnltk.download(\"stopwords\")\n",
    "import matplotlib.pyplot as plt\n",
    "from sklearn.model_selection import train_test_split\n",
    "from sklearn.feature_extraction.text import CountVectorizer\n",
    "from sklearn.feature_extraction.text import TfidfTransformer\n",
    "import tensorflow as tf\n",
    "from tensorflow.keras.models import Sequential\n",
    "from tensorflow.keras.layers import Dense, Activation, Dropout\n",
    "from tensorflow.keras.callbacks import EarlyStopping \n"
   ]
  },
  {
   "cell_type": "code",
   "execution_count": 16,
   "id": "1bcf9125-724f-42c6-8e67-80cb321a7001",
   "metadata": {},
   "outputs": [
    {
     "data": {
      "text/html": [
       "<div>\n",
       "<style scoped>\n",
       "    .dataframe tbody tr th:only-of-type {\n",
       "        vertical-align: middle;\n",
       "    }\n",
       "\n",
       "    .dataframe tbody tr th {\n",
       "        vertical-align: top;\n",
       "    }\n",
       "\n",
       "    .dataframe thead th {\n",
       "        text-align: right;\n",
       "    }\n",
       "</style>\n",
       "<table border=\"1\" class=\"dataframe\">\n",
       "  <thead>\n",
       "    <tr style=\"text-align: right;\">\n",
       "      <th></th>\n",
       "      <th>Unnamed: 0</th>\n",
       "      <th>id</th>\n",
       "      <th>edit_history_tweet_ids</th>\n",
       "      <th>text</th>\n",
       "      <th>author_id</th>\n",
       "    </tr>\n",
       "  </thead>\n",
       "  <tbody>\n",
       "    <tr>\n",
       "      <th>0</th>\n",
       "      <td>0</td>\n",
       "      <td>1603432079596789772</td>\n",
       "      <td>['1603432079596789772']</td>\n",
       "      <td>@WSJ Let Russia give Africa Billions$. WeThePe...</td>\n",
       "      <td>2881807216</td>\n",
       "    </tr>\n",
       "    <tr>\n",
       "      <th>1</th>\n",
       "      <td>1</td>\n",
       "      <td>1603427003897626624</td>\n",
       "      <td>['1603427003897626624']</td>\n",
       "      <td>@Longshoreman912 @Packratmom @NoLieWithBTC Sur...</td>\n",
       "      <td>4039664782</td>\n",
       "    </tr>\n",
       "    <tr>\n",
       "      <th>2</th>\n",
       "      <td>2</td>\n",
       "      <td>1603408650688921601</td>\n",
       "      <td>['1603408650688921601']</td>\n",
       "      <td>@ChuckGrassley Fact:  19.2 oz of my every day ...</td>\n",
       "      <td>1516093917439139844</td>\n",
       "    </tr>\n",
       "    <tr>\n",
       "      <th>3</th>\n",
       "      <td>3</td>\n",
       "      <td>1603401158277595137</td>\n",
       "      <td>['1603401158277595137']</td>\n",
       "      <td>@JanetBa44871836 Oh no. That stinks, nothing w...</td>\n",
       "      <td>1686208430</td>\n",
       "    </tr>\n",
       "    <tr>\n",
       "      <th>4</th>\n",
       "      <td>4</td>\n",
       "      <td>1603399220811243520</td>\n",
       "      <td>['1603399220811243520']</td>\n",
       "      <td>Eggs are nearly 50% more expensive than they w...</td>\n",
       "      <td>34664420</td>\n",
       "    </tr>\n",
       "  </tbody>\n",
       "</table>\n",
       "</div>"
      ],
      "text/plain": [
       "   Unnamed: 0                   id   edit_history_tweet_ids  \\\n",
       "0           0  1603432079596789772  ['1603432079596789772']   \n",
       "1           1  1603427003897626624  ['1603427003897626624']   \n",
       "2           2  1603408650688921601  ['1603408650688921601']   \n",
       "3           3  1603401158277595137  ['1603401158277595137']   \n",
       "4           4  1603399220811243520  ['1603399220811243520']   \n",
       "\n",
       "                                                text            author_id  \n",
       "0  @WSJ Let Russia give Africa Billions$. WeThePe...           2881807216  \n",
       "1  @Longshoreman912 @Packratmom @NoLieWithBTC Sur...           4039664782  \n",
       "2  @ChuckGrassley Fact:  19.2 oz of my every day ...  1516093917439139844  \n",
       "3  @JanetBa44871836 Oh no. That stinks, nothing w...           1686208430  \n",
       "4  Eggs are nearly 50% more expensive than they w...             34664420  "
      ]
     },
     "execution_count": 16,
     "metadata": {},
     "output_type": "execute_result"
    }
   ],
   "source": [
    "ButterPrices = pd.read_csv(\"response2_python.csv\")\n",
    "ButterPrices.head() "
   ]
  },
  {
   "cell_type": "code",
   "execution_count": 17,
   "id": "67acdd35-5195-4aae-8917-e42c39de74c6",
   "metadata": {},
   "outputs": [],
   "source": [
    "#Drop unnecessary columns:\n",
    "ButterPrices = ButterPrices.drop(['edit_history_tweet_ids', 'Unnamed: 0', ],\n",
    "axis=1)\n",
    "ButterPrices.dropna(inplace=True) \n"
   ]
  },
  {
   "cell_type": "code",
   "execution_count": 1,
   "id": "2c3ae645-540c-4467-be13-f86b2cf1ab80",
   "metadata": {},
   "outputs": [
    {
     "ename": "NameError",
     "evalue": "name 'pd' is not defined",
     "output_type": "error",
     "traceback": [
      "\u001b[1;31m---------------------------------------------------------------------------\u001b[0m",
      "\u001b[1;31mNameError\u001b[0m                                 Traceback (most recent call last)",
      "Input \u001b[1;32mIn [1]\u001b[0m, in \u001b[0;36m<cell line: 3>\u001b[1;34m()\u001b[0m\n\u001b[0;32m      1\u001b[0m \u001b[38;5;66;03m# Parsing the response\u001b[39;00m\n\u001b[0;32m      2\u001b[0m \u001b[38;5;66;03m#parsedRes = json.dumps(json_response, indent=4, sort_keys=True, ensure_ascii=False)\u001b[39;00m\n\u001b[1;32m----> 3\u001b[0m df \u001b[38;5;241m=\u001b[39m \u001b[43mpd\u001b[49m\u001b[38;5;241m.\u001b[39mDataFrame(tw_list)\n\u001b[0;32m      4\u001b[0m df\u001b[38;5;241m.\u001b[39mto_csv(\u001b[38;5;124m'\u001b[39m\u001b[38;5;124mButterPricesresponse_python.csv\u001b[39m\u001b[38;5;124m'\u001b[39m)\n",
      "\u001b[1;31mNameError\u001b[0m: name 'pd' is not defined"
     ]
    }
   ],
   "source": [
    "# Parsing the response\n",
    "#parsedRes = json.dumps(json_response, indent=4, sort_keys=True, ensure_ascii=False)\n",
    "df = pd.DataFrame(tw_list)\n",
    "df.to_csv('ButterPricesresponse_python.csv')\n"
   ]
  },
  {
   "cell_type": "code",
   "execution_count": null,
   "id": "b9501e7e-58f7-4570-99f3-1b4034df9752",
   "metadata": {},
   "outputs": [],
   "source": []
  }
 ],
 "metadata": {
  "kernelspec": {
   "display_name": "Python 3 (ipykernel)",
   "language": "python",
   "name": "python3"
  },
  "language_info": {
   "codemirror_mode": {
    "name": "ipython",
    "version": 3
   },
   "file_extension": ".py",
   "mimetype": "text/x-python",
   "name": "python",
   "nbconvert_exporter": "python",
   "pygments_lexer": "ipython3",
   "version": "3.9.12"
  },
  "widgets": {
   "application/vnd.jupyter.widget-state+json": {
    "state": {},
    "version_major": 2,
    "version_minor": 0
   }
  }
 },
 "nbformat": 4,
 "nbformat_minor": 5
}
