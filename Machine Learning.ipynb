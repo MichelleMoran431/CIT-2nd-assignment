{
 "cells": [
  {
   "cell_type": "markdown",
   "id": "3deb214a-39a2-472e-899d-95ecfe312a62",
   "metadata": {},
   "source": [
    "## **Machine Learning  for Data Analytic Tasks**\n",
    "\n",
    "Introduction Main Aim : Machine Learning analysis of Irelands Butter Prices data using multiple models \n",
    "\n",
    "Main Aim  :\n",
    "\n",
    " - describe and justify for the choice of models used \n",
    " - collect and develop a dataset based on agricultural sector - perform sentiment analysis on it \n",
    " - train and test for supervised learning - using other appropriate metrics\n",
    " - have a tale to of graphis to illustrate the similarities and contasts of the models used\n"
   ]
  },
  {
   "cell_type": "markdown",
   "id": "bad9c732-f774-4627-9e96-33655c15d8d7",
   "metadata": {},
   "source": [
    "### ** 1 Importing the libraries**\n"
   ]
  },
  {
   "cell_type": "code",
   "execution_count": 1,
   "id": "29047c63-bbbc-4113-bd58-c7d3fee6ff22",
   "metadata": {},
   "outputs": [],
   "source": [
    "# Importing the libraries\n",
    "\n",
    "# Numerical arrays.\n",
    "import numpy as np\n",
    "\n",
    "# Data frames.\n",
    "import pandas as pd\n",
    "\n",
    "# Plotting.\n",
    "import matplotlib.pyplot as plt\n",
    "\n",
    "# Logistic regression.\n",
    "import sklearn.linear_model as lm\n",
    "\n",
    "# K nearest neighbours.\n",
    "import sklearn.neighbors as nei\n",
    "\n",
    "# Helper functions.\n",
    "import sklearn.model_selection as mod\n",
    "\n",
    "# Fancier, statistical plots.\n",
    "import seaborn as sns\n",
    "import matplotlib.pyplot as plt\n",
    "%matplotlib inline  \n",
    "sns.set(color_codes=True) \n",
    "\n",
    "\n",
    "from sklearn.preprocessing import StandardScaler, normalize\n",
    "from sklearn.cluster import KMeans\n",
    "\n",
    "from sklearn.preprocessing import MinMaxScaler\n",
    "from sklearn.neighbors import KNeighborsClassifier\n",
    "from sklearn.neighbors import KNeighborsRegressor\n",
    "from sklearn.metrics import accuracy_score\n",
    "from sklearn.metrics import mean_squared_error\n",
    "from math import sqrt\n",
    "\n",
    "import sklearn.datasets as datasets\n",
    "import sklearn.preprocessing as preprocessing\n",
    "import sklearn.model_selection as model_selection\n",
    "import sklearn.metrics as metrics\n",
    "import sklearn.linear_model as linear_model\n",
    "from sklearn.metrics import mean_squared_error\n",
    "from sklearn.metrics import max_error\n",
    "\n",
    "\n",
    "from sklearn.model_selection import train_test_split\n",
    "from sklearn.base import BaseEstimator, TransformerMixin\n",
    "\n",
    "from sklearn.preprocessing import StandardScaler\n",
    "from sklearn.preprocessing import MinMaxScaler\n",
    "\n",
    "# Packages needed for regression\n",
    "from sklearn.model_selection import cross_val_score\n",
    "from sklearn.model_selection import GridSearchCV\n",
    "\n",
    "from sklearn.metrics import r2_score\n",
    "\n",
    "from sklearn.model_selection import KFold\n",
    "\n",
    "from sklearn.linear_model import LinearRegression\n",
    "from sklearn.neighbors import KNeighborsRegressor\n",
    "from sklearn.neural_network import MLPRegressor\n",
    "\n",
    "# import statistic library\n",
    "from scipy import stats\n",
    "import statsmodels.api as sm\n",
    "from datetime import datetime\n",
    "import warnings\n",
    "warnings.filterwarnings('ignore')\n"
   ]
  },
  {
   "cell_type": "markdown",
   "id": "1cbb7488-246b-4b35-9d6b-59133a5e3d88",
   "metadata": {},
   "source": [
    "### **2 Importing the Relevant Dataset**"
   ]
  },
  {
   "cell_type": "code",
   "execution_count": 2,
   "id": "0a35383b-22ec-4554-8a95-f889d3d613d5",
   "metadata": {},
   "outputs": [
    {
     "name": "stdout",
     "output_type": "stream",
     "text": [
      "<class 'pandas.core.frame.DataFrame'>\n",
      "RangeIndex: 83 entries, 0 to 82\n",
      "Data columns (total 7 columns):\n",
      " #   Column           Non-Null Count  Dtype  \n",
      "---  ------           --------------  -----  \n",
      " 0   Unnamed: 0       83 non-null     int64  \n",
      " 1   Begin Date       83 non-null     object \n",
      " 2   Month            83 non-null     int64  \n",
      " 3   Year             83 non-null     int64  \n",
      " 4   Price (�/100kg)  83 non-null     int64  \n",
      " 5   scores           83 non-null     float64\n",
      " 6   anomaly          83 non-null     int64  \n",
      "dtypes: float64(1), int64(5), object(1)\n",
      "memory usage: 4.7+ KB\n"
     ]
    }
   ],
   "source": [
    "Irish_prices_df = pd.read_csv(\"Datasets/Irish_df.csv\")\n",
    "Irish_prices_df.info()"
   ]
  },
  {
   "cell_type": "code",
   "execution_count": 3,
   "id": "cec26981-e030-4ee8-aeeb-06affc0dff58",
   "metadata": {},
   "outputs": [],
   "source": [
    "Irish_prices_df.rename(columns = {'Price (�/100kg)':'Price'}, inplace = True)"
   ]
  },
  {
   "cell_type": "code",
   "execution_count": 53,
   "id": "d027f0e9-b20e-4884-8f37-7c57080d7be5",
   "metadata": {},
   "outputs": [
    {
     "data": {
      "text/plain": [
       "Index(['Unnamed: 0', 'Begin Date', 'Month', 'Year', 'Price', 'scores',\n",
       "       'anomaly'],\n",
       "      dtype='object')"
      ]
     },
     "execution_count": 53,
     "metadata": {},
     "output_type": "execute_result"
    }
   ],
   "source": [
    "Irish_prices_df.columns"
   ]
  },
  {
   "cell_type": "code",
   "execution_count": 54,
   "id": "37d07007-614a-4a95-9313-9627e1671e6b",
   "metadata": {},
   "outputs": [],
   "source": [
    "#ref:#https://sparkbyexamples.com/pandas/how-to-split-pandas-dataframe/\n",
    "\n",
    "#grouped = Irish_prices_df.groupby(Irish_prices_df.Year)\n",
    "#IrishButterPrices2022 = grouped.get_group(2022)\n",
    "#print(IrishButterPrices2022)"
   ]
  },
  {
   "cell_type": "markdown",
   "id": "e702f199-6eac-486a-b0cb-f58fbb1fd713",
   "metadata": {},
   "source": [
    "### **3. Test and Train Split**"
   ]
  },
  {
   "cell_type": "markdown",
   "id": "6434c962-b061-4222-a30e-adc24353608d",
   "metadata": {},
   "source": [
    "ref: https://realpython.com/courses/splitting-datasets-scikit-learn-train-test-split/"
   ]
  },
  {
   "cell_type": "markdown",
   "id": "4820a846-107b-435c-9150-b710c4760412",
   "metadata": {},
   "source": [
    "Split the data into training and test sets in Python using scikit-learn’s built-in train_test_split():\n",
    "\n",
    "The test_size refers to the number of observations that you want to put in the training data and the test data. If you specify a test_size of 0.2, your test_size will be 20 percent of the original data, therefore leaving the other 80 percent as training data.\n",
    "\n",
    "The random_state is a parameter that allows you to obtain the same results every time the code is run. train_test_split() makes a random split in the data, which is problematic for reproducing the results. Therefore, it’s common to use random_state."
   ]
  },
  {
   "cell_type": "code",
   "execution_count": 55,
   "id": "ad90f5c3-7b7e-40ca-acba-7389afa74d70",
   "metadata": {},
   "outputs": [],
   "source": [
    "#creating 2 objects that now contain data :x and y . \n",
    "\n",
    "X =Irish_prices_df.drop(columns =['Unnamed: 0',\"Begin Date\",'Price'])\n",
    "y = Irish_prices_df['Price']\n",
    "\n",
    "from sklearn.model_selection import train_test_split\n",
    "X_train, X_test, y_train, y_test = train_test_split(X,y, test_size=0.2, random_state=0)"
   ]
  },
  {
   "cell_type": "code",
   "execution_count": 56,
   "id": "d5db2aaf-1626-4e47-b9bc-a7b42527725d",
   "metadata": {},
   "outputs": [],
   "source": [
    "#fit a model\n",
    "lm = linear_model.LinearRegression()\n",
    "model = lm.fit(X_train, y_train)\n",
    "predictions = lm.predict(X_test)"
   ]
  },
  {
   "cell_type": "code",
   "execution_count": 57,
   "id": "c86bbca0-c833-4b05-9425-05cf28f17bac",
   "metadata": {},
   "outputs": [
    {
     "data": {
      "text/plain": [
       "array([1851.78142708, 1458.88955427, 1862.97796838, 1458.14156162,\n",
       "       1689.46783589])"
      ]
     },
     "execution_count": 57,
     "metadata": {},
     "output_type": "execute_result"
    }
   ],
   "source": [
    "predictions[0:5]"
   ]
  },
  {
   "cell_type": "code",
   "execution_count": 58,
   "id": "caa33b16-7589-4050-94d7-3f13b710e02f",
   "metadata": {},
   "outputs": [
    {
     "data": {
      "text/plain": [
       "Text(0, 0.5, 'Predictions')"
      ]
     },
     "execution_count": 58,
     "metadata": {},
     "output_type": "execute_result"
    },
    {
     "data": {
      "image/png": "[encoded data removed]",
      "text/plain": [
       "<Figure size 432x288 with 1 Axes>"
      ]
     },
     "metadata": {},
     "output_type": "display_data"
    }
   ],
   "source": [
    "## The line / model\n",
    "plt.scatter(y_test, predictions)\n",
    "plt.xlabel('True Values')\n",
    "plt.ylabel('Predictions')"
   ]
  },
  {
   "cell_type": "code",
   "execution_count": 59,
   "id": "6fbf7c84-db80-44e8-8fe9-473938cef67d",
   "metadata": {},
   "outputs": [
    {
     "data": {
      "text/plain": [
       "0.3691124443899836"
      ]
     },
     "execution_count": 59,
     "metadata": {},
     "output_type": "execute_result"
    }
   ],
   "source": [
    "model.score(X_test, y_test)"
   ]
  },
  {
   "cell_type": "code",
   "execution_count": 60,
   "id": "d00623d3-2838-4594-93a2-8b23d0521cfd",
   "metadata": {},
   "outputs": [
    {
     "data": {
      "text/plain": [
       "((66, 4), (17, 4), (66,), (17,))"
      ]
     },
     "execution_count": 60,
     "metadata": {},
     "output_type": "execute_result"
    }
   ],
   "source": [
    " #Print the shape of training and testing data along with its labels.\n",
    "\n",
    "X_train.shape, X_test.shape, y_train.shape, y_test.shape"
   ]
  },
  {
   "cell_type": "code",
   "execution_count": 61,
   "id": "ba2d8f93-88db-4458-887f-d3ca6d372274",
   "metadata": {},
   "outputs": [
    {
     "data": {
      "text/plain": [
       "Month        int64\n",
       "Year         int64\n",
       "scores     float64\n",
       "anomaly      int64\n",
       "dtype: object"
      ]
     },
     "execution_count": 61,
     "metadata": {},
     "output_type": "execute_result"
    }
   ],
   "source": [
    "X.dtypes"
   ]
  },
  {
   "cell_type": "code",
   "execution_count": 62,
   "id": "6e10ea27-11c7-4b3b-b76b-21dc5ec95d64",
   "metadata": {},
   "outputs": [
    {
     "data": {
      "text/plain": [
       "dtype('int64')"
      ]
     },
     "execution_count": 62,
     "metadata": {},
     "output_type": "execute_result"
    }
   ],
   "source": [
    "y.dtypes"
   ]
  },
  {
   "cell_type": "markdown",
   "id": "16cc695c-04a6-4a56-82bb-5bd2e052198e",
   "metadata": {},
   "source": [
    "### **4 Scaling of the data**"
   ]
  },
  {
   "cell_type": "markdown",
   "id": "865862cd-4645-4f58-9ccc-8987ea5d49f8",
   "metadata": {},
   "source": [
    "This can be a crucial part of data preprocessing stage . However my results were normal so there is no need to scale the data"
   ]
  },
  {
   "cell_type": "code",
   "execution_count": 77,
   "id": "e38cf0b3-1124-45f3-99d7-133ff32d0c07",
   "metadata": {},
   "outputs": [],
   "source": [
    "#from sklearn.preprocessing import MinMaxScaler\n",
    "#sc=MinMaxScaler(feature_range=(0, 1))\n",
    "#X_train=sc.fit_transform(X_train)\n",
    "#X_test=sc.transform(X_test)"
   ]
  },
  {
   "cell_type": "markdown",
   "id": "8152c1fd-f390-4f42-9afc-469ab489a7dc",
   "metadata": {},
   "source": [
    "### **5 Machine learning Models**"
   ]
  },
  {
   "cell_type": "code",
   "execution_count": null,
   "id": "8e7097c5-1137-45f9-be68-8fb653e1a8e2",
   "metadata": {},
   "outputs": [],
   "source": [
    "REFERENCE -\n",
    "https://realpython.com/learning-paths/machine-learning-python/\n",
    "https://www.analyticsvidhya.com/blog/2021/06/tune-hyperparameters-with-gridsearchcv/\n",
    "https://scikit-learn.org/stable/modules/generated/sklearn.model_selection.GridSearchCV.html#examples-using-sklearn-model-selection-gridsearchcv\n",
    "https://realpython.com/build-recommendation-engine-collaborative-filtering/\n",
    "https://medium.com/@Ambarish_224/hyperparameter-tuning-a-step-by-step-guide-for-machine-learning-practitioners-a0734f8a0869"
   ]
  },
  {
   "cell_type": "markdown",
   "id": "0ca34a9f-d3da-43b5-913f-e390a7b9023c",
   "metadata": {},
   "source": [
    "#### **5.1 SciKit-Learn Algorithm - Linear Regression ( Supervised)**"
   ]
  },
  {
   "cell_type": "markdown",
   "id": "4e541cd9-f395-4cce-9347-40598beb22ba",
   "metadata": {},
   "source": [
    "An example of an supervised Algorithm : use for Classification and Regression\n",
    "\n",
    "Regression - prediction made on numerous independent variables vs target variable is ladder score using Coefficients of determination , RMSE and MSE to measure the precision of the model algorithm. It identifies the equation that produces the smallest difference between all the observed values and their fitted values otherwise called residuals\n",
    "\n",
    "The five basic steps :\n",
    "\n",
    "Import the packages and classes you need. Provide data to work with and eventually do appropriate transformations. Create a regression model and fit it with existing data. Check the results of model fitting to know whether the model is satisfactory. Apply the model for predictions."
   ]
  },
  {
   "cell_type": "code",
   "execution_count": 78,
   "id": "88412b34-70a6-48e1-b548-f558a6570307",
   "metadata": {},
   "outputs": [],
   "source": [
    "import sklearn as sk\n",
    "import sklearn.linear_model as lm\n",
    "import sklearn.neighbors as nei\n",
    "import sklearn.model_selection as mod\n",
    "\n",
    "# models  and classifiers for Supervised Learning\n",
    "from sklearn.model_selection import train_test_split\n",
    "from sklearn.linear_model import LogisticRegression\n",
    "from sklearn.naive_bayes import GaussianNB\n",
    "from sklearn.tree import DecisionTreeClassifier\n",
    "from sklearn.linear_model import LinearRegression\n",
    "# libraries for the confusion matrix\n",
    "from sklearn.metrics import confusion_matrix, ConfusionMatrixDisplay\n",
    "\n",
    "# create tables\n",
    "from tabulate import tabulate"
   ]
  },
  {
   "cell_type": "code",
   "execution_count": 79,
   "id": "473afa77-2595-423f-9de4-c1e7b2591a16",
   "metadata": {},
   "outputs": [
    {
     "data": {
      "text/plain": [
       "LinearRegression()"
      ]
     },
     "execution_count": 79,
     "metadata": {},
     "output_type": "execute_result"
    }
   ],
   "source": [
    "# creating a variable lm as the instance of LinearRegression and then fitting a linear model to it \n",
    "# using the data from the earlier data processing into train and test sets\n",
    "\n",
    "lm = linear_model.LinearRegression()\n",
    "lm.fit(X_train, y_train)"
   ]
  },
  {
   "cell_type": "markdown",
   "id": "86636d0a-d8bb-4941-8340-a2ccf46ad005",
   "metadata": {},
   "source": [
    "Determining the R2 for each of the variables in order to determine which variable carries the most weight[25]¶"
   ]
  },
  {
   "cell_type": "code",
   "execution_count": 80,
   "id": "ab1169ff-d121-4ed0-a921-53fc653180f4",
   "metadata": {},
   "outputs": [
    {
     "name": "stdout",
     "output_type": "stream",
     "text": [
      "Coefficients:\n",
      " Price \n",
      " [  154.05738142   409.73646303 -1001.7370927      0.        ]\n",
      "Intercept: 2066.7730627565224\n"
     ]
    }
   ],
   "source": [
    "print('Coefficients:\\n Price \\n',lm.coef_)\n",
    "print('Intercept:',lm.intercept_)"
   ]
  },
  {
   "cell_type": "code",
   "execution_count": 81,
   "id": "75cf68a5-5939-4969-99c5-0ea26ceb2ad5",
   "metadata": {},
   "outputs": [],
   "source": [
    "y_train_pred = lm.predict(X_train)\n",
    "y_test_pred = lm.predict(X_test)"
   ]
  },
  {
   "cell_type": "code",
   "execution_count": 82,
   "id": "2a1161bd-8b30-49ed-a63b-f6b2e8eebdf0",
   "metadata": {},
   "outputs": [
    {
     "name": "stdout",
     "output_type": "stream",
     "text": [
      "Real Data\n",
      "30    2464\n",
      "53    1336\n",
      "42    1820\n",
      "59    1328\n",
      "22    2087\n",
      "38    2314\n",
      "2     1525\n",
      "55    1710\n",
      "26    2058\n",
      "8     1112\n",
      "Name: Price, dtype: int64\n",
      "\n",
      " Predicted Data\n",
      "[1851.78142708 1458.88955427 1862.97796838 1458.14156162 1689.46783589\n",
      " 2137.74679023 1459.94765002 1703.15523017 1662.79602349 1399.48295368]\n",
      "\n",
      " Diff\n",
      "30    612.218573\n",
      "53   -122.889554\n",
      "42    -42.977968\n",
      "59   -130.141562\n",
      "22    397.532164\n",
      "38    176.253210\n",
      "2      65.052350\n",
      "55      6.844770\n",
      "26    395.203977\n",
      "8    -287.482954\n",
      "Name: Price, dtype: float64\n"
     ]
    }
   ],
   "source": [
    "# check the prediction data & real data for the 10 data entries\n",
    "print('Real Data')\n",
    "print(y_test[:10])\n",
    "print('\\n Predicted Data')\n",
    "print(y_test_pred[:10])\n",
    "print('\\n Diff')\n",
    "print(y_test[:10]-y_test_pred[:10])\n"
   ]
  },
  {
   "cell_type": "code",
   "execution_count": 83,
   "id": "7bebb049-1aaf-4786-945b-1ecd68a463c3",
   "metadata": {},
   "outputs": [
    {
     "data": {
      "image/png": "[encoded data removed]",
      "text/plain": [
       "<Figure size 432x288 with 1 Axes>"
      ]
     },
     "metadata": {},
     "output_type": "display_data"
    }
   ],
   "source": [
    "#Visualisation of linearity\n",
    "plt.scatter(y_test,y_test_pred)\n",
    "plt.xlabel('Real data')\n",
    "plt.ylabel('predicted data')\n",
    "plt.title('Relationship between predictor and real data')\n",
    "plt.show()"
   ]
  },
  {
   "cell_type": "code",
   "execution_count": 84,
   "id": "fb37bb35-f47f-41db-b44a-9c9eeefcb106",
   "metadata": {},
   "outputs": [
    {
     "data": {
      "text/plain": [
       "Text(0.5, 1.0, 'Residuals')"
      ]
     },
     "execution_count": 84,
     "metadata": {},
     "output_type": "execute_result"
    },
    {
     "data": {
      "image/png": "[encoded data removed]",
      "text/plain": [
       "<Figure size 432x288 with 1 Axes>"
      ]
     },
     "metadata": {},
     "output_type": "display_data"
    }
   ],
   "source": [
    "# check distribution from residual using visualisation via a distplot\n",
    "sns.distplot(y_test - y_test_pred)\n",
    "plt.title('Residuals', size=18)"
   ]
  },
  {
   "cell_type": "code",
   "execution_count": 85,
   "id": "3dde5284-18e1-4076-afff-7edc9421b240",
   "metadata": {},
   "outputs": [
    {
     "name": "stdout",
     "output_type": "stream",
     "text": [
      "Shapiro-Wilk test ---- statistic: 0.9829608798027039, p-value: 0.9792007207870483\n"
     ]
    }
   ],
   "source": [
    "# Check distribution from residual\n",
    "residual = (y_test - y_test_pred)\n",
    "sw = stats.shapiro(residual)\n",
    "ks = stats.kstest(residual, 'norm')\n",
    "\n",
    "print('Shapiro-Wilk test ---- statistic: {}, p-value: {}'.format(sw[0],sw[1]))"
   ]
  },
  {
   "cell_type": "code",
   "execution_count": 86,
   "id": "10496ada-a198-4a0f-88ed-14f8a5aaa621",
   "metadata": {},
   "outputs": [
    {
     "name": "stdout",
     "output_type": "stream",
     "text": [
      "R^2 score: 0.498575721112407\n"
     ]
    }
   ],
   "source": [
    "# Evaluate regression model - R squared\n",
    "\n",
    "# This value shows how good the regression function is at fitting the data : the closet the value is to 1 , the better\n",
    "print('R^2 score:',lm.score(X_train, y_train))"
   ]
  },
  {
   "cell_type": "code",
   "execution_count": 87,
   "id": "0d3c7a17-0e94-43dd-83de-4ec2e1da7b8a",
   "metadata": {},
   "outputs": [
    {
     "name": "stdout",
     "output_type": "stream",
     "text": [
      "RMSE Training Data: 308.2346847370118\n",
      "RMSE Test Data: 302.54281170527395\n"
     ]
    }
   ],
   "source": [
    "# Evaluate regression model - RMSE\n",
    "\n",
    "### RMSE is the standard deviation of residual or prediction errors - measure of how far from the regression line the data points are. \n",
    "\n",
    "## The lower the RMSE the better the model is at making predictions. \n",
    "Linear_rmse_training = mean_squared_error(y_true=y_train,y_pred=y_train_pred,squared=False)\n",
    "Linear_rmse_test = mean_squared_error(y_true=y_test,y_pred=y_test_pred,squared=False)\n",
    "\n",
    "print('RMSE Training Data: {}'.format(Linear_rmse_training))\n",
    "print('RMSE Test Data: {}'.format(Linear_rmse_test))"
   ]
  },
  {
   "cell_type": "code",
   "execution_count": 120,
   "id": "94010e90-7ccb-47f6-85ed-2abb4d3103ed",
   "metadata": {},
   "outputs": [
    {
     "data": {
      "text/plain": [
       "{'Ridge': {'training': 312.2170000060772,\n",
       "  'test': 306.3852547653396,\n",
       "  'R^2 score': 0.4855354700853224},\n",
       " 'Lasso': {'training': 308.2894199569259,\n",
       "  'test': 301.4639976023999,\n",
       "  'R^2 score': 0.4983976230178214},\n",
       " 'BayessianRidge': {'training': 308.59777342342363,\n",
       "  'test': 303.247753964575,\n",
       "  'R^2 score': 0.4973937080391645}}"
      ]
     },
     "execution_count": 120,
     "metadata": {},
     "output_type": "execute_result"
    }
   ],
   "source": [
    "# Compare performance between model\n",
    "\n",
    "list_model = [['Ridge',linear_model.Ridge()],['Lasso',linear_model.Lasso()],['BayessianRidge',linear_model.BayesianRidge()]]\n",
    "performance_result = {}\n",
    "\n",
    "for model_name,regression_model in list_model:\n",
    "  regression_model.fit(X_train, y_train)\n",
    "  y_train_pred = regression_model.predict(X_train)\n",
    "  y_test_pred = regression_model.predict(X_test)\n",
    "\n",
    "  rmse_training = mean_squared_error(y_true=y_train,y_pred=y_train_pred,squared=False)\n",
    "  rmse_test = mean_squared_error(y_true=y_test,y_pred=y_test_pred,squared=False)\n",
    "\n",
    "  r_score = regression_model.score(X_train, y_train)\n",
    "\n",
    "  performance_result[model_name]={'training':rmse_training,'test':rmse_test,'R^2 score':r_score}\n",
    "performance_result\n",
    "#print(tabulate(performance_result[model_name],headers='keys',tablefmt='fancy_grid'))\n"
   ]
  },
  {
   "cell_type": "code",
   "execution_count": 109,
   "id": "06cd63d2-6811-4664-8706-43e15935fbd3",
   "metadata": {},
   "outputs": [
    {
     "name": "stdout",
     "output_type": "stream",
     "text": [
      "╒═══════════════╤═════════════════════╕\n",
      "│               │   Linear Regression │\n",
      "╞═══════════════╪═════════════════════╡\n",
      "│ Train results │             308.235 │\n",
      "├───────────────┼─────────────────────┤\n",
      "│ Test results  │             302.543 │\n",
      "╘═══════════════╧═════════════════════╛\n"
     ]
    }
   ],
   "source": [
    "# display the results of the 3 Algorithms\n",
    "\n",
    "algorithm_results = {'': ['Train results', 'Test results'],\n",
    "     \n",
    "        'Linear Regression': [Linear_rmse_training, Linear_rmse_test]}\n",
    "\n",
    "print(tabulate(algorithm_results,headers='keys',tablefmt='fancy_grid'))"
   ]
  },
  {
   "cell_type": "code",
   "execution_count": 192,
   "id": "445eadd4-6c65-4ccd-97ef-deaaae7ae392",
   "metadata": {},
   "outputs": [
    {
     "data": {
      "text/plain": [
       "0.498575721112407"
      ]
     },
     "execution_count": 192,
     "metadata": {},
     "output_type": "execute_result"
    }
   ],
   "source": [
    "from sklearn.linear_model import LinearRegression\n",
    "model = LinearRegression().fit(X_train, y_train)\n",
    "LinearTrain = model.score(X_train, y_train)\n",
    "LinearTrain"
   ]
  },
  {
   "cell_type": "code",
   "execution_count": 195,
   "id": "54c1395b-ec3e-4bd2-ac67-892920947281",
   "metadata": {},
   "outputs": [
    {
     "data": {
      "text/plain": [
       "0.36911244438997226"
      ]
     },
     "execution_count": 195,
     "metadata": {},
     "output_type": "execute_result"
    }
   ],
   "source": [
    "LinearTest = model.score(X_test, y_test)\n",
    "LinearTest"
   ]
  },
  {
   "cell_type": "markdown",
   "id": "8e229d6a-8d73-466f-9cfb-cd790755186f",
   "metadata": {},
   "source": [
    "#### **5.1.1 Linear Regression - Cross validation examined"
   ]
  },
  {
   "cell_type": "markdown",
   "id": "0ea3d2ab-596a-4591-ac2e-f75c4652eef0",
   "metadata": {},
   "source": [
    "#ref https://towardsdatascience.com/train-test-split-and-cross-validation-in-python-80b61beca4b6\n",
    "\n",
    "Examining the cross validation as a method to avoid the possible overfitting or underfitting of data . This method is similar to train/test split but it involves more subsets. "
   ]
  },
  {
   "cell_type": "code",
   "execution_count": 101,
   "id": "56fc5c4f-9780-4877-a26e-7764a8c89fb4",
   "metadata": {},
   "outputs": [],
   "source": [
    "# Necessary imports: \n",
    "from sklearn.model_selection import cross_val_score, cross_val_predict\n",
    "from sklearn import metrics"
   ]
  },
  {
   "cell_type": "code",
   "execution_count": 32,
   "id": "d6b79f43-ed39-445c-9a9a-3aa24ce9b0a6",
   "metadata": {},
   "outputs": [],
   "source": [
    "#Irish_prices_dfa = Irish_prices_df.drop(columns =['Unnamed: 0','Begin Date','Month','Year','Price'])"
   ]
  },
  {
   "cell_type": "code",
   "execution_count": 33,
   "id": "dcd2df18-c522-469a-8e65-5bc5bf330460",
   "metadata": {},
   "outputs": [],
   "source": [
    "#Irish_prices_dfa = Irish_prices_df.drop(columns =['Unnamed: 0','Begin Date','Month','Price'])"
   ]
  },
  {
   "cell_type": "code",
   "execution_count": 34,
   "id": "767a8316-e376-497e-b410-d3245c3fa920",
   "metadata": {},
   "outputs": [],
   "source": [
    "#Irish_prices_dfa.dtypes"
   ]
  },
  {
   "cell_type": "code",
   "execution_count": 107,
   "id": "fcb78553-7df9-4c4f-8f8e-651179635b4a",
   "metadata": {},
   "outputs": [
    {
     "data": {
      "text/plain": [
       "0     1132\n",
       "1     1132\n",
       "2     1525\n",
       "3     1242\n",
       "4     1212\n",
       "      ... \n",
       "78    2279\n",
       "79    2076\n",
       "80    2442\n",
       "81    2463\n",
       "82    2498\n",
       "Name: Price, Length: 83, dtype: int64"
      ]
     },
     "execution_count": 107,
     "metadata": {},
     "output_type": "execute_result"
    }
   ],
   "source": [
    "y"
   ]
  },
  {
   "cell_type": "code",
   "execution_count": 108,
   "id": "2d49e990-781d-4b94-929f-57cda9fd693f",
   "metadata": {},
   "outputs": [
    {
     "data": {
      "text/plain": [
       "<matplotlib.collections.PathCollection at 0x20d4ad9ceb0>"
      ]
     },
     "execution_count": 108,
     "metadata": {},
     "output_type": "execute_result"
    },
    {
     "data": {
      "image/png": "[encoded data removed]",
      "text/plain": [
       "<Figure size 432x288 with 1 Axes>"
      ]
     },
     "metadata": {},
     "output_type": "display_data"
    }
   ],
   "source": [
    "# Make cross validated predictions\n",
    "predictions = cross_val_predict(model,X,y, cv=6)\n",
    "plt.scatter(y, predictions)"
   ]
  },
  {
   "cell_type": "code",
   "execution_count": 104,
   "id": "16dfc33a-b72c-4481-b483-01c7b2f6b47f",
   "metadata": {},
   "outputs": [
    {
     "name": "stdout",
     "output_type": "stream",
     "text": [
      "0.10567126254597659\n"
     ]
    }
   ],
   "source": [
    "accuracy = metrics.r2_score(y, predictions)\n",
    "print (accuracy)\n"
   ]
  },
  {
   "cell_type": "markdown",
   "id": "3d724dcc-4a05-4ed9-bcfc-5e53119f1457",
   "metadata": {},
   "source": [
    "### **5.2 SciKit-Learn Algorithm - KNN for Classification ( Supervised)¶**"
   ]
  },
  {
   "cell_type": "markdown",
   "id": "1eaa7368-c066-4a4d-bd52-f5de5c0271df",
   "metadata": {},
   "source": [
    "ref: https://realpython.com/knn-python/"
   ]
  },
  {
   "cell_type": "code",
   "execution_count": 38,
   "id": "7c3c7691-5ba2-4450-9dc5-4a04c4816559",
   "metadata": {},
   "outputs": [
    {
     "data": {
      "image/png": "[encoded data removed]",
      "text/plain": [
       "<Figure size 432x288 with 1 Axes>"
      ]
     },
     "metadata": {},
     "output_type": "display_data"
    }
   ],
   "source": [
    "# To see what the butter prices ranges we expect , we visualise though a histogram\n",
    "import matplotlib.pyplot as plt\n",
    "Irish_prices_df[\"Price\"].hist(bins=15)\n",
    "plt.show()"
   ]
  },
  {
   "cell_type": "markdown",
   "id": "0d743109-9624-4a5a-a31b-f46f4b78c391",
   "metadata": {},
   "source": [
    "Splitting Data Into Training and Test Sets for Model Evaluation : Under data processing section of this notebook Training data - used to fit the model. For KNN . the training data will be used as neighbours Test data - used to evaluate the model. For KNN , make predictions on the butter price in the test data and compare to real data Evaluation of the Model Fit The model needs to be evaluated : using RMSE ( root mean squared error) is a common way. Also looking at a range of K values between 1 and 20. As if you use one neighbour a prediction can strongly change from one point to another. perhaps an outlier. However if you look at multiple data points , this impact is lessened."
   ]
  },
  {
   "cell_type": "code",
   "execution_count": 132,
   "id": "81447d76-1ec7-49e2-90e0-5b540d3f5283",
   "metadata": {},
   "outputs": [
    {
     "name": "stdout",
     "output_type": "stream",
     "text": [
      "RMSE value for k=  1 is: 0.0\n",
      "RMSE value for k=  2 is: 155.12844140689782\n",
      "RMSE value for k=  3 is: 194.83515003775807\n",
      "RMSE value for k=  4 is: 209.944644580134\n",
      "RMSE value for k=  5 is: 216.34740300701276\n",
      "RMSE value for k=  6 is: 223.5126532095692\n",
      "RMSE value for k=  7 is: 230.72711087079776\n",
      "RMSE value for k=  8 is: 250.21447050480515\n",
      "RMSE value for k=  9 is: 257.687194188292\n",
      "RMSE value for k=  10 is: 269.023271776952\n",
      "RMSE value for k=  11 is: 274.95210201452153\n",
      "RMSE value for k=  12 is: 289.5125485757539\n",
      "RMSE value for k=  13 is: 298.95759397952685\n",
      "RMSE value for k=  14 is: 309.7457206925096\n",
      "RMSE value for k=  15 is: 313.01273196208865\n",
      "RMSE value for k=  16 is: 315.92600239846877\n",
      "RMSE value for k=  17 is: 321.66690655583324\n",
      "RMSE value for k=  18 is: 328.57517335812986\n",
      "RMSE value for k=  19 is: 332.8263095132437\n",
      "RMSE value for k=  20 is: 341.7830003352739\n"
     ]
    }
   ],
   "source": [
    "### Evaluation of the prediction error on the training data\n",
    "\n",
    "rmse_val = [] #to store rmse values for different k\n",
    "for K in range(20):\n",
    "    K = K+1\n",
    "    knn_model = KNeighborsRegressor(n_neighbors=K) # unfitted model created \n",
    "    knn_model.fit(X_train, y_train)\n",
    "    train_preds = knn_model.predict(X_train)\n",
    "    mse = mean_squared_error(y_train, train_preds)\n",
    "    rmse = sqrt(mse)\n",
    "    rmse_val.append(rmse) #store rmse values\n",
    "    print('RMSE value for k= ' , K , 'is:', rmse)"
   ]
  },
  {
   "cell_type": "code",
   "execution_count": 133,
   "id": "f9625d3b-3e27-4229-90b3-ef74277f77f7",
   "metadata": {},
   "outputs": [
    {
     "data": {
      "text/plain": [
       "<AxesSubplot:>"
      ]
     },
     "execution_count": 133,
     "metadata": {},
     "output_type": "execute_result"
    },
    {
     "data": {
      "image/png": "[encoded data removed]",
      "text/plain": [
       "<Figure size 432x288 with 1 Axes>"
      ]
     },
     "metadata": {},
     "output_type": "display_data"
    }
   ],
   "source": [
    "#plotting the rmse values against k values\n",
    "curve = pd.DataFrame(rmse_val) #elbow curve \n",
    "curve.plot()"
   ]
  },
  {
   "cell_type": "markdown",
   "id": "fd66d85d-e61d-406f-a51e-0b67d803ae7a",
   "metadata": {},
   "source": [
    "Visualisation of the Model Fit"
   ]
  },
  {
   "cell_type": "markdown",
   "id": "89745f48-4ff1-437f-9864-4a3e75c42fef",
   "metadata": {},
   "source": [
    "Tune and Optimize kNN in Python Using scikit-learn\n",
    "Can I improve the predictive score from the kNN Performances ?\n",
    "\n",
    "From earlier calculations , we determined that the best K value was 3.\n",
    "\n",
    "Another way to determine the best value for k is using GridSearchCV :"
   ]
  },
  {
   "cell_type": "code",
   "execution_count": 134,
   "id": "a39365f6-d3f7-4168-9b61-79dd8ece7c30",
   "metadata": {},
   "outputs": [
    {
     "data": {
      "text/plain": [
       "GridSearchCV(estimator=KNeighborsRegressor(),\n",
       "             param_grid={'n_neighbors': range(1, 20),\n",
       "                         'weights': ['uniform', 'distance']})"
      ]
     },
     "execution_count": 134,
     "metadata": {},
     "output_type": "execute_result"
    }
   ],
   "source": [
    "from sklearn.model_selection import GridSearchCV\n",
    "parameters = {\"n_neighbors\": range(1, 20)}\n",
    "gridsearch = GridSearchCV(KNeighborsRegressor(), parameters)\n",
    "gridsearch.fit(X_train, y_train)\n",
    "GridSearchCV(estimator=KNeighborsRegressor(),\n",
    "             param_grid={'n_neighbors': range(1, 20),\n",
    "                         'weights': ['uniform', 'distance']})"
   ]
  },
  {
   "cell_type": "code",
   "execution_count": 168,
   "id": "fba7df73-dcd4-4d4b-86d6-6607f6fb5e61",
   "metadata": {},
   "outputs": [
    {
     "data": {
      "text/plain": [
       "{'n_neighbors': 4, 'weights': 'distance'}"
      ]
     },
     "execution_count": 168,
     "metadata": {},
     "output_type": "execute_result"
    }
   ],
   "source": [
    "gridsearch.best_params_"
   ]
  },
  {
   "cell_type": "code",
   "execution_count": 169,
   "id": "45ddc958-3258-43de-a3f2-d9860125f145",
   "metadata": {},
   "outputs": [
    {
     "data": {
      "text/plain": [
       "0.0"
      ]
     },
     "execution_count": 169,
     "metadata": {},
     "output_type": "execute_result"
    }
   ],
   "source": [
    "# Now we know what the best nearest neighbour is we can see how it affects the train and test analysis\n",
    "\n",
    "train_preds_grid = gridsearch.predict(X_train)\n",
    "kNNtrain_mse = mean_squared_error(y_train, train_preds_grid)\n",
    "kNNtrain_rmse = sqrt(kNNtrain_mse)\n",
    "kNNtrain_rmse"
   ]
  },
  {
   "cell_type": "markdown",
   "id": "3d329f58-1600-4f31-b73c-abffa1cd6198",
   "metadata": {},
   "source": [
    "Adding Weighted Average of Neighbors Based on Distance Below, you’ll test whether the performance of your model will be any better when predicting using a weighted average instead of a regular average. This means that neighbors that are further away will less strongly influence the prediction.\n",
    "\n",
    "You can do this by setting the weights hyperparameter to the value of \"distance\". However, setting this weighted average could have an impact on the optimal value of k. Therefore, you’ll again use GridSearchCV to tell you which type of averaging you should use:"
   ]
  },
  {
   "cell_type": "code",
   "execution_count": 165,
   "id": "c67b16e4-ab72-4a0f-b476-c3780e9de8f4",
   "metadata": {},
   "outputs": [
    {
     "data": {
      "text/plain": [
       "251.17375106089645"
      ]
     },
     "execution_count": 165,
     "metadata": {},
     "output_type": "execute_result"
    }
   ],
   "source": [
    "parameters = { \"n_neighbors\": range(1, 20), \"weights\": [\"uniform\", \"distance\"]}\n",
    "gridsearch = GridSearchCV(KNeighborsRegressor(), parameters)\n",
    "gridsearch.fit(X_train, y_train)\n",
    "gridsearch.best_params_\n",
    "test_preds_grid = gridsearch.predict(X_test)\n",
    "test_mse = mean_squared_error(y_test, test_preds_grid)\n",
    "KNNtest_rmse = sqrt(test_mse)\n",
    "KNNtest_rmse"
   ]
  },
  {
   "cell_type": "code",
   "execution_count": 183,
   "id": "10bd56d3-7eaf-42af-a7bc-d31383adf265",
   "metadata": {},
   "outputs": [
    {
     "name": "stdout",
     "output_type": "stream",
     "text": [
      "Accuracy of K-NN classifier on training set: 1.00\n",
      "Accuracy of K-NN classifier on test set: 0.12\n"
     ]
    }
   ],
   "source": [
    "knn = KNeighborsClassifier(n_neighbors=1)\n",
    "knn.fit(X_train, y_train)\n",
    "Trainknn = knn.score(X_train, y_train)\n",
    "Trainknn\n",
    "Testknn =knn.score(X_test, y_test)\n",
    "Testknn\n",
    "print('Accuracy of K-NN classifier on training set: {:.2f}'.format(knn.score(X_train, y_train)))\n",
    "print('Accuracy of K-NN classifier on test set: {:.2f}'.format(knn.score(X_test, y_test)))"
   ]
  },
  {
   "cell_type": "markdown",
   "id": "835226bf-a0d6-46cd-9cb8-23587511debc",
   "metadata": {},
   "source": [
    "Further Improving on kNN in scikit-learn With Bagging As a third step for kNN tuning, you can use bagging. Bagging is an ensemble method, or a method that takes a relatively straightforward machine learning model and fits a large number of those models with slight variations in each fit. Bagging often uses decision trees, but kNN works perfectly as well.\n",
    "\n",
    "Ensemble methods are often more performant than single models. One model can be wrong from time to time, but the average of a hundred models should be wrong less often. The errors of different individual models are likely to average each other out, and the resulting prediction will be less variable.\n",
    "\n",
    "You can use scikit-learn to apply bagging to your kNN regression using the following steps. First, create the KNeighborsRegressor with the best choices for k and weights that you got from GridSearchCV:"
   ]
  },
  {
   "cell_type": "code",
   "execution_count": 139,
   "id": "b64e5b65-a859-477b-b03f-f765b78b55fe",
   "metadata": {},
   "outputs": [],
   "source": [
    "best_k = gridsearch.best_params_[\"n_neighbors\"]\n",
    "best_weights = gridsearch.best_params_[\"weights\"]\n",
    "bagged_knn = KNeighborsRegressor( n_neighbors=best_k, weights=best_weights)"
   ]
  },
  {
   "cell_type": "code",
   "execution_count": 140,
   "id": "18870cc5-ea98-433d-8ef6-88c968a9fb4a",
   "metadata": {},
   "outputs": [],
   "source": [
    "from sklearn.ensemble import BaggingRegressor\n",
    "bagging_model = BaggingRegressor(bagged_knn, n_estimators=100)"
   ]
  },
  {
   "cell_type": "code",
   "execution_count": 141,
   "id": "1078079d-ee95-4104-ac88-eaa4834f9a1f",
   "metadata": {},
   "outputs": [
    {
     "data": {
      "text/plain": [
       "263.39108794873255"
      ]
     },
     "execution_count": 141,
     "metadata": {},
     "output_type": "execute_result"
    }
   ],
   "source": [
    "from sklearn.ensemble import BaggingRegressor\n",
    "bagging_model = BaggingRegressor(bagged_knn, n_estimators=100).fit(X_train, y_train)\n",
    "test_preds_grid = bagging_model.predict(X_test)\n",
    "test_mse = mean_squared_error(y_test, test_preds_grid)\n",
    "test_rmse = sqrt(test_mse)\n",
    "test_rmse           "
   ]
  },
  {
   "cell_type": "markdown",
   "id": "e97c691f-ee11-4756-97d3-6a87e8cf9e6d",
   "metadata": {},
   "source": [
    "### **5.3  Algorithm - RandomForestClassifier()**"
   ]
  },
  {
   "cell_type": "markdown",
   "id": "7c62b640-7a64-4c28-89f1-99f0eae525e6",
   "metadata": {},
   "source": [
    "ref #https://www.analyticsvidhya.com/blog/2021/06/tune-hyperparameters-with-gridsearchcv/"
   ]
  },
  {
   "cell_type": "code",
   "execution_count": 142,
   "id": "afc1266a-53bb-4253-99f0-bec0aa8511c0",
   "metadata": {},
   "outputs": [],
   "source": [
    "#select a model to run the paramater tuning and GridsearchCV on\n",
    "\n",
    "rfc_clf = RandomForestClassifier()"
   ]
  },
  {
   "cell_type": "code",
   "execution_count": 143,
   "id": "f3dbb405-e164-41ed-b16b-46dd929cef80",
   "metadata": {},
   "outputs": [],
   "source": [
    "#define the Hyperparameters for use with Gridsearch CV\n",
    "\n",
    "# specify range of hyperparameters to tune as part of the exercise\n",
    "\n",
    "param_grid = [{\n",
    "    'max_depth': list(range(10, 15)),\n",
    "    #'max_features': list(range(0,14))\n",
    "    'max_features': list(range(0,10))\n",
    "    }]"
   ]
  },
  {
   "cell_type": "code",
   "execution_count": 145,
   "id": "58101297-5786-4b0c-96c0-782cf21a8131",
   "metadata": {},
   "outputs": [
    {
     "name": "stdout",
     "output_type": "stream",
     "text": [
      "[{'max_depth': [10, 11, 12, 13, 14], 'max_features': [0, 1, 2, 3, 4, 5, 6, 7, 8, 9]}]\n"
     ]
    }
   ],
   "source": [
    "#Complete the GridsearchCV\n",
    "\n",
    "# Create a grid search object\n",
    "grid_search = GridSearchCV(rfc_clf, param_grid, cv=5)\n",
    "\n",
    "# Fit the grid search to the data including the classifer for Random Forest Classifer\n",
    "grid_search.fit(X_train, y_train)\n",
    "\n",
    "# Print the best hyperparameters\n",
    "print(grid_search.param_grid)"
   ]
  },
  {
   "cell_type": "code",
   "execution_count": 172,
   "id": "24be6d7e-4e9f-4202-a6cb-ff4b06701502",
   "metadata": {},
   "outputs": [],
   "source": [
    "#Predicting the result based on the test data\n",
    "\n",
    "y_pred = grid_search.predict(X_test)\n",
    "\n",
    "print(y_pred)"
   ]
  },
  {
   "cell_type": "code",
   "execution_count": 148,
   "id": "1dde0c3e-1747-42e1-8622-0957f55126fe",
   "metadata": {},
   "outputs": [],
   "source": [
    "y_pred_train = grid_search.predict(X_train)\n",
    "\n",
    "print(y_pred_train)"
   ]
  },
  {
   "cell_type": "code",
   "execution_count": 173,
   "id": "3632ca22-62f9-4c4b-af29-3ba4cadba8b7",
   "metadata": {},
   "outputs": [],
   "source": [
    "cm_Train = confusion_matrix(y_pred_train, y_train)\n",
    "\n",
    "cm_Test = confusion_matrix(y_pred, y_test)"
   ]
  },
  {
   "cell_type": "code",
   "execution_count": 174,
   "id": "a1fd67b8-f448-4e50-bcdc-7ed365d53150",
   "metadata": {},
   "outputs": [
    {
     "name": "stdout",
     "output_type": "stream",
     "text": [
      "Accuracy for test set for Random Forest Classifier = 5.88%\n"
     ]
    }
   ],
   "source": [
    "# print the Accuracy value of for test data\n",
    "\n",
    "rfclass_test = ((cm_Test[0][0] + cm_Test[1][1])/len(y_test))\n",
    "\n",
    "print('Accuracy for test set for Random Forest Classifier = {:.2%}'.format(rfclass_test))"
   ]
  },
  {
   "cell_type": "code",
   "execution_count": 154,
   "id": "25fc93e8-fc4d-4696-a17a-ef474925de5f",
   "metadata": {},
   "outputs": [
    {
     "name": "stdout",
     "output_type": "stream",
     "text": [
      "Accuracy for training set for Logistic Regression = 9.09%\n"
     ]
    }
   ],
   "source": [
    "# print the Accuracy value of for training data \n",
    "\n",
    "rfclass_train = (cm_Train[0][0] + cm_Train[1][1])/len(y_train)\n",
    "\n",
    "print('Accuracy for training set for Logistic Regression = {:.2%}'.format(rfclass_train))"
   ]
  },
  {
   "cell_type": "markdown",
   "id": "eb497fda-d1a6-44b7-a805-a6671a4d1524",
   "metadata": {},
   "source": [
    "### **Conclusion  : Machine Learning comparision table**"
   ]
  },
  {
   "cell_type": "markdown",
   "id": "d662c502-1693-4f24-a851-e5e1834c78a2",
   "metadata": {},
   "source": [
    "ref: https://medium.com/towards-data-science/how-to-easily-create-tables-in-python-2eaea447d8fd"
   ]
  },
  {
   "cell_type": "code",
   "execution_count": 200,
   "id": "187d702b-6e06-4b1a-a504-744bcb218926",
   "metadata": {},
   "outputs": [],
   "source": [
    "table2 = [\n",
    "         ['Algorithms', 'Train Results', 'Test Results', 'Tweaking'], \n",
    "         ['Random Forest Classification', rfclass_train, rfclass_test, 'GridsearchCV'], \n",
    "        ['KNN', Trainknn,Testknn, 'GridsearchCV'],\n",
    "    ['Linear Regression', LinearTrain,LinearTest]\n",
    "         ]"
   ]
  },
  {
   "cell_type": "code",
   "execution_count": 201,
   "id": "8d792ddd-4c54-4882-a813-f165ccab04d7",
   "metadata": {},
   "outputs": [
    {
     "name": "stdout",
     "output_type": "stream",
     "text": [
      "╒══════════════════════════════╤═════════════════╤════════════════╤══════════════╕\n",
      "│ Algorithms                   │   Train Results │   Test Results │ Tweaking     │\n",
      "╞══════════════════════════════╪═════════════════╪════════════════╪══════════════╡\n",
      "│ Random Forest Classification │       0.0909091 │      0.0588235 │ GridsearchCV │\n",
      "├──────────────────────────────┼─────────────────┼────────────────┼──────────────┤\n",
      "│ KNN                          │       1         │      0.117647  │ GridsearchCV │\n",
      "├──────────────────────────────┼─────────────────┼────────────────┼──────────────┤\n",
      "│ Linear Regression            │       0.498576  │      0.369112  │              │\n",
      "╘══════════════════════════════╧═════════════════╧════════════════╧══════════════╛\n"
     ]
    }
   ],
   "source": [
    "print(tabulate(table2, headers='firstrow', tablefmt='fancy_grid'))"
   ]
  },
  {
   "cell_type": "code",
   "execution_count": null,
   "id": "8eeeedd8-f591-42d1-94f5-30429b74a3c3",
   "metadata": {},
   "outputs": [],
   "source": []
  }
 ],
 "metadata": {
  "kernelspec": {
   "display_name": "Python 3 (ipykernel)",
   "language": "python",
   "name": "python3"
  },
  "language_info": {
   "codemirror_mode": {
    "name": "ipython",
    "version": 3
   },
   "file_extension": ".py",
   "mimetype": "text/x-python",
   "name": "python",
   "nbconvert_exporter": "python",
   "pygments_lexer": "ipython3",
   "version": "3.9.12"
  },
  "widgets": {
   "application/vnd.jupyter.widget-state+json": {
    "state": {},
    "version_major": 2,
    "version_minor": 0
   }
  }
 },
 "nbformat": 4,
 "nbformat_minor": 5
}
