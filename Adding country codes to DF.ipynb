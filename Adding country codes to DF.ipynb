{
 "cells": [
  {
   "cell_type": "markdown",
   "id": "85b7c0c2-4145-4117-b450-bc399f69e7d2",
   "metadata": {},
   "source": [
    "## Adding Country Codes to our European Butter Prices 10 years Dataset ##\n",
    "\n"
   ]
  },
  {
   "cell_type": "code",
   "execution_count": 1,
   "id": "567a9f8d-0ca7-4f90-88a8-d4a87ae261c8",
   "metadata": {},
   "outputs": [],
   "source": [
    "# loading all relevant libraries\n",
    "\n",
    "import pandas as pd\n",
    "import seaborn as sns\n",
    "import numpy as np\n",
    "import datetime as dt\n",
    "import matplotlib.pyplot as plt\n",
    "\n",
    "import pycountry # used for mapping\n",
    "import geopy # used for mapping\n",
    "from geopy.geocoders import Nominatim # used for mapping\n",
    "\n",
    "from geopy.exc import GeocoderTimedOut \n",
    "import folium"
   ]
  },
  {
   "cell_type": "code",
   "execution_count": 2,
   "id": "712ef6b3-e031-4e5e-8944-9841cc0495bd",
   "metadata": {},
   "outputs": [],
   "source": [
    "#pip install geopy"
   ]
  },
  {
   "cell_type": "code",
   "execution_count": 3,
   "id": "fc9ee774-8425-42b5-a7f4-7a74bb5841c3",
   "metadata": {},
   "outputs": [],
   "source": [
    "#pip install folium"
   ]
  },
  {
   "cell_type": "code",
   "execution_count": 39,
   "id": "3f4fe30c-f841-4def-9a39-9490b5c33646",
   "metadata": {},
   "outputs": [],
   "source": [
    "# creating dataframe for exports\n",
    "df = pd.read_csv('European Butter Prices 10 years.csv', header = 0)"
   ]
  },
  {
   "cell_type": "code",
   "execution_count": 33,
   "id": "20079017-ff30-4429-969a-e642df04a534",
   "metadata": {},
   "outputs": [
    {
     "data": {
      "text/plain": [
       "<bound method NDFrame.head of        Year  Week Member State Product  Begin Date    End Date  \\\n",
       "0      2000    52      Belgium  BUTTER  25/12/2000  31/12/2000   \n",
       "1      2000    52      Denmark  BUTTER  25/12/2000  31/12/2000   \n",
       "2      2000    52      Germany  BUTTER  25/12/2000  31/12/2000   \n",
       "3      2000    52      Ireland  BUTTER  25/12/2000  31/12/2000   \n",
       "4      2000    52       Greece  BUTTER  25/12/2000  31/12/2000   \n",
       "...     ...   ...          ...     ...         ...         ...   \n",
       "14219  2022     1        Italy  BUTTER  03/01/2022  09/01/2022   \n",
       "14220  2022     1  Netherlands  BUTTER  03/01/2022  09/01/2022   \n",
       "14221  2022     1       Poland  BUTTER  03/01/2022  09/01/2022   \n",
       "14222  2022     1     Portugal  BUTTER  03/01/2022  09/01/2022   \n",
       "14223  2022     1     Slovakia  BUTTER  03/01/2022  09/01/2022   \n",
       "\n",
       "       Price (�/100kg)  \n",
       "0               326.10  \n",
       "1               376.70  \n",
       "2               352.79  \n",
       "3               292.04  \n",
       "4               460.16  \n",
       "...                ...  \n",
       "14219           514.00  \n",
       "14220           608.00  \n",
       "14221           574.43  \n",
       "14222           558.87  \n",
       "14223           514.43  \n",
       "\n",
       "[14224 rows x 7 columns]>"
      ]
     },
     "execution_count": 33,
     "metadata": {},
     "output_type": "execute_result"
    }
   ],
   "source": [
    "df.head"
   ]
  },
  {
   "cell_type": "code",
   "execution_count": 40,
   "id": "ca81b28e-f505-4628-b3d1-3ae3d33ad252",
   "metadata": {},
   "outputs": [
    {
     "data": {
      "text/plain": [
       "Year                 int64\n",
       "Week                 int64\n",
       "Member State        object\n",
       "Product             object\n",
       "Begin Date          object\n",
       "End Date            object\n",
       "Price (�/100kg)    float64\n",
       "dtype: object"
      ]
     },
     "execution_count": 40,
     "metadata": {},
     "output_type": "execute_result"
    }
   ],
   "source": [
    "df.dtypes"
   ]
  },
  {
   "cell_type": "code",
   "execution_count": 41,
   "id": "460107eb-f5d3-47e9-8110-aaec29a4aa66",
   "metadata": {},
   "outputs": [],
   "source": [
    "df.rename(columns = {'Member State':'State'}, inplace = True)"
   ]
  },
  {
   "cell_type": "code",
   "execution_count": 42,
   "id": "0bc9dda9-3ef0-4e9b-a636-b624c2a48e53",
   "metadata": {},
   "outputs": [],
   "source": [
    "# so, who do we export to the most? We can find this out by grouping by state\n",
    "countries = df.groupby('State', as_index=False).sum()"
   ]
  },
  {
   "cell_type": "code",
   "execution_count": 43,
   "id": "13fe498e-e952-4b3c-b642-1870dfc3be54",
   "metadata": {},
   "outputs": [
    {
     "data": {
      "text/plain": [
       "<bound method NDFrame.head of        Year  Week        State Product  Begin Date    End Date  \\\n",
       "0      2000    52      Belgium  BUTTER  25/12/2000  31/12/2000   \n",
       "1      2000    52      Denmark  BUTTER  25/12/2000  31/12/2000   \n",
       "2      2000    52      Germany  BUTTER  25/12/2000  31/12/2000   \n",
       "3      2000    52      Ireland  BUTTER  25/12/2000  31/12/2000   \n",
       "4      2000    52       Greece  BUTTER  25/12/2000  31/12/2000   \n",
       "...     ...   ...          ...     ...         ...         ...   \n",
       "14219  2022     1        Italy  BUTTER  03/01/2022  09/01/2022   \n",
       "14220  2022     1  Netherlands  BUTTER  03/01/2022  09/01/2022   \n",
       "14221  2022     1       Poland  BUTTER  03/01/2022  09/01/2022   \n",
       "14222  2022     1     Portugal  BUTTER  03/01/2022  09/01/2022   \n",
       "14223  2022     1     Slovakia  BUTTER  03/01/2022  09/01/2022   \n",
       "\n",
       "       Price (�/100kg)  \n",
       "0               326.10  \n",
       "1               376.70  \n",
       "2               352.79  \n",
       "3               292.04  \n",
       "4               460.16  \n",
       "...                ...  \n",
       "14219           514.00  \n",
       "14220           608.00  \n",
       "14221           574.43  \n",
       "14222           558.87  \n",
       "14223           514.43  \n",
       "\n",
       "[14224 rows x 7 columns]>"
      ]
     },
     "execution_count": 43,
     "metadata": {},
     "output_type": "execute_result"
    }
   ],
   "source": [
    "df.head"
   ]
  },
  {
   "cell_type": "code",
   "execution_count": 44,
   "id": "dc55d590-42cf-4616-babc-e08dbdfd30d6",
   "metadata": {},
   "outputs": [],
   "source": [
    "# getting the country codes \n",
    "country_names = df.State\n",
    "\n",
    "# open a dictionary list & find the 3 letter country code for all countries in our df\n",
    "countries = {}\n",
    "for country in pycountry.countries:\n",
    "    countries[country.name] = country.alpha_3\n",
    "\n",
    "# create a df with the country codes \n",
    "country_codes = [countries.get(country, 'Unknown code') for country in country_names]"
   ]
  },
  {
   "cell_type": "code",
   "execution_count": 45,
   "id": "be55cc09-b9e7-4cdc-9267-d8cb9b99b6dd",
   "metadata": {},
   "outputs": [],
   "source": [
    "# now, create a new column that contains the country codes\n",
    "df['country_codes'] = country_codes"
   ]
  },
  {
   "cell_type": "code",
   "execution_count": 46,
   "id": "62c81fa0-6ac8-44a7-a07d-160439eed6be",
   "metadata": {},
   "outputs": [],
   "source": [
    "# function to manually enter codes that didn't appear\n",
    "\n",
    "# giving our function the state column and the country code column & creating a new df with the final country codes\n",
    "def fix_codes(x, y):\n",
    "    if x == 'Czech Republic':\n",
    "        return \"CZE\"\n",
    "    elif x == 'Great Britain':\n",
    "        return \"GBR\"\n",
    "    elif x == 'Northern Ireland':\n",
    "        return \"GBR\"\n",
    "    elif x =='Russia':\n",
    "        return \"RUS\"\n",
    "    elif x == 'South Korea':\n",
    "        return \"KOR\"\n",
    "    elif x == 'Taiwan':\n",
    "        return \"TWN\"\n",
    "    elif x =='USA':\n",
    "        return 'USA'\n",
    "    else:\n",
    "        return y\n",
    "\n",
    "func = np.vectorize(fix_codes)\n",
    "updated_codes = func(df[\"State\"], df[\"country_codes\"])"
   ]
  },
  {
   "cell_type": "code",
   "execution_count": 47,
   "id": "889567f2-e0bc-4fd8-b01b-cc987725f445",
   "metadata": {},
   "outputs": [],
   "source": [
    "# setting the country codes in our df to include the updated ones\n",
    "df['country_codes'] = updated_codes"
   ]
  },
  {
   "cell_type": "code",
   "execution_count": 48,
   "id": "973535e5-bbe6-452f-a621-907f1cb6234c",
   "metadata": {},
   "outputs": [
    {
     "data": {
      "text/html": [
       "<div>\n",
       "<style scoped>\n",
       "    .dataframe tbody tr th:only-of-type {\n",
       "        vertical-align: middle;\n",
       "    }\n",
       "\n",
       "    .dataframe tbody tr th {\n",
       "        vertical-align: top;\n",
       "    }\n",
       "\n",
       "    .dataframe thead th {\n",
       "        text-align: right;\n",
       "    }\n",
       "</style>\n",
       "<table border=\"1\" class=\"dataframe\">\n",
       "  <thead>\n",
       "    <tr style=\"text-align: right;\">\n",
       "      <th></th>\n",
       "      <th>Year</th>\n",
       "      <th>Week</th>\n",
       "      <th>State</th>\n",
       "      <th>Product</th>\n",
       "      <th>Begin Date</th>\n",
       "      <th>End Date</th>\n",
       "      <th>Price (�/100kg)</th>\n",
       "      <th>country_codes</th>\n",
       "    </tr>\n",
       "  </thead>\n",
       "  <tbody>\n",
       "    <tr>\n",
       "      <th>14219</th>\n",
       "      <td>2022</td>\n",
       "      <td>1</td>\n",
       "      <td>Italy</td>\n",
       "      <td>BUTTER</td>\n",
       "      <td>03/01/2022</td>\n",
       "      <td>09/01/2022</td>\n",
       "      <td>514.00</td>\n",
       "      <td>ITA</td>\n",
       "    </tr>\n",
       "    <tr>\n",
       "      <th>14220</th>\n",
       "      <td>2022</td>\n",
       "      <td>1</td>\n",
       "      <td>Netherlands</td>\n",
       "      <td>BUTTER</td>\n",
       "      <td>03/01/2022</td>\n",
       "      <td>09/01/2022</td>\n",
       "      <td>608.00</td>\n",
       "      <td>NLD</td>\n",
       "    </tr>\n",
       "    <tr>\n",
       "      <th>14221</th>\n",
       "      <td>2022</td>\n",
       "      <td>1</td>\n",
       "      <td>Poland</td>\n",
       "      <td>BUTTER</td>\n",
       "      <td>03/01/2022</td>\n",
       "      <td>09/01/2022</td>\n",
       "      <td>574.43</td>\n",
       "      <td>POL</td>\n",
       "    </tr>\n",
       "    <tr>\n",
       "      <th>14222</th>\n",
       "      <td>2022</td>\n",
       "      <td>1</td>\n",
       "      <td>Portugal</td>\n",
       "      <td>BUTTER</td>\n",
       "      <td>03/01/2022</td>\n",
       "      <td>09/01/2022</td>\n",
       "      <td>558.87</td>\n",
       "      <td>PRT</td>\n",
       "    </tr>\n",
       "    <tr>\n",
       "      <th>14223</th>\n",
       "      <td>2022</td>\n",
       "      <td>1</td>\n",
       "      <td>Slovakia</td>\n",
       "      <td>BUTTER</td>\n",
       "      <td>03/01/2022</td>\n",
       "      <td>09/01/2022</td>\n",
       "      <td>514.43</td>\n",
       "      <td>SVK</td>\n",
       "    </tr>\n",
       "  </tbody>\n",
       "</table>\n",
       "</div>"
      ],
      "text/plain": [
       "       Year  Week        State Product  Begin Date    End Date  \\\n",
       "14219  2022     1        Italy  BUTTER  03/01/2022  09/01/2022   \n",
       "14220  2022     1  Netherlands  BUTTER  03/01/2022  09/01/2022   \n",
       "14221  2022     1       Poland  BUTTER  03/01/2022  09/01/2022   \n",
       "14222  2022     1     Portugal  BUTTER  03/01/2022  09/01/2022   \n",
       "14223  2022     1     Slovakia  BUTTER  03/01/2022  09/01/2022   \n",
       "\n",
       "       Price (�/100kg) country_codes  \n",
       "14219           514.00           ITA  \n",
       "14220           608.00           NLD  \n",
       "14221           574.43           POL  \n",
       "14222           558.87           PRT  \n",
       "14223           514.43           SVK  "
      ]
     },
     "execution_count": 48,
     "metadata": {},
     "output_type": "execute_result"
    }
   ],
   "source": [
    "df.tail()"
   ]
  },
  {
   "cell_type": "code",
   "execution_count": 50,
   "id": "974ef1fd-cbf5-4362-8399-63da5a2c555f",
   "metadata": {},
   "outputs": [],
   "source": [
    "# finally, export the DF to a csv file\n",
    "df.to_csv(r\"European Butter Prices 10 YearsCodes.csv\", index=False)"
   ]
  },
  {
   "cell_type": "code",
   "execution_count": null,
   "id": "13a5bd47-63f0-4a45-b136-31d2407b6dea",
   "metadata": {},
   "outputs": [],
   "source": []
  }
 ],
 "metadata": {
  "kernelspec": {
   "display_name": "Python 3 (ipykernel)",
   "language": "python",
   "name": "python3"
  },
  "language_info": {
   "codemirror_mode": {
    "name": "ipython",
    "version": 3
   },
   "file_extension": ".py",
   "mimetype": "text/x-python",
   "name": "python",
   "nbconvert_exporter": "python",
   "pygments_lexer": "ipython3",
   "version": "3.9.12"
  },
  "widgets": {
   "application/vnd.jupyter.widget-state+json": {
    "state": {},
    "version_major": 2,
    "version_minor": 0
   }
  }
 },
 "nbformat": 4,
 "nbformat_minor": 5
}
