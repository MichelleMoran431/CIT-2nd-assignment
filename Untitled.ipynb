{
 "cells": [
  {
   "cell_type": "code",
   "execution_count": 19,
   "id": "465432c3-4e1e-4126-a04f-3a4d2d504e8f",
   "metadata": {},
   "outputs": [],
   "source": [
    "# Importing the libraries\n",
    "\n",
    "# Numerical arrays.\n",
    "import numpy as np\n",
    "\n",
    "# Data frames.\n",
    "import pandas as pd\n",
    "\n",
    "# Plotting.\n",
    "import matplotlib.pyplot as plt\n",
    "\n",
    "# Logistic regression.\n",
    "import sklearn.linear_model as lm\n",
    "\n",
    "# K nearest neighbours.\n",
    "import sklearn.neighbors as nei\n",
    "\n",
    "# Helper functions.\n",
    "import sklearn.model_selection as mod\n",
    "\n",
    "# Fancier, statistical plots.\n",
    "import seaborn as sns\n",
    "import matplotlib.pyplot as plt\n",
    "%matplotlib inline  \n",
    "sns.set(color_codes=True) \n",
    "\n",
    "\n",
    "from sklearn.preprocessing import StandardScaler, normalize\n",
    "from sklearn.cluster import KMeans\n",
    "\n",
    "from sklearn.preprocessing import MinMaxScaler\n",
    "from sklearn.neighbors import KNeighborsClassifier\n",
    "from sklearn.neighbors import KNeighborsRegressor\n",
    "from sklearn.metrics import accuracy_score\n",
    "from sklearn.metrics import mean_squared_error\n",
    "from math import sqrt\n",
    "\n",
    "import sklearn.datasets as datasets\n",
    "import sklearn.preprocessing as preprocessing\n",
    "import sklearn.model_selection as model_selection\n",
    "import sklearn.metrics as metrics\n",
    "import sklearn.linear_model as linear_model\n",
    "from sklearn.metrics import mean_squared_error\n",
    "from sklearn.metrics import max_error\n",
    "\n",
    "\n",
    "from sklearn.model_selection import train_test_split\n",
    "from sklearn.base import BaseEstimator, TransformerMixin\n",
    "\n",
    "from sklearn.preprocessing import StandardScaler\n",
    "from sklearn.preprocessing import MinMaxScaler\n",
    "\n",
    "# Packages needed for regression\n",
    "from sklearn.model_selection import cross_val_score\n",
    "from sklearn.model_selection import GridSearchCV\n",
    "\n",
    "from sklearn.metrics import r2_score\n",
    "\n",
    "from sklearn.model_selection import KFold\n",
    "\n",
    "from sklearn.linear_model import LinearRegression\n",
    "from sklearn.neighbors import KNeighborsRegressor\n",
    "from sklearn.neural_network import MLPRegressor\n",
    "from sklearn.linear_model import LogisticRegression\n",
    "from sklearn.ensemble import RandomForestClassifier\n",
    "from sklearn.svm import OneClassSVM\n",
    "from sklearn.naive_bayes import GaussianNB\n",
    "from sklearn.tree import DecisionTreeClassifier\n",
    "\n",
    "# import statistic library\n",
    "from scipy import stats\n",
    "import statsmodels.api as sm\n",
    "from datetime import datetime\n",
    "import warnings\n",
    "warnings.filterwarnings('ignore')\n",
    "# libraries for the confusion matrix\n",
    "from sklearn.metrics import confusion_matrix, ConfusionMatrixDisplay\n",
    "from sklearn.metrics import accuracy_score, confusion_matrix, recall_score"
   ]
  },
  {
   "cell_type": "code",
   "execution_count": 20,
   "id": "b5319d45-caff-4cb2-a3ae-529b443ab796",
   "metadata": {},
   "outputs": [
    {
     "name": "stdout",
     "output_type": "stream",
     "text": [
      "<class 'pandas.core.frame.DataFrame'>\n",
      "RangeIndex: 93 entries, 0 to 92\n",
      "Data columns (total 5 columns):\n",
      " #   Column           Non-Null Count  Dtype \n",
      "---  ------           --------------  ----- \n",
      " 0   Unnamed: 0       93 non-null     int64 \n",
      " 1   Begin Date       93 non-null     object\n",
      " 2   Month            93 non-null     int64 \n",
      " 3   Year             93 non-null     int64 \n",
      " 4   Price (�/100kg)  93 non-null     int64 \n",
      "dtypes: int64(4), object(1)\n",
      "memory usage: 3.8+ KB\n"
     ]
    }
   ],
   "source": [
    "Irish_prices_df = pd.read_csv(\"Datasets/Irish_df.csv\")\n",
    "\n",
    "Irish_prices_df.info()"
   ]
  },
  {
   "cell_type": "code",
   "execution_count": 3,
   "id": "55644f44-8136-4663-8018-0b9877a5d85b",
   "metadata": {},
   "outputs": [],
   "source": [
    "#creating 2 objects that now contain data :x and y . \n",
    "\n",
    "#X =Irish_prices_df.drop(columns =['Unnamed: 0',\"Begin Date\",'Price'].iloc[:, :-1].values)\n",
    "#y = Irish_prices_df['Price'].iloc[:, -1].values\n",
    "\n",
    "#from sklearn.model_selection import train_test_split\n",
    "#X_train, X_test, y_train, y_test = train_test_split(X,y, test_size=0.2, random_state=0)"
   ]
  },
  {
   "cell_type": "code",
   "execution_count": 4,
   "id": "2e7e2aaa-e14b-43eb-99d5-ce66c2f2372c",
   "metadata": {},
   "outputs": [],
   "source": [
    "#X =Irish_prices_df.drop(columns =['Unnamed: 0',\"Begin Date\",'Price'].iloc[:, :-1].values)\n",
    "Irish_prices_dfa=Irish_prices_df.drop(columns =['Unnamed: 0','Begin Date','Year'])"
   ]
  },
  {
   "cell_type": "code",
   "execution_count": 33,
   "id": "71a15023-96a3-443e-804c-049a46426df6",
   "metadata": {},
   "outputs": [],
   "source": [
    "Irish_prices_dfb=Irish_prices_dfa.drop(columns =['Month'])"
   ]
  },
  {
   "cell_type": "code",
   "execution_count": 5,
   "id": "4ecce5a8-bf34-4d4f-b048-363637f2c42d",
   "metadata": {},
   "outputs": [
    {
     "data": {
      "text/html": [
       "<div>\n",
       "<style scoped>\n",
       "    .dataframe tbody tr th:only-of-type {\n",
       "        vertical-align: middle;\n",
       "    }\n",
       "\n",
       "    .dataframe tbody tr th {\n",
       "        vertical-align: top;\n",
       "    }\n",
       "\n",
       "    .dataframe thead th {\n",
       "        text-align: right;\n",
       "    }\n",
       "</style>\n",
       "<table border=\"1\" class=\"dataframe\">\n",
       "  <thead>\n",
       "    <tr style=\"text-align: right;\">\n",
       "      <th></th>\n",
       "      <th>Month</th>\n",
       "      <th>Price (�/100kg)</th>\n",
       "    </tr>\n",
       "  </thead>\n",
       "  <tbody>\n",
       "    <tr>\n",
       "      <th>0</th>\n",
       "      <td>12</td>\n",
       "      <td>283</td>\n",
       "    </tr>\n",
       "    <tr>\n",
       "      <th>1</th>\n",
       "      <td>1</td>\n",
       "      <td>1132</td>\n",
       "    </tr>\n",
       "    <tr>\n",
       "      <th>2</th>\n",
       "      <td>2</td>\n",
       "      <td>1132</td>\n",
       "    </tr>\n",
       "    <tr>\n",
       "      <th>3</th>\n",
       "      <td>3</td>\n",
       "      <td>1525</td>\n",
       "    </tr>\n",
       "    <tr>\n",
       "      <th>4</th>\n",
       "      <td>4</td>\n",
       "      <td>1242</td>\n",
       "    </tr>\n",
       "    <tr>\n",
       "      <th>...</th>\n",
       "      <td>...</td>\n",
       "      <td>...</td>\n",
       "    </tr>\n",
       "    <tr>\n",
       "      <th>88</th>\n",
       "      <td>4</td>\n",
       "      <td>2498</td>\n",
       "    </tr>\n",
       "    <tr>\n",
       "      <th>89</th>\n",
       "      <td>6</td>\n",
       "      <td>2884</td>\n",
       "    </tr>\n",
       "    <tr>\n",
       "      <th>90</th>\n",
       "      <td>7</td>\n",
       "      <td>2932</td>\n",
       "    </tr>\n",
       "    <tr>\n",
       "      <th>91</th>\n",
       "      <td>9</td>\n",
       "      <td>2954</td>\n",
       "    </tr>\n",
       "    <tr>\n",
       "      <th>92</th>\n",
       "      <td>11</td>\n",
       "      <td>2678</td>\n",
       "    </tr>\n",
       "  </tbody>\n",
       "</table>\n",
       "<p>93 rows × 2 columns</p>\n",
       "</div>"
      ],
      "text/plain": [
       "    Month  Price (�/100kg)\n",
       "0      12              283\n",
       "1       1             1132\n",
       "2       2             1132\n",
       "3       3             1525\n",
       "4       4             1242\n",
       "..    ...              ...\n",
       "88      4             2498\n",
       "89      6             2884\n",
       "90      7             2932\n",
       "91      9             2954\n",
       "92     11             2678\n",
       "\n",
       "[93 rows x 2 columns]"
      ]
     },
     "execution_count": 5,
     "metadata": {},
     "output_type": "execute_result"
    }
   ],
   "source": [
    "Irish_prices_dfa"
   ]
  },
  {
   "cell_type": "code",
   "execution_count": 34,
   "id": "c20bf70b-4e31-4bee-9e1f-91a55d4eec34",
   "metadata": {},
   "outputs": [
    {
     "data": {
      "text/html": [
       "<div>\n",
       "<style scoped>\n",
       "    .dataframe tbody tr th:only-of-type {\n",
       "        vertical-align: middle;\n",
       "    }\n",
       "\n",
       "    .dataframe tbody tr th {\n",
       "        vertical-align: top;\n",
       "    }\n",
       "\n",
       "    .dataframe thead th {\n",
       "        text-align: right;\n",
       "    }\n",
       "</style>\n",
       "<table border=\"1\" class=\"dataframe\">\n",
       "  <thead>\n",
       "    <tr style=\"text-align: right;\">\n",
       "      <th></th>\n",
       "      <th>Price (�/100kg)</th>\n",
       "    </tr>\n",
       "  </thead>\n",
       "  <tbody>\n",
       "    <tr>\n",
       "      <th>0</th>\n",
       "      <td>283</td>\n",
       "    </tr>\n",
       "    <tr>\n",
       "      <th>1</th>\n",
       "      <td>1132</td>\n",
       "    </tr>\n",
       "    <tr>\n",
       "      <th>2</th>\n",
       "      <td>1132</td>\n",
       "    </tr>\n",
       "    <tr>\n",
       "      <th>3</th>\n",
       "      <td>1525</td>\n",
       "    </tr>\n",
       "    <tr>\n",
       "      <th>4</th>\n",
       "      <td>1242</td>\n",
       "    </tr>\n",
       "    <tr>\n",
       "      <th>...</th>\n",
       "      <td>...</td>\n",
       "    </tr>\n",
       "    <tr>\n",
       "      <th>88</th>\n",
       "      <td>2498</td>\n",
       "    </tr>\n",
       "    <tr>\n",
       "      <th>89</th>\n",
       "      <td>2884</td>\n",
       "    </tr>\n",
       "    <tr>\n",
       "      <th>90</th>\n",
       "      <td>2932</td>\n",
       "    </tr>\n",
       "    <tr>\n",
       "      <th>91</th>\n",
       "      <td>2954</td>\n",
       "    </tr>\n",
       "    <tr>\n",
       "      <th>92</th>\n",
       "      <td>2678</td>\n",
       "    </tr>\n",
       "  </tbody>\n",
       "</table>\n",
       "<p>93 rows × 1 columns</p>\n",
       "</div>"
      ],
      "text/plain": [
       "    Price (�/100kg)\n",
       "0               283\n",
       "1              1132\n",
       "2              1132\n",
       "3              1525\n",
       "4              1242\n",
       "..              ...\n",
       "88             2498\n",
       "89             2884\n",
       "90             2932\n",
       "91             2954\n",
       "92             2678\n",
       "\n",
       "[93 rows x 1 columns]"
      ]
     },
     "execution_count": 34,
     "metadata": {},
     "output_type": "execute_result"
    }
   ],
   "source": [
    "Irish_prices_dfb"
   ]
  },
  {
   "cell_type": "code",
   "execution_count": 35,
   "id": "01c1d3ce-bf85-4390-8cd2-7d7e1136df41",
   "metadata": {},
   "outputs": [],
   "source": [
    "                                     \n",
    "#X = Irish_prices_dfa.iloc[:, :-1].values                                     \n",
    "#y = Irish_prices_dfa.iloc[:, -1].values\n",
    "\n",
    "\n",
    "\n",
    "# assign values for x and y from the start to the end of the df\n",
    "X = Irish_prices_dfa.iloc[:, :-1].values\n",
    "y = Irish_prices_dfb.iloc[:, -1].values\n",
    "\n",
    "# spliting the dataframe into Test and Train data for Algorithm 1\n",
    "X_Train, X_Test, y_Train, y_Test = train_test_split(X, y, test_size = 0.2, random_state = 0)\n",
    "\n",
    "# spliting the dataframe into Test and Train data for Algorigthm 2\n",
    "X_Train2, X_Test2, y_Train2, y_Test2 = train_test_split(X, y, test_size = 0.2, random_state = 0)\n",
    "\n",
    "# spliting the dataframe into Test and Train data for Algortihm 3\n",
    "X_Train3, X_Test3, y_Train3, y_Test3 = train_test_split(X, y, test_size = 0.2, random_state = 0)\n",
    "\n",
    "# spliting the dataframe into Test and Train data for Algortihm 4\n",
    "X_Train4, X_Test4, y_Train4, y_Test4 = train_test_split(X, y, test_size = 0.2, random_state = 0)"
   ]
  },
  {
   "cell_type": "code",
   "execution_count": 73,
   "id": "0ef73ca8-0d1b-426b-808a-c8f811ed23c5",
   "metadata": {},
   "outputs": [],
   "source": [
    "#fit a model\n",
    "lm = linear_model.LinearRegression()\n",
    "model = lm.fit(X_Train, y_Train)\n",
    "predictions = lm.predict(X_Test)"
   ]
  },
  {
   "cell_type": "code",
   "execution_count": 74,
   "id": "e7af4ab5-dfc7-49d9-8a52-896c7fcf6dae",
   "metadata": {},
   "outputs": [
    {
     "data": {
      "text/plain": [
       "array([1744.22392685, 1754.30666611, 1756.82735093, 1749.26529648,\n",
       "       1741.70324203])"
      ]
     },
     "execution_count": 74,
     "metadata": {},
     "output_type": "execute_result"
    }
   ],
   "source": [
    "predictions[0:5]"
   ]
  },
  {
   "cell_type": "code",
   "execution_count": 76,
   "id": "59fb9841-eeae-4657-8aa5-79d06f225bce",
   "metadata": {},
   "outputs": [
    {
     "data": {
      "text/plain": [
       "Text(0, 0.5, 'Predictions')"
      ]
     },
     "execution_count": 76,
     "metadata": {},
     "output_type": "execute_result"
    },
    {
     "data": {
      "image/png": "[encoded data removed]",
      "text/plain": [
       "<Figure size 432x288 with 1 Axes>"
      ]
     },
     "metadata": {},
     "output_type": "display_data"
    }
   ],
   "source": [
    "## The line / model\n",
    "plt.scatter( y_Test, predictions)\n",
    "plt.xlabel('True Values')\n",
    "plt.ylabel('Predictions')"
   ]
  },
  {
   "cell_type": "code",
   "execution_count": 79,
   "id": "864f0cc2-ed0e-4d5a-b7ea-d39a8d619a3a",
   "metadata": {},
   "outputs": [
    {
     "data": {
      "text/plain": [
       "-0.05753865215728626"
      ]
     },
     "execution_count": 79,
     "metadata": {},
     "output_type": "execute_result"
    }
   ],
   "source": [
    "model.score(X_Test,y_Test)"
   ]
  },
  {
   "cell_type": "code",
   "execution_count": 82,
   "id": "27b2af63-7a35-456d-9b13-c62f4860e01d",
   "metadata": {},
   "outputs": [
    {
     "data": {
      "text/plain": [
       "((74, 1), (19, 1), (74,), (19,))"
      ]
     },
     "execution_count": 82,
     "metadata": {},
     "output_type": "execute_result"
    }
   ],
   "source": [
    " #Print the shape of training and testing data along with its labels.\n",
    "\n",
    "X_Train.shape, X_Test.shape, y_Train.shape, y_Test.shape"
   ]
  },
  {
   "cell_type": "code",
   "execution_count": 83,
   "id": "243ce714-d8e8-46ad-b51a-2a40624fba3f",
   "metadata": {},
   "outputs": [],
   "source": [
    "import sklearn as sk\n",
    "import sklearn.linear_model as lm\n",
    "import sklearn.neighbors as nei\n",
    "import sklearn.model_selection as mod\n",
    "\n",
    "# models  and classifiers for Supervised Learning\n",
    "from sklearn.model_selection import train_test_split\n",
    "from sklearn.linear_model import LogisticRegression\n",
    "from sklearn.naive_bayes import GaussianNB\n",
    "from sklearn.tree import DecisionTreeClassifier\n",
    "from sklearn.linear_model import LinearRegression\n",
    "# libraries for the confusion matrix\n",
    "from sklearn.metrics import confusion_matrix, ConfusionMatrixDisplay\n",
    "\n",
    "# create tables\n",
    "from tabulate import tabulate"
   ]
  },
  {
   "cell_type": "code",
   "execution_count": 84,
   "id": "29c4e6a9-04e1-4086-8f60-81ec599835c6",
   "metadata": {},
   "outputs": [
    {
     "data": {
      "text/plain": [
       "LinearRegression()"
      ]
     },
     "execution_count": 84,
     "metadata": {},
     "output_type": "execute_result"
    }
   ],
   "source": [
    "# creating a variable lm as the instance of LinearRegression and then fitting a linear model to it \n",
    "# using the data from the earlier data processing into train and test sets\n",
    "\n",
    "lm = linear_model.LinearRegression()\n",
    "lm.fit(X_Train, y_Train)"
   ]
  },
  {
   "cell_type": "code",
   "execution_count": 85,
   "id": "a0f00240-bd5b-4337-ab9a-d98a8562aa3f",
   "metadata": {},
   "outputs": [
    {
     "name": "stdout",
     "output_type": "stream",
     "text": [
      "Coefficients:\n",
      " Price \n",
      " [2.52068482]\n",
      "Intercept: 1739.1825572184935\n"
     ]
    }
   ],
   "source": [
    "print('Coefficients:\\n Price \\n',lm.coef_)\n",
    "print('Intercept:',lm.intercept_)"
   ]
  },
  {
   "cell_type": "code",
   "execution_count": 86,
   "id": "85501c18-bb6c-401b-b9a5-e808ef787501",
   "metadata": {},
   "outputs": [],
   "source": [
    "y_train_pred = lm.predict(X_Train)\n",
    "y_test_pred = lm.predict(X_Test)"
   ]
  },
  {
   "cell_type": "code",
   "execution_count": 88,
   "id": "1c20486a-9c02-4549-8a17-ec8c0a740570",
   "metadata": {},
   "outputs": [
    {
     "name": "stdout",
     "output_type": "stream",
     "text": [
      "Real Data\n",
      "[1132 1752 1846 1112 1112 1692 1380 2128 2464 1954]\n",
      "\n",
      " Predicted Data\n",
      "[1744.22392685 1754.30666611 1756.82735093 1749.26529648 1741.70324203\n",
      " 1746.74461166 1741.70324203 1761.86872056 1761.86872056 1751.7859813 ]\n",
      "\n",
      " Diff\n",
      "[-612.22392685   -2.30666611   89.17264907 -637.26529648 -629.70324203\n",
      "  -54.74461166 -361.70324203  366.13127944  702.13127944  202.2140187 ]\n"
     ]
    }
   ],
   "source": [
    "# check the prediction data & real data for the 10 data entries\n",
    "print('Real Data')\n",
    "print(y_Test[:10])\n",
    "print('\\n Predicted Data')\n",
    "print(y_test_pred[:10])\n",
    "print('\\n Diff')\n",
    "print(y_Test[:10]-y_test_pred[:10])\n"
   ]
  },
  {
   "cell_type": "code",
   "execution_count": 90,
   "id": "f0a29061-4ced-4c62-9380-c96571afbd3d",
   "metadata": {},
   "outputs": [
    {
     "data": {
      "image/png": "[encoded data removed]",
      "text/plain": [
       "<Figure size 432x288 with 1 Axes>"
      ]
     },
     "metadata": {},
     "output_type": "display_data"
    }
   ],
   "source": [
    "#Visualisation of linearity\n",
    "plt.scatter(y_Test,y_test_pred)\n",
    "plt.xlabel('Real data')\n",
    "plt.ylabel('predicted data')\n",
    "plt.title('Relationship between predictor and real data')\n",
    "plt.show()"
   ]
  },
  {
   "cell_type": "code",
   "execution_count": 91,
   "id": "e36d506e-8fd6-4e13-81c0-60a9b40fe25c",
   "metadata": {},
   "outputs": [
    {
     "data": {
      "text/plain": [
       "Text(0.5, 1.0, 'Residuals')"
      ]
     },
     "execution_count": 91,
     "metadata": {},
     "output_type": "execute_result"
    },
    {
     "data": {
      "image/png": "[encoded data removed]",
      "text/plain": [
       "<Figure size 432x288 with 1 Axes>"
      ]
     },
     "metadata": {},
     "output_type": "display_data"
    }
   ],
   "source": [
    "# check distribution from residual using visualisation via a distplot\n",
    "sns.distplot(y_Test - y_test_pred)\n",
    "plt.title('Residuals', size=18)"
   ]
  },
  {
   "cell_type": "code",
   "execution_count": 92,
   "id": "1599dac3-373b-40c1-895c-3487c4c8d967",
   "metadata": {},
   "outputs": [
    {
     "name": "stdout",
     "output_type": "stream",
     "text": [
      "Shapiro-Wilk test ---- statistic: 0.8984980583190918, p-value: 0.04570446163415909\n"
     ]
    }
   ],
   "source": [
    "# Check distribution from residual\n",
    "residual = (y_Test - y_test_pred)\n",
    "sw = stats.shapiro(residual)\n",
    "ks = stats.kstest(residual, 'norm')\n",
    "\n",
    "print('Shapiro-Wilk test ---- statistic: {}, p-value: {}'.format(sw[0],sw[1]))"
   ]
  },
  {
   "cell_type": "code",
   "execution_count": 94,
   "id": "5f94e1c8-0423-4384-9b33-317e9c5f8dde",
   "metadata": {},
   "outputs": [
    {
     "name": "stdout",
     "output_type": "stream",
     "text": [
      "R^2 score: 0.0002536322468069674\n"
     ]
    }
   ],
   "source": [
    "# Evaluate regression model - R squared\n",
    "\n",
    "# This value shows how good the regression function is at fitting the data : the closet the value is to 1 , the better\n",
    "print('R^2 score:',lm.score(X_Train, y_Train))"
   ]
  },
  {
   "cell_type": "code",
   "execution_count": 95,
   "id": "a14d2ab7-7af3-464f-84df-3bace73665a7",
   "metadata": {},
   "outputs": [
    {
     "name": "stdout",
     "output_type": "stream",
     "text": [
      "RMSE Training Data: 573.6910880205372\n",
      "RMSE Test Data: 471.48582601470605\n"
     ]
    }
   ],
   "source": [
    "# Evaluate regression model - RMSE\n",
    "\n",
    "### RMSE is the standard deviation of residual or prediction errors - measure of how far from the regression line the data points are. \n",
    "\n",
    "## The lower the RMSE the better the model is at making predictions. \n",
    "Linear_rmse_training = mean_squared_error(y_true=y_Train,y_pred=y_train_pred,squared=False)\n",
    "Linear_rmse_test = mean_squared_error(y_true=y_Test,y_pred=y_test_pred,squared=False)\n",
    "\n",
    "print('RMSE Training Data: {}'.format(Linear_rmse_training))\n",
    "print('RMSE Test Data: {}'.format(Linear_rmse_test))"
   ]
  },
  {
   "cell_type": "code",
   "execution_count": 96,
   "id": "7f13fa4e-6048-4304-a5cc-5e64301157e6",
   "metadata": {},
   "outputs": [
    {
     "data": {
      "text/plain": [
       "{'Ridge': {'training': 573.6910880973334,\n",
       "  'test': 471.4887531120383,\n",
       "  'R^2 score': 0.00025363197914862745},\n",
       " 'Lasso': {'training': 573.6911543426153,\n",
       "  'test': 471.5718862982848,\n",
       "  'R^2 score': 0.00025340109362426144},\n",
       " 'BayessianRidge': {'training': 573.7638465068003,\n",
       "  'test': 474.3810748987653,\n",
       "  'R^2 score': 3.010266258485217e-08}}"
      ]
     },
     "execution_count": 96,
     "metadata": {},
     "output_type": "execute_result"
    }
   ],
   "source": [
    "# Compare performance between model\n",
    "# Compare performance between model\n",
    "\n",
    "list_model = [['Ridge',linear_model.Ridge()],['Lasso',linear_model.Lasso()],['BayessianRidge',linear_model.BayesianRidge()]]\n",
    "performance_result = {}\n",
    "\n",
    "for model_name,regression_model in list_model:\n",
    "  regression_model.fit(X_Train, y_Train)\n",
    "  y_train_pred = regression_model.predict(X_Train)\n",
    "  y_test_pred = regression_model.predict(X_Test)\n",
    "\n",
    "  rmse_training = mean_squared_error(y_true=y_Train,y_pred=y_train_pred,squared=False)\n",
    "  rmse_test = mean_squared_error(y_true=y_Test,y_pred=y_test_pred,squared=False)\n",
    "\n",
    "  r_score = regression_model.score(X_Train, y_Train)\n",
    "\n",
    "  performance_result[model_name]={'training':rmse_training,'test':rmse_test,'R^2 score':r_score}\n",
    "\n",
    "performance_result"
   ]
  },
  {
   "cell_type": "code",
   "execution_count": 97,
   "id": "7e0fc7dc-0f5f-49be-9188-49d3c0fd8895",
   "metadata": {},
   "outputs": [
    {
     "data": {
      "text/plain": [
       "0.0002536322468069674"
      ]
     },
     "execution_count": 97,
     "metadata": {},
     "output_type": "execute_result"
    }
   ],
   "source": [
    "from sklearn.linear_model import LinearRegression\n",
    "model = LinearRegression().fit(X_Train, y_Train)\n",
    "model.score(X_Train, y_Train)\n"
   ]
  },
  {
   "cell_type": "code",
   "execution_count": 100,
   "id": "13167b3a-1983-429d-941f-8d7fb3ee7ff4",
   "metadata": {},
   "outputs": [
    {
     "data": {
      "text/plain": [
       "-0.05753865215728626"
      ]
     },
     "execution_count": 100,
     "metadata": {},
     "output_type": "execute_result"
    }
   ],
   "source": [
    "model.score(X_Test, y_Test)"
   ]
  },
  {
   "cell_type": "code",
   "execution_count": null,
   "id": "d5c047db-b740-4cf6-ae23-fd4efb4574d8",
   "metadata": {},
   "outputs": [],
   "source": []
  },
  {
   "cell_type": "code",
   "execution_count": null,
   "id": "81aedea7-b0f0-4af7-99ff-3018ea5b723c",
   "metadata": {},
   "outputs": [],
   "source": []
  },
  {
   "cell_type": "code",
   "execution_count": null,
   "id": "7c482e1a-59a4-44ee-a78e-23b10cb8f169",
   "metadata": {},
   "outputs": [],
   "source": []
  },
  {
   "cell_type": "code",
   "execution_count": null,
   "id": "c51560ce-e781-4357-8b50-e00c1caded1f",
   "metadata": {},
   "outputs": [],
   "source": []
  },
  {
   "cell_type": "code",
   "execution_count": 36,
   "id": "fa6dc9a7-b56a-49f5-9887-503806547620",
   "metadata": {},
   "outputs": [],
   "source": [
    "# Step 1 - select a model to run the paramater tuning and GridsearchCV on\n",
    "\n",
    "rfc_clf = RandomForestClassifier()"
   ]
  },
  {
   "cell_type": "code",
   "execution_count": 37,
   "id": "c6ebc2d2-5373-4802-b19f-4d6b0fb226e0",
   "metadata": {},
   "outputs": [],
   "source": [
    "# Step 3 - define the Hyperparameters for use with Gridsearch CV\n",
    "\n",
    "# specify range of hyperparameters to tune as part of the exercise\n",
    "\n",
    "param_grid = [{\n",
    "    'max_depth': list(range(10, 15)),\n",
    "    #'max_features': list(range(0,14))\n",
    "    'max_features': list(range(0,10))\n",
    "    }]"
   ]
  },
  {
   "cell_type": "code",
   "execution_count": 70,
   "id": "a92e2400-8806-426e-9514-609aaba65190",
   "metadata": {},
   "outputs": [
    {
     "data": {
      "text/plain": [
       "array([1132, 1752, 1846, 1112, 1112, 1692, 1380, 2128, 2464, 1954, 1554,\n",
       "       1152, 1400, 1322, 2846, 1360, 1390, 1834, 1613], dtype=int64)"
      ]
     },
     "execution_count": 70,
     "metadata": {},
     "output_type": "execute_result"
    }
   ],
   "source": [
    "y_Test"
   ]
  },
  {
   "cell_type": "code",
   "execution_count": 39,
   "id": "c91976f0-bb25-4a95-8ecb-823eaaae06a4",
   "metadata": {},
   "outputs": [
    {
     "name": "stdout",
     "output_type": "stream",
     "text": [
      "[{'max_depth': [10, 11, 12, 13, 14], 'max_features': [0, 1, 2, 3, 4, 5, 6, 7, 8, 9]}]\n"
     ]
    }
   ],
   "source": [
    "#Step 4 - Complete the GridsearchCV\n",
    "\n",
    "# Create a grid search object\n",
    "grid_search = GridSearchCV(rfc_clf, param_grid, cv=2)\n",
    "\n",
    "# Fit the grid search to the data including the classifer for Random Forest Classifer\n",
    "grid_search.fit(X_Train, y_Train)\n",
    "\n",
    "# Print the best hyperparameters\n",
    "print(grid_search.param_grid)"
   ]
  },
  {
   "cell_type": "code",
   "execution_count": 40,
   "id": "83b3535b-151a-4e79-8582-d3d5c642f463",
   "metadata": {},
   "outputs": [
    {
     "name": "stdout",
     "output_type": "stream",
     "text": [
      "[2442 1460 1214 1406 1132 1525 1132 1655 1655 1195 1460 1214 2140 1460\n",
      " 1214 1390 2140 1112 2140]\n"
     ]
    }
   ],
   "source": [
    "# Predicting the result based on the test data\n",
    "\n",
    "y_pred = grid_search.predict(X_Test)\n",
    "\n",
    "print(y_pred)"
   ]
  },
  {
   "cell_type": "code",
   "execution_count": 42,
   "id": "af2b2a0d-2bf9-4667-bed5-e2ed8dfafe53",
   "metadata": {},
   "outputs": [
    {
     "name": "stdout",
     "output_type": "stream",
     "text": [
      "[1390 2442 1460 2016 1460 1195 1390 1132 2016 1406 1112 1132 1525 2140\n",
      " 2016 1525 1460 1195 1460 2442 2442 1655 1406 1525 1195 1406 2442 1195\n",
      " 2016 1525 2016 1112 1406 2442 1390 1390 1390 1406 1112 1214 1525 1655\n",
      " 2442 1132 2140 1214 2442 1406 1214 1195 1132 1214 1655 1655 2140 1525\n",
      " 2016 1132 1132 1112 1525 1195 1112 2016 1112 2016 1655 1390 1655 1460\n",
      " 1214 1406 1390 2140]\n"
     ]
    }
   ],
   "source": [
    "y_pred_train = grid_search.predict(X_Train)\n",
    "\n",
    "print(y_pred_train)"
   ]
  },
  {
   "cell_type": "code",
   "execution_count": 43,
   "id": "894ea19a-efc3-4460-be82-fff5a67c373f",
   "metadata": {},
   "outputs": [],
   "source": [
    "cm_Train = confusion_matrix(y_pred_train, y_Train)\n",
    "\n",
    "cm_Test = confusion_matrix(y_pred, y_Test)"
   ]
  },
  {
   "cell_type": "code",
   "execution_count": 44,
   "id": "6d1447b7-a7df-4432-b572-8766cfe571d0",
   "metadata": {},
   "outputs": [
    {
     "name": "stdout",
     "output_type": "stream",
     "text": [
      "Accuracy for test set for Random Forest Classifier = 0.00%\n"
     ]
    }
   ],
   "source": [
    "# print the Accuracy value of for test data \n",
    "\n",
    "\n",
    "rfclass_test = ((cm_Test[0][0] + cm_Test[1][1])/len(y_Test))\n",
    "\n",
    "print('Accuracy for test set for Random Forest Classifier = {:.2%}'.format(rfclass_test))"
   ]
  },
  {
   "cell_type": "code",
   "execution_count": 46,
   "id": "73f6548c-11a4-46ff-9e82-8ff51ea31873",
   "metadata": {},
   "outputs": [
    {
     "name": "stdout",
     "output_type": "stream",
     "text": [
      "Accuracy for training set for Logistic Regression = 0.00%\n"
     ]
    }
   ],
   "source": [
    "# print the Accuracy value of for training data \n",
    "\n",
    "rfclass_train = (cm_Train[0][0] + cm_Train[1][1])/len(y_Train)\n",
    "\n",
    "print('Accuracy for training set for Logistic Regression = {:.2%}'.format(rfclass_train))"
   ]
  },
  {
   "cell_type": "code",
   "execution_count": 47,
   "id": "de5e240c-bb68-477f-bdf2-389738f479e8",
   "metadata": {},
   "outputs": [],
   "source": [
    "# creating a new classifer using logisticegression\n",
    "\n",
    "logreg_clf = LogisticRegression()"
   ]
  },
  {
   "cell_type": "code",
   "execution_count": 48,
   "id": "ef2ade09-eb47-482a-860a-a3e85cdbed7a",
   "metadata": {},
   "outputs": [
    {
     "data": {
      "text/plain": [
       "LogisticRegression()"
      ]
     },
     "execution_count": 48,
     "metadata": {},
     "output_type": "execute_result"
    }
   ],
   "source": [
    "# training the classifier\n",
    "# X_Train and y_Train values are created in the above cells\n",
    "\n",
    "logreg_clf.fit(X_Train2, y_Train2)"
   ]
  },
  {
   "cell_type": "code",
   "execution_count": 49,
   "id": "0e4c8618-c346-4e50-9b3a-2d022ca34949",
   "metadata": {},
   "outputs": [],
   "source": [
    "# Predicting the result based on the test data\n",
    "\n",
    "y_pred = logreg_clf.predict(X_Test)"
   ]
  },
  {
   "cell_type": "code",
   "execution_count": null,
   "id": "2f87975f-8ec2-42c1-8e79-fee66cf217cd",
   "metadata": {},
   "outputs": [],
   "source": [
    "# print the Accuracy value of for test data \n",
    "\n",
    "logR_train = (cm_Train[0][0] + cm_Train[1][1])/len(y_Train)\n",
    "\n",
    "print('Accuracy for training set for Logistic Regression = {:.2%}'.format(logR_train))"
   ]
  },
  {
   "cell_type": "code",
   "execution_count": 50,
   "id": "7b979f7d-1c02-446d-ae79-c9a9289cffc2",
   "metadata": {},
   "outputs": [
    {
     "name": "stdout",
     "output_type": "stream",
     "text": [
      "Accuracy for test set for Logistic Regression = 0.00%\n"
     ]
    }
   ],
   "source": [
    "# print the Accuracy value of for test data \n",
    "\n",
    "logR_test = ((cm_Test[0][0] + cm_Test[1][1])/len(y_Test))\n",
    "\n",
    "print('Accuracy for test set for Logistic Regression = {:.2%}'.format(logR_test))"
   ]
  },
  {
   "cell_type": "code",
   "execution_count": null,
   "id": "56f8179a-9dea-473d-8fb8-89e71beb0c08",
   "metadata": {},
   "outputs": [],
   "source": []
  },
  {
   "cell_type": "code",
   "execution_count": 51,
   "id": "f3252c28-3842-41d3-a831-10039e2d59ae",
   "metadata": {},
   "outputs": [],
   "source": [
    "# create outlier information\n",
    "X_outliers = np.random.uniform(low=-4, high=4, size=(20, 2))"
   ]
  },
  {
   "cell_type": "code",
   "execution_count": 52,
   "id": "04d8ae96-3e2d-481d-8a69-40dc93803c5d",
   "metadata": {},
   "outputs": [],
   "source": [
    "# create the classifier\n",
    "one_svm_clf= OneClassSVM(nu=0.1, kernel=\"rbf\", gamma=0.1)"
   ]
  },
  {
   "cell_type": "code",
   "execution_count": 53,
   "id": "750bdcba-50cb-4052-80c9-44b9d70dff59",
   "metadata": {},
   "outputs": [
    {
     "data": {
      "text/plain": [
       "OneClassSVM(gamma=0.1, nu=0.1)"
      ]
     },
     "execution_count": 53,
     "metadata": {},
     "output_type": "execute_result"
    }
   ],
   "source": [
    "# X_Train and y_Train values are created in the above cells\n",
    "\n",
    "one_svm_clf.fit(X_Train3, y_Train3)"
   ]
  },
  {
   "cell_type": "code",
   "execution_count": 54,
   "id": "30c1cb2d-ffbb-4f53-9b7e-9c00e911de9e",
   "metadata": {},
   "outputs": [],
   "source": [
    "# Predicting the result based on the test data\n",
    "\n",
    "y_pred3 = one_svm_clf.predict(X_Test)"
   ]
  },
  {
   "cell_type": "code",
   "execution_count": 56,
   "id": "a603b3e7-b428-4a79-a7c9-59007f4f2379",
   "metadata": {},
   "outputs": [],
   "source": [
    "# CONFUSION MATRIX ......to check the accuracy of the classification\n",
    "\n",
    "y_pred_train3 = one_svm_clf.predict(X_Train)\n",
    "\n",
    "#print(y_pred_train)"
   ]
  },
  {
   "cell_type": "code",
   "execution_count": 57,
   "id": "ecf7a929-7852-44cc-8198-7b264c96dcbc",
   "metadata": {},
   "outputs": [
    {
     "name": "stdout",
     "output_type": "stream",
     "text": [
      "Accuracy for training set for Logistic Regression = 0.00%\n"
     ]
    }
   ],
   "source": [
    "# print the Accuracy value of for test data \n",
    "\n",
    "one_svm_train = (cm_Train[0][0] + cm_Train[1][1])/len(y_Train)\n",
    "\n",
    "print('Accuracy for training set for Logistic Regression = {:.2%}'.format(one_svm_train))"
   ]
  },
  {
   "cell_type": "code",
   "execution_count": 58,
   "id": "1bf9c025-97e6-41b7-b743-5f9a24cc04ce",
   "metadata": {},
   "outputs": [
    {
     "name": "stdout",
     "output_type": "stream",
     "text": [
      "Accuracy for test set for Logistic Regression = 0.00%\n"
     ]
    }
   ],
   "source": [
    "# print the Accuracy value of for test data \n",
    "\n",
    "one_svm_test = ((cm_Test[0][0] + cm_Test[1][1])/len(y_Test))\n",
    "\n",
    "print('Accuracy for test set for Logistic Regression = {:.2%}'.format(one_svm_test))"
   ]
  },
  {
   "cell_type": "markdown",
   "id": "ce49e3e0-4f5c-4420-ae7f-0346f9fb50ad",
   "metadata": {},
   "source": [
    "Model 4 - Naive Baynes (Gaussian)"
   ]
  },
  {
   "cell_type": "code",
   "execution_count": 59,
   "id": "2ad98767-5671-4103-bb06-2b364e700fcc",
   "metadata": {},
   "outputs": [],
   "source": [
    "#create the Guassian Navie Bayes classifier\n",
    "\n",
    "gnbClf = GaussianNB()"
   ]
  },
  {
   "cell_type": "code",
   "execution_count": 60,
   "id": "59c8a16d-8ac7-4523-9576-4c06d92454bb",
   "metadata": {},
   "outputs": [
    {
     "data": {
      "text/plain": [
       "GaussianNB()"
      ]
     },
     "execution_count": 60,
     "metadata": {},
     "output_type": "execute_result"
    }
   ],
   "source": [
    "#set fit the classifer to the train and test data\n",
    "\n",
    "gnbClf.fit(X_Train3, y_Train3)"
   ]
  },
  {
   "cell_type": "code",
   "execution_count": 63,
   "id": "e0739eaf-b6f9-42cb-9732-84a473b88046",
   "metadata": {},
   "outputs": [],
   "source": [
    "# predicting the Test set results\n",
    "\n",
    "y_pred3 = gnbClf.predict(X_Test3)\n",
    "\n",
    "cm_test3 = confusion_matrix(y_pred3, y_Test3)"
   ]
  },
  {
   "cell_type": "code",
   "execution_count": 65,
   "id": "5315168c-5e54-4e92-aeb1-3a9117219b53",
   "metadata": {},
   "outputs": [],
   "source": [
    "y_pred_train3 = gnbClf.predict(X_Train3)\n",
    "\n",
    "cm_train3 = confusion_matrix(y_pred_train3, y_Train3)"
   ]
  },
  {
   "cell_type": "code",
   "execution_count": 66,
   "id": "1726fe8c-70a1-4d47-8c86-bc1b2333df2d",
   "metadata": {},
   "outputs": [
    {
     "name": "stdout",
     "output_type": "stream",
     "text": [
      "Accuracy for training set for Naive Bayes = 2.70%\n"
     ]
    }
   ],
   "source": [
    "# print the Accuracy value of for test data \n",
    "\n",
    "\n",
    "gnb_train = ((cm_train3[0][0] + cm_train3[1][1])/len(y_Train3))\n",
    "\n",
    "print('Accuracy for training set for Naive Bayes = {:.2%}'.format(gnb_train))"
   ]
  },
  {
   "cell_type": "code",
   "execution_count": 67,
   "id": "024f6a84-c7f8-49a0-903c-b197f39c76a6",
   "metadata": {},
   "outputs": [
    {
     "name": "stdout",
     "output_type": "stream",
     "text": [
      "Accuracy for test set for Naive Bayes = 0.00%\n"
     ]
    }
   ],
   "source": [
    "# print the Accuracy value of for test data \n",
    "\n",
    "gnb_test = ((cm_test3[0][0] + cm_test3[1][1])/len(y_Test3))\n",
    "\n",
    "print('Accuracy for test set for Naive Bayes = {:.2%}'.format(gnb_test))"
   ]
  },
  {
   "cell_type": "code",
   "execution_count": null,
   "id": "1cafdd9e-6eef-423f-9af2-e357ddea5856",
   "metadata": {},
   "outputs": [],
   "source": []
  },
  {
   "cell_type": "code",
   "execution_count": null,
   "id": "f60da461-92f9-4cf6-9789-55559b628410",
   "metadata": {},
   "outputs": [],
   "source": []
  }
 ],
 "metadata": {
  "kernelspec": {
   "display_name": "Python 3 (ipykernel)",
   "language": "python",
   "name": "python3"
  },
  "language_info": {
   "codemirror_mode": {
    "name": "ipython",
    "version": 3
   },
   "file_extension": ".py",
   "mimetype": "text/x-python",
   "name": "python",
   "nbconvert_exporter": "python",
   "pygments_lexer": "ipython3",
   "version": "3.9.12"
  },
  "widgets": {
   "application/vnd.jupyter.widget-state+json": {
    "state": {},
    "version_major": 2,
    "version_minor": 0
   }
  }
 },
 "nbformat": 4,
 "nbformat_minor": 5
}
