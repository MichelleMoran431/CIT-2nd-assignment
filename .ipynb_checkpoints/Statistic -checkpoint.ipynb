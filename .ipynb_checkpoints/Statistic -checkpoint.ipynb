{
 "cells": [
  {
   "cell_type": "markdown",
   "id": "b909843c-f911-4116-abd3-c20b6e3ce791",
   "metadata": {},
   "source": [
    "## **Statistics for Data Analytic Tasks**"
   ]
  },
  {
   "cell_type": "markdown",
   "id": "61972b92-6c86-464e-b323-d918cd9f19f7",
   "metadata": {},
   "source": [
    "Introduction Main Aim : An statistic analysis of Irelands Butter Prices data and comparing with France.\n",
    "\n",
    "Main Aim of Statistics analysis Tasks :\n",
    "\n",
    " - Use Descriptive Statistics to summarise the datasets used \n",
    " - Analysis of the variables in the datasets and use appropriate inferential statistics to gain insights on possible population values\n",
    " - Find similarities between Ireland and France and apply parametric and non parametric tests to compare\n",
    " - Concise outcome of the tests and issues if any "
   ]
  },
  {
   "cell_type": "markdown",
   "id": "bd4866de-eb08-4466-a40a-6fb68903c346",
   "metadata": {},
   "source": [
    "## **1 Import Libraries**"
   ]
  },
  {
   "cell_type": "code",
   "execution_count": 7,
   "id": "915a6ffd-a64c-4cf9-bd1c-d994e4a34605",
   "metadata": {},
   "outputs": [],
   "source": [
    "\n",
    "# libraries for graphics\n",
    "%matplotlib inline\n",
    "import matplotlib.pyplot as plt\n",
    "import seaborn as sns\n",
    "sns.set(color_codes=True)\n",
    "\n",
    "# create tables\n",
    "from tabulate import tabulate\n",
    "\n",
    "#graphics for calculations\n",
    "import numpy as np\n",
    "import pandas as pd\n",
    "\n",
    "# libraries for analysis\n",
    "import datetime \n",
    "import statistics\n",
    "import pylab\n",
    "\n",
    "import scipy as scipy\n",
    "from scipy import stats\n",
    "from scipy.stats import binom\n",
    "from scipy.stats import poisson\n",
    "import statsmodels.api as sm\n",
    "from statsmodels.formula.api import ols\n",
    "from scipy.stats import levene"
   ]
  },
  {
   "cell_type": "markdown",
   "id": "35db0494-a275-4ec6-9774-f1e392728232",
   "metadata": {},
   "source": [
    "## **2 - Import the dataframes**\n",
    "\n",
    "Datasets taken from the saved versions from the data prep and Vis notebook : Datasets folder"
   ]
  },
  {
   "cell_type": "code",
   "execution_count": 8,
   "id": "85395d98-1b92-4eda-8acc-6c0a53b7fc94",
   "metadata": {},
   "outputs": [
    {
     "name": "stdout",
     "output_type": "stream",
     "text": [
      "<class 'pandas.core.frame.DataFrame'>\n",
      "RangeIndex: 86 entries, 0 to 85\n",
      "Data columns (total 7 columns):\n",
      " #   Column           Non-Null Count  Dtype  \n",
      "---  ------           --------------  -----  \n",
      " 0   Unnamed: 0       86 non-null     int64  \n",
      " 1   Begin Date       86 non-null     object \n",
      " 2   Month            86 non-null     int64  \n",
      " 3   Year             86 non-null     int64  \n",
      " 4   Price (�/100kg)  86 non-null     int64  \n",
      " 5   scores           86 non-null     float64\n",
      " 6   anomaly          86 non-null     int64  \n",
      "dtypes: float64(1), int64(5), object(1)\n",
      "memory usage: 4.8+ KB\n"
     ]
    }
   ],
   "source": [
    "French_prices_df = pd.read_csv(\"Datasets/French_df.csv\")\n",
    "\n",
    "French_prices_df.info()"
   ]
  },
  {
   "cell_type": "code",
   "execution_count": 9,
   "id": "a1a42292-dd03-428f-831c-fa1343ca1dd7",
   "metadata": {},
   "outputs": [
    {
     "name": "stdout",
     "output_type": "stream",
     "text": [
      "<class 'pandas.core.frame.DataFrame'>\n",
      "RangeIndex: 83 entries, 0 to 82\n",
      "Data columns (total 7 columns):\n",
      " #   Column           Non-Null Count  Dtype  \n",
      "---  ------           --------------  -----  \n",
      " 0   Unnamed: 0       83 non-null     int64  \n",
      " 1   Begin Date       83 non-null     object \n",
      " 2   Month            83 non-null     int64  \n",
      " 3   Year             83 non-null     int64  \n",
      " 4   Price (�/100kg)  83 non-null     int64  \n",
      " 5   scores           83 non-null     float64\n",
      " 6   anomaly          83 non-null     int64  \n",
      "dtypes: float64(1), int64(5), object(1)\n",
      "memory usage: 4.7+ KB\n"
     ]
    }
   ],
   "source": [
    "Irish_prices_df = pd.read_csv(\"Datasets/Irish_df.csv\")\n",
    "\n",
    "Irish_prices_df.info()"
   ]
  },
  {
   "cell_type": "code",
   "execution_count": 10,
   "id": "d82f3603-ac1f-477e-aea4-c341bff2658e",
   "metadata": {},
   "outputs": [
    {
     "name": "stdout",
     "output_type": "stream",
     "text": [
      "<class 'pandas.core.frame.DataFrame'>\n",
      "RangeIndex: 742 entries, 0 to 741\n",
      "Data columns (total 9 columns):\n",
      " #   Column           Non-Null Count  Dtype \n",
      "---  ------           --------------  ----- \n",
      " 0   Unnamed: 0       742 non-null    int64 \n",
      " 1   Year             742 non-null    int64 \n",
      " 2   Week             742 non-null    int64 \n",
      " 3   State            742 non-null    object\n",
      " 4   Product          742 non-null    object\n",
      " 5   Begin Date       742 non-null    object\n",
      " 6   End Date         742 non-null    object\n",
      " 7   Price (�/100kg)  742 non-null    int64 \n",
      " 8   country_codes    742 non-null    object\n",
      "dtypes: int64(4), object(5)\n",
      "memory usage: 52.3+ KB\n"
     ]
    }
   ],
   "source": [
    "European_prices_df = pd.read_csv(\"Datasets/European_df.csv\")\n",
    "\n",
    "European_prices_df.info()"
   ]
  },
  {
   "cell_type": "markdown",
   "id": "ef8edab8-2d71-4657-ad73-711a74684f58",
   "metadata": {},
   "source": [
    "## **3- Descriptive Statistics**"
   ]
  },
  {
   "cell_type": "markdown",
   "id": "fd65cbf0-f421-4971-a72c-f3a7e5f33b24",
   "metadata": {},
   "source": [
    "### **3.1- Descriptive Statistics : Ireland ( Irish_prices_df)**"
   ]
  },
  {
   "cell_type": "code",
   "execution_count": 11,
   "id": "f7c5b0b8-136d-47a4-aba3-5d23d02edfe5",
   "metadata": {},
   "outputs": [
    {
     "data": {
      "text/html": [
       "<div>\n",
       "<style scoped>\n",
       "    .dataframe tbody tr th:only-of-type {\n",
       "        vertical-align: middle;\n",
       "    }\n",
       "\n",
       "    .dataframe tbody tr th {\n",
       "        vertical-align: top;\n",
       "    }\n",
       "\n",
       "    .dataframe thead th {\n",
       "        text-align: right;\n",
       "    }\n",
       "</style>\n",
       "<table border=\"1\" class=\"dataframe\">\n",
       "  <thead>\n",
       "    <tr style=\"text-align: right;\">\n",
       "      <th></th>\n",
       "      <th>Unnamed: 0</th>\n",
       "      <th>Month</th>\n",
       "      <th>Year</th>\n",
       "      <th>Price (�/100kg)</th>\n",
       "      <th>scores</th>\n",
       "      <th>anomaly</th>\n",
       "    </tr>\n",
       "  </thead>\n",
       "  <tbody>\n",
       "    <tr>\n",
       "      <th>count</th>\n",
       "      <td>83.000000</td>\n",
       "      <td>83.000000</td>\n",
       "      <td>83.000000</td>\n",
       "      <td>83.000000</td>\n",
       "      <td>83.000000</td>\n",
       "      <td>83.0</td>\n",
       "    </tr>\n",
       "    <tr>\n",
       "      <th>mean</th>\n",
       "      <td>44.783133</td>\n",
       "      <td>6.325301</td>\n",
       "      <td>2018.204819</td>\n",
       "      <td>1667.614458</td>\n",
       "      <td>0.107241</td>\n",
       "      <td>1.0</td>\n",
       "    </tr>\n",
       "    <tr>\n",
       "      <th>std</th>\n",
       "      <td>25.583459</td>\n",
       "      <td>3.534183</td>\n",
       "      <td>2.128546</td>\n",
       "      <td>427.403158</td>\n",
       "      <td>0.040387</td>\n",
       "      <td>0.0</td>\n",
       "    </tr>\n",
       "    <tr>\n",
       "      <th>min</th>\n",
       "      <td>1.000000</td>\n",
       "      <td>1.000000</td>\n",
       "      <td>2015.000000</td>\n",
       "      <td>1051.000000</td>\n",
       "      <td>0.003771</td>\n",
       "      <td>1.0</td>\n",
       "    </tr>\n",
       "    <tr>\n",
       "      <th>25%</th>\n",
       "      <td>23.500000</td>\n",
       "      <td>3.000000</td>\n",
       "      <td>2016.000000</td>\n",
       "      <td>1340.000000</td>\n",
       "      <td>0.078336</td>\n",
       "      <td>1.0</td>\n",
       "    </tr>\n",
       "    <tr>\n",
       "      <th>50%</th>\n",
       "      <td>46.000000</td>\n",
       "      <td>6.000000</td>\n",
       "      <td>2018.000000</td>\n",
       "      <td>1604.000000</td>\n",
       "      <td>0.120711</td>\n",
       "      <td>1.0</td>\n",
       "    </tr>\n",
       "    <tr>\n",
       "      <th>75%</th>\n",
       "      <td>66.500000</td>\n",
       "      <td>9.000000</td>\n",
       "      <td>2020.000000</td>\n",
       "      <td>1969.500000</td>\n",
       "      <td>0.140890</td>\n",
       "      <td>1.0</td>\n",
       "    </tr>\n",
       "    <tr>\n",
       "      <th>max</th>\n",
       "      <td>88.000000</td>\n",
       "      <td>12.000000</td>\n",
       "      <td>2022.000000</td>\n",
       "      <td>2667.000000</td>\n",
       "      <td>0.159586</td>\n",
       "      <td>1.0</td>\n",
       "    </tr>\n",
       "  </tbody>\n",
       "</table>\n",
       "</div>"
      ],
      "text/plain": [
       "       Unnamed: 0      Month         Year  Price (�/100kg)     scores  anomaly\n",
       "count   83.000000  83.000000    83.000000        83.000000  83.000000     83.0\n",
       "mean    44.783133   6.325301  2018.204819      1667.614458   0.107241      1.0\n",
       "std     25.583459   3.534183     2.128546       427.403158   0.040387      0.0\n",
       "min      1.000000   1.000000  2015.000000      1051.000000   0.003771      1.0\n",
       "25%     23.500000   3.000000  2016.000000      1340.000000   0.078336      1.0\n",
       "50%     46.000000   6.000000  2018.000000      1604.000000   0.120711      1.0\n",
       "75%     66.500000   9.000000  2020.000000      1969.500000   0.140890      1.0\n",
       "max     88.000000  12.000000  2022.000000      2667.000000   0.159586      1.0"
      ]
     },
     "execution_count": 11,
     "metadata": {},
     "output_type": "execute_result"
    }
   ],
   "source": [
    "# show descriptive statistics relating\n",
    "# to the Irish Butter Prices for years 2015-2022 dataframe\n",
    "\n",
    "Irish_prices_df.describe()"
   ]
  },
  {
   "cell_type": "code",
   "execution_count": 12,
   "id": "bc733b96-3d1b-427c-a2bf-3a3067312674",
   "metadata": {},
   "outputs": [
    {
     "data": {
      "text/html": [
       "<div>\n",
       "<style scoped>\n",
       "    .dataframe tbody tr th:only-of-type {\n",
       "        vertical-align: middle;\n",
       "    }\n",
       "\n",
       "    .dataframe tbody tr th {\n",
       "        vertical-align: top;\n",
       "    }\n",
       "\n",
       "    .dataframe thead th {\n",
       "        text-align: right;\n",
       "    }\n",
       "</style>\n",
       "<table border=\"1\" class=\"dataframe\">\n",
       "  <thead>\n",
       "    <tr style=\"text-align: right;\">\n",
       "      <th>Year</th>\n",
       "      <th>2015</th>\n",
       "      <th>2016</th>\n",
       "      <th>2017</th>\n",
       "      <th>2018</th>\n",
       "      <th>2019</th>\n",
       "      <th>2020</th>\n",
       "      <th>2021</th>\n",
       "      <th>2022</th>\n",
       "    </tr>\n",
       "    <tr>\n",
       "      <th>Month</th>\n",
       "      <th></th>\n",
       "      <th></th>\n",
       "      <th></th>\n",
       "      <th></th>\n",
       "      <th></th>\n",
       "      <th></th>\n",
       "      <th></th>\n",
       "      <th></th>\n",
       "    </tr>\n",
       "  </thead>\n",
       "  <tbody>\n",
       "    <tr>\n",
       "      <th>1</th>\n",
       "      <td>1132.0</td>\n",
       "      <td>1112.0</td>\n",
       "      <td>2087.0</td>\n",
       "      <td>2348.0</td>\n",
       "      <td>1636.0</td>\n",
       "      <td>1380.0</td>\n",
       "      <td>1332.0</td>\n",
       "      <td>NaN</td>\n",
       "    </tr>\n",
       "    <tr>\n",
       "      <th>2</th>\n",
       "      <td>1132.0</td>\n",
       "      <td>1390.0</td>\n",
       "      <td>1628.0</td>\n",
       "      <td>1720.0</td>\n",
       "      <td>1692.0</td>\n",
       "      <td>1376.0</td>\n",
       "      <td>1284.0</td>\n",
       "      <td>2442.0</td>\n",
       "    </tr>\n",
       "    <tr>\n",
       "      <th>3</th>\n",
       "      <td>1525.0</td>\n",
       "      <td>1112.0</td>\n",
       "      <td>1580.0</td>\n",
       "      <td>1692.0</td>\n",
       "      <td>1692.0</td>\n",
       "      <td>1720.0</td>\n",
       "      <td>1648.0</td>\n",
       "      <td>2463.0</td>\n",
       "    </tr>\n",
       "    <tr>\n",
       "      <th>4</th>\n",
       "      <td>1242.0</td>\n",
       "      <td>1112.0</td>\n",
       "      <td>1564.0</td>\n",
       "      <td>2391.0</td>\n",
       "      <td>1985.0</td>\n",
       "      <td>1328.0</td>\n",
       "      <td>1406.0</td>\n",
       "      <td>2498.0</td>\n",
       "    </tr>\n",
       "    <tr>\n",
       "      <th>5</th>\n",
       "      <td>1212.0</td>\n",
       "      <td>1195.0</td>\n",
       "      <td>2058.0</td>\n",
       "      <td>2060.0</td>\n",
       "      <td>1604.0</td>\n",
       "      <td>1051.0</td>\n",
       "      <td>1954.0</td>\n",
       "      <td>NaN</td>\n",
       "    </tr>\n",
       "    <tr>\n",
       "      <th>6</th>\n",
       "      <td>1460.0</td>\n",
       "      <td>NaN</td>\n",
       "      <td>1752.0</td>\n",
       "      <td>2314.0</td>\n",
       "      <td>1596.0</td>\n",
       "      <td>1322.0</td>\n",
       "      <td>1554.0</td>\n",
       "      <td>NaN</td>\n",
       "    </tr>\n",
       "    <tr>\n",
       "      <th>7</th>\n",
       "      <td>1152.0</td>\n",
       "      <td>NaN</td>\n",
       "      <td>2667.0</td>\n",
       "      <td>NaN</td>\n",
       "      <td>1846.0</td>\n",
       "      <td>1214.0</td>\n",
       "      <td>1565.0</td>\n",
       "      <td>NaN</td>\n",
       "    </tr>\n",
       "    <tr>\n",
       "      <th>8</th>\n",
       "      <td>1390.0</td>\n",
       "      <td>1428.0</td>\n",
       "      <td>2389.0</td>\n",
       "      <td>2140.0</td>\n",
       "      <td>1400.0</td>\n",
       "      <td>1613.0</td>\n",
       "      <td>1882.0</td>\n",
       "      <td>NaN</td>\n",
       "    </tr>\n",
       "    <tr>\n",
       "      <th>9</th>\n",
       "      <td>1112.0</td>\n",
       "      <td>1272.0</td>\n",
       "      <td>2464.0</td>\n",
       "      <td>2128.0</td>\n",
       "      <td>1655.0</td>\n",
       "      <td>1335.0</td>\n",
       "      <td>1515.0</td>\n",
       "      <td>NaN</td>\n",
       "    </tr>\n",
       "    <tr>\n",
       "      <th>10</th>\n",
       "      <td>1112.0</td>\n",
       "      <td>1834.0</td>\n",
       "      <td>NaN</td>\n",
       "      <td>2650.0</td>\n",
       "      <td>1336.0</td>\n",
       "      <td>1344.0</td>\n",
       "      <td>1619.0</td>\n",
       "      <td>NaN</td>\n",
       "    </tr>\n",
       "    <tr>\n",
       "      <th>11</th>\n",
       "      <td>1390.0</td>\n",
       "      <td>1580.0</td>\n",
       "      <td>2452.0</td>\n",
       "      <td>1820.0</td>\n",
       "      <td>1360.0</td>\n",
       "      <td>1680.0</td>\n",
       "      <td>2279.0</td>\n",
       "      <td>NaN</td>\n",
       "    </tr>\n",
       "    <tr>\n",
       "      <th>12</th>\n",
       "      <td>1112.0</td>\n",
       "      <td>1640.0</td>\n",
       "      <td>2016.0</td>\n",
       "      <td>2110.0</td>\n",
       "      <td>1710.0</td>\n",
       "      <td>1344.0</td>\n",
       "      <td>2076.0</td>\n",
       "      <td>NaN</td>\n",
       "    </tr>\n",
       "  </tbody>\n",
       "</table>\n",
       "</div>"
      ],
      "text/plain": [
       "Year     2015    2016    2017    2018    2019    2020    2021    2022\n",
       "Month                                                                \n",
       "1      1132.0  1112.0  2087.0  2348.0  1636.0  1380.0  1332.0     NaN\n",
       "2      1132.0  1390.0  1628.0  1720.0  1692.0  1376.0  1284.0  2442.0\n",
       "3      1525.0  1112.0  1580.0  1692.0  1692.0  1720.0  1648.0  2463.0\n",
       "4      1242.0  1112.0  1564.0  2391.0  1985.0  1328.0  1406.0  2498.0\n",
       "5      1212.0  1195.0  2058.0  2060.0  1604.0  1051.0  1954.0     NaN\n",
       "6      1460.0     NaN  1752.0  2314.0  1596.0  1322.0  1554.0     NaN\n",
       "7      1152.0     NaN  2667.0     NaN  1846.0  1214.0  1565.0     NaN\n",
       "8      1390.0  1428.0  2389.0  2140.0  1400.0  1613.0  1882.0     NaN\n",
       "9      1112.0  1272.0  2464.0  2128.0  1655.0  1335.0  1515.0     NaN\n",
       "10     1112.0  1834.0     NaN  2650.0  1336.0  1344.0  1619.0     NaN\n",
       "11     1390.0  1580.0  2452.0  1820.0  1360.0  1680.0  2279.0     NaN\n",
       "12     1112.0  1640.0  2016.0  2110.0  1710.0  1344.0  2076.0     NaN"
      ]
     },
     "execution_count": 12,
     "metadata": {},
     "output_type": "execute_result"
    }
   ],
   "source": [
    "# ref'https://stackoverflow.com/questions/43639978/how-to-transpose-rows-to-columns-in-pandas\n",
    "Irish_prices_df1 = Irish_prices_df.pivot(index='Month', columns='Year', values='Price (�/100kg)')\n",
    "Irish_prices_df1"
   ]
  },
  {
   "cell_type": "code",
   "execution_count": 13,
   "id": "2bb9900a-18f9-4913-ac51-d4eb54f70d45",
   "metadata": {},
   "outputs": [
    {
     "data": {
      "text/html": [
       "<div>\n",
       "<style scoped>\n",
       "    .dataframe tbody tr th:only-of-type {\n",
       "        vertical-align: middle;\n",
       "    }\n",
       "\n",
       "    .dataframe tbody tr th {\n",
       "        vertical-align: top;\n",
       "    }\n",
       "\n",
       "    .dataframe thead th {\n",
       "        text-align: right;\n",
       "    }\n",
       "</style>\n",
       "<table border=\"1\" class=\"dataframe\">\n",
       "  <thead>\n",
       "    <tr style=\"text-align: right;\">\n",
       "      <th>Year</th>\n",
       "      <th>2015</th>\n",
       "      <th>2016</th>\n",
       "      <th>2017</th>\n",
       "      <th>2018</th>\n",
       "      <th>2019</th>\n",
       "      <th>2020</th>\n",
       "      <th>2021</th>\n",
       "      <th>2022</th>\n",
       "    </tr>\n",
       "  </thead>\n",
       "  <tbody>\n",
       "    <tr>\n",
       "      <th>count</th>\n",
       "      <td>12.000000</td>\n",
       "      <td>10.000000</td>\n",
       "      <td>11.000000</td>\n",
       "      <td>11.000000</td>\n",
       "      <td>12.00000</td>\n",
       "      <td>12.000000</td>\n",
       "      <td>12.000000</td>\n",
       "      <td>3.000000</td>\n",
       "    </tr>\n",
       "    <tr>\n",
       "      <th>mean</th>\n",
       "      <td>1247.583333</td>\n",
       "      <td>1367.500000</td>\n",
       "      <td>2059.727273</td>\n",
       "      <td>2124.818182</td>\n",
       "      <td>1626.00000</td>\n",
       "      <td>1392.250000</td>\n",
       "      <td>1676.166667</td>\n",
       "      <td>2467.666667</td>\n",
       "    </tr>\n",
       "    <tr>\n",
       "      <th>std</th>\n",
       "      <td>152.239917</td>\n",
       "      <td>252.964315</td>\n",
       "      <td>394.226100</td>\n",
       "      <td>296.825477</td>\n",
       "      <td>191.00357</td>\n",
       "      <td>191.782607</td>\n",
       "      <td>308.277866</td>\n",
       "      <td>28.290163</td>\n",
       "    </tr>\n",
       "    <tr>\n",
       "      <th>min</th>\n",
       "      <td>1112.000000</td>\n",
       "      <td>1112.000000</td>\n",
       "      <td>1564.000000</td>\n",
       "      <td>1692.000000</td>\n",
       "      <td>1336.00000</td>\n",
       "      <td>1051.000000</td>\n",
       "      <td>1284.000000</td>\n",
       "      <td>2442.000000</td>\n",
       "    </tr>\n",
       "    <tr>\n",
       "      <th>25%</th>\n",
       "      <td>1127.000000</td>\n",
       "      <td>1132.750000</td>\n",
       "      <td>1690.000000</td>\n",
       "      <td>1940.000000</td>\n",
       "      <td>1547.00000</td>\n",
       "      <td>1326.500000</td>\n",
       "      <td>1487.750000</td>\n",
       "      <td>2452.500000</td>\n",
       "    </tr>\n",
       "    <tr>\n",
       "      <th>50%</th>\n",
       "      <td>1182.000000</td>\n",
       "      <td>1331.000000</td>\n",
       "      <td>2058.000000</td>\n",
       "      <td>2128.000000</td>\n",
       "      <td>1645.50000</td>\n",
       "      <td>1344.000000</td>\n",
       "      <td>1592.000000</td>\n",
       "      <td>2463.000000</td>\n",
       "    </tr>\n",
       "    <tr>\n",
       "      <th>75%</th>\n",
       "      <td>1390.000000</td>\n",
       "      <td>1542.000000</td>\n",
       "      <td>2420.500000</td>\n",
       "      <td>2331.000000</td>\n",
       "      <td>1696.50000</td>\n",
       "      <td>1438.250000</td>\n",
       "      <td>1900.000000</td>\n",
       "      <td>2480.500000</td>\n",
       "    </tr>\n",
       "    <tr>\n",
       "      <th>max</th>\n",
       "      <td>1525.000000</td>\n",
       "      <td>1834.000000</td>\n",
       "      <td>2667.000000</td>\n",
       "      <td>2650.000000</td>\n",
       "      <td>1985.00000</td>\n",
       "      <td>1720.000000</td>\n",
       "      <td>2279.000000</td>\n",
       "      <td>2498.000000</td>\n",
       "    </tr>\n",
       "  </tbody>\n",
       "</table>\n",
       "</div>"
      ],
      "text/plain": [
       "Year          2015         2016         2017         2018        2019  \\\n",
       "count    12.000000    10.000000    11.000000    11.000000    12.00000   \n",
       "mean   1247.583333  1367.500000  2059.727273  2124.818182  1626.00000   \n",
       "std     152.239917   252.964315   394.226100   296.825477   191.00357   \n",
       "min    1112.000000  1112.000000  1564.000000  1692.000000  1336.00000   \n",
       "25%    1127.000000  1132.750000  1690.000000  1940.000000  1547.00000   \n",
       "50%    1182.000000  1331.000000  2058.000000  2128.000000  1645.50000   \n",
       "75%    1390.000000  1542.000000  2420.500000  2331.000000  1696.50000   \n",
       "max    1525.000000  1834.000000  2667.000000  2650.000000  1985.00000   \n",
       "\n",
       "Year          2020         2021         2022  \n",
       "count    12.000000    12.000000     3.000000  \n",
       "mean   1392.250000  1676.166667  2467.666667  \n",
       "std     191.782607   308.277866    28.290163  \n",
       "min    1051.000000  1284.000000  2442.000000  \n",
       "25%    1326.500000  1487.750000  2452.500000  \n",
       "50%    1344.000000  1592.000000  2463.000000  \n",
       "75%    1438.250000  1900.000000  2480.500000  \n",
       "max    1720.000000  2279.000000  2498.000000  "
      ]
     },
     "execution_count": 13,
     "metadata": {},
     "output_type": "execute_result"
    }
   ],
   "source": [
    "Irish_prices_df1.describe()"
   ]
  },
  {
   "cell_type": "markdown",
   "id": "873e9162-6edf-42a3-934e-570a05e75fb1",
   "metadata": {},
   "source": [
    "### **3.2- Descriptive Statistics of France**"
   ]
  },
  {
   "cell_type": "code",
   "execution_count": 6,
   "id": "1abc1b32-62a5-4a27-b1a4-c6597539f209",
   "metadata": {},
   "outputs": [
    {
     "data": {
      "text/html": [
       "<div>\n",
       "<style scoped>\n",
       "    .dataframe tbody tr th:only-of-type {\n",
       "        vertical-align: middle;\n",
       "    }\n",
       "\n",
       "    .dataframe tbody tr th {\n",
       "        vertical-align: top;\n",
       "    }\n",
       "\n",
       "    .dataframe thead th {\n",
       "        text-align: right;\n",
       "    }\n",
       "</style>\n",
       "<table border=\"1\" class=\"dataframe\">\n",
       "  <thead>\n",
       "    <tr style=\"text-align: right;\">\n",
       "      <th></th>\n",
       "      <th>Unnamed: 0</th>\n",
       "      <th>Month</th>\n",
       "      <th>Year</th>\n",
       "      <th>Price (�/100kg)</th>\n",
       "    </tr>\n",
       "  </thead>\n",
       "  <tbody>\n",
       "    <tr>\n",
       "      <th>count</th>\n",
       "      <td>95.000000</td>\n",
       "      <td>95.000000</td>\n",
       "      <td>95.000000</td>\n",
       "      <td>95.000000</td>\n",
       "    </tr>\n",
       "    <tr>\n",
       "      <th>mean</th>\n",
       "      <td>47.000000</td>\n",
       "      <td>6.442105</td>\n",
       "      <td>2018.463158</td>\n",
       "      <td>1636.136842</td>\n",
       "    </tr>\n",
       "    <tr>\n",
       "      <th>std</th>\n",
       "      <td>27.568098</td>\n",
       "      <td>3.441659</td>\n",
       "      <td>2.286922</td>\n",
       "      <td>961.905507</td>\n",
       "    </tr>\n",
       "    <tr>\n",
       "      <th>min</th>\n",
       "      <td>0.000000</td>\n",
       "      <td>1.000000</td>\n",
       "      <td>2015.000000</td>\n",
       "      <td>0.000000</td>\n",
       "    </tr>\n",
       "    <tr>\n",
       "      <th>25%</th>\n",
       "      <td>23.500000</td>\n",
       "      <td>3.500000</td>\n",
       "      <td>2016.500000</td>\n",
       "      <td>1091.500000</td>\n",
       "    </tr>\n",
       "    <tr>\n",
       "      <th>50%</th>\n",
       "      <td>47.000000</td>\n",
       "      <td>6.000000</td>\n",
       "      <td>2018.000000</td>\n",
       "      <td>1714.000000</td>\n",
       "    </tr>\n",
       "    <tr>\n",
       "      <th>75%</th>\n",
       "      <td>70.500000</td>\n",
       "      <td>9.000000</td>\n",
       "      <td>2020.000000</td>\n",
       "      <td>2194.500000</td>\n",
       "    </tr>\n",
       "    <tr>\n",
       "      <th>max</th>\n",
       "      <td>94.000000</td>\n",
       "      <td>12.000000</td>\n",
       "      <td>2022.000000</td>\n",
       "      <td>3800.000000</td>\n",
       "    </tr>\n",
       "  </tbody>\n",
       "</table>\n",
       "</div>"
      ],
      "text/plain": [
       "       Unnamed: 0      Month         Year  Price (�/100kg)\n",
       "count   95.000000  95.000000    95.000000        95.000000\n",
       "mean    47.000000   6.442105  2018.463158      1636.136842\n",
       "std     27.568098   3.441659     2.286922       961.905507\n",
       "min      0.000000   1.000000  2015.000000         0.000000\n",
       "25%     23.500000   3.500000  2016.500000      1091.500000\n",
       "50%     47.000000   6.000000  2018.000000      1714.000000\n",
       "75%     70.500000   9.000000  2020.000000      2194.500000\n",
       "max     94.000000  12.000000  2022.000000      3800.000000"
      ]
     },
     "execution_count": 6,
     "metadata": {},
     "output_type": "execute_result"
    }
   ],
   "source": [
    "# show descriptive statistics relating\n",
    "# to the Irish Butter Prices for years 2015-2022 dataframe\n",
    "\n",
    "French_prices_df.describe()"
   ]
  },
  {
   "cell_type": "code",
   "execution_count": 14,
   "id": "967e8d8c-2000-487c-aed6-b636c8d45f2a",
   "metadata": {},
   "outputs": [
    {
     "data": {
      "text/html": [
       "<div>\n",
       "<style scoped>\n",
       "    .dataframe tbody tr th:only-of-type {\n",
       "        vertical-align: middle;\n",
       "    }\n",
       "\n",
       "    .dataframe tbody tr th {\n",
       "        vertical-align: top;\n",
       "    }\n",
       "\n",
       "    .dataframe thead th {\n",
       "        text-align: right;\n",
       "    }\n",
       "</style>\n",
       "<table border=\"1\" class=\"dataframe\">\n",
       "  <thead>\n",
       "    <tr style=\"text-align: right;\">\n",
       "      <th>Year</th>\n",
       "      <th>2015</th>\n",
       "      <th>2016</th>\n",
       "      <th>2017</th>\n",
       "      <th>2018</th>\n",
       "      <th>2019</th>\n",
       "      <th>2020</th>\n",
       "      <th>2021</th>\n",
       "      <th>2022</th>\n",
       "    </tr>\n",
       "    <tr>\n",
       "      <th>Month</th>\n",
       "      <th></th>\n",
       "      <th></th>\n",
       "      <th></th>\n",
       "      <th></th>\n",
       "      <th></th>\n",
       "      <th></th>\n",
       "      <th></th>\n",
       "      <th></th>\n",
       "    </tr>\n",
       "  </thead>\n",
       "  <tbody>\n",
       "    <tr>\n",
       "      <th>1</th>\n",
       "      <td>653.0</td>\n",
       "      <td>0.0</td>\n",
       "      <td>2188.0</td>\n",
       "      <td>2129.0</td>\n",
       "      <td>1770.0</td>\n",
       "      <td>1469.0</td>\n",
       "      <td>1341.0</td>\n",
       "      <td>3090.0</td>\n",
       "    </tr>\n",
       "    <tr>\n",
       "      <th>2</th>\n",
       "      <td>NaN</td>\n",
       "      <td>NaN</td>\n",
       "      <td>1725.0</td>\n",
       "      <td>1784.0</td>\n",
       "      <td>1820.0</td>\n",
       "      <td>1429.0</td>\n",
       "      <td>1420.0</td>\n",
       "      <td>2567.0</td>\n",
       "    </tr>\n",
       "    <tr>\n",
       "      <th>3</th>\n",
       "      <td>0.0</td>\n",
       "      <td>0.0</td>\n",
       "      <td>1714.0</td>\n",
       "      <td>2016.0</td>\n",
       "      <td>1698.0</td>\n",
       "      <td>1667.0</td>\n",
       "      <td>2010.0</td>\n",
       "      <td>2682.0</td>\n",
       "    </tr>\n",
       "    <tr>\n",
       "      <th>4</th>\n",
       "      <td>633.0</td>\n",
       "      <td>NaN</td>\n",
       "      <td>1776.0</td>\n",
       "      <td>2577.0</td>\n",
       "      <td>2114.0</td>\n",
       "      <td>1092.0</td>\n",
       "      <td>1707.0</td>\n",
       "      <td>2888.0</td>\n",
       "    </tr>\n",
       "    <tr>\n",
       "      <th>5</th>\n",
       "      <td>NaN</td>\n",
       "      <td>0.0</td>\n",
       "      <td>2376.0</td>\n",
       "      <td>2407.0</td>\n",
       "      <td>1668.0</td>\n",
       "      <td>1091.0</td>\n",
       "      <td>2200.0</td>\n",
       "      <td>NaN</td>\n",
       "    </tr>\n",
       "    <tr>\n",
       "      <th>6</th>\n",
       "      <td>0.0</td>\n",
       "      <td>0.0</td>\n",
       "      <td>2060.0</td>\n",
       "      <td>2444.0</td>\n",
       "      <td>1634.0</td>\n",
       "      <td>1635.0</td>\n",
       "      <td>1766.0</td>\n",
       "      <td>NaN</td>\n",
       "    </tr>\n",
       "    <tr>\n",
       "      <th>7</th>\n",
       "      <td>0.0</td>\n",
       "      <td>649.0</td>\n",
       "      <td>3107.0</td>\n",
       "      <td>2960.0</td>\n",
       "      <td>1890.0</td>\n",
       "      <td>1340.0</td>\n",
       "      <td>1650.0</td>\n",
       "      <td>3122.0</td>\n",
       "    </tr>\n",
       "    <tr>\n",
       "      <th>8</th>\n",
       "      <td>NaN</td>\n",
       "      <td>0.0</td>\n",
       "      <td>2562.0</td>\n",
       "      <td>2214.0</td>\n",
       "      <td>1421.0</td>\n",
       "      <td>673.0</td>\n",
       "      <td>2020.0</td>\n",
       "      <td>3119.0</td>\n",
       "    </tr>\n",
       "    <tr>\n",
       "      <th>9</th>\n",
       "      <td>0.0</td>\n",
       "      <td>0.0</td>\n",
       "      <td>2845.0</td>\n",
       "      <td>2189.0</td>\n",
       "      <td>1804.0</td>\n",
       "      <td>1376.0</td>\n",
       "      <td>1624.0</td>\n",
       "      <td>3130.0</td>\n",
       "    </tr>\n",
       "    <tr>\n",
       "      <th>10</th>\n",
       "      <td>0.0</td>\n",
       "      <td>NaN</td>\n",
       "      <td>3002.0</td>\n",
       "      <td>2371.0</td>\n",
       "      <td>1404.0</td>\n",
       "      <td>1341.0</td>\n",
       "      <td>1826.0</td>\n",
       "      <td>NaN</td>\n",
       "    </tr>\n",
       "    <tr>\n",
       "      <th>11</th>\n",
       "      <td>646.0</td>\n",
       "      <td>1685.0</td>\n",
       "      <td>2122.0</td>\n",
       "      <td>1820.0</td>\n",
       "      <td>1436.0</td>\n",
       "      <td>1674.0</td>\n",
       "      <td>2180.0</td>\n",
       "      <td>2784.0</td>\n",
       "    </tr>\n",
       "    <tr>\n",
       "      <th>12</th>\n",
       "      <td>0.0</td>\n",
       "      <td>1741.0</td>\n",
       "      <td>1549.0</td>\n",
       "      <td>2181.0</td>\n",
       "      <td>1867.0</td>\n",
       "      <td>1292.0</td>\n",
       "      <td>2235.0</td>\n",
       "      <td>NaN</td>\n",
       "    </tr>\n",
       "  </tbody>\n",
       "</table>\n",
       "</div>"
      ],
      "text/plain": [
       "Year    2015    2016    2017    2018    2019    2020    2021    2022\n",
       "Month                                                               \n",
       "1      653.0     0.0  2188.0  2129.0  1770.0  1469.0  1341.0  3090.0\n",
       "2        NaN     NaN  1725.0  1784.0  1820.0  1429.0  1420.0  2567.0\n",
       "3        0.0     0.0  1714.0  2016.0  1698.0  1667.0  2010.0  2682.0\n",
       "4      633.0     NaN  1776.0  2577.0  2114.0  1092.0  1707.0  2888.0\n",
       "5        NaN     0.0  2376.0  2407.0  1668.0  1091.0  2200.0     NaN\n",
       "6        0.0     0.0  2060.0  2444.0  1634.0  1635.0  1766.0     NaN\n",
       "7        0.0   649.0  3107.0  2960.0  1890.0  1340.0  1650.0  3122.0\n",
       "8        NaN     0.0  2562.0  2214.0  1421.0   673.0  2020.0  3119.0\n",
       "9        0.0     0.0  2845.0  2189.0  1804.0  1376.0  1624.0  3130.0\n",
       "10       0.0     NaN  3002.0  2371.0  1404.0  1341.0  1826.0     NaN\n",
       "11     646.0  1685.0  2122.0  1820.0  1436.0  1674.0  2180.0  2784.0\n",
       "12       0.0  1741.0  1549.0  2181.0  1867.0  1292.0  2235.0     NaN"
      ]
     },
     "execution_count": 14,
     "metadata": {},
     "output_type": "execute_result"
    }
   ],
   "source": [
    "# ref'https://stackoverflow.com/questions/43639978/how-to-transpose-rows-to-columns-in-pandas\n",
    "French_prices_df1 = French_prices_df.pivot(index='Month', columns='Year', values='Price (�/100kg)')\n",
    "French_prices_df1"
   ]
  },
  {
   "cell_type": "code",
   "execution_count": 29,
   "id": "a0aeb329-69cb-48d1-881d-f4f2965a9583",
   "metadata": {},
   "outputs": [
    {
     "data": {
      "text/html": [
       "<div>\n",
       "<style scoped>\n",
       "    .dataframe tbody tr th:only-of-type {\n",
       "        vertical-align: middle;\n",
       "    }\n",
       "\n",
       "    .dataframe tbody tr th {\n",
       "        vertical-align: top;\n",
       "    }\n",
       "\n",
       "    .dataframe thead th {\n",
       "        text-align: right;\n",
       "    }\n",
       "</style>\n",
       "<table border=\"1\" class=\"dataframe\">\n",
       "  <thead>\n",
       "    <tr style=\"text-align: right;\">\n",
       "      <th>Year</th>\n",
       "      <th>2015</th>\n",
       "      <th>2016</th>\n",
       "      <th>2017</th>\n",
       "      <th>2018</th>\n",
       "      <th>2019</th>\n",
       "      <th>2020</th>\n",
       "      <th>2021</th>\n",
       "      <th>2022</th>\n",
       "    </tr>\n",
       "    <tr>\n",
       "      <th>Month</th>\n",
       "      <th></th>\n",
       "      <th></th>\n",
       "      <th></th>\n",
       "      <th></th>\n",
       "      <th></th>\n",
       "      <th></th>\n",
       "      <th></th>\n",
       "      <th></th>\n",
       "    </tr>\n",
       "  </thead>\n",
       "  <tbody>\n",
       "    <tr>\n",
       "      <th>1</th>\n",
       "      <td>653.0</td>\n",
       "      <td>0.0</td>\n",
       "      <td>2188.0</td>\n",
       "      <td>2129.0</td>\n",
       "      <td>1770.0</td>\n",
       "      <td>1469.0</td>\n",
       "      <td>1341.0</td>\n",
       "      <td>3090.0</td>\n",
       "    </tr>\n",
       "    <tr>\n",
       "      <th>2</th>\n",
       "      <td>0.0</td>\n",
       "      <td>0.0</td>\n",
       "      <td>1725.0</td>\n",
       "      <td>1784.0</td>\n",
       "      <td>1820.0</td>\n",
       "      <td>1429.0</td>\n",
       "      <td>1420.0</td>\n",
       "      <td>2567.0</td>\n",
       "    </tr>\n",
       "    <tr>\n",
       "      <th>3</th>\n",
       "      <td>0.0</td>\n",
       "      <td>0.0</td>\n",
       "      <td>1714.0</td>\n",
       "      <td>2016.0</td>\n",
       "      <td>1698.0</td>\n",
       "      <td>1667.0</td>\n",
       "      <td>2010.0</td>\n",
       "      <td>2682.0</td>\n",
       "    </tr>\n",
       "    <tr>\n",
       "      <th>4</th>\n",
       "      <td>633.0</td>\n",
       "      <td>0.0</td>\n",
       "      <td>1776.0</td>\n",
       "      <td>2577.0</td>\n",
       "      <td>2114.0</td>\n",
       "      <td>1092.0</td>\n",
       "      <td>1707.0</td>\n",
       "      <td>2888.0</td>\n",
       "    </tr>\n",
       "    <tr>\n",
       "      <th>5</th>\n",
       "      <td>0.0</td>\n",
       "      <td>0.0</td>\n",
       "      <td>2376.0</td>\n",
       "      <td>2407.0</td>\n",
       "      <td>1668.0</td>\n",
       "      <td>1091.0</td>\n",
       "      <td>2200.0</td>\n",
       "      <td>0.0</td>\n",
       "    </tr>\n",
       "    <tr>\n",
       "      <th>6</th>\n",
       "      <td>0.0</td>\n",
       "      <td>0.0</td>\n",
       "      <td>2060.0</td>\n",
       "      <td>2444.0</td>\n",
       "      <td>1634.0</td>\n",
       "      <td>1635.0</td>\n",
       "      <td>1766.0</td>\n",
       "      <td>0.0</td>\n",
       "    </tr>\n",
       "    <tr>\n",
       "      <th>7</th>\n",
       "      <td>0.0</td>\n",
       "      <td>649.0</td>\n",
       "      <td>3107.0</td>\n",
       "      <td>2960.0</td>\n",
       "      <td>1890.0</td>\n",
       "      <td>1340.0</td>\n",
       "      <td>1650.0</td>\n",
       "      <td>3122.0</td>\n",
       "    </tr>\n",
       "    <tr>\n",
       "      <th>8</th>\n",
       "      <td>0.0</td>\n",
       "      <td>0.0</td>\n",
       "      <td>2562.0</td>\n",
       "      <td>2214.0</td>\n",
       "      <td>1421.0</td>\n",
       "      <td>673.0</td>\n",
       "      <td>2020.0</td>\n",
       "      <td>3119.0</td>\n",
       "    </tr>\n",
       "    <tr>\n",
       "      <th>9</th>\n",
       "      <td>0.0</td>\n",
       "      <td>0.0</td>\n",
       "      <td>2845.0</td>\n",
       "      <td>2189.0</td>\n",
       "      <td>1804.0</td>\n",
       "      <td>1376.0</td>\n",
       "      <td>1624.0</td>\n",
       "      <td>3130.0</td>\n",
       "    </tr>\n",
       "    <tr>\n",
       "      <th>10</th>\n",
       "      <td>0.0</td>\n",
       "      <td>0.0</td>\n",
       "      <td>3002.0</td>\n",
       "      <td>2371.0</td>\n",
       "      <td>1404.0</td>\n",
       "      <td>1341.0</td>\n",
       "      <td>1826.0</td>\n",
       "      <td>0.0</td>\n",
       "    </tr>\n",
       "    <tr>\n",
       "      <th>11</th>\n",
       "      <td>646.0</td>\n",
       "      <td>1685.0</td>\n",
       "      <td>2122.0</td>\n",
       "      <td>1820.0</td>\n",
       "      <td>1436.0</td>\n",
       "      <td>1674.0</td>\n",
       "      <td>2180.0</td>\n",
       "      <td>2784.0</td>\n",
       "    </tr>\n",
       "    <tr>\n",
       "      <th>12</th>\n",
       "      <td>0.0</td>\n",
       "      <td>1741.0</td>\n",
       "      <td>1549.0</td>\n",
       "      <td>2181.0</td>\n",
       "      <td>1867.0</td>\n",
       "      <td>1292.0</td>\n",
       "      <td>2235.0</td>\n",
       "      <td>0.0</td>\n",
       "    </tr>\n",
       "  </tbody>\n",
       "</table>\n",
       "</div>"
      ],
      "text/plain": [
       "Year    2015    2016    2017    2018    2019    2020    2021    2022\n",
       "Month                                                               \n",
       "1      653.0     0.0  2188.0  2129.0  1770.0  1469.0  1341.0  3090.0\n",
       "2        0.0     0.0  1725.0  1784.0  1820.0  1429.0  1420.0  2567.0\n",
       "3        0.0     0.0  1714.0  2016.0  1698.0  1667.0  2010.0  2682.0\n",
       "4      633.0     0.0  1776.0  2577.0  2114.0  1092.0  1707.0  2888.0\n",
       "5        0.0     0.0  2376.0  2407.0  1668.0  1091.0  2200.0     0.0\n",
       "6        0.0     0.0  2060.0  2444.0  1634.0  1635.0  1766.0     0.0\n",
       "7        0.0   649.0  3107.0  2960.0  1890.0  1340.0  1650.0  3122.0\n",
       "8        0.0     0.0  2562.0  2214.0  1421.0   673.0  2020.0  3119.0\n",
       "9        0.0     0.0  2845.0  2189.0  1804.0  1376.0  1624.0  3130.0\n",
       "10       0.0     0.0  3002.0  2371.0  1404.0  1341.0  1826.0     0.0\n",
       "11     646.0  1685.0  2122.0  1820.0  1436.0  1674.0  2180.0  2784.0\n",
       "12       0.0  1741.0  1549.0  2181.0  1867.0  1292.0  2235.0     0.0"
      ]
     },
     "execution_count": 29,
     "metadata": {},
     "output_type": "execute_result"
    }
   ],
   "source": [
    "French_prices_df1.fillna(0)"
   ]
  },
  {
   "cell_type": "code",
   "execution_count": 30,
   "id": "322ff6d3-e78a-431f-a995-5e34a944491b",
   "metadata": {},
   "outputs": [
    {
     "data": {
      "text/html": [
       "<div>\n",
       "<style scoped>\n",
       "    .dataframe tbody tr th:only-of-type {\n",
       "        vertical-align: middle;\n",
       "    }\n",
       "\n",
       "    .dataframe tbody tr th {\n",
       "        vertical-align: top;\n",
       "    }\n",
       "\n",
       "    .dataframe thead th {\n",
       "        text-align: right;\n",
       "    }\n",
       "</style>\n",
       "<table border=\"1\" class=\"dataframe\">\n",
       "  <thead>\n",
       "    <tr style=\"text-align: right;\">\n",
       "      <th>Year</th>\n",
       "      <th>2015</th>\n",
       "      <th>2016</th>\n",
       "      <th>2017</th>\n",
       "      <th>2018</th>\n",
       "      <th>2019</th>\n",
       "      <th>2020</th>\n",
       "      <th>2021</th>\n",
       "      <th>2022</th>\n",
       "    </tr>\n",
       "  </thead>\n",
       "  <tbody>\n",
       "    <tr>\n",
       "      <th>count</th>\n",
       "      <td>9.000000</td>\n",
       "      <td>9.000000</td>\n",
       "      <td>12.000000</td>\n",
       "      <td>12.000000</td>\n",
       "      <td>12.000000</td>\n",
       "      <td>12.000000</td>\n",
       "      <td>12.000000</td>\n",
       "      <td>8.000000</td>\n",
       "    </tr>\n",
       "    <tr>\n",
       "      <th>mean</th>\n",
       "      <td>214.666667</td>\n",
       "      <td>452.777778</td>\n",
       "      <td>2252.166667</td>\n",
       "      <td>2257.666667</td>\n",
       "      <td>1710.500000</td>\n",
       "      <td>1339.916667</td>\n",
       "      <td>1831.583333</td>\n",
       "      <td>2922.750000</td>\n",
       "    </tr>\n",
       "    <tr>\n",
       "      <th>std</th>\n",
       "      <td>322.039982</td>\n",
       "      <td>745.523101</td>\n",
       "      <td>531.076751</td>\n",
       "      <td>325.922560</td>\n",
       "      <td>214.203599</td>\n",
       "      <td>286.367043</td>\n",
       "      <td>300.483386</td>\n",
       "      <td>224.918239</td>\n",
       "    </tr>\n",
       "    <tr>\n",
       "      <th>min</th>\n",
       "      <td>0.000000</td>\n",
       "      <td>0.000000</td>\n",
       "      <td>1549.000000</td>\n",
       "      <td>1784.000000</td>\n",
       "      <td>1404.000000</td>\n",
       "      <td>673.000000</td>\n",
       "      <td>1341.000000</td>\n",
       "      <td>2567.000000</td>\n",
       "    </tr>\n",
       "    <tr>\n",
       "      <th>25%</th>\n",
       "      <td>0.000000</td>\n",
       "      <td>0.000000</td>\n",
       "      <td>1763.250000</td>\n",
       "      <td>2100.750000</td>\n",
       "      <td>1584.500000</td>\n",
       "      <td>1242.000000</td>\n",
       "      <td>1643.500000</td>\n",
       "      <td>2758.500000</td>\n",
       "    </tr>\n",
       "    <tr>\n",
       "      <th>50%</th>\n",
       "      <td>0.000000</td>\n",
       "      <td>0.000000</td>\n",
       "      <td>2155.000000</td>\n",
       "      <td>2201.500000</td>\n",
       "      <td>1734.000000</td>\n",
       "      <td>1358.500000</td>\n",
       "      <td>1796.000000</td>\n",
       "      <td>2989.000000</td>\n",
       "    </tr>\n",
       "    <tr>\n",
       "      <th>75%</th>\n",
       "      <td>633.000000</td>\n",
       "      <td>649.000000</td>\n",
       "      <td>2632.750000</td>\n",
       "      <td>2416.250000</td>\n",
       "      <td>1831.750000</td>\n",
       "      <td>1510.500000</td>\n",
       "      <td>2060.000000</td>\n",
       "      <td>3119.750000</td>\n",
       "    </tr>\n",
       "    <tr>\n",
       "      <th>max</th>\n",
       "      <td>653.000000</td>\n",
       "      <td>1741.000000</td>\n",
       "      <td>3107.000000</td>\n",
       "      <td>2960.000000</td>\n",
       "      <td>2114.000000</td>\n",
       "      <td>1674.000000</td>\n",
       "      <td>2235.000000</td>\n",
       "      <td>3130.000000</td>\n",
       "    </tr>\n",
       "  </tbody>\n",
       "</table>\n",
       "</div>"
      ],
      "text/plain": [
       "Year         2015         2016         2017         2018         2019  \\\n",
       "count    9.000000     9.000000    12.000000    12.000000    12.000000   \n",
       "mean   214.666667   452.777778  2252.166667  2257.666667  1710.500000   \n",
       "std    322.039982   745.523101   531.076751   325.922560   214.203599   \n",
       "min      0.000000     0.000000  1549.000000  1784.000000  1404.000000   \n",
       "25%      0.000000     0.000000  1763.250000  2100.750000  1584.500000   \n",
       "50%      0.000000     0.000000  2155.000000  2201.500000  1734.000000   \n",
       "75%    633.000000   649.000000  2632.750000  2416.250000  1831.750000   \n",
       "max    653.000000  1741.000000  3107.000000  2960.000000  2114.000000   \n",
       "\n",
       "Year          2020         2021         2022  \n",
       "count    12.000000    12.000000     8.000000  \n",
       "mean   1339.916667  1831.583333  2922.750000  \n",
       "std     286.367043   300.483386   224.918239  \n",
       "min     673.000000  1341.000000  2567.000000  \n",
       "25%    1242.000000  1643.500000  2758.500000  \n",
       "50%    1358.500000  1796.000000  2989.000000  \n",
       "75%    1510.500000  2060.000000  3119.750000  \n",
       "max    1674.000000  2235.000000  3130.000000  "
      ]
     },
     "execution_count": 30,
     "metadata": {},
     "output_type": "execute_result"
    }
   ],
   "source": [
    "French_prices_df1.describe()"
   ]
  },
  {
   "cell_type": "code",
   "execution_count": 38,
   "id": "82763711-4c42-45d4-85f0-4bd18e8b4f01",
   "metadata": {},
   "outputs": [
    {
     "name": "stdout",
     "output_type": "stream",
     "text": [
      "182673.4593006171 789145.3270861834\n"
     ]
    }
   ],
   "source": [
    "# calculate the variance of the 2 datasets\n",
    "\n",
    "Irish_variance = statistics.variance(Irish_prices_df['Price (�/100kg)'])\n",
    "French_variance = statistics.variance(French_prices_df['Price (�/100kg)'])\n",
    "\n",
    "print(Irish_variance, French_variance)\n"
   ]
  },
  {
   "cell_type": "markdown",
   "id": "e96a97d1-320c-41bc-9dea-688c41c7219a",
   "metadata": {},
   "source": [
    "### **3.3 Test for a Normal Distribution**"
   ]
  },
  {
   "cell_type": "code",
   "execution_count": 16,
   "id": "1f6b2707-72ed-4837-aaaa-c4dba63a6a2a",
   "metadata": {},
   "outputs": [
    {
     "data": {
      "image/png": "[encoded data removed]",
      "text/plain": [
       "<Figure size 432x288 with 1 Axes>"
      ]
     },
     "metadata": {},
     "output_type": "display_data"
    }
   ],
   "source": [
    "# graphic test for a normal distribution on the Irish data\n",
    "\n",
    "stats.probplot(Irish_prices_df['Price (�/100kg)'], dist=\"norm\", plot=pylab)\n",
    "plt.title(\"Probability Plot -Ireland Butter Prices 2015-2022\")\n",
    "pylab.show()"
   ]
  },
  {
   "cell_type": "code",
   "execution_count": 47,
   "id": "2565f3d5-f0f1-4fbf-91f6-db99e094e836",
   "metadata": {},
   "outputs": [
    {
     "data": {
      "image/png": "[encoded data removed]",
      "text/plain": [
       "<Figure size 432x288 with 1 Axes>"
      ]
     },
     "metadata": {},
     "output_type": "display_data"
    }
   ],
   "source": [
    "# graphic test for a normal distribution on the French data\n",
    "\n",
    "stats.probplot(French_prices_df['Price (�/100kg)'], dist=\"norm\", plot=pylab)\n",
    "plt.title(\"Probability Plot -France Butter Prices 2015-2022\")\n",
    "pylab.show()"
   ]
  },
  {
   "cell_type": "markdown",
   "id": "fa1af12d-d39b-4893-a8d7-5ec63275767c",
   "metadata": {},
   "source": [
    "### **3.4 Shapiro Wilks Test**"
   ]
  },
  {
   "cell_type": "code",
   "execution_count": 15,
   "id": "64c99758-3701-45f4-bd4e-4f3e65cc8119",
   "metadata": {},
   "outputs": [
    {
     "data": {
      "text/html": [
       "<div>\n",
       "<style scoped>\n",
       "    .dataframe tbody tr th:only-of-type {\n",
       "        vertical-align: middle;\n",
       "    }\n",
       "\n",
       "    .dataframe tbody tr th {\n",
       "        vertical-align: top;\n",
       "    }\n",
       "\n",
       "    .dataframe thead th {\n",
       "        text-align: right;\n",
       "    }\n",
       "</style>\n",
       "<table border=\"1\" class=\"dataframe\">\n",
       "  <thead>\n",
       "    <tr style=\"text-align: right;\">\n",
       "      <th></th>\n",
       "      <th>Unnamed: 0</th>\n",
       "      <th>Year</th>\n",
       "      <th>Week</th>\n",
       "      <th>State</th>\n",
       "      <th>Product</th>\n",
       "      <th>Begin Date</th>\n",
       "      <th>End Date</th>\n",
       "      <th>Price (�/100kg)</th>\n",
       "      <th>country_codes</th>\n",
       "    </tr>\n",
       "  </thead>\n",
       "  <tbody>\n",
       "    <tr>\n",
       "      <th>0</th>\n",
       "      <td>0</td>\n",
       "      <td>2015</td>\n",
       "      <td>47</td>\n",
       "      <td>France</td>\n",
       "      <td>BUTTER</td>\n",
       "      <td>2015-11-16</td>\n",
       "      <td>2015-11-22</td>\n",
       "      <td>325</td>\n",
       "      <td>FRA</td>\n",
       "    </tr>\n",
       "    <tr>\n",
       "      <th>1</th>\n",
       "      <td>1</td>\n",
       "      <td>2015</td>\n",
       "      <td>46</td>\n",
       "      <td>France</td>\n",
       "      <td>BUTTER</td>\n",
       "      <td>2015-11-09</td>\n",
       "      <td>2015-11-15</td>\n",
       "      <td>321</td>\n",
       "      <td>FRA</td>\n",
       "    </tr>\n",
       "    <tr>\n",
       "      <th>2</th>\n",
       "      <td>2</td>\n",
       "      <td>2015</td>\n",
       "      <td>36</td>\n",
       "      <td>France</td>\n",
       "      <td>BUTTER</td>\n",
       "      <td>2015-08-31</td>\n",
       "      <td>2015-09-06</td>\n",
       "      <td>274</td>\n",
       "      <td>FRA</td>\n",
       "    </tr>\n",
       "    <tr>\n",
       "      <th>3</th>\n",
       "      <td>3</td>\n",
       "      <td>2015</td>\n",
       "      <td>35</td>\n",
       "      <td>France</td>\n",
       "      <td>BUTTER</td>\n",
       "      <td>2015-08-24</td>\n",
       "      <td>2015-08-30</td>\n",
       "      <td>279</td>\n",
       "      <td>FRA</td>\n",
       "    </tr>\n",
       "    <tr>\n",
       "      <th>4</th>\n",
       "      <td>4</td>\n",
       "      <td>2015</td>\n",
       "      <td>32</td>\n",
       "      <td>France</td>\n",
       "      <td>BUTTER</td>\n",
       "      <td>2015-08-03</td>\n",
       "      <td>2015-08-09</td>\n",
       "      <td>290</td>\n",
       "      <td>FRA</td>\n",
       "    </tr>\n",
       "    <tr>\n",
       "      <th>...</th>\n",
       "      <td>...</td>\n",
       "      <td>...</td>\n",
       "      <td>...</td>\n",
       "      <td>...</td>\n",
       "      <td>...</td>\n",
       "      <td>...</td>\n",
       "      <td>...</td>\n",
       "      <td>...</td>\n",
       "      <td>...</td>\n",
       "    </tr>\n",
       "    <tr>\n",
       "      <th>737</th>\n",
       "      <td>737</td>\n",
       "      <td>2022</td>\n",
       "      <td>5</td>\n",
       "      <td>Ireland</td>\n",
       "      <td>BUTTER</td>\n",
       "      <td>2022-01-31</td>\n",
       "      <td>2022-02-06</td>\n",
       "      <td>614</td>\n",
       "      <td>IRL</td>\n",
       "    </tr>\n",
       "    <tr>\n",
       "      <th>738</th>\n",
       "      <td>738</td>\n",
       "      <td>2022</td>\n",
       "      <td>4</td>\n",
       "      <td>Ireland</td>\n",
       "      <td>BUTTER</td>\n",
       "      <td>2022-01-24</td>\n",
       "      <td>2022-01-30</td>\n",
       "      <td>549</td>\n",
       "      <td>IRL</td>\n",
       "    </tr>\n",
       "    <tr>\n",
       "      <th>739</th>\n",
       "      <td>739</td>\n",
       "      <td>2022</td>\n",
       "      <td>3</td>\n",
       "      <td>Ireland</td>\n",
       "      <td>BUTTER</td>\n",
       "      <td>2022-01-17</td>\n",
       "      <td>2022-01-23</td>\n",
       "      <td>549</td>\n",
       "      <td>IRL</td>\n",
       "    </tr>\n",
       "    <tr>\n",
       "      <th>740</th>\n",
       "      <td>740</td>\n",
       "      <td>2022</td>\n",
       "      <td>2</td>\n",
       "      <td>Ireland</td>\n",
       "      <td>BUTTER</td>\n",
       "      <td>2022-01-10</td>\n",
       "      <td>2022-01-16</td>\n",
       "      <td>549</td>\n",
       "      <td>IRL</td>\n",
       "    </tr>\n",
       "    <tr>\n",
       "      <th>741</th>\n",
       "      <td>741</td>\n",
       "      <td>2022</td>\n",
       "      <td>1</td>\n",
       "      <td>Ireland</td>\n",
       "      <td>BUTTER</td>\n",
       "      <td>2022-01-03</td>\n",
       "      <td>2022-01-09</td>\n",
       "      <td>549</td>\n",
       "      <td>IRL</td>\n",
       "    </tr>\n",
       "  </tbody>\n",
       "</table>\n",
       "<p>742 rows × 9 columns</p>\n",
       "</div>"
      ],
      "text/plain": [
       "     Unnamed: 0  Year  Week    State Product  Begin Date    End Date  \\\n",
       "0             0  2015    47   France  BUTTER  2015-11-16  2015-11-22   \n",
       "1             1  2015    46   France  BUTTER  2015-11-09  2015-11-15   \n",
       "2             2  2015    36   France  BUTTER  2015-08-31  2015-09-06   \n",
       "3             3  2015    35   France  BUTTER  2015-08-24  2015-08-30   \n",
       "4             4  2015    32   France  BUTTER  2015-08-03  2015-08-09   \n",
       "..          ...   ...   ...      ...     ...         ...         ...   \n",
       "737         737  2022     5  Ireland  BUTTER  2022-01-31  2022-02-06   \n",
       "738         738  2022     4  Ireland  BUTTER  2022-01-24  2022-01-30   \n",
       "739         739  2022     3  Ireland  BUTTER  2022-01-17  2022-01-23   \n",
       "740         740  2022     2  Ireland  BUTTER  2022-01-10  2022-01-16   \n",
       "741         741  2022     1  Ireland  BUTTER  2022-01-03  2022-01-09   \n",
       "\n",
       "     Price (�/100kg) country_codes  \n",
       "0                325           FRA  \n",
       "1                321           FRA  \n",
       "2                274           FRA  \n",
       "3                279           FRA  \n",
       "4                290           FRA  \n",
       "..               ...           ...  \n",
       "737              614           IRL  \n",
       "738              549           IRL  \n",
       "739              549           IRL  \n",
       "740              549           IRL  \n",
       "741              549           IRL  \n",
       "\n",
       "[742 rows x 9 columns]"
      ]
     },
     "execution_count": 15,
     "metadata": {},
     "output_type": "execute_result"
    }
   ],
   "source": [
    "European_prices_df"
   ]
  },
  {
   "cell_type": "code",
   "execution_count": 50,
   "id": "8e96c465-1b13-491f-ab5a-f301a2bf912d",
   "metadata": {},
   "outputs": [],
   "source": [
    "European_prices_df['Begin Date'] = pd.to_datetime(European_prices_df['Begin Date'])"
   ]
  },
  {
   "cell_type": "code",
   "execution_count": 51,
   "id": "31a70c64-d078-470c-9245-1cd3bcf7db61",
   "metadata": {},
   "outputs": [],
   "source": [
    "European_prices_df['Month'] = pd.DatetimeIndex(European_prices_df['Begin Date']).month"
   ]
  },
  {
   "cell_type": "code",
   "execution_count": 52,
   "id": "084cf4e6-3ccb-49d7-bbf2-292f3cd3d3f0",
   "metadata": {},
   "outputs": [],
   "source": [
    "European_prices_df.rename(columns = {'Price (�/100kg)':'Price'}, inplace = True)"
   ]
  },
  {
   "cell_type": "code",
   "execution_count": 53,
   "id": "25812510-9e1d-44c5-ac0e-c51266fdc20c",
   "metadata": {},
   "outputs": [
    {
     "data": {
      "text/plain": [
       "<Figure size 432x288 with 0 Axes>"
      ]
     },
     "execution_count": 53,
     "metadata": {},
     "output_type": "execute_result"
    },
    {
     "data": {
      "image/png": "[encoded data removed]",
      "text/plain": [
       "<Figure size 432x288 with 1 Axes>"
      ]
     },
     "metadata": {},
     "output_type": "display_data"
    },
    {
     "data": {
      "text/plain": [
       "<Figure size 432x288 with 0 Axes>"
      ]
     },
     "metadata": {},
     "output_type": "display_data"
    }
   ],
   "source": [
    "#Normality plot. Our variable is \"charges\"\n",
    "\n",
    "stats.probplot(European_prices_df.Price, plot=plt)\n",
    "plt.figure()"
   ]
  },
  {
   "cell_type": "code",
   "execution_count": 63,
   "id": "01b283cb-1251-4042-aa57-7f3ef3163ca3",
   "metadata": {},
   "outputs": [
    {
     "data": {
      "text/plain": [
       "ShapiroResult(statistic=0.8985524773597717, pvalue=5.791945648271494e-16)"
      ]
     },
     "execution_count": 63,
     "metadata": {},
     "output_type": "execute_result"
    }
   ],
   "source": [
    "# We check with shapiro\n",
    "\n",
    "stats.shapiro(European_prices_df.Price[European_prices_df.State == 'Ireland'])\n"
   ]
  },
  {
   "cell_type": "code",
   "execution_count": null,
   "id": "16c7237c-cf76-4484-92b0-a0c4980e9886",
   "metadata": {},
   "outputs": [
    {
     "data": {
      "text/plain": [
       "ShapiroResult(statistic=0.916758120059967, pvalue=1.636619767660108e-12)"
      ]
     },
     "execution_count": 58,
     "metadata": {},
     "output_type": "execute_result"
    }
   ],
   "source": [
    "# We check with shapiro\n",
    "\n",
    "stats.shapiro(European_prices_df.Price[European_prices_df.State == 'France'])"
   ]
  },
  {
   "cell_type": "code",
   "execution_count": 22,
   "id": "93e94cf3-5ca2-42cb-9aaf-e1942b15ba5a",
   "metadata": {},
   "outputs": [
    {
     "data": {
      "text/plain": [
       "ShapiroResult(statistic=0.9195308685302734, pvalue=1.935207913125532e-19)"
      ]
     },
     "execution_count": 22,
     "metadata": {},
     "output_type": "execute_result"
    }
   ],
   "source": [
    "#Check normality of all the variables\n",
    "stats.shapiro(European_prices_df.Price)"
   ]
  },
  {
   "cell_type": "raw",
   "id": "20fae515-b45f-49c9-bdf9-cba5bd6b4954",
   "metadata": {},
   "source": []
  },
  {
   "cell_type": "code",
   "execution_count": 67,
   "id": "6a360a24-75c7-436f-b4b0-5aa5ea8e8919",
   "metadata": {},
   "outputs": [
    {
     "data": {
      "text/plain": [
       "Power_divergenceResult(statistic=13338.422645126839, pvalue=0.0)"
      ]
     },
     "execution_count": 67,
     "metadata": {},
     "output_type": "execute_result"
    }
   ],
   "source": [
    "from scipy.stats import chisquare\n",
    "stats.chisquare(European_prices_df.Price[European_prices_df.State == 'France'])"
   ]
  },
  {
   "cell_type": "code",
   "execution_count": null,
   "id": "793174b4-c3c9-47ea-aef2-fcadb78e764e",
   "metadata": {},
   "outputs": [],
   "source": []
  },
  {
   "cell_type": "markdown",
   "id": "dab952fa-e7ab-4629-b754-b784a4c9ea7f",
   "metadata": {
    "tags": []
   },
   "source": [
    "### **Testing for a Inferential Statistics in the European_prices_df Dataframe  : Ireland and France combined**"
   ]
  },
  {
   "cell_type": "markdown",
   "id": "386a52ab-c0bc-4940-9a17-80c7a6797c0c",
   "metadata": {},
   "source": [
    "### **3.5 Levene Test**\n",
    "\n",
    "ref#https://towardsdatascience.com/levenes-test-for-equality-of-variances-explained-with-python-examples-f0445a19805f"
   ]
  },
  {
   "cell_type": "code",
   "execution_count": 69,
   "id": "32df27d8-f921-4977-9000-4ab171b6e932",
   "metadata": {},
   "outputs": [],
   "source": [
    "#Checking variances with Levene\n",
    "\n",
    "France = European_prices_df.Price[European_prices_df.State == 'France']\n",
    "Ireland = European_prices_df.Price[European_prices_df.State == 'Ireland']\n"
   ]
  },
  {
   "cell_type": "code",
   "execution_count": 71,
   "id": "7f2a27df-ee4e-4ed3-922e-38618ff558ab",
   "metadata": {},
   "outputs": [
    {
     "data": {
      "text/plain": [
       "LeveneResult(statistic=1.6880031837523026, pvalue=0.1942690394090933)"
      ]
     },
     "execution_count": 71,
     "metadata": {},
     "output_type": "execute_result"
    }
   ],
   "source": [
    "levene(Ireland,France ,center = 'mean')"
   ]
  },
  {
   "cell_type": "markdown",
   "id": "77519daf-4c15-463b-82eb-2b2cb6854899",
   "metadata": {},
   "source": [
    "### **3.6 ANOVA One -Way**"
   ]
  },
  {
   "cell_type": "code",
   "execution_count": 25,
   "id": "718d3141-0d73-470a-b9fb-802eb2fc434e",
   "metadata": {},
   "outputs": [
    {
     "name": "stdout",
     "output_type": "stream",
     "text": [
      "             df        sum_sq        mean_sq         F        PR(>F)\n",
      "State       1.0  6.491456e+05  649145.603515  35.33819  4.268814e-09\n",
      "Residual  740.0  1.359344e+07   18369.520258       NaN           NaN\n"
     ]
    }
   ],
   "source": [
    "#We perform ANOVA\n",
    "\n",
    "model = ols('Price~State', data = European_prices_df).fit()\n",
    "aov = sm.stats.anova_lm(model, type = 2)\n",
    "print(aov)"
   ]
  },
  {
   "cell_type": "markdown",
   "id": "db623dca-4b13-4d45-8658-1f9ea296f1c2",
   "metadata": {},
   "source": [
    "### **3.6.1  ANOVA two -Way**"
   ]
  },
  {
   "cell_type": "code",
   "execution_count": 26,
   "id": "af8d0db5-999b-42cf-a15d-8e710fc78036",
   "metadata": {},
   "outputs": [
    {
     "name": "stdout",
     "output_type": "stream",
     "text": [
      "             df        sum_sq        mean_sq          F        PR(>F)\n",
      "State       1.0  6.491456e+05  649145.603515  35.715780  3.550049e-09\n",
      "Month       1.0  1.618860e+05  161886.000304   8.906915  2.934610e-03\n",
      "Residual  739.0  1.343156e+07   18175.316631        NaN           NaN\n"
     ]
    }
   ],
   "source": [
    "#ANOVA TWO WAYS\n",
    "model2 = ols('Price~State+Month', data = European_prices_df).fit()\n",
    "aov2 = sm.stats.anova_lm(model2, type=2)\n",
    "print(aov2)"
   ]
  },
  {
   "cell_type": "markdown",
   "id": "cc690726-2b40-405d-b5b7-727905df6d12",
   "metadata": {},
   "source": [
    "### **3.7  T-Test, one  populations**\n",
    "\n",
    "we would like to know the butter prices . Looking at the Irish butter prices results, in average prices are calculate monthly . The auditor wants to verify if this afirmation is true, and he takes a sample of 30 employees and handle the data collected to you to perform a test and prove the claim. At a 5% significance level, could you verify the affirmation?\n"
   ]
  },
  {
   "cell_type": "code",
   "execution_count": 27,
   "id": "94a4056e-17c7-4116-898c-4f460ebb47b4",
   "metadata": {},
   "outputs": [
    {
     "data": {
      "text/plain": [
       "0      283\n",
       "1     1132\n",
       "2     1132\n",
       "3     1525\n",
       "4     1242\n",
       "      ... \n",
       "88    2498\n",
       "89    2884\n",
       "90    2932\n",
       "91    2954\n",
       "92    2678\n",
       "Name: Price (�/100kg), Length: 93, dtype: int64"
      ]
     },
     "execution_count": 27,
     "metadata": {},
     "output_type": "execute_result"
    }
   ],
   "source": [
    "# Define the variable \n",
    "#x = Irish Butter Prices (in euros)\n",
    "X = Irish_prices_df['Price (�/100kg)']; X"
   ]
  },
  {
   "cell_type": "code",
   "execution_count": 28,
   "id": "8fdd210f-43e8-4a72-8812-4c2df9cb8ac9",
   "metadata": {},
   "outputs": [
    {
     "data": {
      "text/plain": [
       "Ttest_1sampResult(statistic=21.295134006198634, pvalue=2.513954687136661e-37)"
      ]
     },
     "execution_count": 28,
     "metadata": {},
     "output_type": "execute_result"
    }
   ],
   "source": [
    "#H0 : u = 500\n",
    "#H1 : u =!500\n",
    "#stats.ttest_1samp(X,mu of H0)\n",
    "stats.ttest_1samp(X,500)\n"
   ]
  },
  {
   "cell_type": "markdown",
   "id": "0ee6d77a-4c4f-41ee-a8c3-361dc13d2887",
   "metadata": {},
   "source": [
    "We reject H0 ---> We accept H1, so there is enough evidence to say that the average salary is not 65k yearly."
   ]
  },
  {
   "cell_type": "markdown",
   "id": "c300f0e7-22d3-4ddc-9d91-6902cb8ac0d0",
   "metadata": {},
   "source": [
    "Suppose we want to know if the irish butter prices is, in average, greater than 500 euro/100kg. Calculate the test at a 5% significance level."
   ]
  },
  {
   "cell_type": "code",
   "execution_count": 29,
   "id": "3ac728e6-6e0b-404e-96c2-a729b392aabc",
   "metadata": {},
   "outputs": [
    {
     "data": {
      "text/plain": [
       "1.2569773435683305e-37"
      ]
     },
     "execution_count": 29,
     "metadata": {},
     "output_type": "execute_result"
    }
   ],
   "source": [
    "#H1 : u > 500\n",
    "stats.t.sf(21.295134006198634, 92)\n"
   ]
  },
  {
   "cell_type": "markdown",
   "id": "f2a86532-7724-4b3e-b51d-53d4d0fc98d4",
   "metadata": {},
   "source": [
    "We reject H0, thus, there is enough evidence to say that the irish butter prices average is greater than 500"
   ]
  },
  {
   "cell_type": "markdown",
   "id": "b01aff4f-eb31-45b9-9a23-dcbf6ff6d206",
   "metadata": {},
   "source": [
    "### **3.7  T-Test, two populations**"
   ]
  },
  {
   "cell_type": "markdown",
   "id": "d61626fb-7ce6-49fc-ad60-df4df7fb46cc",
   "metadata": {},
   "source": [
    "Question = , in average, are there  differences between the butter prices between France and Ireland.  At a 5% significante level, solve this"
   ]
  },
  {
   "cell_type": "code",
   "execution_count": 30,
   "id": "26e1b472-a050-4d88-b511-2fca885f1e7c",
   "metadata": {},
   "outputs": [],
   "source": [
    "#We group the data according to the States\n",
    "\n",
    "Ireland = European_prices_df.query('State == \"Ireland\"')['Price']\n",
    "France = European_prices_df.query('State == \"France\"')['Price']"
   ]
  },
  {
   "cell_type": "code",
   "execution_count": 32,
   "id": "10f84cc2-c71d-40ee-a057-7d1f46b36ced",
   "metadata": {},
   "outputs": [
    {
     "data": {
      "text/plain": [
       "Ttest_indResult(statistic=-5.944593371312372, pvalue=4.268814384304524e-09)"
      ]
     },
     "metadata": {},
     "output_type": "display_data"
    }
   ],
   "source": [
    "#We perform the test assuming as H0 that mu1 = mu2 (France prices = Ireland Prices)\n",
    "test = stats.ttest_ind(Ireland, France, \n",
    "                      equal_var=True)\n",
    "\n",
    "display(test)"
   ]
  },
  {
   "cell_type": "code",
   "execution_count": 72,
   "id": "e5d1c530-81d4-4705-a130-5d1d1330070d",
   "metadata": {},
   "outputs": [
    {
     "data": {
      "text/plain": [
       "Ttest_indResult(statistic=-5.91254496355385, pvalue=5.310321316127166e-09)"
      ]
     },
     "metadata": {},
     "output_type": "display_data"
    }
   ],
   "source": [
    "#We perform the test assuming as H0 that mu1 not equal mu2 (France prices not equal Ireland Prices)\n",
    "test = stats.ttest_ind(Ireland, France, \n",
    "                      equal_var=False)\n",
    "\n",
    "display(test)"
   ]
  },
  {
   "cell_type": "markdown",
   "id": "d7c45b4c-5ffa-49a3-942c-39b3622d962b",
   "metadata": {},
   "source": [
    "### **3.8 Kruskal-Wallis H-test**\n",
    "\n",
    "References : https://docs.scipy.org/doc/scipy/reference/generated/scipy.stats.kruskal.html\n",
    "\n",
    "The Kruskal-Wallis H-test tests the null hypothesis that the population median of all of the groups are equal. It is a non-parametric version of ANOVA. The test works on 2 or more independent samples, which may have different sizes. Note that rejecting the null hypothesis does not indicate which of the groups differs. Post hoc comparisons between groups are required to determine which groups are different.\n",
    "\n",
    "\n"
   ]
  },
  {
   "cell_type": "code",
   "execution_count": 34,
   "id": "efdc0a3f-d55d-4797-836c-3c0ae86b6d9e",
   "metadata": {},
   "outputs": [],
   "source": [
    "#We group the data according to the States\n",
    "\n",
    "Ireland = European_prices_df.query('State == \"Ireland\"')['Price']\n",
    "France = European_prices_df.query('State == \"France\"')['Price']"
   ]
  },
  {
   "cell_type": "code",
   "execution_count": 35,
   "id": "59b74ddb-656a-480e-8165-b1da72b7661e",
   "metadata": {},
   "outputs": [
    {
     "data": {
      "text/plain": [
       "KruskalResult(statistic=47.22728772728683, pvalue=6.321423826872911e-12)"
      ]
     },
     "execution_count": 35,
     "metadata": {},
     "output_type": "execute_result"
    }
   ],
   "source": [
    "stats.kruskal(Ireland, France)"
   ]
  },
  {
   "cell_type": "markdown",
   "id": "af885297-1f6a-4fcd-9582-d441d82d20e9",
   "metadata": {},
   "source": [
    " ### **3.9 Friedman chi square**"
   ]
  },
  {
   "cell_type": "code",
   "execution_count": 52,
   "id": "2750983d-b44c-4711-8d0e-468d730b7ecf",
   "metadata": {},
   "outputs": [
    {
     "ename": "ValueError",
     "evalue": "Unequal N in friedmanchisquare.  Aborting.",
     "output_type": "error",
     "traceback": [
      "\u001b[1;31m---------------------------------------------------------------------------\u001b[0m",
      "\u001b[1;31mValueError\u001b[0m                                Traceback (most recent call last)",
      "Input \u001b[1;32mIn [52]\u001b[0m, in \u001b[0;36m<cell line: 3>\u001b[1;34m()\u001b[0m\n\u001b[0;32m      1\u001b[0m \u001b[38;5;28;01mfrom\u001b[39;00m \u001b[38;5;21;01mscipy\u001b[39;00m\u001b[38;5;21;01m.\u001b[39;00m\u001b[38;5;21;01mstats\u001b[39;00m \u001b[38;5;28;01mimport\u001b[39;00m friedmanchisquare\n\u001b[0;32m      2\u001b[0m \u001b[38;5;66;03m# compare samples\u001b[39;00m\n\u001b[1;32m----> 3\u001b[0m stat, p \u001b[38;5;241m=\u001b[39m \u001b[43mfriedmanchisquare\u001b[49m\u001b[43m(\u001b[49m\u001b[43mIreland\u001b[49m\u001b[43m,\u001b[49m\u001b[43m \u001b[49m\u001b[43mFrance\u001b[49m\u001b[43m,\u001b[49m\u001b[43mEuropean_prices_df\u001b[49m\u001b[43m)\u001b[49m\n\u001b[0;32m      4\u001b[0m \u001b[38;5;28mprint\u001b[39m(\u001b[38;5;124m'\u001b[39m\u001b[38;5;124mStatistics=\u001b[39m\u001b[38;5;132;01m%.3f\u001b[39;00m\u001b[38;5;124m, p=\u001b[39m\u001b[38;5;132;01m%.3f\u001b[39;00m\u001b[38;5;124m'\u001b[39m \u001b[38;5;241m%\u001b[39m (stat, p))\n\u001b[0;32m      5\u001b[0m \u001b[38;5;66;03m# interpret\u001b[39;00m\n",
      "File \u001b[1;32m~\\Anaconda3\\lib\\site-packages\\scipy\\stats\\stats.py:7958\u001b[0m, in \u001b[0;36mfriedmanchisquare\u001b[1;34m(*args)\u001b[0m\n\u001b[0;32m   7956\u001b[0m \u001b[38;5;28;01mfor\u001b[39;00m i \u001b[38;5;129;01min\u001b[39;00m \u001b[38;5;28mrange\u001b[39m(\u001b[38;5;241m1\u001b[39m, k):\n\u001b[0;32m   7957\u001b[0m     \u001b[38;5;28;01mif\u001b[39;00m \u001b[38;5;28mlen\u001b[39m(args[i]) \u001b[38;5;241m!=\u001b[39m n:\n\u001b[1;32m-> 7958\u001b[0m         \u001b[38;5;28;01mraise\u001b[39;00m \u001b[38;5;167;01mValueError\u001b[39;00m(\u001b[38;5;124m'\u001b[39m\u001b[38;5;124mUnequal N in friedmanchisquare.  Aborting.\u001b[39m\u001b[38;5;124m'\u001b[39m)\n\u001b[0;32m   7960\u001b[0m \u001b[38;5;66;03m# Rank data\u001b[39;00m\n\u001b[0;32m   7961\u001b[0m data \u001b[38;5;241m=\u001b[39m np\u001b[38;5;241m.\u001b[39mvstack(args)\u001b[38;5;241m.\u001b[39mT\n",
      "\u001b[1;31mValueError\u001b[0m: Unequal N in friedmanchisquare.  Aborting."
     ]
    }
   ],
   "source": [
    "from scipy.stats import friedmanchisquare\n",
    "# compare samples\n",
    "stat, p = friedmanchisquare(Ireland, France)\n",
    "print('Statistics=%.3f, p=%.3f' % (stat, p))\n",
    "# interpret\n",
    "alpha = 0.05\n",
    "if p > alpha:\n",
    " print('Same distributions (fail to reject H0)')\n",
    "else:\n",
    " print('Different distributions (reject H0)')"
   ]
  },
  {
   "cell_type": "markdown",
   "id": "d678ebd2-22d7-463c-b582-e699eea5475f",
   "metadata": {},
   "source": [
    "### **3.10 Wilcoxon Test** "
   ]
  },
  {
   "cell_type": "code",
   "execution_count": 36,
   "id": "47ed74b6-43f7-45c0-88c6-765c751ee309",
   "metadata": {},
   "outputs": [],
   "source": [
    "from scipy.stats import wilcoxon"
   ]
  },
  {
   "cell_type": "code",
   "execution_count": 37,
   "id": "ea80dff6-e0b6-476b-91bc-5114da1bdb5e",
   "metadata": {},
   "outputs": [],
   "source": [
    "#We group the data according to the States\n",
    "\n",
    "Ireland = European_prices_df.query('State == \"Ireland\"')['Price']\n",
    "France = European_prices_df.query('State == \"France\"')['Price']"
   ]
  },
  {
   "cell_type": "code",
   "execution_count": 57,
   "id": "3e2f9829-3da6-4c89-9988-36dff6c49af7",
   "metadata": {},
   "outputs": [
    {
     "data": {
      "text/plain": [
       "Series([], Name: Price, dtype: int64)"
      ]
     },
     "execution_count": 57,
     "metadata": {},
     "output_type": "execute_result"
    }
   ],
   "source": [
    "Ireland2021"
   ]
  },
  {
   "cell_type": "code",
   "execution_count": 42,
   "id": "11871b30-6767-49d3-801c-92f634c69fc9",
   "metadata": {},
   "outputs": [
    {
     "data": {
      "text/plain": [
       "(328,)"
      ]
     },
     "execution_count": 42,
     "metadata": {},
     "output_type": "execute_result"
    }
   ],
   "source": [
    "France.shape"
   ]
  },
  {
   "cell_type": "code",
   "execution_count": 40,
   "id": "db4f9119-6c2b-4731-9c45-59a8e1661cf7",
   "metadata": {},
   "outputs": [
    {
     "ename": "ValueError",
     "evalue": "The samples x and y must have the same length.",
     "output_type": "error",
     "traceback": [
      "\u001b[1;31m---------------------------------------------------------------------------\u001b[0m",
      "\u001b[1;31mValueError\u001b[0m                                Traceback (most recent call last)",
      "Input \u001b[1;32mIn [40]\u001b[0m, in \u001b[0;36m<cell line: 2>\u001b[1;34m()\u001b[0m\n\u001b[0;32m      1\u001b[0m \u001b[38;5;66;03m# conduct the Wilcoxon-Signed Rank Test\u001b[39;00m\n\u001b[1;32m----> 2\u001b[0m \u001b[43mstats\u001b[49m\u001b[38;5;241;43m.\u001b[39;49m\u001b[43mwilcoxon\u001b[49m\u001b[43m(\u001b[49m\u001b[43mIreland\u001b[49m\u001b[43m,\u001b[49m\u001b[43mFrance\u001b[49m\u001b[43m)\u001b[49m\n",
      "File \u001b[1;32m~\\Anaconda3\\lib\\site-packages\\scipy\\stats\\morestats.py:3129\u001b[0m, in \u001b[0;36mwilcoxon\u001b[1;34m(x, y, zero_method, correction, alternative, mode)\u001b[0m\n\u001b[0;32m   3127\u001b[0m         \u001b[38;5;28;01mraise\u001b[39;00m \u001b[38;5;167;01mValueError\u001b[39;00m(\u001b[38;5;124m'\u001b[39m\u001b[38;5;124mSamples x and y must be one-dimensional.\u001b[39m\u001b[38;5;124m'\u001b[39m)\n\u001b[0;32m   3128\u001b[0m     \u001b[38;5;28;01mif\u001b[39;00m \u001b[38;5;28mlen\u001b[39m(x) \u001b[38;5;241m!=\u001b[39m \u001b[38;5;28mlen\u001b[39m(y):\n\u001b[1;32m-> 3129\u001b[0m         \u001b[38;5;28;01mraise\u001b[39;00m \u001b[38;5;167;01mValueError\u001b[39;00m(\u001b[38;5;124m'\u001b[39m\u001b[38;5;124mThe samples x and y must have the same length.\u001b[39m\u001b[38;5;124m'\u001b[39m)\n\u001b[0;32m   3130\u001b[0m     d \u001b[38;5;241m=\u001b[39m x \u001b[38;5;241m-\u001b[39m y\n\u001b[0;32m   3132\u001b[0m \u001b[38;5;28;01mif\u001b[39;00m mode \u001b[38;5;241m==\u001b[39m \u001b[38;5;124m\"\u001b[39m\u001b[38;5;124mauto\u001b[39m\u001b[38;5;124m\"\u001b[39m:\n",
      "\u001b[1;31mValueError\u001b[0m: The samples x and y must have the same length."
     ]
    }
   ],
   "source": [
    "# conduct the Wilcoxon-Signed Rank Test\n",
    "stats.wilcoxon(Ireland,France)"
   ]
  },
  {
   "cell_type": "code",
   "execution_count": null,
   "id": "67ef18e9-1e15-4867-9aa5-80a7d52283d2",
   "metadata": {},
   "outputs": [],
   "source": []
  },
  {
   "cell_type": "code",
   "execution_count": null,
   "id": "8081abbc-b295-4aea-996d-15f1f555af19",
   "metadata": {},
   "outputs": [],
   "source": []
  }
 ],
 "metadata": {
  "kernelspec": {
   "display_name": "Python 3 (ipykernel)",
   "language": "python",
   "name": "python3"
  },
  "language_info": {
   "codemirror_mode": {
    "name": "ipython",
    "version": 3
   },
   "file_extension": ".py",
   "mimetype": "text/x-python",
   "name": "python",
   "nbconvert_exporter": "python",
   "pygments_lexer": "ipython3",
   "version": "3.9.12"
  },
  "widgets": {
   "application/vnd.jupyter.widget-state+json": {
    "state": {},
    "version_major": 2,
    "version_minor": 0
   }
  }
 },
 "nbformat": 4,
 "nbformat_minor": 5
}
