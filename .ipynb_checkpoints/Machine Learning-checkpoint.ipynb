{
 "cells": [
  {
   "cell_type": "code",
   "execution_count": 1,
   "id": "29047c63-bbbc-4113-bd58-c7d3fee6ff22",
   "metadata": {},
   "outputs": [],
   "source": [
    "# Importing the libraries\n",
    "\n",
    "# Numerical arrays.\n",
    "import numpy as np\n",
    "\n",
    "# Data frames.\n",
    "import pandas as pd\n",
    "\n",
    "# Plotting.\n",
    "import matplotlib.pyplot as plt\n",
    "\n",
    "# Logistic regression.\n",
    "import sklearn.linear_model as lm\n",
    "\n",
    "# K nearest neighbours.\n",
    "import sklearn.neighbors as nei\n",
    "\n",
    "# Helper functions.\n",
    "import sklearn.model_selection as mod\n",
    "\n",
    "# Fancier, statistical plots.\n",
    "import seaborn as sns\n",
    "import matplotlib.pyplot as plt\n",
    "%matplotlib inline  \n",
    "sns.set(color_codes=True) \n",
    "\n",
    "\n",
    "from sklearn.preprocessing import StandardScaler, normalize\n",
    "from sklearn.cluster import KMeans\n",
    "\n",
    "from sklearn.preprocessing import MinMaxScaler\n",
    "from sklearn.neighbors import KNeighborsClassifier\n",
    "from sklearn.neighbors import KNeighborsRegressor\n",
    "from sklearn.metrics import accuracy_score\n",
    "from sklearn.metrics import mean_squared_error\n",
    "from math import sqrt\n",
    "\n",
    "import sklearn.datasets as datasets\n",
    "import sklearn.preprocessing as preprocessing\n",
    "import sklearn.model_selection as model_selection\n",
    "import sklearn.metrics as metrics\n",
    "import sklearn.linear_model as linear_model\n",
    "from sklearn.metrics import mean_squared_error\n",
    "from sklearn.metrics import max_error\n",
    "\n",
    "\n",
    "from sklearn.model_selection import train_test_split\n",
    "from sklearn.base import BaseEstimator, TransformerMixin\n",
    "\n",
    "from sklearn.preprocessing import StandardScaler\n",
    "from sklearn.preprocessing import MinMaxScaler\n",
    "\n",
    "# Packages needed for regression\n",
    "from sklearn.model_selection import cross_val_score\n",
    "from sklearn.model_selection import GridSearchCV\n",
    "\n",
    "from sklearn.metrics import r2_score\n",
    "\n",
    "from sklearn.model_selection import KFold\n",
    "\n",
    "from sklearn.linear_model import LinearRegression\n",
    "from sklearn.neighbors import KNeighborsRegressor\n",
    "from sklearn.neural_network import MLPRegressor\n",
    "\n",
    "# import statistic library\n",
    "from scipy import stats\n",
    "import statsmodels.api as sm\n",
    "from datetime import datetime\n",
    "import warnings\n",
    "warnings.filterwarnings('ignore')\n"
   ]
  },
  {
   "cell_type": "code",
   "execution_count": 2,
   "id": "0a35383b-22ec-4554-8a95-f889d3d613d5",
   "metadata": {},
   "outputs": [
    {
     "name": "stdout",
     "output_type": "stream",
     "text": [
      "<class 'pandas.core.frame.DataFrame'>\n",
      "RangeIndex: 93 entries, 0 to 92\n",
      "Data columns (total 5 columns):\n",
      " #   Column           Non-Null Count  Dtype \n",
      "---  ------           --------------  ----- \n",
      " 0   Unnamed: 0       93 non-null     int64 \n",
      " 1   Begin Date       93 non-null     object\n",
      " 2   Month            93 non-null     int64 \n",
      " 3   Year             93 non-null     int64 \n",
      " 4   Price (�/100kg)  93 non-null     int64 \n",
      "dtypes: int64(4), object(1)\n",
      "memory usage: 3.8+ KB\n"
     ]
    }
   ],
   "source": [
    "Irish_prices_df = pd.read_csv(\"Datasets/Irish_df.csv\")\n",
    "\n",
    "Irish_prices_df.info()"
   ]
  },
  {
   "cell_type": "code",
   "execution_count": 3,
   "id": "cec26981-e030-4ee8-aeeb-06affc0dff58",
   "metadata": {},
   "outputs": [],
   "source": [
    "Irish_prices_df.rename(columns = {'Price (�/100kg)':'Price'}, inplace = True)"
   ]
  },
  {
   "cell_type": "code",
   "execution_count": 4,
   "id": "d027f0e9-b20e-4884-8f37-7c57080d7be5",
   "metadata": {},
   "outputs": [
    {
     "data": {
      "text/html": [
       "<div>\n",
       "<style scoped>\n",
       "    .dataframe tbody tr th:only-of-type {\n",
       "        vertical-align: middle;\n",
       "    }\n",
       "\n",
       "    .dataframe tbody tr th {\n",
       "        vertical-align: top;\n",
       "    }\n",
       "\n",
       "    .dataframe thead th {\n",
       "        text-align: right;\n",
       "    }\n",
       "</style>\n",
       "<table border=\"1\" class=\"dataframe\">\n",
       "  <thead>\n",
       "    <tr style=\"text-align: right;\">\n",
       "      <th></th>\n",
       "      <th>Unnamed: 0</th>\n",
       "      <th>Begin Date</th>\n",
       "      <th>Month</th>\n",
       "      <th>Year</th>\n",
       "      <th>Price</th>\n",
       "    </tr>\n",
       "  </thead>\n",
       "  <tbody>\n",
       "    <tr>\n",
       "      <th>0</th>\n",
       "      <td>0</td>\n",
       "      <td>2014-12-31</td>\n",
       "      <td>12</td>\n",
       "      <td>2014</td>\n",
       "      <td>283</td>\n",
       "    </tr>\n",
       "    <tr>\n",
       "      <th>1</th>\n",
       "      <td>1</td>\n",
       "      <td>2015-01-31</td>\n",
       "      <td>1</td>\n",
       "      <td>2015</td>\n",
       "      <td>1132</td>\n",
       "    </tr>\n",
       "    <tr>\n",
       "      <th>2</th>\n",
       "      <td>2</td>\n",
       "      <td>2015-02-28</td>\n",
       "      <td>2</td>\n",
       "      <td>2015</td>\n",
       "      <td>1132</td>\n",
       "    </tr>\n",
       "    <tr>\n",
       "      <th>3</th>\n",
       "      <td>3</td>\n",
       "      <td>2015-03-31</td>\n",
       "      <td>3</td>\n",
       "      <td>2015</td>\n",
       "      <td>1525</td>\n",
       "    </tr>\n",
       "    <tr>\n",
       "      <th>4</th>\n",
       "      <td>4</td>\n",
       "      <td>2015-04-30</td>\n",
       "      <td>4</td>\n",
       "      <td>2015</td>\n",
       "      <td>1242</td>\n",
       "    </tr>\n",
       "    <tr>\n",
       "      <th>...</th>\n",
       "      <td>...</td>\n",
       "      <td>...</td>\n",
       "      <td>...</td>\n",
       "      <td>...</td>\n",
       "      <td>...</td>\n",
       "    </tr>\n",
       "    <tr>\n",
       "      <th>88</th>\n",
       "      <td>88</td>\n",
       "      <td>2022-04-30</td>\n",
       "      <td>4</td>\n",
       "      <td>2022</td>\n",
       "      <td>2498</td>\n",
       "    </tr>\n",
       "    <tr>\n",
       "      <th>89</th>\n",
       "      <td>90</td>\n",
       "      <td>2022-06-30</td>\n",
       "      <td>6</td>\n",
       "      <td>2022</td>\n",
       "      <td>2884</td>\n",
       "    </tr>\n",
       "    <tr>\n",
       "      <th>90</th>\n",
       "      <td>91</td>\n",
       "      <td>2022-07-31</td>\n",
       "      <td>7</td>\n",
       "      <td>2022</td>\n",
       "      <td>2932</td>\n",
       "    </tr>\n",
       "    <tr>\n",
       "      <th>91</th>\n",
       "      <td>93</td>\n",
       "      <td>2022-09-30</td>\n",
       "      <td>9</td>\n",
       "      <td>2022</td>\n",
       "      <td>2954</td>\n",
       "    </tr>\n",
       "    <tr>\n",
       "      <th>92</th>\n",
       "      <td>95</td>\n",
       "      <td>2022-11-30</td>\n",
       "      <td>11</td>\n",
       "      <td>2022</td>\n",
       "      <td>2678</td>\n",
       "    </tr>\n",
       "  </tbody>\n",
       "</table>\n",
       "<p>93 rows × 5 columns</p>\n",
       "</div>"
      ],
      "text/plain": [
       "    Unnamed: 0  Begin Date  Month  Year  Price\n",
       "0            0  2014-12-31     12  2014    283\n",
       "1            1  2015-01-31      1  2015   1132\n",
       "2            2  2015-02-28      2  2015   1132\n",
       "3            3  2015-03-31      3  2015   1525\n",
       "4            4  2015-04-30      4  2015   1242\n",
       "..         ...         ...    ...   ...    ...\n",
       "88          88  2022-04-30      4  2022   2498\n",
       "89          90  2022-06-30      6  2022   2884\n",
       "90          91  2022-07-31      7  2022   2932\n",
       "91          93  2022-09-30      9  2022   2954\n",
       "92          95  2022-11-30     11  2022   2678\n",
       "\n",
       "[93 rows x 5 columns]"
      ]
     },
     "execution_count": 4,
     "metadata": {},
     "output_type": "execute_result"
    }
   ],
   "source": [
    "Irish_prices_df"
   ]
  },
  {
   "cell_type": "markdown",
   "id": "c754522f-1c0a-4d6a-85af-2c420115db0b",
   "metadata": {},
   "source": [
    "ref:#https://sparkbyexamples.com/pandas/how-to-split-pandas-dataframe/\n",
    "\n",
    "#grouped = Irish_prices_df.groupby(Irish_prices_df.Year)\n",
    "#IrishButterPrices2022 = grouped.get_group(2022)\n",
    "#print(IrishButterPrices2022)"
   ]
  },
  {
   "cell_type": "markdown",
   "id": "e702f199-6eac-486a-b0cb-f58fbb1fd713",
   "metadata": {},
   "source": [
    "##### **Test and Train Split**"
   ]
  },
  {
   "cell_type": "markdown",
   "id": "4820a846-107b-435c-9150-b710c4760412",
   "metadata": {},
   "source": [
    "Split the data into training and test sets in Python using scikit-learn’s built-in train_test_split():\n",
    "\n",
    "The test_size refers to the number of observations that you want to put in the training data and the test data. If you specify a test_size of 0.2, your test_size will be 20 percent of the original data, therefore leaving the other 80 percent as training data.\n",
    "\n",
    "The random_state is a parameter that allows you to obtain the same results every time the code is run. train_test_split() makes a random split in the data, which is problematic for reproducing the results. Therefore, it’s common to use random_state."
   ]
  },
  {
   "cell_type": "code",
   "execution_count": 5,
   "id": "ad90f5c3-7b7e-40ca-acba-7389afa74d70",
   "metadata": {},
   "outputs": [],
   "source": [
    "#creating 2 objects that now contain data :x and y . \n",
    "\n",
    "X =Irish_prices_df.drop(columns =['Unnamed: 0',\"Begin Date\",'Month','Price'])\n",
    "y = Irish_prices_df['Price']\n",
    "\n",
    "from sklearn.model_selection import train_test_split\n",
    "X_train, X_test, y_train, y_test = train_test_split(X,y, test_size=0.4, random_state=0)"
   ]
  },
  {
   "cell_type": "code",
   "execution_count": 6,
   "id": "d5db2aaf-1626-4e47-b9bc-a7b42527725d",
   "metadata": {},
   "outputs": [],
   "source": [
    "#fit a model\n",
    "lm = linear_model.LinearRegression()\n",
    "model = lm.fit(X_train, y_train)\n",
    "predictions = lm.predict(X_test)"
   ]
  },
  {
   "cell_type": "code",
   "execution_count": 7,
   "id": "c86bbca0-c833-4b05-9425-05cf28f17bac",
   "metadata": {},
   "outputs": [
    {
     "data": {
      "text/plain": [
       "array([1363.76819127, 1599.56652807, 1835.36486486, 1481.66735967,\n",
       "       1481.66735967])"
      ]
     },
     "execution_count": 7,
     "metadata": {},
     "output_type": "execute_result"
    }
   ],
   "source": [
    "predictions[0:5]"
   ]
  },
  {
   "cell_type": "code",
   "execution_count": 8,
   "id": "caa33b16-7589-4050-94d7-3f13b710e02f",
   "metadata": {},
   "outputs": [
    {
     "data": {
      "text/plain": [
       "Text(0, 0.5, 'Predictions')"
      ]
     },
     "execution_count": 8,
     "metadata": {},
     "output_type": "execute_result"
    },
    {
     "data": {
      "image/png": "[encoded data removed]",
      "text/plain": [
       "<Figure size 432x288 with 1 Axes>"
      ]
     },
     "metadata": {},
     "output_type": "display_data"
    }
   ],
   "source": [
    "## The line / model\n",
    "plt.scatter(y_test, predictions)\n",
    "plt.xlabel('True Values')\n",
    "plt.ylabel('Predictions')"
   ]
  },
  {
   "cell_type": "code",
   "execution_count": 9,
   "id": "6fbf7c84-db80-44e8-8fe9-473938cef67d",
   "metadata": {},
   "outputs": [
    {
     "data": {
      "text/plain": [
       "0.07660308656332027"
      ]
     },
     "execution_count": 9,
     "metadata": {},
     "output_type": "execute_result"
    }
   ],
   "source": [
    "model.score(X_test, y_test)"
   ]
  },
  {
   "cell_type": "code",
   "execution_count": null,
   "id": "b27f7394-e3ce-4bf2-8285-43f6a6542c54",
   "metadata": {},
   "outputs": [],
   "source": []
  },
  {
   "cell_type": "code",
   "execution_count": 10,
   "id": "d00623d3-2838-4594-93a2-8b23d0521cfd",
   "metadata": {},
   "outputs": [
    {
     "data": {
      "text/plain": [
       "((55, 1), (38, 1), (55,), (38,))"
      ]
     },
     "execution_count": 10,
     "metadata": {},
     "output_type": "execute_result"
    }
   ],
   "source": [
    " #Print the shape of training and testing data along with its labels.\n",
    "\n",
    "X_train.shape, X_test.shape, y_train.shape, y_test.shape"
   ]
  },
  {
   "cell_type": "code",
   "execution_count": 11,
   "id": "ba2d8f93-88db-4458-887f-d3ca6d372274",
   "metadata": {},
   "outputs": [
    {
     "data": {
      "text/plain": [
       "Year    int64\n",
       "dtype: object"
      ]
     },
     "execution_count": 11,
     "metadata": {},
     "output_type": "execute_result"
    }
   ],
   "source": [
    "X.dtypes"
   ]
  },
  {
   "cell_type": "code",
   "execution_count": 12,
   "id": "6e10ea27-11c7-4b3b-b76b-21dc5ec95d64",
   "metadata": {},
   "outputs": [
    {
     "data": {
      "text/plain": [
       "dtype('int64')"
      ]
     },
     "execution_count": 12,
     "metadata": {},
     "output_type": "execute_result"
    }
   ],
   "source": [
    "y.dtypes"
   ]
  },
  {
   "cell_type": "markdown",
   "id": "16cc695c-04a6-4a56-82bb-5bd2e052198e",
   "metadata": {},
   "source": [
    "## Scaling of the data : Normalisation"
   ]
  },
  {
   "cell_type": "markdown",
   "id": "865862cd-4645-4f58-9ccc-8987ea5d49f8",
   "metadata": {},
   "source": [
    "This is a crucial part of data preprocessing stage . Here we use standardization instead of normalization as we know that the data follows a gaussian distribution. Linear regression (gradient based Algorithm) require data to be scaled and KNN is a distance based algorithm is most affected by the range of features therefore needs the data to be scaled prior to fitting the model"
   ]
  },
  {
   "cell_type": "code",
   "execution_count": 13,
   "id": "e38cf0b3-1124-45f3-99d7-133ff32d0c07",
   "metadata": {},
   "outputs": [],
   "source": [
    "#from sklearn.preprocessing import MinMaxScaler\n",
    "#sc=MinMaxScaler(feature_range=(0, 1))\n",
    "#X_train=sc.fit_transform(X_train)\n",
    "#X_test=sc.transform(X_test)"
   ]
  },
  {
   "cell_type": "markdown",
   "id": "0ca34a9f-d3da-43b5-913f-e390a7b9023c",
   "metadata": {},
   "source": [
    "#### **5.3 SciKit-Learn Algorithm - Linear Regression ( Supervised)**"
   ]
  },
  {
   "cell_type": "markdown",
   "id": "4e541cd9-f395-4cce-9347-40598beb22ba",
   "metadata": {},
   "source": [
    "SciKit-Learn Algorithm - Linear Regression [23][24] An example of an supervised Algorithm : use for Classification and Regression\n",
    "\n",
    "Classification - learn how to classify any new observation - target variable is categorical - using accuracy , precision and recall to measure precision of the model algorithm .\n",
    "\n",
    "Regression - prediction made on numerous independent variables vs target variable is ladder score using Coefficients of determination , RMSE and MSE to measure the precision of the model algorithm. It identifies the equation that produces the smallest difference between all the observed values and their fitted values otherwise called residuals\n",
    "\n",
    "The five basic steps :\n",
    "\n",
    "Import the packages and classes you need. Provide data to work with and eventually do appropriate transformations. Create a regression model and fit it with existing data. Check the results of model fitting to know whether the model is satisfactory. Apply the model for predictions."
   ]
  },
  {
   "cell_type": "code",
   "execution_count": 14,
   "id": "88412b34-70a6-48e1-b548-f558a6570307",
   "metadata": {},
   "outputs": [],
   "source": [
    "import sklearn as sk\n",
    "import sklearn.linear_model as lm\n",
    "import sklearn.neighbors as nei\n",
    "import sklearn.model_selection as mod\n",
    "\n",
    "# models  and classifiers for Supervised Learning\n",
    "from sklearn.model_selection import train_test_split\n",
    "from sklearn.linear_model import LogisticRegression\n",
    "from sklearn.naive_bayes import GaussianNB\n",
    "from sklearn.tree import DecisionTreeClassifier\n",
    "from sklearn.linear_model import LinearRegression\n",
    "# libraries for the confusion matrix\n",
    "from sklearn.metrics import confusion_matrix, ConfusionMatrixDisplay\n",
    "\n",
    "# create tables\n",
    "from tabulate import tabulate"
   ]
  },
  {
   "cell_type": "code",
   "execution_count": 15,
   "id": "473afa77-2595-423f-9de4-c1e7b2591a16",
   "metadata": {},
   "outputs": [
    {
     "data": {
      "text/plain": [
       "LinearRegression()"
      ]
     },
     "execution_count": 15,
     "metadata": {},
     "output_type": "execute_result"
    }
   ],
   "source": [
    "# creating a variable lm as the instance of LinearRegression and then fitting a linear model to it \n",
    "# using the data from the earlier data processing into train and test sets\n",
    "\n",
    "lm = linear_model.LinearRegression()\n",
    "lm.fit(X_train, y_train)"
   ]
  },
  {
   "cell_type": "markdown",
   "id": "86636d0a-d8bb-4941-8340-a2ccf46ad005",
   "metadata": {},
   "source": [
    "Determining the R2 for each of the variables in order to determine which variable carries the most weight[25]¶"
   ]
  },
  {
   "cell_type": "code",
   "execution_count": 16,
   "id": "ab1169ff-d121-4ed0-a921-53fc653180f4",
   "metadata": {},
   "outputs": [
    {
     "name": "stdout",
     "output_type": "stream",
     "text": [
      "Coefficients:\n",
      " Price \n",
      " [117.8991684]\n",
      "Intercept: -236203.0561330561\n"
     ]
    }
   ],
   "source": [
    "print('Coefficients:\\n Price \\n',lm.coef_)\n",
    "print('Intercept:',lm.intercept_)"
   ]
  },
  {
   "cell_type": "code",
   "execution_count": 17,
   "id": "75cf68a5-5939-4969-99c5-0ea26ceb2ad5",
   "metadata": {},
   "outputs": [],
   "source": [
    "y_train_pred = lm.predict(X_train)\n",
    "y_test_pred = lm.predict(X_test)"
   ]
  },
  {
   "cell_type": "code",
   "execution_count": 18,
   "id": "2a1161bd-8b30-49ed-a63b-f6b2e8eebdf0",
   "metadata": {},
   "outputs": [
    {
     "name": "stdout",
     "output_type": "stream",
     "text": [
      "Real Data\n",
      "2     1132\n",
      "30    1752\n",
      "55    1846\n",
      "16    1112\n",
      "13    1112\n",
      "51    1692\n",
      "61    1380\n",
      "45    2128\n",
      "33    2464\n",
      "77    1954\n",
      "Name: Price, dtype: int64\n",
      "\n",
      " Predicted Data\n",
      "[1363.76819127 1599.56652807 1835.36486486 1481.66735967 1481.66735967\n",
      " 1835.36486486 1953.26403326 1717.46569647 1599.56652807 2071.16320166]\n",
      "\n",
      " Diff\n",
      "2    -231.768191\n",
      "30    152.433472\n",
      "55     10.635135\n",
      "16   -369.667360\n",
      "13   -369.667360\n",
      "51   -143.364865\n",
      "61   -573.264033\n",
      "45    410.534304\n",
      "33    864.433472\n",
      "77   -117.163202\n",
      "Name: Price, dtype: float64\n"
     ]
    }
   ],
   "source": [
    "# check the prediction data & real data for the 10 data entries\n",
    "print('Real Data')\n",
    "print(y_test[:10])\n",
    "print('\\n Predicted Data')\n",
    "print(y_test_pred[:10])\n",
    "print('\\n Diff')\n",
    "print(y_test[:10]-y_test_pred[:10])\n"
   ]
  },
  {
   "cell_type": "code",
   "execution_count": 19,
   "id": "7bebb049-1aaf-4786-945b-1ecd68a463c3",
   "metadata": {},
   "outputs": [
    {
     "data": {
      "image/png": "[encoded data removed]",
      "text/plain": [
       "<Figure size 432x288 with 1 Axes>"
      ]
     },
     "metadata": {},
     "output_type": "display_data"
    }
   ],
   "source": [
    "#Visualisation of linearity\n",
    "plt.scatter(y_test,y_test_pred)\n",
    "plt.xlabel('Real data')\n",
    "plt.ylabel('predicted data')\n",
    "plt.title('Relationship between predictor and real data')\n",
    "plt.show()"
   ]
  },
  {
   "cell_type": "code",
   "execution_count": 20,
   "id": "fb37bb35-f47f-41db-b44a-9c9eeefcb106",
   "metadata": {},
   "outputs": [
    {
     "data": {
      "text/plain": [
       "Text(0.5, 1.0, 'Residuals')"
      ]
     },
     "execution_count": 20,
     "metadata": {},
     "output_type": "execute_result"
    },
    {
     "data": {
      "image/png": "[encoded data removed]",
      "text/plain": [
       "<Figure size 432x288 with 1 Axes>"
      ]
     },
     "metadata": {},
     "output_type": "display_data"
    }
   ],
   "source": [
    "# check distribution from residual using visualisation via a distplot\n",
    "sns.distplot(y_test - y_test_pred)\n",
    "plt.title('Residuals', size=18)"
   ]
  },
  {
   "cell_type": "code",
   "execution_count": 21,
   "id": "3dde5284-18e1-4076-afff-7edc9421b240",
   "metadata": {},
   "outputs": [
    {
     "name": "stdout",
     "output_type": "stream",
     "text": [
      "Shapiro-Wilk test ---- statistic: 0.9592693448066711, p-value: 0.1797098070383072\n"
     ]
    }
   ],
   "source": [
    "# Check distribution from residual\n",
    "residual = (y_test - y_test_pred)\n",
    "sw = stats.shapiro(residual)\n",
    "ks = stats.kstest(residual, 'norm')\n",
    "\n",
    "print('Shapiro-Wilk test ---- statistic: {}, p-value: {}'.format(sw[0],sw[1]))"
   ]
  },
  {
   "cell_type": "code",
   "execution_count": 22,
   "id": "10496ada-a198-4a0f-88ed-14f8a5aaa621",
   "metadata": {},
   "outputs": [
    {
     "name": "stdout",
     "output_type": "stream",
     "text": [
      "R^2 score: 0.20061588201176872\n"
     ]
    }
   ],
   "source": [
    "# Evaluate regression model - R squared\n",
    "\n",
    "# This value shows how good the regression function is at fitting the data : the closet the value is to 1 , the better\n",
    "print('R^2 score:',lm.score(X_train, y_train))"
   ]
  },
  {
   "cell_type": "code",
   "execution_count": 23,
   "id": "0d3c7a17-0e94-43dd-83de-4ec2e1da7b8a",
   "metadata": {},
   "outputs": [
    {
     "name": "stdout",
     "output_type": "stream",
     "text": [
      "RMSE Training Data: 547.211418410867\n",
      "RMSE Test Data: 438.62794544770736\n"
     ]
    }
   ],
   "source": [
    "# Evaluate regression model - RMSE\n",
    "\n",
    "### RMSE is the standard deviation of residual or prediction errors - measure of how far from the regression line the data points are. \n",
    "\n",
    "## The lower the RMSE the better the model is at making predictions. \n",
    "Linear_rmse_training = mean_squared_error(y_true=y_train,y_pred=y_train_pred,squared=False)\n",
    "Linear_rmse_test = mean_squared_error(y_true=y_test,y_pred=y_test_pred,squared=False)\n",
    "\n",
    "print('RMSE Training Data: {}'.format(Linear_rmse_training))\n",
    "print('RMSE Test Data: {}'.format(Linear_rmse_test))"
   ]
  },
  {
   "cell_type": "code",
   "execution_count": 24,
   "id": "94010e90-7ccb-47f6-85ed-2abb4d3103ed",
   "metadata": {},
   "outputs": [
    {
     "data": {
      "text/plain": [
       "{'Ridge': {'training': 547.2121898395741,\n",
       "  'test': 438.45629866006954,\n",
       "  'R^2 score': 0.2006136281542269},\n",
       " 'Lasso': {'training': 547.2115874223384,\n",
       "  'test': 438.5474079763956,\n",
       "  'R^2 score': 0.20061538821685776},\n",
       " 'BayessianRidge': {'training': 547.5851686994251,\n",
       "  'test': 435.2142284570934,\n",
       "  'R^2 score': 0.1995235361066341}}"
      ]
     },
     "execution_count": 24,
     "metadata": {},
     "output_type": "execute_result"
    }
   ],
   "source": [
    "# Compare performance between model\n",
    "# Compare performance between model\n",
    "\n",
    "list_model = [['Ridge',linear_model.Ridge()],['Lasso',linear_model.Lasso()],['BayessianRidge',linear_model.BayesianRidge()]]\n",
    "performance_result = {}\n",
    "\n",
    "for model_name,regression_model in list_model:\n",
    "  regression_model.fit(X_train, y_train)\n",
    "  y_train_pred = regression_model.predict(X_train)\n",
    "  y_test_pred = regression_model.predict(X_test)\n",
    "\n",
    "  rmse_training = mean_squared_error(y_true=y_train,y_pred=y_train_pred,squared=False)\n",
    "  rmse_test = mean_squared_error(y_true=y_test,y_pred=y_test_pred,squared=False)\n",
    "\n",
    "  r_score = regression_model.score(X_train, y_train)\n",
    "\n",
    "  performance_result[model_name]={'training':rmse_training,'test':rmse_test,'R^2 score':r_score}\n",
    "\n",
    "performance_result"
   ]
  },
  {
   "cell_type": "code",
   "execution_count": 25,
   "id": "445eadd4-6c65-4ccd-97ef-deaaae7ae392",
   "metadata": {},
   "outputs": [
    {
     "data": {
      "text/plain": [
       "0.20061588201176872"
      ]
     },
     "execution_count": 25,
     "metadata": {},
     "output_type": "execute_result"
    }
   ],
   "source": [
    "from sklearn.linear_model import LinearRegression\n",
    "model = LinearRegression().fit(X_train, y_train)\n",
    "model.score(X_train, y_train)\n"
   ]
  },
  {
   "cell_type": "code",
   "execution_count": 26,
   "id": "54c1395b-ec3e-4bd2-ac67-892920947281",
   "metadata": {},
   "outputs": [
    {
     "data": {
      "text/plain": [
       "0.07660308656332027"
      ]
     },
     "execution_count": 26,
     "metadata": {},
     "output_type": "execute_result"
    }
   ],
   "source": [
    "model.score(X_test, y_test)"
   ]
  },
  {
   "cell_type": "markdown",
   "id": "0ea3d2ab-596a-4591-ac2e-f75c4652eef0",
   "metadata": {},
   "source": [
    "#ref https://towardsdatascience.com/train-test-split-and-cross-validation-in-python-80b61beca4b6"
   ]
  },
  {
   "cell_type": "code",
   "execution_count": 27,
   "id": "dfefe66f-1d4c-4471-9ab1-f8a3e0d6c084",
   "metadata": {},
   "outputs": [
    {
     "name": "stdout",
     "output_type": "stream",
     "text": [
      "KFold(n_splits=2, random_state=None, shuffle=False)\n"
     ]
    }
   ],
   "source": [
    "from sklearn.model_selection import KFold # import KFold\n",
    "kf = KFold(n_splits=2) # Define the split - into 2 folds \n",
    "kf.get_n_splits(X) # returns the number of splitting iterations in the cross-validator\n",
    "print(kf) \n"
   ]
  },
  {
   "cell_type": "code",
   "execution_count": 28,
   "id": "ea8cea88-11f4-47ce-b236-b1227d84a849",
   "metadata": {},
   "outputs": [],
   "source": [
    "#for train_index, test_index in kf.split(X):\n",
    " #print('TRAIN:', train_index, 'TEST:', test_index)\n",
    " #X_train, X_test = X[train_index], X[test_index]\n",
    " #y_train, y_test = y[train_index], y[test_index]\n"
   ]
  },
  {
   "cell_type": "code",
   "execution_count": 29,
   "id": "e28219c1-8114-4cd0-8410-fabd90ebe2f6",
   "metadata": {},
   "outputs": [],
   "source": [
    "#from sklearn.model_selection import LeaveOneOut \n",
    "\n",
    "#loo = LeaveOneOut()\n",
    "#loo.get_n_splits(X)\n",
    "\n",
    "\n",
    "#for train_index, test_index in loo.split(X):\n",
    "   #print('TRAIN:', train_index,'TEST:', test_index)\n",
    "  # X_train, X_test = X[train_index], X[test_index]\n",
    "  # y_train, y_test = y[train_index], y[test_index]\n",
    "  # print(X_train, X_test, y_train, y_test)"
   ]
  },
  {
   "cell_type": "code",
   "execution_count": 30,
   "id": "56fc5c4f-9780-4877-a26e-7764a8c89fb4",
   "metadata": {},
   "outputs": [],
   "source": [
    "# Necessary imports: \n",
    "from sklearn.model_selection import cross_val_score, cross_val_predict\n",
    "from sklearn import metrics"
   ]
  },
  {
   "cell_type": "code",
   "execution_count": 31,
   "id": "d6b79f43-ed39-445c-9a9a-3aa24ce9b0a6",
   "metadata": {},
   "outputs": [],
   "source": [
    "#Irish_prices_dfa = Irish_prices_df.drop(columns =['Unnamed: 0','Begin Date','Month','Year','Price'])"
   ]
  },
  {
   "cell_type": "code",
   "execution_count": 32,
   "id": "dcd2df18-c522-469a-8e65-5bc5bf330460",
   "metadata": {},
   "outputs": [],
   "source": [
    "#Irish_prices_dfa = Irish_prices_df.drop(columns =['Unnamed: 0','Begin Date','Month','Price'])"
   ]
  },
  {
   "cell_type": "code",
   "execution_count": 33,
   "id": "767a8316-e376-497e-b410-d3245c3fa920",
   "metadata": {},
   "outputs": [],
   "source": [
    "#Irish_prices_dfa.dtypes"
   ]
  },
  {
   "cell_type": "code",
   "execution_count": 34,
   "id": "fcb78553-7df9-4c4f-8f8e-651179635b4a",
   "metadata": {},
   "outputs": [
    {
     "data": {
      "text/plain": [
       "0      283\n",
       "1     1132\n",
       "2     1132\n",
       "3     1525\n",
       "4     1242\n",
       "      ... \n",
       "88    2498\n",
       "89    2884\n",
       "90    2932\n",
       "91    2954\n",
       "92    2678\n",
       "Name: Price, Length: 93, dtype: int64"
      ]
     },
     "execution_count": 34,
     "metadata": {},
     "output_type": "execute_result"
    }
   ],
   "source": [
    "y"
   ]
  },
  {
   "cell_type": "code",
   "execution_count": 35,
   "id": "2d49e990-781d-4b94-929f-57cda9fd693f",
   "metadata": {},
   "outputs": [
    {
     "data": {
      "text/plain": [
       "<matplotlib.collections.PathCollection at 0x21037464940>"
      ]
     },
     "execution_count": 35,
     "metadata": {},
     "output_type": "execute_result"
    },
    {
     "data": {
      "image/png": "[encoded data removed]",
      "text/plain": [
       "<Figure size 432x288 with 1 Axes>"
      ]
     },
     "metadata": {},
     "output_type": "display_data"
    }
   ],
   "source": [
    "# Make cross validated predictions\n",
    "predictions = cross_val_predict(model,X,y, cv=6)\n",
    "plt.scatter(y, predictions)"
   ]
  },
  {
   "cell_type": "code",
   "execution_count": 36,
   "id": "16dfc33a-b72c-4481-b483-01c7b2f6b47f",
   "metadata": {},
   "outputs": [
    {
     "name": "stdout",
     "output_type": "stream",
     "text": [
      "-0.2873990408260134\n"
     ]
    }
   ],
   "source": [
    "accuracy = metrics.r2_score(y, predictions)\n",
    "print (accuracy)\n"
   ]
  },
  {
   "cell_type": "markdown",
   "id": "3d724dcc-4a05-4ed9-bcfc-5e53119f1457",
   "metadata": {},
   "source": [
    "### 5.3 SciKit-Learn Algorithm - KNN for Classification ( Supervised)¶"
   ]
  },
  {
   "cell_type": "code",
   "execution_count": 37,
   "id": "7c3c7691-5ba2-4450-9dc5-4a04c4816559",
   "metadata": {},
   "outputs": [
    {
     "data": {
      "image/png": "[encoded data removed]",
      "text/plain": [
       "<Figure size 432x288 with 1 Axes>"
      ]
     },
     "metadata": {},
     "output_type": "display_data"
    }
   ],
   "source": [
    "# To see what the happiness score ranges we expect , we visualise though a histogram, the range goes from below 3 up to 8\n",
    "import matplotlib.pyplot as plt\n",
    "Irish_prices_df[\"Price\"].hist(bins=15)\n",
    "plt.show()"
   ]
  },
  {
   "cell_type": "markdown",
   "id": "0d743109-9624-4a5a-a31b-f46f4b78c391",
   "metadata": {},
   "source": [
    "Splitting Data Into Training and Test Sets for Model Evaluation : Under data processing section of this notebook Training data - used to fit the model. For KNN . the training data will be used as neighbours Test data - used to evaluate the model. For KNN , make predictions on the footfall for street in the test data and compare to real data Evaluation of the Model Fit The model needs to be evaluated : using RMSE ( root mean squared error) is a common way. Also looking at a range of K values between 1 and 20. As if you use one neighbour a prediction can strongly change from one point to another. perhaps an outlier. However if you look at multiple data points , this impact is lessened."
   ]
  },
  {
   "cell_type": "code",
   "execution_count": 38,
   "id": "81447d76-1ec7-49e2-90e0-5b540d3f5283",
   "metadata": {},
   "outputs": [
    {
     "name": "stdout",
     "output_type": "stream",
     "text": [
      "RMSE value for k=  1 is: 490.39611076612897\n",
      "RMSE value for k=  2 is: 323.7040314855532\n",
      "RMSE value for k=  3 is: 310.57605649612924\n",
      "RMSE value for k=  4 is: 321.52843257563626\n",
      "RMSE value for k=  5 is: 312.39031529627977\n",
      "RMSE value for k=  6 is: 305.8302848498054\n",
      "RMSE value for k=  7 is: 310.4620609352267\n",
      "RMSE value for k=  8 is: 313.46832838059936\n",
      "RMSE value for k=  9 is: 331.53006103406074\n",
      "RMSE value for k=  10 is: 343.7377470212906\n",
      "RMSE value for k=  11 is: 372.22092980651365\n",
      "RMSE value for k=  12 is: 392.62193708426173\n",
      "RMSE value for k=  13 is: 411.913273407203\n",
      "RMSE value for k=  14 is: 421.04335189431146\n",
      "RMSE value for k=  15 is: 425.3157809620442\n",
      "RMSE value for k=  16 is: 452.4861877129762\n",
      "RMSE value for k=  17 is: 450.96487483960476\n",
      "RMSE value for k=  18 is: 467.0263589751154\n",
      "RMSE value for k=  19 is: 482.1302207242178\n",
      "RMSE value for k=  20 is: 494.5609352565346\n"
     ]
    }
   ],
   "source": [
    "### Evaluation of the prediction error on the training data\n",
    "\n",
    "rmse_val = [] #to store rmse values for different k\n",
    "for K in range(20):\n",
    "    K = K+1\n",
    "    knn_model = KNeighborsRegressor(n_neighbors=K) # unfitted model created \n",
    "    knn_model.fit(X_train, y_train)\n",
    "    train_preds = knn_model.predict(X_train)\n",
    "    mse = mean_squared_error(y_train, train_preds)\n",
    "    rmse = sqrt(mse)\n",
    "    rmse_val.append(rmse) #store rmse values\n",
    "    print('RMSE value for k= ' , K , 'is:', rmse)"
   ]
  },
  {
   "cell_type": "code",
   "execution_count": 39,
   "id": "f9625d3b-3e27-4229-90b3-ef74277f77f7",
   "metadata": {},
   "outputs": [
    {
     "data": {
      "text/plain": [
       "<AxesSubplot:>"
      ]
     },
     "execution_count": 39,
     "metadata": {},
     "output_type": "execute_result"
    },
    {
     "data": {
      "image/png": "[encoded data removed]",
      "text/plain": [
       "<Figure size 432x288 with 1 Axes>"
      ]
     },
     "metadata": {},
     "output_type": "display_data"
    }
   ],
   "source": [
    "#plotting the rmse values against k values\n",
    "curve = pd.DataFrame(rmse_val) #elbow curve \n",
    "curve.plot()"
   ]
  },
  {
   "cell_type": "markdown",
   "id": "fd66d85d-e61d-406f-a51e-0b67d803ae7a",
   "metadata": {},
   "source": [
    "Visualisation of the Model Fit"
   ]
  },
  {
   "cell_type": "markdown",
   "id": "89745f48-4ff1-437f-9864-4a3e75c42fef",
   "metadata": {},
   "source": [
    "Tune and Optimize kNN in Python Using scikit-learn\n",
    "Can I improve the predictive score from the kNN Performances ?\n",
    "\n",
    "From earlier calculations , we determined that the best K value was 3.\n",
    "\n",
    "Another way to determine the best value for k is using GridSearchCV :"
   ]
  },
  {
   "cell_type": "code",
   "execution_count": 40,
   "id": "a39365f6-d3f7-4168-9b61-79dd8ece7c30",
   "metadata": {},
   "outputs": [
    {
     "data": {
      "text/plain": [
       "GridSearchCV(estimator=KNeighborsRegressor(),\n",
       "             param_grid={'n_neighbors': range(1, 20),\n",
       "                         'weights': ['uniform', 'distance']})"
      ]
     },
     "execution_count": 40,
     "metadata": {},
     "output_type": "execute_result"
    }
   ],
   "source": [
    "from sklearn.model_selection import GridSearchCV\n",
    "parameters = {\"n_neighbors\": range(1, 20)}\n",
    "gridsearch = GridSearchCV(KNeighborsRegressor(), parameters)\n",
    "gridsearch.fit(X_train, y_train)\n",
    "GridSearchCV(estimator=KNeighborsRegressor(),\n",
    "             param_grid={'n_neighbors': range(1, 20),\n",
    "                         'weights': ['uniform', 'distance']})"
   ]
  },
  {
   "cell_type": "code",
   "execution_count": 41,
   "id": "fba7df73-dcd4-4d4b-86d6-6607f6fb5e61",
   "metadata": {},
   "outputs": [
    {
     "data": {
      "text/plain": [
       "{'n_neighbors': 3}"
      ]
     },
     "execution_count": 41,
     "metadata": {},
     "output_type": "execute_result"
    }
   ],
   "source": [
    "gridsearch.best_params_"
   ]
  },
  {
   "cell_type": "code",
   "execution_count": 42,
   "id": "45ddc958-3258-43de-a3f2-d9860125f145",
   "metadata": {},
   "outputs": [
    {
     "data": {
      "text/plain": [
       "310.57605649612924"
      ]
     },
     "execution_count": 42,
     "metadata": {},
     "output_type": "execute_result"
    }
   ],
   "source": [
    "# Now we know what the best nearest neighbour is we can see how it affects the train and test analysis\n",
    "\n",
    "train_preds_grid = gridsearch.predict(X_train)\n",
    "kNNtrain_mse = mean_squared_error(y_train, train_preds_grid)\n",
    "kNNtrain_rmse = sqrt(kNNtrain_mse)\n",
    "kNNtrain_rmse"
   ]
  },
  {
   "cell_type": "markdown",
   "id": "3d329f58-1600-4f31-b73c-abffa1cd6198",
   "metadata": {},
   "source": [
    "Adding Weighted Average of Neighbors Based on Distance Below, you’ll test whether the performance of your model will be any better when predicting using a weighted average instead of a regular average. This means that neighbors that are further away will less strongly influence the prediction.\n",
    "\n",
    "You can do this by setting the weights hyperparameter to the value of \"distance\". However, setting this weighted average could have an impact on the optimal value of k. Therefore, you’ll again use GridSearchCV to tell you which type of averaging you should use:"
   ]
  },
  {
   "cell_type": "code",
   "execution_count": 43,
   "id": "c67b16e4-ab72-4a0f-b476-c3780e9de8f4",
   "metadata": {},
   "outputs": [
    {
     "data": {
      "text/plain": [
       "313.137278868413"
      ]
     },
     "execution_count": 43,
     "metadata": {},
     "output_type": "execute_result"
    }
   ],
   "source": [
    "parameters = { \"n_neighbors\": range(1, 20), \"weights\": [\"uniform\", \"distance\"]}\n",
    "gridsearch = GridSearchCV(KNeighborsRegressor(), parameters)\n",
    "gridsearch.fit(X_train, y_train)\n",
    "gridsearch.best_params_\n",
    "test_preds_grid = gridsearch.predict(X_test)\n",
    "test_mse = mean_squared_error(y_test, test_preds_grid)\n",
    "test_rmse = sqrt(test_mse)\n",
    "test_rmse"
   ]
  },
  {
   "cell_type": "code",
   "execution_count": 44,
   "id": "10bd56d3-7eaf-42af-a7bc-d31383adf265",
   "metadata": {},
   "outputs": [
    {
     "name": "stdout",
     "output_type": "stream",
     "text": [
      "Accuracy of K-NN classifier on training set: 0.16\n",
      "Accuracy of K-NN classifier on test set: 0.08\n"
     ]
    }
   ],
   "source": [
    "knn = KNeighborsClassifier(n_neighbors=1)\n",
    "knn.fit(X_train, y_train)\n",
    "print('Accuracy of K-NN classifier on training set: {:.2f}'.format(knn.score(X_train, y_train)))\n",
    "print('Accuracy of K-NN classifier on test set: {:.2f}'.format(knn.score(X_test, y_test)))"
   ]
  },
  {
   "cell_type": "markdown",
   "id": "835226bf-a0d6-46cd-9cb8-23587511debc",
   "metadata": {},
   "source": [
    "Further Improving on kNN in scikit-learn With Bagging As a third step for kNN tuning, you can use bagging. Bagging is an ensemble method, or a method that takes a relatively straightforward machine learning model and fits a large number of those models with slight variations in each fit. Bagging often uses decision trees, but kNN works perfectly as well.\n",
    "\n",
    "Ensemble methods are often more performant than single models. One model can be wrong from time to time, but the average of a hundred models should be wrong less often. The errors of different individual models are likely to average each other out, and the resulting prediction will be less variable.\n",
    "\n",
    "You can use scikit-learn to apply bagging to your kNN regression using the following steps. First, create the KNeighborsRegressor with the best choices for k and weights that you got from GridSearchCV:"
   ]
  },
  {
   "cell_type": "code",
   "execution_count": 45,
   "id": "b64e5b65-a859-477b-b03f-f765b78b55fe",
   "metadata": {},
   "outputs": [],
   "source": [
    "best_k = gridsearch.best_params_[\"n_neighbors\"]\n",
    "best_weights = gridsearch.best_params_[\"weights\"]\n",
    "bagged_knn = KNeighborsRegressor( n_neighbors=best_k, weights=best_weights)"
   ]
  },
  {
   "cell_type": "code",
   "execution_count": 46,
   "id": "18870cc5-ea98-433d-8ef6-88c968a9fb4a",
   "metadata": {},
   "outputs": [],
   "source": [
    "from sklearn.ensemble import BaggingRegressor\n",
    "bagging_model = BaggingRegressor(bagged_knn, n_estimators=100)"
   ]
  },
  {
   "cell_type": "code",
   "execution_count": 47,
   "id": "1078079d-ee95-4104-ac88-eaa4834f9a1f",
   "metadata": {},
   "outputs": [
    {
     "data": {
      "text/plain": [
       "304.9197837551639"
      ]
     },
     "execution_count": 47,
     "metadata": {},
     "output_type": "execute_result"
    }
   ],
   "source": [
    "from sklearn.ensemble import BaggingRegressor\n",
    "bagging_model = BaggingRegressor(bagged_knn, n_estimators=100).fit(X_train, y_train)\n",
    "test_preds_grid = bagging_model.predict(X_test)\n",
    "test_mse = mean_squared_error(y_test, test_preds_grid)\n",
    "test_rmse = sqrt(test_mse)\n",
    "test_rmse           "
   ]
  },
  {
   "cell_type": "markdown",
   "id": "620bc6a9-7702-48f4-97f8-f80fbe5a4a5d",
   "metadata": {},
   "source": [
    "Predictive performance of the algorithm :\n",
    "\n",
    "-Model RMSE :Prediction Error -Arbitrary 8187.810530606405 -GridsearchCV for k 7507.038069670647\n",
    "-GridserchCV for k and weights 7569.441893962941 -Bagging and GridsearchCV 7528.039321851745\n",
    "\n",
    "There isnt alot of differences in the errors achieved by tuning and optimizing kNN ."
   ]
  },
  {
   "cell_type": "code",
   "execution_count": null,
   "id": "afc1266a-53bb-4253-99f0-bec0aa8511c0",
   "metadata": {},
   "outputs": [],
   "source": []
  },
  {
   "cell_type": "code",
   "execution_count": 48,
   "id": "6fdd1175-7551-4328-935a-03dda25bda2d",
   "metadata": {},
   "outputs": [],
   "source": [
    "#Importing the auxiliar and preprocessing librarys \n",
    "from sklearn.metrics import accuracy_score, confusion_matrix, classification_report\n",
    "from sklearn.model_selection import cross_val_score\n",
    "from sklearn.preprocessing import LabelEncoder, StandardScaler\n",
    "from sklearn.pipeline import Pipeline\n",
    "\n",
    "from sklearn.model_selection import train_test_split, KFold, cross_validate\n",
    "from sklearn.metrics import accuracy_score\n",
    "#Models\n",
    "from sklearn.cluster import KMeans\n",
    "from sklearn.decomposition import PCA\n",
    "from sklearn.svm import SVC\n",
    "from sklearn.linear_model import RidgeClassifier, SGDClassifier, LogisticRegression\n",
    "from sklearn.svm import SVC, LinearSVC\n",
    "from sklearn.neighbors import KNeighborsClassifier\n",
    "from sklearn.tree import DecisionTreeClassifier\n",
    "\n",
    "from sklearn.naive_bayes import MultinomialNB\n",
    "from sklearn.feature_selection import SelectFromModel\n",
    "from sklearn.ensemble import RandomForestClassifier, GradientBoostingClassifier, ExtraTreesClassifier, BaggingClassifier, VotingClassifier, RandomTreesEmbedding"
   ]
  },
  {
   "cell_type": "code",
   "execution_count": 49,
   "id": "11b31413-8539-4036-9986-f8d1cfaec216",
   "metadata": {},
   "outputs": [
    {
     "name": "stdout",
     "output_type": "stream",
     "text": [
      "LogReg: 7.275132 (+/- 0.132275)\n",
      "KNN: 7.275132 (+/- 0.132275)\n",
      "DecisionTreeClassifier: 7.275132 (+/- 0.132275)\n",
      "RandomForestClassifier: 1.785714 (+/- 1.785714)\n",
      "GradientBoostingClassifier: nan (+/- nan)\n",
      "RidgeClassifier: 7.275132 (+/- 0.132275)\n",
      "BaggingRidgeClassifier: 1.785714 (+/- 1.785714)\n",
      "ExtraTreesClassifier: 7.275132 (+/- 0.132275)\n"
     ]
    }
   ],
   "source": [
    "clfs = []\n",
    "seed = 3\n",
    "\n",
    "clfs.append((\"LogReg\", \n",
    "             Pipeline([(\"Scaler\", StandardScaler()),\n",
    "                       (\"LogReg\", LogisticRegression())])))\n",
    "\n",
    "#clfs.append((\"XGBClassifier\",\n",
    "            # Pipeline([(\"Scaler\", StandardScaler()),\n",
    "                       #(\"XGB\", XGBClassifier())]))) \n",
    "clfs.append((\"KNN\", \n",
    "             Pipeline([(\"Scaler\", StandardScaler()),\n",
    "                       (\"KNN\", KNeighborsClassifier())]))) \n",
    "\n",
    "clfs.append((\"DecisionTreeClassifier\", \n",
    "             Pipeline([(\"Scaler\", StandardScaler()),\n",
    "                       (\"DecisionTrees\", DecisionTreeClassifier())]))) \n",
    "\n",
    "clfs.append((\"RandomForestClassifier\", \n",
    "             Pipeline([(\"Scaler\", StandardScaler()),\n",
    "                       (\"RandomForest\", RandomForestClassifier())]))) \n",
    "\n",
    "clfs.append((\"GradientBoostingClassifier\", \n",
    "             Pipeline([(\"Scaler\", StandardScaler()),\n",
    "                       (\"GradientBoosting\", GradientBoostingClassifier(max_features=15, n_estimators=150))]))) \n",
    "\n",
    "clfs.append((\"RidgeClassifier\", \n",
    "             Pipeline([(\"Scaler\", StandardScaler()),\n",
    "                       (\"RidgeClassifier\", RidgeClassifier())])))\n",
    "\n",
    "clfs.append((\"BaggingRidgeClassifier\",\n",
    "             Pipeline([(\"Scaler\", StandardScaler()),\n",
    "                       (\"BaggingClassifier\", BaggingClassifier())])))\n",
    "\n",
    "clfs.append((\"ExtraTreesClassifier\",\n",
    "             Pipeline([(\"Scaler\", StandardScaler()),\n",
    "                       (\"ExtraTrees\", ExtraTreesClassifier())])))\n",
    "\n",
    "#'neg_mean_absolute_error', 'neg_mean_squared_error','r2'\n",
    "scoring = 'accuracy'\n",
    "n_folds = 7\n",
    "\n",
    "results, names  = [], [] \n",
    "\n",
    "for name, model  in clfs:\n",
    "    kfold = KFold(n_splits=n_folds, shuffle=True,random_state=seed)\n",
    "    cv_results = cross_val_score(model, X_train, y_train, cv= 2, scoring=scoring, n_jobs=-1)*100    \n",
    "    names.append(name)\n",
    "    results.append(cv_results)    \n",
    "    msg = \"%s: %f (+/- %f)\" % (name, cv_results.mean(),  cv_results.std())\n",
    "    print(msg)\n",
    "    \n",
    "# boxplot algorithm comparison\n",
    "#fig = plt.figure(figsize=(15,6))\n",
    "#fig.suptitle('Classifier Algorithm Comparison', fontsize=22)\n",
    "#ax = fig.add_subplot(111)\n",
    "#sns.boxplot(x=names, y=results)\n",
    "#ax.set_xticklabels(names)\n",
    "#ax.set_xlabel(\"Algorithmn\", fontsize=20)\n",
    "#ax.set_ylabel(\"Accuracy of Models\", fontsize=18)\n",
    "#ax.set_xticklabels(ax.get_xticklabels(),rotation=45)\n",
    "#plt.show()"
   ]
  },
  {
   "cell_type": "markdown",
   "id": "465f86f8-cb40-48b7-9a0b-aae3cd47f8c1",
   "metadata": {},
   "source": [
    "*When modeling multiclass classification\n",
    "problems using neural networks, it is good practice to reshape the output attribute from a\n",
    "vector that contains values for each class value to be a matrix with a boolean for each class\n",
    "value and whether or not a given instance has that class value or not. This is called one hot\n",
    "encoding or creating dummy variables from a categorical variable.*¶"
   ]
  },
  {
   "cell_type": "code",
   "execution_count": null,
   "id": "fd427621-a44e-40dc-8a50-fa70920ae9d2",
   "metadata": {},
   "outputs": [],
   "source": [
    "ref# https://www.kaggle.com/code/girishkurup/machine-learning-on-agriculture-dataset-nn#Lets-Submit-the-solution-as-per-sample-submisssion"
   ]
  },
  {
   "cell_type": "code",
   "execution_count": 50,
   "id": "784d0cc4-a5bc-49d5-abd0-36ce2a2e19e0",
   "metadata": {},
   "outputs": [],
   "source": [
    "#!pip install tensorflow "
   ]
  },
  {
   "cell_type": "code",
   "execution_count": 51,
   "id": "426dc7db-f80c-434b-b92a-2caf687bda4b",
   "metadata": {},
   "outputs": [
    {
     "ename": "ModuleNotFoundError",
     "evalue": "No module named 'tensorflow'",
     "output_type": "error",
     "traceback": [
      "\u001b[1;31m---------------------------------------------------------------------------\u001b[0m",
      "\u001b[1;31mModuleNotFoundError\u001b[0m                       Traceback (most recent call last)",
      "Input \u001b[1;32mIn [51]\u001b[0m, in \u001b[0;36m<cell line: 1>\u001b[1;34m()\u001b[0m\n\u001b[1;32m----> 1\u001b[0m \u001b[38;5;28;01mimport\u001b[39;00m \u001b[38;5;21;01mtensorflow\u001b[39;00m \u001b[38;5;28;01mas\u001b[39;00m \u001b[38;5;21;01mtf\u001b[39;00m\n\u001b[0;32m      2\u001b[0m \u001b[38;5;28;01mimport\u001b[39;00m \u001b[38;5;21;01mtensorflow\u001b[39;00m \n\u001b[0;32m      4\u001b[0m \u001b[38;5;28;01mfrom\u001b[39;00m \u001b[38;5;21;01mtensorflow\u001b[39;00m \u001b[38;5;28;01mimport\u001b[39;00m keras\n",
      "\u001b[1;31mModuleNotFoundError\u001b[0m: No module named 'tensorflow'"
     ]
    }
   ],
   "source": [
    "import tensorflow as tf\n",
    "import tensorflow \n",
    "\n",
    "from tensorflow import keras\n",
    "from keras.layers import Dense"
   ]
  },
  {
   "cell_type": "code",
   "execution_count": null,
   "id": "57d6fca4-1a60-4e6c-b75b-be7eaa1a62ab",
   "metadata": {},
   "outputs": [],
   "source": [
    "from keras.utils import np_utils\n",
    "dummy_y = np_utils.to_categorical(y)"
   ]
  },
  {
   "cell_type": "code",
   "execution_count": null,
   "id": "4d421686-cff7-4aae-8af3-56e294f1cf4a",
   "metadata": {},
   "outputs": [],
   "source": [
    "dummy_y"
   ]
  },
  {
   "cell_type": "code",
   "execution_count": null,
   "id": "7657b972-b881-4973-9cec-712bf02b9c44",
   "metadata": {},
   "outputs": [],
   "source": [
    "X.shape\n",
    "m=X.shape[1]\n",
    "m"
   ]
  },
  {
   "cell_type": "code",
   "execution_count": null,
   "id": "96e32219-cb53-4a2d-a042-f0639aa18676",
   "metadata": {},
   "outputs": [],
   "source": [
    "X_train"
   ]
  },
  {
   "cell_type": "code",
   "execution_count": 52,
   "id": "28226f6f-d29f-43f6-8ecc-2632cbb969a8",
   "metadata": {},
   "outputs": [
    {
     "ename": "ModuleNotFoundError",
     "evalue": "No module named 'tensorflow'",
     "output_type": "error",
     "traceback": [
      "\u001b[1;31m---------------------------------------------------------------------------\u001b[0m",
      "\u001b[1;31mModuleNotFoundError\u001b[0m                       Traceback (most recent call last)",
      "Input \u001b[1;32mIn [52]\u001b[0m, in \u001b[0;36m<cell line: 2>\u001b[1;34m()\u001b[0m\n\u001b[0;32m      1\u001b[0m \u001b[38;5;28;01mfrom\u001b[39;00m \u001b[38;5;21;01mnumpy\u001b[39;00m \u001b[38;5;28;01mimport\u001b[39;00m array\n\u001b[1;32m----> 2\u001b[0m \u001b[38;5;28;01mfrom\u001b[39;00m \u001b[38;5;21;01mkeras\u001b[39;00m\u001b[38;5;21;01m.\u001b[39;00m\u001b[38;5;21;01mmodels\u001b[39;00m \u001b[38;5;28;01mimport\u001b[39;00m Sequential\n\u001b[0;32m      3\u001b[0m \u001b[38;5;28;01mfrom\u001b[39;00m \u001b[38;5;21;01mkeras\u001b[39;00m\u001b[38;5;21;01m.\u001b[39;00m\u001b[38;5;21;01mlayers\u001b[39;00m \u001b[38;5;28;01mimport\u001b[39;00m Dense\n\u001b[0;32m      4\u001b[0m \u001b[38;5;28;01mfrom\u001b[39;00m \u001b[38;5;21;01mmatplotlib\u001b[39;00m \u001b[38;5;28;01mimport\u001b[39;00m pyplot\n",
      "File \u001b[1;32m~\\Anaconda3\\lib\\site-packages\\keras\\__init__.py:21\u001b[0m, in \u001b[0;36m<module>\u001b[1;34m\u001b[0m\n\u001b[0;32m     15\u001b[0m \u001b[38;5;124;03m\"\"\"Implementation of the Keras API, the high-level API of TensorFlow.\u001b[39;00m\n\u001b[0;32m     16\u001b[0m \n\u001b[0;32m     17\u001b[0m \u001b[38;5;124;03mDetailed documentation and user guides are available at\u001b[39;00m\n\u001b[0;32m     18\u001b[0m \u001b[38;5;124;03m[keras.io](https://keras.io).\u001b[39;00m\n\u001b[0;32m     19\u001b[0m \u001b[38;5;124;03m\"\"\"\u001b[39;00m\n\u001b[0;32m     20\u001b[0m \u001b[38;5;28;01mfrom\u001b[39;00m \u001b[38;5;21;01mkeras\u001b[39;00m \u001b[38;5;28;01mimport\u001b[39;00m distribute\n\u001b[1;32m---> 21\u001b[0m \u001b[38;5;28;01mfrom\u001b[39;00m \u001b[38;5;21;01mkeras\u001b[39;00m \u001b[38;5;28;01mimport\u001b[39;00m models\n\u001b[0;32m     22\u001b[0m \u001b[38;5;28;01mfrom\u001b[39;00m \u001b[38;5;21;01mkeras\u001b[39;00m\u001b[38;5;21;01m.\u001b[39;00m\u001b[38;5;21;01mengine\u001b[39;00m\u001b[38;5;21;01m.\u001b[39;00m\u001b[38;5;21;01minput_layer\u001b[39;00m \u001b[38;5;28;01mimport\u001b[39;00m Input\n\u001b[0;32m     23\u001b[0m \u001b[38;5;28;01mfrom\u001b[39;00m \u001b[38;5;21;01mkeras\u001b[39;00m\u001b[38;5;21;01m.\u001b[39;00m\u001b[38;5;21;01mengine\u001b[39;00m\u001b[38;5;21;01m.\u001b[39;00m\u001b[38;5;21;01msequential\u001b[39;00m \u001b[38;5;28;01mimport\u001b[39;00m Sequential\n",
      "File \u001b[1;32m~\\Anaconda3\\lib\\site-packages\\keras\\models\\__init__.py:18\u001b[0m, in \u001b[0;36m<module>\u001b[1;34m\u001b[0m\n\u001b[0;32m      1\u001b[0m \u001b[38;5;66;03m# Copyright 2022 The TensorFlow Authors. All Rights Reserved.\u001b[39;00m\n\u001b[0;32m      2\u001b[0m \u001b[38;5;66;03m#\u001b[39;00m\n\u001b[0;32m      3\u001b[0m \u001b[38;5;66;03m# Licensed under the Apache License, Version 2.0 (the \"License\");\u001b[39;00m\n\u001b[1;32m   (...)\u001b[0m\n\u001b[0;32m     13\u001b[0m \u001b[38;5;66;03m# limitations under the License.\u001b[39;00m\n\u001b[0;32m     14\u001b[0m \u001b[38;5;66;03m# ==============================================================================\u001b[39;00m\n\u001b[0;32m     15\u001b[0m \u001b[38;5;124;03m\"\"\"Keras models API.\"\"\"\u001b[39;00m\n\u001b[1;32m---> 18\u001b[0m \u001b[38;5;28;01mfrom\u001b[39;00m \u001b[38;5;21;01mkeras\u001b[39;00m\u001b[38;5;21;01m.\u001b[39;00m\u001b[38;5;21;01mengine\u001b[39;00m\u001b[38;5;21;01m.\u001b[39;00m\u001b[38;5;21;01mfunctional\u001b[39;00m \u001b[38;5;28;01mimport\u001b[39;00m Functional\n\u001b[0;32m     19\u001b[0m \u001b[38;5;28;01mfrom\u001b[39;00m \u001b[38;5;21;01mkeras\u001b[39;00m\u001b[38;5;21;01m.\u001b[39;00m\u001b[38;5;21;01mengine\u001b[39;00m\u001b[38;5;21;01m.\u001b[39;00m\u001b[38;5;21;01msequential\u001b[39;00m \u001b[38;5;28;01mimport\u001b[39;00m Sequential\n\u001b[0;32m     20\u001b[0m \u001b[38;5;28;01mfrom\u001b[39;00m \u001b[38;5;21;01mkeras\u001b[39;00m\u001b[38;5;21;01m.\u001b[39;00m\u001b[38;5;21;01mengine\u001b[39;00m\u001b[38;5;21;01m.\u001b[39;00m\u001b[38;5;21;01mtraining\u001b[39;00m \u001b[38;5;28;01mimport\u001b[39;00m Model\n",
      "File \u001b[1;32m~\\Anaconda3\\lib\\site-packages\\keras\\engine\\functional.py:24\u001b[0m, in \u001b[0;36m<module>\u001b[1;34m\u001b[0m\n\u001b[0;32m     21\u001b[0m \u001b[38;5;28;01mimport\u001b[39;00m \u001b[38;5;21;01mitertools\u001b[39;00m\n\u001b[0;32m     22\u001b[0m \u001b[38;5;28;01mimport\u001b[39;00m \u001b[38;5;21;01mwarnings\u001b[39;00m\n\u001b[1;32m---> 24\u001b[0m \u001b[38;5;28;01mimport\u001b[39;00m \u001b[38;5;21;01mtensorflow\u001b[39;00m\u001b[38;5;21;01m.\u001b[39;00m\u001b[38;5;21;01mcompat\u001b[39;00m\u001b[38;5;21;01m.\u001b[39;00m\u001b[38;5;21;01mv2\u001b[39;00m \u001b[38;5;28;01mas\u001b[39;00m \u001b[38;5;21;01mtf\u001b[39;00m\n\u001b[0;32m     26\u001b[0m \u001b[38;5;28;01mfrom\u001b[39;00m \u001b[38;5;21;01mkeras\u001b[39;00m \u001b[38;5;28;01mimport\u001b[39;00m backend\n\u001b[0;32m     27\u001b[0m \u001b[38;5;28;01mfrom\u001b[39;00m \u001b[38;5;21;01mkeras\u001b[39;00m\u001b[38;5;21;01m.\u001b[39;00m\u001b[38;5;21;01mdtensor\u001b[39;00m \u001b[38;5;28;01mimport\u001b[39;00m layout_map \u001b[38;5;28;01mas\u001b[39;00m layout_map_lib\n",
      "\u001b[1;31mModuleNotFoundError\u001b[0m: No module named 'tensorflow'"
     ]
    }
   ],
   "source": [
    "from numpy import array\n",
    "from keras.models import Sequential\n",
    "from keras.layers import Dense\n",
    "from matplotlib import pyplot\n",
    "# prepare sequence\n",
    "X = X_train\n",
    "y = dummy_y\n",
    "# create model\n",
    "model = Sequential()\n",
    "model.add(Dense(20, input_dim=14, activation='relu'))\n",
    "model.add(Dense(8, activation='relu'))\n",
    "model.add(Dense(3, activation='softmax'))\n",
    "model.compile(loss='categorical_crossentropy', optimizer='adam', metrics=['accuracy'])\n",
    "# train model\n",
    "NN = model.fit(X, y, epochs=30, batch_size=m, verbose=2)\n",
    "# plot metrics\n",
    "#pyplot.plot(NN.history['accuracy'])\n",
    "#pyplot.show()"
   ]
  },
  {
   "cell_type": "code",
   "execution_count": null,
   "id": "93238e9a-de56-4cbc-8a86-2baa9b58eb3e",
   "metadata": {},
   "outputs": [],
   "source": [
    "print(NN.history.keys())"
   ]
  },
  {
   "cell_type": "code",
   "execution_count": null,
   "id": "06fe85f8-01ce-4bb6-8032-2f13ab0b36f1",
   "metadata": {},
   "outputs": [],
   "source": [
    "#history = model.fit(X, y, epochs=30, batch_size=m, verbose=2)\n",
    "# plot metrics\n",
    "pyplot.plot(NN.history['accuracy'])\n",
    "#pyplot.plot(history.history['loss'])\n",
    "pyplot.show()"
   ]
  },
  {
   "cell_type": "code",
   "execution_count": null,
   "id": "f206a989-91c5-4364-a71b-dbd6200dd4de",
   "metadata": {},
   "outputs": [],
   "source": []
  },
  {
   "cell_type": "code",
   "execution_count": null,
   "id": "934c9639-120a-4879-9920-55c62cf0f0cc",
   "metadata": {},
   "outputs": [],
   "source": []
  },
  {
   "cell_type": "code",
   "execution_count": null,
   "id": "09b5aca5-453d-4c8d-bf05-847ff70cfd81",
   "metadata": {},
   "outputs": [],
   "source": []
  },
  {
   "cell_type": "markdown",
   "id": "eb497fda-d1a6-44b7-a805-a6671a4d1524",
   "metadata": {},
   "source": [
    "### **Conclusion  : Review of machine learning algorithms reviewed**"
   ]
  },
  {
   "cell_type": "code",
   "execution_count": null,
   "id": "5550933f-3648-4d5c-9bd3-68a48e1a5d73",
   "metadata": {},
   "outputs": [],
   "source": []
  },
  {
   "cell_type": "code",
   "execution_count": null,
   "id": "3d490afe-5317-4b6c-8fe3-3b9fa6b6b060",
   "metadata": {},
   "outputs": [],
   "source": []
  },
  {
   "cell_type": "code",
   "execution_count": null,
   "id": "187d702b-6e06-4b1a-a504-744bcb218926",
   "metadata": {},
   "outputs": [],
   "source": []
  },
  {
   "cell_type": "code",
   "execution_count": null,
   "id": "a700e212-739f-416f-b4ff-affb459d465a",
   "metadata": {},
   "outputs": [],
   "source": [
    "# display the results of the 3 Algorithms\n",
    "\n",
    "algorithm_results = {'': ['Train results', 'Test results'],\n",
    "        'KNN': [kNNtrain_rmse, kNNtest_rmse], \n",
    "        'Linear Regression': [Linear_rmse_training, Linear_rmse_test]}\n",
    "\n",
    "print(tabulate(algorithm_results,headers='keys',tablefmt='fancy_grid'))"
   ]
  }
 ],
 "metadata": {
  "kernelspec": {
   "display_name": "Python 3 (ipykernel)",
   "language": "python",
   "name": "python3"
  },
  "language_info": {
   "codemirror_mode": {
    "name": "ipython",
    "version": 3
   },
   "file_extension": ".py",
   "mimetype": "text/x-python",
   "name": "python",
   "nbconvert_exporter": "python",
   "pygments_lexer": "ipython3",
   "version": "3.9.12"
  },
  "widgets": {
   "application/vnd.jupyter.widget-state+json": {
    "state": {},
    "version_major": 2,
    "version_minor": 0
   }
  }
 },
 "nbformat": 4,
 "nbformat_minor": 5
}
