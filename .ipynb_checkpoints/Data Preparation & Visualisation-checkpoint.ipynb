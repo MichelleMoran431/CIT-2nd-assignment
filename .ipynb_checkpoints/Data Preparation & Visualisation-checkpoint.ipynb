{
 "cells": [
  {
   "cell_type": "markdown",
   "id": "1d546be9-2065-411a-b861-710d520127c7",
   "metadata": {},
   "source": [
    "## **Introduction** ##"
   ]
  },
  {
   "cell_type": "markdown",
   "id": "683de3b5-7603-4b77-8f7d-eefcadfe7ed4",
   "metadata": {},
   "source": [
    "Main Aim : An analysis of Irelands Agricultural data and comparing the Irish Agri Sector with other countries worldwide. \n",
    "\n",
    "Main Aim of Data Preparation & visualisation Tasks : \n",
    "\n",
    "- Using EDA ( Exploratory Data Analysis ) to help identify patterns , inconsistencies, anomalies , missing data and other attributes and issues in the choosen datasets. To address these as well\n",
    "- With machine learning in mind , use the appropriate data cleaning ,engineering and extraction and other techniques to structure and enrich the data\n",
    "- Develop an interactive dashboard ( visualisation to communicate information) tailored to modern farmers using tufts principles to shocaste the information gathered from the machine learning "
   ]
  },
  {
   "cell_type": "markdown",
   "id": "a127f9a5-188e-4a67-8795-3be7ad580ea9",
   "metadata": {},
   "source": [
    "## **What data are we exploring today?**\n",
    "\n",
    "Reference : https://agridata.ec.europa.eu/extensions/DashboardDairy/DairyPrices.html#\n",
    "https://agridata.ec.europa.eu/extensions/DashboardRawMilk/RawMilkPrices.html#\n",
    "\n",
    "\n",
    "Is there a correlation between the price of butter and its stock  ? \n",
    "\n",
    "typically - if the price is high , the stocks are low and most people sell , and vice versa \n",
    "\n",
    "Objective is to find the right predictors - investigate seasonal effects  and the price of milk on the butter prices\n"
   ]
  },
  {
   "cell_type": "markdown",
   "id": "05d7d052-5e88-420d-894e-80a9a080012f",
   "metadata": {
    "tags": []
   },
   "source": [
    "#### **1. Importing or required Libraries for EDA**"
   ]
  },
  {
   "cell_type": "code",
   "execution_count": 947,
   "id": "e982c058-de22-47b9-a569-52a6e332d244",
   "metadata": {},
   "outputs": [],
   "source": [
    "# Importing required libraries.\n",
    "import pandas as pd\n",
    "import numpy as np\n",
    "import seaborn as sns #visualisation\n",
    "import matplotlib.pyplot as plt #visualisation\n",
    "%matplotlib inline\n",
    "sns.set(color_codes=True) \n",
    "from datetime import datetime\n",
    "import warnings\n",
    "warnings.filterwarnings('ignore')\n"
   ]
  },
  {
   "cell_type": "markdown",
   "id": "f7866bdb-5639-4ae9-8c1d-c03084fd8f67",
   "metadata": {},
   "source": [
    "#### **2. Loading the data into the data frame.**"
   ]
  },
  {
   "cell_type": "markdown",
   "id": "38a81b77-c7f6-451e-88c9-5c01ee5db209",
   "metadata": {},
   "source": [
    "1. European Data -  Reference : https://agridata.ec.europa.eu/extensions/DashboardDairy/DairyPrices.html# https://agridata.ec.europa.eu/extensions/DashboardRawMilk/RawMilkPrices.html#"
   ]
  },
  {
   "cell_type": "code",
   "execution_count": 948,
   "id": "9c4415f8-85b0-4527-8c45-2adb63afa38e",
   "metadata": {},
   "outputs": [],
   "source": [
    "EuropeanButterStock = pd.read_csv('European Butter Stock.csv') "
   ]
  },
  {
   "cell_type": "code",
   "execution_count": 949,
   "id": "ea8f84bf-506e-48d1-aaa3-daab704b08ef",
   "metadata": {},
   "outputs": [
    {
     "data": {
      "text/html": [
       "<div>\n",
       "<style scoped>\n",
       "    .dataframe tbody tr th:only-of-type {\n",
       "        vertical-align: middle;\n",
       "    }\n",
       "\n",
       "    .dataframe tbody tr th {\n",
       "        vertical-align: top;\n",
       "    }\n",
       "\n",
       "    .dataframe thead th {\n",
       "        text-align: right;\n",
       "    }\n",
       "</style>\n",
       "<table border=\"1\" class=\"dataframe\">\n",
       "  <thead>\n",
       "    <tr style=\"text-align: right;\">\n",
       "      <th></th>\n",
       "      <th>Member State</th>\n",
       "      <th>Member State Code</th>\n",
       "      <th>Category</th>\n",
       "      <th>Year</th>\n",
       "      <th>Month</th>\n",
       "      <th>Thousand tonnes</th>\n",
       "    </tr>\n",
       "  </thead>\n",
       "  <tbody>\n",
       "    <tr>\n",
       "      <th>0</th>\n",
       "      <td>Austria</td>\n",
       "      <td>AT</td>\n",
       "      <td>Butter, incl. dehydrated butter and ghee, and ...</td>\n",
       "      <td>2022</td>\n",
       "      <td>January</td>\n",
       "      <td>3.32</td>\n",
       "    </tr>\n",
       "    <tr>\n",
       "      <th>1</th>\n",
       "      <td>Austria</td>\n",
       "      <td>AT</td>\n",
       "      <td>Butter, incl. dehydrated butter and ghee, and ...</td>\n",
       "      <td>2022</td>\n",
       "      <td>February</td>\n",
       "      <td>2.85</td>\n",
       "    </tr>\n",
       "    <tr>\n",
       "      <th>2</th>\n",
       "      <td>Austria</td>\n",
       "      <td>AT</td>\n",
       "      <td>Butter, incl. dehydrated butter and ghee, and ...</td>\n",
       "      <td>2022</td>\n",
       "      <td>March</td>\n",
       "      <td>3.36</td>\n",
       "    </tr>\n",
       "    <tr>\n",
       "      <th>3</th>\n",
       "      <td>Austria</td>\n",
       "      <td>AT</td>\n",
       "      <td>Butter, incl. dehydrated butter and ghee, and ...</td>\n",
       "      <td>2022</td>\n",
       "      <td>April</td>\n",
       "      <td>3.13</td>\n",
       "    </tr>\n",
       "    <tr>\n",
       "      <th>4</th>\n",
       "      <td>Austria</td>\n",
       "      <td>AT</td>\n",
       "      <td>Butter, incl. dehydrated butter and ghee, and ...</td>\n",
       "      <td>2022</td>\n",
       "      <td>May</td>\n",
       "      <td>3.09</td>\n",
       "    </tr>\n",
       "  </tbody>\n",
       "</table>\n",
       "</div>"
      ],
      "text/plain": [
       "  Member State Member State Code  \\\n",
       "0      Austria                AT   \n",
       "1      Austria                AT   \n",
       "2      Austria                AT   \n",
       "3      Austria                AT   \n",
       "4      Austria                AT   \n",
       "\n",
       "                                            Category  Year     Month  \\\n",
       "0  Butter, incl. dehydrated butter and ghee, and ...  2022   January   \n",
       "1  Butter, incl. dehydrated butter and ghee, and ...  2022  February   \n",
       "2  Butter, incl. dehydrated butter and ghee, and ...  2022     March   \n",
       "3  Butter, incl. dehydrated butter and ghee, and ...  2022     April   \n",
       "4  Butter, incl. dehydrated butter and ghee, and ...  2022       May   \n",
       "\n",
       "   Thousand tonnes  \n",
       "0             3.32  \n",
       "1             2.85  \n",
       "2             3.36  \n",
       "3             3.13  \n",
       "4             3.09  "
      ]
     },
     "execution_count": 949,
     "metadata": {},
     "output_type": "execute_result"
    }
   ],
   "source": [
    "EuropeanButterStock.head()"
   ]
  },
  {
   "cell_type": "code",
   "execution_count": null,
   "id": "5137d8a9-dd5d-46d8-86ef-4b13d670a4fc",
   "metadata": {},
   "outputs": [],
   "source": []
  },
  {
   "cell_type": "code",
   "execution_count": 950,
   "id": "a42aaf1f-6c1d-4086-87f4-3c492b9db0df",
   "metadata": {},
   "outputs": [],
   "source": [
    "EuropeanMilkStock = pd.read_csv('European Milk Stock.csv') "
   ]
  },
  {
   "cell_type": "code",
   "execution_count": 951,
   "id": "a66ccf1e-e66d-425a-81c9-e1a12a45dd0d",
   "metadata": {},
   "outputs": [
    {
     "data": {
      "text/html": [
       "<div>\n",
       "<style scoped>\n",
       "    .dataframe tbody tr th:only-of-type {\n",
       "        vertical-align: middle;\n",
       "    }\n",
       "\n",
       "    .dataframe tbody tr th {\n",
       "        vertical-align: top;\n",
       "    }\n",
       "\n",
       "    .dataframe thead th {\n",
       "        text-align: right;\n",
       "    }\n",
       "</style>\n",
       "<table border=\"1\" class=\"dataframe\">\n",
       "  <thead>\n",
       "    <tr style=\"text-align: right;\">\n",
       "      <th></th>\n",
       "      <th>Member State</th>\n",
       "      <th>Member State Code</th>\n",
       "      <th>Category</th>\n",
       "      <th>Year</th>\n",
       "      <th>Month</th>\n",
       "      <th>Thousand tonnes</th>\n",
       "    </tr>\n",
       "  </thead>\n",
       "  <tbody>\n",
       "    <tr>\n",
       "      <th>0</th>\n",
       "      <td>Austria</td>\n",
       "      <td>AT</td>\n",
       "      <td>Total raw cow's milk delivered to dairies</td>\n",
       "      <td>2022</td>\n",
       "      <td>January</td>\n",
       "      <td>281.97</td>\n",
       "    </tr>\n",
       "    <tr>\n",
       "      <th>1</th>\n",
       "      <td>Austria</td>\n",
       "      <td>AT</td>\n",
       "      <td>Total raw cow's milk delivered to dairies</td>\n",
       "      <td>2022</td>\n",
       "      <td>February</td>\n",
       "      <td>264.78</td>\n",
       "    </tr>\n",
       "    <tr>\n",
       "      <th>2</th>\n",
       "      <td>Austria</td>\n",
       "      <td>AT</td>\n",
       "      <td>Total raw cow's milk delivered to dairies</td>\n",
       "      <td>2022</td>\n",
       "      <td>March</td>\n",
       "      <td>298.06</td>\n",
       "    </tr>\n",
       "    <tr>\n",
       "      <th>3</th>\n",
       "      <td>Austria</td>\n",
       "      <td>AT</td>\n",
       "      <td>Total raw cow's milk delivered to dairies</td>\n",
       "      <td>2022</td>\n",
       "      <td>April</td>\n",
       "      <td>290.51</td>\n",
       "    </tr>\n",
       "    <tr>\n",
       "      <th>4</th>\n",
       "      <td>Austria</td>\n",
       "      <td>AT</td>\n",
       "      <td>Total raw cow's milk delivered to dairies</td>\n",
       "      <td>2022</td>\n",
       "      <td>May</td>\n",
       "      <td>299.46</td>\n",
       "    </tr>\n",
       "  </tbody>\n",
       "</table>\n",
       "</div>"
      ],
      "text/plain": [
       "  Member State Member State Code                                   Category  \\\n",
       "0      Austria                AT  Total raw cow's milk delivered to dairies   \n",
       "1      Austria                AT  Total raw cow's milk delivered to dairies   \n",
       "2      Austria                AT  Total raw cow's milk delivered to dairies   \n",
       "3      Austria                AT  Total raw cow's milk delivered to dairies   \n",
       "4      Austria                AT  Total raw cow's milk delivered to dairies   \n",
       "\n",
       "   Year     Month Thousand tonnes  \n",
       "0  2022   January          281.97  \n",
       "1  2022  February          264.78  \n",
       "2  2022     March          298.06  \n",
       "3  2022     April          290.51  \n",
       "4  2022       May          299.46  "
      ]
     },
     "execution_count": 951,
     "metadata": {},
     "output_type": "execute_result"
    }
   ],
   "source": [
    "EuropeanMilkStock.head()"
   ]
  },
  {
   "cell_type": "markdown",
   "id": "3ad2b0e4-6360-43d2-b8e9-fbe0e9e75917",
   "metadata": {},
   "source": [
    "https://stackoverflow.com/questions/22216076/unicodedecodeerror-utf8-codec-cant-decode-byte-0xa5-in-position-0-invalid-s\n",
    "#The error is because there is some non-ascii character in the dictionary and it can't be encoded/decoded. One simple way to avoid this error is to encode such strings with encode() function as follows (if a is the string with non-ascii character):"
   ]
  },
  {
   "cell_type": "code",
   "execution_count": 952,
   "id": "87f48e4d-78d8-4dd2-b5a4-7a0dcfc37dc0",
   "metadata": {},
   "outputs": [],
   "source": [
    "EuropeanButterPrices = pd.read_csv('European union Butter Prices.csv',encoding='unicode_escape') "
   ]
  },
  {
   "cell_type": "code",
   "execution_count": 953,
   "id": "51f6757e-94fa-4e62-b416-f77a58a11098",
   "metadata": {},
   "outputs": [],
   "source": [
    "EuropeanMilkPrices = pd.read_csv('European milk prices.csv',encoding='unicode_escape') "
   ]
  },
  {
   "cell_type": "code",
   "execution_count": 954,
   "id": "8e4ae0a5-ff31-4415-8806-bff3782d0c03",
   "metadata": {},
   "outputs": [
    {
     "data": {
      "text/html": [
       "<div>\n",
       "<style scoped>\n",
       "    .dataframe tbody tr th:only-of-type {\n",
       "        vertical-align: middle;\n",
       "    }\n",
       "\n",
       "    .dataframe tbody tr th {\n",
       "        vertical-align: top;\n",
       "    }\n",
       "\n",
       "    .dataframe thead th {\n",
       "        text-align: right;\n",
       "    }\n",
       "</style>\n",
       "<table border=\"1\" class=\"dataframe\">\n",
       "  <thead>\n",
       "    <tr style=\"text-align: right;\">\n",
       "      <th></th>\n",
       "      <th>Year</th>\n",
       "      <th>Month</th>\n",
       "      <th>Member State</th>\n",
       "      <th>Product</th>\n",
       "      <th>Price(/100kg)</th>\n",
       "    </tr>\n",
       "  </thead>\n",
       "  <tbody>\n",
       "    <tr>\n",
       "      <th>0</th>\n",
       "      <td>2022</td>\n",
       "      <td>Jan</td>\n",
       "      <td>Belgium</td>\n",
       "      <td>Raw milk</td>\n",
       "      <td>45.13</td>\n",
       "    </tr>\n",
       "    <tr>\n",
       "      <th>1</th>\n",
       "      <td>2022</td>\n",
       "      <td>Jan</td>\n",
       "      <td>Bulgaria</td>\n",
       "      <td>Raw milk</td>\n",
       "      <td>37.61</td>\n",
       "    </tr>\n",
       "    <tr>\n",
       "      <th>2</th>\n",
       "      <td>2022</td>\n",
       "      <td>Jan</td>\n",
       "      <td>Czechia</td>\n",
       "      <td>Raw milk</td>\n",
       "      <td>39.82</td>\n",
       "    </tr>\n",
       "    <tr>\n",
       "      <th>3</th>\n",
       "      <td>2022</td>\n",
       "      <td>Jan</td>\n",
       "      <td>Denmark</td>\n",
       "      <td>Raw milk</td>\n",
       "      <td>43.68</td>\n",
       "    </tr>\n",
       "    <tr>\n",
       "      <th>4</th>\n",
       "      <td>2022</td>\n",
       "      <td>Jan</td>\n",
       "      <td>Germany</td>\n",
       "      <td>Raw milk</td>\n",
       "      <td>43.03</td>\n",
       "    </tr>\n",
       "  </tbody>\n",
       "</table>\n",
       "</div>"
      ],
      "text/plain": [
       "   Year Month Member State   Product  Price(/100kg)\n",
       "0  2022   Jan      Belgium  Raw milk           45.13\n",
       "1  2022   Jan     Bulgaria  Raw milk           37.61\n",
       "2  2022   Jan      Czechia  Raw milk           39.82\n",
       "3  2022   Jan      Denmark  Raw milk           43.68\n",
       "4  2022   Jan      Germany  Raw milk           43.03"
      ]
     },
     "execution_count": 954,
     "metadata": {},
     "output_type": "execute_result"
    }
   ],
   "source": [
    "EuropeanMilkPrices.head()"
   ]
  },
  {
   "cell_type": "markdown",
   "id": "06fc299d-7f6a-4666-9225-fc636e07aaa6",
   "metadata": {},
   "source": [
    "2. IRISH Data -  Reference :https://data.cso.ie/"
   ]
  },
  {
   "cell_type": "code",
   "execution_count": 955,
   "id": "efef8164-5d54-4e0a-a86f-ee615a3663d0",
   "metadata": {},
   "outputs": [],
   "source": [
    "IrishButterStock = pd.read_csv('CSO Irish Butter Production.csv') "
   ]
  },
  {
   "cell_type": "code",
   "execution_count": 956,
   "id": "eaeb5a79-f949-4c38-a946-d00cd00ae7fd",
   "metadata": {},
   "outputs": [
    {
     "data": {
      "text/html": [
       "<div>\n",
       "<style scoped>\n",
       "    .dataframe tbody tr th:only-of-type {\n",
       "        vertical-align: middle;\n",
       "    }\n",
       "\n",
       "    .dataframe tbody tr th {\n",
       "        vertical-align: top;\n",
       "    }\n",
       "\n",
       "    .dataframe thead th {\n",
       "        text-align: right;\n",
       "    }\n",
       "</style>\n",
       "<table border=\"1\" class=\"dataframe\">\n",
       "  <thead>\n",
       "    <tr style=\"text-align: right;\">\n",
       "      <th></th>\n",
       "      <th>STATISTIC Label</th>\n",
       "      <th>Month</th>\n",
       "      <th>Product</th>\n",
       "      <th>UNIT</th>\n",
       "      <th>VALUE</th>\n",
       "    </tr>\n",
       "  </thead>\n",
       "  <tbody>\n",
       "    <tr>\n",
       "      <th>0</th>\n",
       "      <td>Production of Dairy Products</td>\n",
       "      <td>1980 January</td>\n",
       "      <td>Butter</td>\n",
       "      <td>000 Tonnes</td>\n",
       "      <td>1.8</td>\n",
       "    </tr>\n",
       "    <tr>\n",
       "      <th>1</th>\n",
       "      <td>Production of Dairy Products</td>\n",
       "      <td>1980 February</td>\n",
       "      <td>Butter</td>\n",
       "      <td>000 Tonnes</td>\n",
       "      <td>4.4</td>\n",
       "    </tr>\n",
       "    <tr>\n",
       "      <th>2</th>\n",
       "      <td>Production of Dairy Products</td>\n",
       "      <td>1980 March</td>\n",
       "      <td>Butter</td>\n",
       "      <td>000 Tonnes</td>\n",
       "      <td>8.7</td>\n",
       "    </tr>\n",
       "    <tr>\n",
       "      <th>3</th>\n",
       "      <td>Production of Dairy Products</td>\n",
       "      <td>1980 April</td>\n",
       "      <td>Butter</td>\n",
       "      <td>000 Tonnes</td>\n",
       "      <td>13.7</td>\n",
       "    </tr>\n",
       "    <tr>\n",
       "      <th>4</th>\n",
       "      <td>Production of Dairy Products</td>\n",
       "      <td>1980 May</td>\n",
       "      <td>Butter</td>\n",
       "      <td>000 Tonnes</td>\n",
       "      <td>17.3</td>\n",
       "    </tr>\n",
       "  </tbody>\n",
       "</table>\n",
       "</div>"
      ],
      "text/plain": [
       "                STATISTIC Label          Month Product        UNIT  VALUE\n",
       "0  Production of Dairy Products   1980 January  Butter  000 Tonnes    1.8\n",
       "1  Production of Dairy Products  1980 February  Butter  000 Tonnes    4.4\n",
       "2  Production of Dairy Products     1980 March  Butter  000 Tonnes    8.7\n",
       "3  Production of Dairy Products     1980 April  Butter  000 Tonnes   13.7\n",
       "4  Production of Dairy Products       1980 May  Butter  000 Tonnes   17.3"
      ]
     },
     "execution_count": 956,
     "metadata": {},
     "output_type": "execute_result"
    }
   ],
   "source": [
    "IrishButterStock.head()"
   ]
  },
  {
   "cell_type": "code",
   "execution_count": 957,
   "id": "6ab76175-90e2-4927-ade1-f3ede2ec82b9",
   "metadata": {},
   "outputs": [],
   "source": [
    "IrishButterprice = pd.read_csv('CSO Butter prices 2011-2022.csv') "
   ]
  },
  {
   "cell_type": "code",
   "execution_count": 958,
   "id": "28d3ec2c-fa3b-451e-8611-a902a6c4b935",
   "metadata": {},
   "outputs": [],
   "source": [
    "IrishMilkStock = pd.read_csv('CSO Irish MilkProduction.csv') "
   ]
  },
  {
   "cell_type": "code",
   "execution_count": 959,
   "id": "00e89f83-4287-410d-8fb2-99d08f86b137",
   "metadata": {},
   "outputs": [
    {
     "data": {
      "text/html": [
       "<div>\n",
       "<style scoped>\n",
       "    .dataframe tbody tr th:only-of-type {\n",
       "        vertical-align: middle;\n",
       "    }\n",
       "\n",
       "    .dataframe tbody tr th {\n",
       "        vertical-align: top;\n",
       "    }\n",
       "\n",
       "    .dataframe thead th {\n",
       "        text-align: right;\n",
       "    }\n",
       "</style>\n",
       "<table border=\"1\" class=\"dataframe\">\n",
       "  <thead>\n",
       "    <tr style=\"text-align: right;\">\n",
       "      <th></th>\n",
       "      <th>Statistic Label</th>\n",
       "      <th>Month</th>\n",
       "      <th>Domestic or Import Source</th>\n",
       "      <th>UNIT</th>\n",
       "      <th>VALUE</th>\n",
       "    </tr>\n",
       "  </thead>\n",
       "  <tbody>\n",
       "    <tr>\n",
       "      <th>0</th>\n",
       "      <td>Intake of Cows Milk by Creameries and Pasteuri...</td>\n",
       "      <td>1975 January</td>\n",
       "      <td>Domestic</td>\n",
       "      <td>Million Litres</td>\n",
       "      <td>55.8</td>\n",
       "    </tr>\n",
       "    <tr>\n",
       "      <th>1</th>\n",
       "      <td>Intake of Cows Milk by Creameries and Pasteuri...</td>\n",
       "      <td>1975 February</td>\n",
       "      <td>Domestic</td>\n",
       "      <td>Million Litres</td>\n",
       "      <td>84.4</td>\n",
       "    </tr>\n",
       "    <tr>\n",
       "      <th>2</th>\n",
       "      <td>Intake of Cows Milk by Creameries and Pasteuri...</td>\n",
       "      <td>1975 March</td>\n",
       "      <td>Domestic</td>\n",
       "      <td>Million Litres</td>\n",
       "      <td>193.3</td>\n",
       "    </tr>\n",
       "    <tr>\n",
       "      <th>3</th>\n",
       "      <td>Intake of Cows Milk by Creameries and Pasteuri...</td>\n",
       "      <td>1975 April</td>\n",
       "      <td>Domestic</td>\n",
       "      <td>Million Litres</td>\n",
       "      <td>327.5</td>\n",
       "    </tr>\n",
       "    <tr>\n",
       "      <th>4</th>\n",
       "      <td>Intake of Cows Milk by Creameries and Pasteuri...</td>\n",
       "      <td>1975 May</td>\n",
       "      <td>Domestic</td>\n",
       "      <td>Million Litres</td>\n",
       "      <td>493.5</td>\n",
       "    </tr>\n",
       "  </tbody>\n",
       "</table>\n",
       "</div>"
      ],
      "text/plain": [
       "                                     Statistic Label          Month  \\\n",
       "0  Intake of Cows Milk by Creameries and Pasteuri...   1975 January   \n",
       "1  Intake of Cows Milk by Creameries and Pasteuri...  1975 February   \n",
       "2  Intake of Cows Milk by Creameries and Pasteuri...     1975 March   \n",
       "3  Intake of Cows Milk by Creameries and Pasteuri...     1975 April   \n",
       "4  Intake of Cows Milk by Creameries and Pasteuri...       1975 May   \n",
       "\n",
       "  Domestic or Import Source            UNIT  VALUE  \n",
       "0                  Domestic  Million Litres   55.8  \n",
       "1                  Domestic  Million Litres   84.4  \n",
       "2                  Domestic  Million Litres  193.3  \n",
       "3                  Domestic  Million Litres  327.5  \n",
       "4                  Domestic  Million Litres  493.5  "
      ]
     },
     "execution_count": 959,
     "metadata": {},
     "output_type": "execute_result"
    }
   ],
   "source": [
    "IrishMilkStock.head()"
   ]
  },
  {
   "cell_type": "code",
   "execution_count": 960,
   "id": "bbd4c278-9b5d-4132-ad5f-727509e0819a",
   "metadata": {},
   "outputs": [],
   "source": [
    "IrishMilkprice = pd.read_csv('CSO Milk Prices 2014-2022.csv') "
   ]
  },
  {
   "cell_type": "markdown",
   "id": "affa4780-c2aa-4f1b-923a-adad1846673b",
   "metadata": {},
   "source": [
    "## **3. Data Preparation .**\n",
    "\n",
    "### 1. European Butter Prices Dataset\n",
    "\n",
    "Organise data in terms of months and remove the week column \n",
    "\n"
   ]
  },
  {
   "cell_type": "code",
   "execution_count": 961,
   "id": "665b8582-485a-4c8e-8ea9-35ccb172e7a7",
   "metadata": {},
   "outputs": [
    {
     "data": {
      "text/html": [
       "<div>\n",
       "<style scoped>\n",
       "    .dataframe tbody tr th:only-of-type {\n",
       "        vertical-align: middle;\n",
       "    }\n",
       "\n",
       "    .dataframe tbody tr th {\n",
       "        vertical-align: top;\n",
       "    }\n",
       "\n",
       "    .dataframe thead th {\n",
       "        text-align: right;\n",
       "    }\n",
       "</style>\n",
       "<table border=\"1\" class=\"dataframe\">\n",
       "  <thead>\n",
       "    <tr style=\"text-align: right;\">\n",
       "      <th></th>\n",
       "      <th>Year</th>\n",
       "      <th>Week</th>\n",
       "      <th>Member State</th>\n",
       "      <th>Product</th>\n",
       "      <th>Begin Date</th>\n",
       "      <th>End Date</th>\n",
       "      <th>Price (/100kg)</th>\n",
       "    </tr>\n",
       "  </thead>\n",
       "  <tbody>\n",
       "    <tr>\n",
       "      <th>0</th>\n",
       "      <td>2000</td>\n",
       "      <td>52</td>\n",
       "      <td>Belgium</td>\n",
       "      <td>BUTTER</td>\n",
       "      <td>25/12/2000</td>\n",
       "      <td>31/12/2000</td>\n",
       "      <td>326.10</td>\n",
       "    </tr>\n",
       "    <tr>\n",
       "      <th>1</th>\n",
       "      <td>2000</td>\n",
       "      <td>52</td>\n",
       "      <td>Denmark</td>\n",
       "      <td>BUTTER</td>\n",
       "      <td>25/12/2000</td>\n",
       "      <td>31/12/2000</td>\n",
       "      <td>376.70</td>\n",
       "    </tr>\n",
       "    <tr>\n",
       "      <th>2</th>\n",
       "      <td>2000</td>\n",
       "      <td>52</td>\n",
       "      <td>Germany</td>\n",
       "      <td>BUTTER</td>\n",
       "      <td>25/12/2000</td>\n",
       "      <td>31/12/2000</td>\n",
       "      <td>352.79</td>\n",
       "    </tr>\n",
       "    <tr>\n",
       "      <th>3</th>\n",
       "      <td>2000</td>\n",
       "      <td>52</td>\n",
       "      <td>Ireland</td>\n",
       "      <td>BUTTER</td>\n",
       "      <td>25/12/2000</td>\n",
       "      <td>31/12/2000</td>\n",
       "      <td>292.04</td>\n",
       "    </tr>\n",
       "    <tr>\n",
       "      <th>4</th>\n",
       "      <td>2000</td>\n",
       "      <td>52</td>\n",
       "      <td>Greece</td>\n",
       "      <td>BUTTER</td>\n",
       "      <td>25/12/2000</td>\n",
       "      <td>31/12/2000</td>\n",
       "      <td>460.16</td>\n",
       "    </tr>\n",
       "  </tbody>\n",
       "</table>\n",
       "</div>"
      ],
      "text/plain": [
       "   Year  Week Member State Product  Begin Date    End Date  Price (/100kg)\n",
       "0  2000    52      Belgium  BUTTER  25/12/2000  31/12/2000           326.10\n",
       "1  2000    52      Denmark  BUTTER  25/12/2000  31/12/2000           376.70\n",
       "2  2000    52      Germany  BUTTER  25/12/2000  31/12/2000           352.79\n",
       "3  2000    52      Ireland  BUTTER  25/12/2000  31/12/2000           292.04\n",
       "4  2000    52       Greece  BUTTER  25/12/2000  31/12/2000           460.16"
      ]
     },
     "execution_count": 961,
     "metadata": {},
     "output_type": "execute_result"
    }
   ],
   "source": [
    "EuropeanButterPrices.head(5)"
   ]
  },
  {
   "cell_type": "code",
   "execution_count": 962,
   "id": "6b699029-689a-4df4-aadb-b903485c1dd0",
   "metadata": {},
   "outputs": [],
   "source": [
    "EuropeanButterPrices[\"Begin Date\"] = pd.to_datetime(EuropeanButterPrices[\"Begin Date\"])"
   ]
  },
  {
   "cell_type": "code",
   "execution_count": 963,
   "id": "b815bf4a-baa9-46b3-840f-4cad6872675d",
   "metadata": {},
   "outputs": [
    {
     "data": {
      "text/html": [
       "<div>\n",
       "<style scoped>\n",
       "    .dataframe tbody tr th:only-of-type {\n",
       "        vertical-align: middle;\n",
       "    }\n",
       "\n",
       "    .dataframe tbody tr th {\n",
       "        vertical-align: top;\n",
       "    }\n",
       "\n",
       "    .dataframe thead th {\n",
       "        text-align: right;\n",
       "    }\n",
       "</style>\n",
       "<table border=\"1\" class=\"dataframe\">\n",
       "  <thead>\n",
       "    <tr style=\"text-align: right;\">\n",
       "      <th></th>\n",
       "      <th>Year</th>\n",
       "      <th>Week</th>\n",
       "      <th>Member State</th>\n",
       "      <th>Product</th>\n",
       "      <th>Begin Date</th>\n",
       "      <th>End Date</th>\n",
       "      <th>Price (/100kg)</th>\n",
       "    </tr>\n",
       "  </thead>\n",
       "  <tbody>\n",
       "    <tr>\n",
       "      <th>0</th>\n",
       "      <td>2000</td>\n",
       "      <td>52</td>\n",
       "      <td>Belgium</td>\n",
       "      <td>BUTTER</td>\n",
       "      <td>2000-12-25</td>\n",
       "      <td>31/12/2000</td>\n",
       "      <td>326.10</td>\n",
       "    </tr>\n",
       "    <tr>\n",
       "      <th>1</th>\n",
       "      <td>2000</td>\n",
       "      <td>52</td>\n",
       "      <td>Denmark</td>\n",
       "      <td>BUTTER</td>\n",
       "      <td>2000-12-25</td>\n",
       "      <td>31/12/2000</td>\n",
       "      <td>376.70</td>\n",
       "    </tr>\n",
       "    <tr>\n",
       "      <th>2</th>\n",
       "      <td>2000</td>\n",
       "      <td>52</td>\n",
       "      <td>Germany</td>\n",
       "      <td>BUTTER</td>\n",
       "      <td>2000-12-25</td>\n",
       "      <td>31/12/2000</td>\n",
       "      <td>352.79</td>\n",
       "    </tr>\n",
       "    <tr>\n",
       "      <th>3</th>\n",
       "      <td>2000</td>\n",
       "      <td>52</td>\n",
       "      <td>Ireland</td>\n",
       "      <td>BUTTER</td>\n",
       "      <td>2000-12-25</td>\n",
       "      <td>31/12/2000</td>\n",
       "      <td>292.04</td>\n",
       "    </tr>\n",
       "    <tr>\n",
       "      <th>4</th>\n",
       "      <td>2000</td>\n",
       "      <td>52</td>\n",
       "      <td>Greece</td>\n",
       "      <td>BUTTER</td>\n",
       "      <td>2000-12-25</td>\n",
       "      <td>31/12/2000</td>\n",
       "      <td>460.16</td>\n",
       "    </tr>\n",
       "  </tbody>\n",
       "</table>\n",
       "</div>"
      ],
      "text/plain": [
       "   Year  Week Member State Product Begin Date    End Date  Price (/100kg)\n",
       "0  2000    52      Belgium  BUTTER 2000-12-25  31/12/2000           326.10\n",
       "1  2000    52      Denmark  BUTTER 2000-12-25  31/12/2000           376.70\n",
       "2  2000    52      Germany  BUTTER 2000-12-25  31/12/2000           352.79\n",
       "3  2000    52      Ireland  BUTTER 2000-12-25  31/12/2000           292.04\n",
       "4  2000    52       Greece  BUTTER 2000-12-25  31/12/2000           460.16"
      ]
     },
     "execution_count": 963,
     "metadata": {},
     "output_type": "execute_result"
    }
   ],
   "source": [
    "EuropeanButterPrices.head(5)"
   ]
  },
  {
   "cell_type": "code",
   "execution_count": 964,
   "id": "c7a31c36-da9f-4bbe-ae3c-bcc37fdb07a0",
   "metadata": {},
   "outputs": [],
   "source": [
    "EuropeanButterPrices['Month'] = pd.DatetimeIndex(EuropeanButterPrices[\"Begin Date\"]).month "
   ]
  },
  {
   "cell_type": "code",
   "execution_count": 965,
   "id": "c7ef72a7-7460-4d70-8341-9fa8709c944b",
   "metadata": {},
   "outputs": [
    {
     "data": {
      "text/plain": [
       "Begin Date\n",
       "1     352.518843\n",
       "2     352.876086\n",
       "3     355.813380\n",
       "4     356.434747\n",
       "5     357.043786\n",
       "6     358.089287\n",
       "7     363.152140\n",
       "8     363.698226\n",
       "9     363.378740\n",
       "10    372.647288\n",
       "11    372.050699\n",
       "12    356.798542\n",
       "Name: Price (/100kg), dtype: float64"
      ]
     },
     "execution_count": 965,
     "metadata": {},
     "output_type": "execute_result"
    }
   ],
   "source": [
    "EuropeanButterPrices.groupby(EuropeanButterPrices['Begin Date'].dt.month)['Price (/100kg)'].mean()"
   ]
  },
  {
   "cell_type": "code",
   "execution_count": 966,
   "id": "e4057399-aba3-4a2e-814e-28cedd335cfd",
   "metadata": {},
   "outputs": [],
   "source": [
    "EuropeanButterPrices.rename(columns={\"Price (/100kg)\": \"Butter Price (/100kg)\"},inplace=True)"
   ]
  },
  {
   "cell_type": "code",
   "execution_count": 967,
   "id": "04d1e0cb-8b15-442c-9877-da75a09099ef",
   "metadata": {},
   "outputs": [],
   "source": [
    "EuropeanButterPrices1 = EuropeanButterPrices.drop(['Begin Date','End Date','Week','Product'],axis=1)"
   ]
  },
  {
   "cell_type": "code",
   "execution_count": 968,
   "id": "fe9a39a0-54c8-49b3-9663-12a7a190a4c5",
   "metadata": {},
   "outputs": [
    {
     "data": {
      "text/html": [
       "<div>\n",
       "<style scoped>\n",
       "    .dataframe tbody tr th:only-of-type {\n",
       "        vertical-align: middle;\n",
       "    }\n",
       "\n",
       "    .dataframe tbody tr th {\n",
       "        vertical-align: top;\n",
       "    }\n",
       "\n",
       "    .dataframe thead th {\n",
       "        text-align: right;\n",
       "    }\n",
       "</style>\n",
       "<table border=\"1\" class=\"dataframe\">\n",
       "  <thead>\n",
       "    <tr style=\"text-align: right;\">\n",
       "      <th></th>\n",
       "      <th>Year</th>\n",
       "      <th>Member State</th>\n",
       "      <th>Butter Price (/100kg)</th>\n",
       "      <th>Month</th>\n",
       "    </tr>\n",
       "  </thead>\n",
       "  <tbody>\n",
       "    <tr>\n",
       "      <th>0</th>\n",
       "      <td>2000</td>\n",
       "      <td>Belgium</td>\n",
       "      <td>326.10</td>\n",
       "      <td>12</td>\n",
       "    </tr>\n",
       "    <tr>\n",
       "      <th>1</th>\n",
       "      <td>2000</td>\n",
       "      <td>Denmark</td>\n",
       "      <td>376.70</td>\n",
       "      <td>12</td>\n",
       "    </tr>\n",
       "    <tr>\n",
       "      <th>2</th>\n",
       "      <td>2000</td>\n",
       "      <td>Germany</td>\n",
       "      <td>352.79</td>\n",
       "      <td>12</td>\n",
       "    </tr>\n",
       "    <tr>\n",
       "      <th>3</th>\n",
       "      <td>2000</td>\n",
       "      <td>Ireland</td>\n",
       "      <td>292.04</td>\n",
       "      <td>12</td>\n",
       "    </tr>\n",
       "    <tr>\n",
       "      <th>4</th>\n",
       "      <td>2000</td>\n",
       "      <td>Greece</td>\n",
       "      <td>460.16</td>\n",
       "      <td>12</td>\n",
       "    </tr>\n",
       "  </tbody>\n",
       "</table>\n",
       "</div>"
      ],
      "text/plain": [
       "   Year Member State  Butter Price (/100kg)  Month\n",
       "0  2000      Belgium                  326.10     12\n",
       "1  2000      Denmark                  376.70     12\n",
       "2  2000      Germany                  352.79     12\n",
       "3  2000      Ireland                  292.04     12\n",
       "4  2000       Greece                  460.16     12"
      ]
     },
     "execution_count": 968,
     "metadata": {},
     "output_type": "execute_result"
    }
   ],
   "source": [
    "EuropeanButterPrices1.head()"
   ]
  },
  {
   "cell_type": "code",
   "execution_count": 969,
   "id": "80e4ac74-5187-4d32-92e1-9140fff112cd",
   "metadata": {},
   "outputs": [],
   "source": [
    "# rearranging the location of the columns\n",
    "#EuropeanButterPrices2=EuropeanButterPrices1.iloc[:, [0,7,2,6]]\n",
    "#EuropeanButterPrices2.head()"
   ]
  },
  {
   "cell_type": "markdown",
   "id": "d15766cd-cba1-4407-9ae5-509b2f590353",
   "metadata": {},
   "source": [
    "### 2.European Milk Prices Dataset"
   ]
  },
  {
   "cell_type": "code",
   "execution_count": 970,
   "id": "1caa8560-6399-40fc-9285-8535d9ba0157",
   "metadata": {},
   "outputs": [
    {
     "data": {
      "text/html": [
       "<div>\n",
       "<style scoped>\n",
       "    .dataframe tbody tr th:only-of-type {\n",
       "        vertical-align: middle;\n",
       "    }\n",
       "\n",
       "    .dataframe tbody tr th {\n",
       "        vertical-align: top;\n",
       "    }\n",
       "\n",
       "    .dataframe thead th {\n",
       "        text-align: right;\n",
       "    }\n",
       "</style>\n",
       "<table border=\"1\" class=\"dataframe\">\n",
       "  <thead>\n",
       "    <tr style=\"text-align: right;\">\n",
       "      <th></th>\n",
       "      <th>Year</th>\n",
       "      <th>Month</th>\n",
       "      <th>Member State</th>\n",
       "      <th>Product</th>\n",
       "      <th>Price(/100kg)</th>\n",
       "    </tr>\n",
       "  </thead>\n",
       "  <tbody>\n",
       "    <tr>\n",
       "      <th>0</th>\n",
       "      <td>2022</td>\n",
       "      <td>Jan</td>\n",
       "      <td>Belgium</td>\n",
       "      <td>Raw milk</td>\n",
       "      <td>45.13</td>\n",
       "    </tr>\n",
       "    <tr>\n",
       "      <th>1</th>\n",
       "      <td>2022</td>\n",
       "      <td>Jan</td>\n",
       "      <td>Bulgaria</td>\n",
       "      <td>Raw milk</td>\n",
       "      <td>37.61</td>\n",
       "    </tr>\n",
       "    <tr>\n",
       "      <th>2</th>\n",
       "      <td>2022</td>\n",
       "      <td>Jan</td>\n",
       "      <td>Czechia</td>\n",
       "      <td>Raw milk</td>\n",
       "      <td>39.82</td>\n",
       "    </tr>\n",
       "    <tr>\n",
       "      <th>3</th>\n",
       "      <td>2022</td>\n",
       "      <td>Jan</td>\n",
       "      <td>Denmark</td>\n",
       "      <td>Raw milk</td>\n",
       "      <td>43.68</td>\n",
       "    </tr>\n",
       "    <tr>\n",
       "      <th>4</th>\n",
       "      <td>2022</td>\n",
       "      <td>Jan</td>\n",
       "      <td>Germany</td>\n",
       "      <td>Raw milk</td>\n",
       "      <td>43.03</td>\n",
       "    </tr>\n",
       "  </tbody>\n",
       "</table>\n",
       "</div>"
      ],
      "text/plain": [
       "   Year Month Member State   Product  Price(/100kg)\n",
       "0  2022   Jan      Belgium  Raw milk           45.13\n",
       "1  2022   Jan     Bulgaria  Raw milk           37.61\n",
       "2  2022   Jan      Czechia  Raw milk           39.82\n",
       "3  2022   Jan      Denmark  Raw milk           43.68\n",
       "4  2022   Jan      Germany  Raw milk           43.03"
      ]
     },
     "execution_count": 970,
     "metadata": {},
     "output_type": "execute_result"
    }
   ],
   "source": [
    "EuropeanMilkPrices.head(5)"
   ]
  },
  {
   "cell_type": "code",
   "execution_count": 971,
   "id": "cf50efdc-a6a0-48ff-ba40-ce191412f6cc",
   "metadata": {},
   "outputs": [],
   "source": [
    "EuropeanMilkPrices.rename(columns={\"Price(/100kg)\": \"Raw Milk Price(/100kg)\"},inplace=True)"
   ]
  },
  {
   "cell_type": "code",
   "execution_count": 972,
   "id": "b8d07d7a-37c2-49aa-96e4-058e91fcb597",
   "metadata": {},
   "outputs": [
    {
     "data": {
      "text/html": [
       "<div>\n",
       "<style scoped>\n",
       "    .dataframe tbody tr th:only-of-type {\n",
       "        vertical-align: middle;\n",
       "    }\n",
       "\n",
       "    .dataframe tbody tr th {\n",
       "        vertical-align: top;\n",
       "    }\n",
       "\n",
       "    .dataframe thead th {\n",
       "        text-align: right;\n",
       "    }\n",
       "</style>\n",
       "<table border=\"1\" class=\"dataframe\">\n",
       "  <thead>\n",
       "    <tr style=\"text-align: right;\">\n",
       "      <th></th>\n",
       "      <th>Year</th>\n",
       "      <th>Month</th>\n",
       "      <th>Member State</th>\n",
       "      <th>Product</th>\n",
       "      <th>Raw Milk Price(/100kg)</th>\n",
       "    </tr>\n",
       "  </thead>\n",
       "  <tbody>\n",
       "    <tr>\n",
       "      <th>0</th>\n",
       "      <td>2022</td>\n",
       "      <td>Jan</td>\n",
       "      <td>Belgium</td>\n",
       "      <td>Raw milk</td>\n",
       "      <td>45.13</td>\n",
       "    </tr>\n",
       "    <tr>\n",
       "      <th>1</th>\n",
       "      <td>2022</td>\n",
       "      <td>Jan</td>\n",
       "      <td>Bulgaria</td>\n",
       "      <td>Raw milk</td>\n",
       "      <td>37.61</td>\n",
       "    </tr>\n",
       "    <tr>\n",
       "      <th>2</th>\n",
       "      <td>2022</td>\n",
       "      <td>Jan</td>\n",
       "      <td>Czechia</td>\n",
       "      <td>Raw milk</td>\n",
       "      <td>39.82</td>\n",
       "    </tr>\n",
       "    <tr>\n",
       "      <th>3</th>\n",
       "      <td>2022</td>\n",
       "      <td>Jan</td>\n",
       "      <td>Denmark</td>\n",
       "      <td>Raw milk</td>\n",
       "      <td>43.68</td>\n",
       "    </tr>\n",
       "    <tr>\n",
       "      <th>4</th>\n",
       "      <td>2022</td>\n",
       "      <td>Jan</td>\n",
       "      <td>Germany</td>\n",
       "      <td>Raw milk</td>\n",
       "      <td>43.03</td>\n",
       "    </tr>\n",
       "  </tbody>\n",
       "</table>\n",
       "</div>"
      ],
      "text/plain": [
       "   Year Month Member State   Product  Raw Milk Price(/100kg)\n",
       "0  2022   Jan      Belgium  Raw milk                    45.13\n",
       "1  2022   Jan     Bulgaria  Raw milk                    37.61\n",
       "2  2022   Jan      Czechia  Raw milk                    39.82\n",
       "3  2022   Jan      Denmark  Raw milk                    43.68\n",
       "4  2022   Jan      Germany  Raw milk                    43.03"
      ]
     },
     "execution_count": 972,
     "metadata": {},
     "output_type": "execute_result"
    }
   ],
   "source": [
    "EuropeanMilkPrices.head(5)"
   ]
  },
  {
   "cell_type": "code",
   "execution_count": 973,
   "id": "205703b5-aa00-4a8c-b64e-5226330717fc",
   "metadata": {},
   "outputs": [],
   "source": [
    "EuropeanMilkPrices1=EuropeanMilkPrices.drop(['Product'],axis=1)"
   ]
  },
  {
   "cell_type": "markdown",
   "id": "e26ff731-d1e1-40a5-a790-a59249dbe17a",
   "metadata": {},
   "source": [
    "### 3. European Butter Stock"
   ]
  },
  {
   "cell_type": "code",
   "execution_count": 974,
   "id": "a9252718-e5ed-42e5-9340-bdc490140c91",
   "metadata": {},
   "outputs": [],
   "source": [
    "EuropeanButterStock.rename(columns={'Thousand tonnes':\"Butter Thousand tonnes\"},inplace=True)"
   ]
  },
  {
   "cell_type": "code",
   "execution_count": 975,
   "id": "7ff57e06-977b-4ddb-a481-e1c339397da3",
   "metadata": {},
   "outputs": [],
   "source": [
    "#EuropeanButterStock.head(5)"
   ]
  },
  {
   "cell_type": "code",
   "execution_count": 976,
   "id": "2dff797f-e7ce-4a0a-89fd-008f53736c1f",
   "metadata": {},
   "outputs": [],
   "source": [
    "EuropeanButterStock1 = EuropeanButterStock.drop(['Member State Code','Category'],axis=1)"
   ]
  },
  {
   "cell_type": "code",
   "execution_count": 977,
   "id": "ae8a3d3c-ba8e-4ffc-a3c6-ebce8b1bc468",
   "metadata": {},
   "outputs": [],
   "source": [
    "#EuropeanButterStock.head(5)"
   ]
  },
  {
   "cell_type": "code",
   "execution_count": 978,
   "id": "51286641-ffec-42e6-ac2d-07a270f5fb60",
   "metadata": {},
   "outputs": [],
   "source": [
    "EuropeanButterStock1.rename(columns={'Thousand tonnes':\"Milk Thousand tonnes\"},inplace=True)"
   ]
  },
  {
   "cell_type": "markdown",
   "id": "0dc9a9e9-d119-4aed-b8d4-68c291e35c78",
   "metadata": {},
   "source": [
    "### 4. European Milk Stock"
   ]
  },
  {
   "cell_type": "code",
   "execution_count": 979,
   "id": "29c9040e-e5f0-442a-ad57-6f9b718ee75a",
   "metadata": {},
   "outputs": [],
   "source": [
    "EuropeanMilkStock.rename(columns={'Thousand tonnes':\"Milk Thousand tonnes\"},inplace=True)"
   ]
  },
  {
   "cell_type": "code",
   "execution_count": 980,
   "id": "13f7ecae-e9c2-41e4-9d5e-ae77ee1fea0e",
   "metadata": {},
   "outputs": [],
   "source": [
    "EuropeanMilkStock1 = EuropeanMilkStock.drop(['Member State Code','Category'],axis=1)"
   ]
  },
  {
   "cell_type": "code",
   "execution_count": 981,
   "id": "e34265fd-d398-4584-af5a-ac6dda3efae2",
   "metadata": {},
   "outputs": [
    {
     "data": {
      "text/plain": [
       "Member State            object\n",
       "Year                     int64\n",
       "Month                   object\n",
       "Milk Thousand tonnes    object\n",
       "dtype: object"
      ]
     },
     "execution_count": 981,
     "metadata": {},
     "output_type": "execute_result"
    }
   ],
   "source": [
    "EuropeanMilkStock1.dtypes"
   ]
  },
  {
   "cell_type": "markdown",
   "id": "0311dfab-c2d9-449c-9e98-251f88a93904",
   "metadata": {},
   "source": [
    "### 5. European Milk Stock"
   ]
  },
  {
   "cell_type": "code",
   "execution_count": 982,
   "id": "de12972a-a83a-4b6a-b5c2-0dfd1a1fbf04",
   "metadata": {},
   "outputs": [],
   "source": [
    "# Create a list\n",
    "EuropeanButterMilkData = [EuropeanMilkStock1,EuropeanButterStock1,EuropeanMilkPrices1,EuropeanButterPrices1]\n"
   ]
  },
  {
   "cell_type": "code",
   "execution_count": 983,
   "id": "9cde5277-1c3b-449f-b094-6331451736fd",
   "metadata": {},
   "outputs": [
    {
     "data": {
      "text/html": [
       "<div>\n",
       "<style scoped>\n",
       "    .dataframe tbody tr th:only-of-type {\n",
       "        vertical-align: middle;\n",
       "    }\n",
       "\n",
       "    .dataframe tbody tr th {\n",
       "        vertical-align: top;\n",
       "    }\n",
       "\n",
       "    .dataframe thead th {\n",
       "        text-align: right;\n",
       "    }\n",
       "</style>\n",
       "<table border=\"1\" class=\"dataframe\">\n",
       "  <thead>\n",
       "    <tr style=\"text-align: right;\">\n",
       "      <th></th>\n",
       "      <th>Member State</th>\n",
       "      <th>Year</th>\n",
       "      <th>Month</th>\n",
       "      <th>Milk Thousand tonnes</th>\n",
       "      <th>Butter Thousand tonnes</th>\n",
       "    </tr>\n",
       "  </thead>\n",
       "  <tbody>\n",
       "    <tr>\n",
       "      <th>0</th>\n",
       "      <td>Austria</td>\n",
       "      <td>2022</td>\n",
       "      <td>January</td>\n",
       "      <td>281.97</td>\n",
       "      <td>3.32</td>\n",
       "    </tr>\n",
       "    <tr>\n",
       "      <th>1</th>\n",
       "      <td>Austria</td>\n",
       "      <td>2022</td>\n",
       "      <td>February</td>\n",
       "      <td>264.78</td>\n",
       "      <td>2.85</td>\n",
       "    </tr>\n",
       "    <tr>\n",
       "      <th>2</th>\n",
       "      <td>Austria</td>\n",
       "      <td>2022</td>\n",
       "      <td>March</td>\n",
       "      <td>298.06</td>\n",
       "      <td>3.36</td>\n",
       "    </tr>\n",
       "    <tr>\n",
       "      <th>3</th>\n",
       "      <td>Austria</td>\n",
       "      <td>2022</td>\n",
       "      <td>April</td>\n",
       "      <td>290.51</td>\n",
       "      <td>3.13</td>\n",
       "    </tr>\n",
       "    <tr>\n",
       "      <th>4</th>\n",
       "      <td>Austria</td>\n",
       "      <td>2022</td>\n",
       "      <td>May</td>\n",
       "      <td>299.46</td>\n",
       "      <td>3.09</td>\n",
       "    </tr>\n",
       "    <tr>\n",
       "      <th>...</th>\n",
       "      <td>...</td>\n",
       "      <td>...</td>\n",
       "      <td>...</td>\n",
       "      <td>...</td>\n",
       "      <td>...</td>\n",
       "    </tr>\n",
       "    <tr>\n",
       "      <th>6129</th>\n",
       "      <td>Slovakia</td>\n",
       "      <td>2004</td>\n",
       "      <td>August</td>\n",
       "      <td>81.20</td>\n",
       "      <td>0.89</td>\n",
       "    </tr>\n",
       "    <tr>\n",
       "      <th>6130</th>\n",
       "      <td>Slovakia</td>\n",
       "      <td>2004</td>\n",
       "      <td>September</td>\n",
       "      <td>76.50</td>\n",
       "      <td>0.74</td>\n",
       "    </tr>\n",
       "    <tr>\n",
       "      <th>6131</th>\n",
       "      <td>Slovakia</td>\n",
       "      <td>2004</td>\n",
       "      <td>October</td>\n",
       "      <td>74.45</td>\n",
       "      <td>0.64</td>\n",
       "    </tr>\n",
       "    <tr>\n",
       "      <th>6132</th>\n",
       "      <td>Slovakia</td>\n",
       "      <td>2004</td>\n",
       "      <td>November</td>\n",
       "      <td>68.20</td>\n",
       "      <td>0.62</td>\n",
       "    </tr>\n",
       "    <tr>\n",
       "      <th>6133</th>\n",
       "      <td>Slovakia</td>\n",
       "      <td>2004</td>\n",
       "      <td>December</td>\n",
       "      <td>77.05</td>\n",
       "      <td>0.78</td>\n",
       "    </tr>\n",
       "  </tbody>\n",
       "</table>\n",
       "<p>6134 rows × 5 columns</p>\n",
       "</div>"
      ],
      "text/plain": [
       "     Member State  Year      Month Milk Thousand tonnes  \\\n",
       "0         Austria  2022    January               281.97   \n",
       "1         Austria  2022   February               264.78   \n",
       "2         Austria  2022      March               298.06   \n",
       "3         Austria  2022      April               290.51   \n",
       "4         Austria  2022        May               299.46   \n",
       "...           ...   ...        ...                  ...   \n",
       "6129     Slovakia  2004     August                81.20   \n",
       "6130     Slovakia  2004  September                76.50   \n",
       "6131     Slovakia  2004    October                74.45   \n",
       "6132     Slovakia  2004   November                68.20   \n",
       "6133     Slovakia  2004   December                77.05   \n",
       "\n",
       "      Butter Thousand tonnes  \n",
       "0                       3.32  \n",
       "1                       2.85  \n",
       "2                       3.36  \n",
       "3                       3.13  \n",
       "4                       3.09  \n",
       "...                      ...  \n",
       "6129                    0.89  \n",
       "6130                    0.74  \n",
       "6131                    0.64  \n",
       "6132                    0.62  \n",
       "6133                    0.78  \n",
       "\n",
       "[6134 rows x 5 columns]"
      ]
     },
     "execution_count": 983,
     "metadata": {},
     "output_type": "execute_result"
    }
   ],
   "source": [
    "right_merged = pd.merge(EuropeanMilkStock1, EuropeanButterStock1, how=\"right\", on=[\"Member State\", \"Year\",\"Month\" ])\n",
    "right_merged"
   ]
  },
  {
   "cell_type": "code",
   "execution_count": 984,
   "id": "58897106-a3f9-4005-89b4-d820173f5a66",
   "metadata": {},
   "outputs": [
    {
     "data": {
      "text/html": [
       "<div>\n",
       "<style scoped>\n",
       "    .dataframe tbody tr th:only-of-type {\n",
       "        vertical-align: middle;\n",
       "    }\n",
       "\n",
       "    .dataframe tbody tr th {\n",
       "        vertical-align: top;\n",
       "    }\n",
       "\n",
       "    .dataframe thead th {\n",
       "        text-align: right;\n",
       "    }\n",
       "</style>\n",
       "<table border=\"1\" class=\"dataframe\">\n",
       "  <thead>\n",
       "    <tr style=\"text-align: right;\">\n",
       "      <th></th>\n",
       "      <th>Member State</th>\n",
       "      <th>Year</th>\n",
       "      <th>Month</th>\n",
       "      <th>Milk Thousand tonnes</th>\n",
       "      <th>Butter Thousand tonnes</th>\n",
       "      <th>Year</th>\n",
       "      <th>Month</th>\n",
       "      <th>Member State</th>\n",
       "      <th>Raw Milk Price(/100kg)</th>\n",
       "      <th>Year</th>\n",
       "      <th>Member State</th>\n",
       "      <th>Butter Price (/100kg)</th>\n",
       "      <th>Month</th>\n",
       "    </tr>\n",
       "  </thead>\n",
       "  <tbody>\n",
       "    <tr>\n",
       "      <th>0</th>\n",
       "      <td>Austria</td>\n",
       "      <td>2022</td>\n",
       "      <td>January</td>\n",
       "      <td>281.97</td>\n",
       "      <td>3.32</td>\n",
       "      <td>2022</td>\n",
       "      <td>Jan</td>\n",
       "      <td>Belgium</td>\n",
       "      <td>45.13</td>\n",
       "      <td>2000</td>\n",
       "      <td>Belgium</td>\n",
       "      <td>326.10</td>\n",
       "      <td>12</td>\n",
       "    </tr>\n",
       "    <tr>\n",
       "      <th>1</th>\n",
       "      <td>Austria</td>\n",
       "      <td>2022</td>\n",
       "      <td>February</td>\n",
       "      <td>264.78</td>\n",
       "      <td>2.85</td>\n",
       "      <td>2022</td>\n",
       "      <td>Jan</td>\n",
       "      <td>Bulgaria</td>\n",
       "      <td>37.61</td>\n",
       "      <td>2000</td>\n",
       "      <td>Denmark</td>\n",
       "      <td>376.70</td>\n",
       "      <td>12</td>\n",
       "    </tr>\n",
       "    <tr>\n",
       "      <th>2</th>\n",
       "      <td>Austria</td>\n",
       "      <td>2022</td>\n",
       "      <td>March</td>\n",
       "      <td>298.06</td>\n",
       "      <td>3.36</td>\n",
       "      <td>2022</td>\n",
       "      <td>Jan</td>\n",
       "      <td>Czechia</td>\n",
       "      <td>39.82</td>\n",
       "      <td>2000</td>\n",
       "      <td>Germany</td>\n",
       "      <td>352.79</td>\n",
       "      <td>12</td>\n",
       "    </tr>\n",
       "    <tr>\n",
       "      <th>3</th>\n",
       "      <td>Austria</td>\n",
       "      <td>2022</td>\n",
       "      <td>April</td>\n",
       "      <td>290.51</td>\n",
       "      <td>3.13</td>\n",
       "      <td>2022</td>\n",
       "      <td>Jan</td>\n",
       "      <td>Denmark</td>\n",
       "      <td>43.68</td>\n",
       "      <td>2000</td>\n",
       "      <td>Ireland</td>\n",
       "      <td>292.04</td>\n",
       "      <td>12</td>\n",
       "    </tr>\n",
       "    <tr>\n",
       "      <th>4</th>\n",
       "      <td>Austria</td>\n",
       "      <td>2022</td>\n",
       "      <td>May</td>\n",
       "      <td>299.46</td>\n",
       "      <td>3.09</td>\n",
       "      <td>2022</td>\n",
       "      <td>Jan</td>\n",
       "      <td>Germany</td>\n",
       "      <td>43.03</td>\n",
       "      <td>2000</td>\n",
       "      <td>Greece</td>\n",
       "      <td>460.16</td>\n",
       "      <td>12</td>\n",
       "    </tr>\n",
       "    <tr>\n",
       "      <th>...</th>\n",
       "      <td>...</td>\n",
       "      <td>...</td>\n",
       "      <td>...</td>\n",
       "      <td>...</td>\n",
       "      <td>...</td>\n",
       "      <td>...</td>\n",
       "      <td>...</td>\n",
       "      <td>...</td>\n",
       "      <td>...</td>\n",
       "      <td>...</td>\n",
       "      <td>...</td>\n",
       "      <td>...</td>\n",
       "      <td>...</td>\n",
       "    </tr>\n",
       "    <tr>\n",
       "      <th>452</th>\n",
       "      <td>Belgium</td>\n",
       "      <td>2007</td>\n",
       "      <td>March</td>\n",
       "      <td>294.00</td>\n",
       "      <td>11.59</td>\n",
       "      <td>2005</td>\n",
       "      <td>Jan</td>\n",
       "      <td>Slovakia</td>\n",
       "      <td>25.07</td>\n",
       "      <td>2000</td>\n",
       "      <td>Germany</td>\n",
       "      <td>326.20</td>\n",
       "      <td>1</td>\n",
       "    </tr>\n",
       "    <tr>\n",
       "      <th>453</th>\n",
       "      <td>Belgium</td>\n",
       "      <td>2007</td>\n",
       "      <td>April</td>\n",
       "      <td>285.58</td>\n",
       "      <td>11.35</td>\n",
       "      <td>2005</td>\n",
       "      <td>Jan</td>\n",
       "      <td>Finland</td>\n",
       "      <td>34.42</td>\n",
       "      <td>2000</td>\n",
       "      <td>Ireland</td>\n",
       "      <td>293.31</td>\n",
       "      <td>1</td>\n",
       "    </tr>\n",
       "    <tr>\n",
       "      <th>454</th>\n",
       "      <td>Belgium</td>\n",
       "      <td>2007</td>\n",
       "      <td>May</td>\n",
       "      <td>293.84</td>\n",
       "      <td>11.33</td>\n",
       "      <td>2005</td>\n",
       "      <td>Jan</td>\n",
       "      <td>Sweden</td>\n",
       "      <td>31.63</td>\n",
       "      <td>2000</td>\n",
       "      <td>Greece</td>\n",
       "      <td>429.47</td>\n",
       "      <td>1</td>\n",
       "    </tr>\n",
       "    <tr>\n",
       "      <th>455</th>\n",
       "      <td>Belgium</td>\n",
       "      <td>2007</td>\n",
       "      <td>June</td>\n",
       "      <td>270.00</td>\n",
       "      <td>7.89</td>\n",
       "      <td>2004</td>\n",
       "      <td>Jan</td>\n",
       "      <td>Slovenia</td>\n",
       "      <td>27.95</td>\n",
       "      <td>2000</td>\n",
       "      <td>Spain</td>\n",
       "      <td>294.50</td>\n",
       "      <td>1</td>\n",
       "    </tr>\n",
       "    <tr>\n",
       "      <th>456</th>\n",
       "      <td>Belgium</td>\n",
       "      <td>2007</td>\n",
       "      <td>July</td>\n",
       "      <td>260.57</td>\n",
       "      <td>7.03</td>\n",
       "      <td>2003</td>\n",
       "      <td>Jan</td>\n",
       "      <td>Slovenia</td>\n",
       "      <td>28.43</td>\n",
       "      <td>2000</td>\n",
       "      <td>France</td>\n",
       "      <td>299.56</td>\n",
       "      <td>1</td>\n",
       "    </tr>\n",
       "  </tbody>\n",
       "</table>\n",
       "<p>457 rows × 13 columns</p>\n",
       "</div>"
      ],
      "text/plain": [
       "    Member State  Year     Month Milk Thousand tonnes  Butter Thousand tonnes  \\\n",
       "0        Austria  2022   January               281.97                    3.32   \n",
       "1        Austria  2022  February               264.78                    2.85   \n",
       "2        Austria  2022     March               298.06                    3.36   \n",
       "3        Austria  2022     April               290.51                    3.13   \n",
       "4        Austria  2022       May               299.46                    3.09   \n",
       "..           ...   ...       ...                  ...                     ...   \n",
       "452      Belgium  2007     March               294.00                   11.59   \n",
       "453      Belgium  2007     April               285.58                   11.35   \n",
       "454      Belgium  2007       May               293.84                   11.33   \n",
       "455      Belgium  2007      June               270.00                    7.89   \n",
       "456      Belgium  2007      July               260.57                    7.03   \n",
       "\n",
       "     Year  Month Member State  Raw Milk Price(/100kg)  Year Member State  \\\n",
       "0    2022    Jan      Belgium                    45.13  2000      Belgium   \n",
       "1    2022    Jan     Bulgaria                    37.61  2000      Denmark   \n",
       "2    2022    Jan      Czechia                    39.82  2000      Germany   \n",
       "3    2022    Jan      Denmark                    43.68  2000      Ireland   \n",
       "4    2022    Jan      Germany                    43.03  2000       Greece   \n",
       "..    ...    ...          ...                      ...   ...          ...   \n",
       "452  2005    Jan     Slovakia                    25.07  2000      Germany   \n",
       "453  2005    Jan      Finland                    34.42  2000      Ireland   \n",
       "454  2005    Jan       Sweden                    31.63  2000       Greece   \n",
       "455  2004    Jan     Slovenia                    27.95  2000        Spain   \n",
       "456  2003    Jan     Slovenia                    28.43  2000       France   \n",
       "\n",
       "     Butter Price (/100kg)  Month  \n",
       "0                    326.10     12  \n",
       "1                    376.70     12  \n",
       "2                    352.79     12  \n",
       "3                    292.04     12  \n",
       "4                    460.16     12  \n",
       "..                      ...    ...  \n",
       "452                  326.20      1  \n",
       "453                  293.31      1  \n",
       "454                  429.47      1  \n",
       "455                  294.50      1  \n",
       "456                  299.56      1  \n",
       "\n",
       "[457 rows x 13 columns]"
      ]
     },
     "execution_count": 984,
     "metadata": {},
     "output_type": "execute_result"
    }
   ],
   "source": [
    "left_merged = pd.concat([right_merged,EuropeanMilkPrices1,EuropeanButterPrices1],axis = \"columns\",join=\"inner\")\n",
    "left_merged"
   ]
  },
  {
   "cell_type": "code",
   "execution_count": 985,
   "id": "b90a6061-5ca6-4113-850e-0b69c73a0e6f",
   "metadata": {},
   "outputs": [],
   "source": [
    "ButterMilkComparison = left_merged.loc[:,~left_merged.columns.duplicated()].copy()"
   ]
  },
  {
   "cell_type": "code",
   "execution_count": 986,
   "id": "f420e3ba-cb0d-4966-a1cb-9940c70e2543",
   "metadata": {},
   "outputs": [],
   "source": [
    "#ButterMilkComparison.head()"
   ]
  },
  {
   "cell_type": "code",
   "execution_count": 987,
   "id": "8edc5474-5801-4268-ad62-61638144f7f4",
   "metadata": {},
   "outputs": [
    {
     "data": {
      "text/plain": [
       "Member State                object\n",
       "Year                         int64\n",
       "Month                       object\n",
       "Milk Thousand tonnes        object\n",
       "Butter Thousand tonnes     float64\n",
       "Raw Milk Price(/100kg)    float64\n",
       "Butter Price (/100kg)     float64\n",
       "dtype: object"
      ]
     },
     "execution_count": 987,
     "metadata": {},
     "output_type": "execute_result"
    }
   ],
   "source": [
    "ButterMilkComparison.dtypes"
   ]
  },
  {
   "cell_type": "code",
   "execution_count": 988,
   "id": "551e1ce1-b3dc-4522-b250-e61c01191868",
   "metadata": {},
   "outputs": [],
   "source": [
    "# converting 'Weight' and 'Salary' from float to int\n",
    "#ButterMilkComparison = ButterMilkComparison.astype({ \"Butter Thousand tonnes\":'int', \"Raw Milk Price(/100kg)\":'int',\"Butter Price (/100kg)\":'int',}) "
   ]
  },
  {
   "cell_type": "code",
   "execution_count": null,
   "id": "daaad818-de9c-44bc-a3a4-c3d45186e0e3",
   "metadata": {},
   "outputs": [],
   "source": []
  },
  {
   "cell_type": "code",
   "execution_count": 989,
   "id": "f7f36a9a-44d3-4aec-9e48-cbd483545929",
   "metadata": {},
   "outputs": [],
   "source": [
    "# Milk Thousand tonnes was a object type and wouldnt convert to int normally , has to used the below code\n",
    "ButterMilkComparison['Milk Thousand tonnes'] = pd.to_numeric(ButterMilkComparison['Milk Thousand tonnes'],errors='coerce')"
   ]
  },
  {
   "cell_type": "code",
   "execution_count": 990,
   "id": "ade042e1-ac02-43e7-95c6-b59831556fc2",
   "metadata": {},
   "outputs": [
    {
     "data": {
      "text/plain": [
       "Member State                object\n",
       "Year                         int64\n",
       "Month                       object\n",
       "Milk Thousand tonnes       float64\n",
       "Butter Thousand tonnes     float64\n",
       "Raw Milk Price(/100kg)    float64\n",
       "Butter Price (/100kg)     float64\n",
       "dtype: object"
      ]
     },
     "execution_count": 990,
     "metadata": {},
     "output_type": "execute_result"
    }
   ],
   "source": [
    "ButterMilkComparison.dtypes"
   ]
  },
  {
   "cell_type": "code",
   "execution_count": null,
   "id": "7085c190-87eb-4a00-83c1-1964ac4bf0e9",
   "metadata": {},
   "outputs": [],
   "source": []
  },
  {
   "cell_type": "code",
   "execution_count": 991,
   "id": "167e9c96-50bb-4d5d-ba6c-0db01a8f4114",
   "metadata": {},
   "outputs": [
    {
     "name": "stdout",
     "output_type": "stream",
     "text": [
      "number of duplicate rows:  (0, 7)\n"
     ]
    }
   ],
   "source": [
    "# Rows containing duplicate data\n",
    "duplicate_rows_df = ButterMilkComparison[ButterMilkComparison.duplicated()]\n",
    "print(\"number of duplicate rows: \", duplicate_rows_df.shape)"
   ]
  },
  {
   "cell_type": "code",
   "execution_count": 992,
   "id": "bc40b240-1d3b-451b-9707-0668d4749610",
   "metadata": {},
   "outputs": [
    {
     "data": {
      "text/plain": [
       "Member State               0\n",
       "Year                       0\n",
       "Month                      0\n",
       "Milk Thousand tonnes       0\n",
       "Butter Thousand tonnes     0\n",
       "Raw Milk Price(/100kg)    0\n",
       "Butter Price (/100kg)     0\n",
       "dtype: int64"
      ]
     },
     "execution_count": 992,
     "metadata": {},
     "output_type": "execute_result"
    }
   ],
   "source": [
    "duplicate_rows_df.count() "
   ]
  },
  {
   "cell_type": "code",
   "execution_count": 993,
   "id": "40cfde72-2b0f-460e-8a4f-2447c4399eac",
   "metadata": {},
   "outputs": [
    {
     "name": "stdout",
     "output_type": "stream",
     "text": [
      "Member State               0.0\n",
      "Year                       0.0\n",
      "Month                      0.0\n",
      "Milk Thousand tonnes       0.0\n",
      "Butter Thousand tonnes     0.0\n",
      "Raw Milk Price(/100kg)    0.0\n",
      "Butter Price (/100kg)     0.0\n",
      "dtype: float64\n"
     ]
    }
   ],
   "source": [
    "# Finding the null values.\n",
    "print(duplicate_rows_df.isnull().sum()) \n"
   ]
  },
  {
   "cell_type": "code",
   "execution_count": null,
   "id": "6075cd5b-66f9-434e-ad09-d811e6472284",
   "metadata": {},
   "outputs": [],
   "source": []
  },
  {
   "cell_type": "code",
   "execution_count": null,
   "id": "88f858c4-07a4-44f2-a080-844859be77a9",
   "metadata": {},
   "outputs": [],
   "source": []
  }
 ],
 "metadata": {
  "kernelspec": {
   "display_name": "Python 3 (ipykernel)",
   "language": "python",
   "name": "python3"
  },
  "language_info": {
   "codemirror_mode": {
    "name": "ipython",
    "version": 3
   },
   "file_extension": ".py",
   "mimetype": "text/x-python",
   "name": "python",
   "nbconvert_exporter": "python",
   "pygments_lexer": "ipython3",
   "version": "3.9.12"
  }
 },
 "nbformat": 4,
 "nbformat_minor": 5
}
