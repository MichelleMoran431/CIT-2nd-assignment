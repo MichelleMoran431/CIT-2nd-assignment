{
 "cells": [
  {
   "cell_type": "markdown",
   "id": "69119279",
   "metadata": {},
   "source": [
    "# Twitter API Tutorial\n"
   ]
  },
  {
   "cell_type": "markdown",
   "id": "de93501e",
   "metadata": {},
   "source": [
    "Today, we're going to look at how to interact with Twitter's API so that we can easily access some tweets.\n",
    "\n",
    "Recall that API stands for Application Programming Interface, and is a way for some programmes to interact with other programmes. (An interface is a standard way to access some functionality.)\n",
    "\n",
    "We'll use the requests library to make some API requests for past tweets, and Twitter's twitter-stream library to get a real-time stream of tweets.\n",
    "\n",
    "But first: A bit on access tokens"
   ]
  },
  {
   "cell_type": "markdown",
   "id": "49acb2c5",
   "metadata": {},
   "source": [
    "## API Access Tokens"
   ]
  },
  {
   "cell_type": "markdown",
   "id": "57314360",
   "metadata": {},
   "source": [
    "Last week, we were able to use a weather API by going to the appropiate URL endpoint with the right queries. Some services like to restrict access to all or some of their APIs behind access tokens.\n",
    "\n",
    "Firstly, this let's them keep track of who is using which resources, so anyone abusing the services (intentionally or not) can have access cut off. This is called 'rate limiting'.\n",
    "\n",
    "Secondly, it let's them give different levels of access to different people. Advertisers on Twitter, as well as accedemic researchers, can get access to more powerful APIs that the rest of us!"
   ]
  },
  {
   "cell_type": "markdown",
   "id": "4039a28c",
   "metadata": {},
   "source": [
    "To save time, I'll be giving you all access tokens that I've previously registered. There are about 400,000 tweets left on it for the month, but with a class of 80+ that can go fast, so please **remember to turn off any tweet streams!**\n",
    "\n",
    "If you want to use the Twitter API for any projects/CAs, you'll need your own access tokens. Let me know and I can help you set it up!"
   ]
  },
  {
   "cell_type": "markdown",
   "id": "26786cbb",
   "metadata": {},
   "source": [
    "## Using API tokens (or other authentication materials)"
   ]
  },
  {
   "cell_type": "markdown",
   "id": "5329c65d",
   "metadata": {},
   "source": [
    "In general, you want to avoid sharing your access tokens.\n",
    "\n",
    "Beware that versioning software like Git and GitHub keeps ALL of your previous committs. So if you leave access tokens in ANY commit, people can go back though the versioning history and find it!\n",
    "\n",
    "Because of this, we are going to save our access tokens as **enviromental variables**.\n",
    "\n",
    "These can then be read by Python into our programme, without having to ever have them explicitly in the code.\n",
    "\n",
    "Another reason to do this is for when you are sharing your code: people can then just run it with their access tokens.\n",
    "\n",
    "We'll be using the python-dotenv library to handle this for us.\n",
    "\n",
    "The access tokens will be saved in a file called .env (hence the library name).\n",
    "\n",
    "These are normally **hidden files** so you may not be able to view it- you'll have to change your view settings."
   ]
  },
  {
   "cell_type": "code",
   "execution_count": 1,
   "id": "acb6b14c",
   "metadata": {},
   "outputs": [],
   "source": [
    "#!pip install python-dotenv"
   ]
  },
  {
   "cell_type": "code",
   "execution_count": 7,
   "id": "393a1fdc",
   "metadata": {},
   "outputs": [],
   "source": [
    "from dotenv import dotenv_values\n",
    "\n",
    "config = dotenv_values(\".env\")\n",
    "\n",
    "# your Twitter API key and API secret\n",
    "# We won't be using these variables, they're just for demonstration.\n",
    "my_api_key = config[\"API_KEY\"]\n",
    "my_api_key_secret = config[\"API_KEY_SECRET\"]"
   ]
  },
  {
   "cell_type": "code",
   "execution_count": 8,
   "id": "dc096614-8d5d-44a3-93d6-cb4580bf0154",
   "metadata": {},
   "outputs": [
    {
     "name": "stdout",
     "output_type": "stream",
     "text": [
      "MuLjaBIBiINqqAN7tEZFz7wHG\n"
     ]
    }
   ],
   "source": [
    "print(config[\"API_KEY\"])"
   ]
  },
  {
   "cell_type": "markdown",
   "id": "ede04d32",
   "metadata": {},
   "source": [
    "The twitter-stream library will look for the access tokens in a particular place on your computer. This section is to make the correct file in the appropiate location. You can do this manually either."
   ]
  },
  {
   "cell_type": "code",
   "execution_count": 10,
   "id": "60c8edea",
   "metadata": {},
   "outputs": [],
   "source": [
    "twitter_keys = f'''keys:\n",
    "    access_token: {config[\"API_KEY\"]}\n",
    "    access_token_secret: {config[\"API_KEY_SECRET\"]}\n",
    "    bearer_token: {config[\"BEARER_TOKEN\"]}\n",
    "'''\n",
    "# Mac might be able to use \"~/.twitter-keys.yaml\"\n",
    "with open(\"C:/Users/User/Desktop/Masters 2022/Programming/Week 5th Dec/Week 12 Twitter API/Week 12 Twitter API/.twitter-keys.yaml\", \"w\") as file:\n",
    "    file.write(twitter_keys)\n",
    "with open(\"C:/Users/User/Desktop/Masters 2022/Programming/Week 5th Dec/Week 12 Twitter API/Week 12 Twitter API/.twitter_keys.yaml\", \"w\") as file:\n",
    "    file.write(twitter_keys)"
   ]
  },
  {
   "cell_type": "markdown",
   "id": "85edf8a1",
   "metadata": {},
   "source": [
    "Now that that is all done, we can let the fun begin!!"
   ]
  },
  {
   "cell_type": "markdown",
   "id": "16a71e14",
   "metadata": {},
   "source": [
    "## Twitter Queries"
   ]
  },
  {
   "cell_type": "code",
   "execution_count": null,
   "id": "016f33bc",
   "metadata": {},
   "outputs": [],
   "source": [
    "#!pip install requests"
   ]
  },
  {
   "cell_type": "markdown",
   "id": "12312f6a",
   "metadata": {},
   "source": [
    "Source: https://github.com/twitterdev/Twitter-API-v2-sample-code\n",
    "\n",
    "We've using the recent-search functionality:\n",
    "https://github.com/twitterdev/Twitter-API-v2-sample-code/blob/main/Recent-Search/recent_search.py\n",
    "\n",
    "For more on building tweet queries:\n",
    "https://developer.twitter.com/en/docs/twitter-api/tweets/search/integrate/build-a-query"
   ]
  },
  {
   "cell_type": "code",
   "execution_count": 11,
   "id": "4c59354f",
   "metadata": {},
   "outputs": [
    {
     "name": "stdout",
     "output_type": "stream",
     "text": [
      "200\n",
      "{\n",
      "    \"data\": [\n",
      "        {\n",
      "            \"author_id\": \"1521086718711054337\",\n",
      "            \"edit_history_tweet_ids\": [\n",
      "                \"1603013939956260864\"\n",
      "            ],\n",
      "            \"id\": \"1603013939956260864\",\n",
      "            \"text\": \"@WhiteHouse Eggs are up 47%, butter close behind, Meat we can No Longer afford, every other food Item Up, Up, Up. The only reason gas prices are down but still much higher then when President Trump was in office. So, stop blowing smoke up our backsides. https://t.co/jYn2UJi4sL\"\n",
      "        },\n",
      "        {\n",
      "            \"author_id\": \"358415466\",\n",
      "            \"edit_history_tweet_ids\": [\n",
      "                \"1602997849607868416\"\n",
      "            ],\n",
      "            \"id\": \"1602997849607868416\",\n",
      "            \"text\": \"@POTUS #presidentgaslight you can tell us that food inflation is down as much as you want. It doesn’t mean that it’s actually happening. Butter and eggs prices are $7 and $6 respectively.  YOU SUCK\"\n",
      "        },\n",
      "        {\n",
      "            \"author_id\": \"1853004673\",\n",
      "            \"edit_history_tweet_ids\": [\n",
      "                \"1602871728589488129\"\n",
      "            ],\n",
      "            \"id\": \"1602871728589488129\",\n",
      "            \"text\": \"@SenJohnKennedy My natural gas bill is about double. Food prices are horrific.  Butter used to be $2.49, now $7/lb, cream cheese was $1.18 now $7 for low fat and $5 for regular. Many things are double or triple.\"\n",
      "        },\n",
      "        {\n",
      "            \"author_id\": \"1601534502496608256\",\n",
      "            \"edit_history_tweet_ids\": [\n",
      "                \"1602815520213975042\"\n",
      "            ],\n",
      "            \"id\": \"1602815520213975042\",\n",
      "            \"text\": \"@onestep1999 @JDCocchiarella Right!! A pound of butter is $5.  Anyone who doesn’t noticed sky rocketing food prices has blinders on or doesn’t grocery shop. Period.  End.\"\n",
      "        },\n",
      "        {\n",
      "            \"author_id\": \"4187441979\",\n",
      "            \"edit_history_tweet_ids\": [\n",
      "                \"1602740101397749761\"\n",
      "            ],\n",
      "            \"id\": \"1602740101397749761\",\n",
      "            \"text\": \"@melanieburnard It's not true.  At the time people spoke of \\\"butter mountains\\\" and \\\"wine lakes\\\" because EU food processors were paid to store products to artificially maintain prices at a higher level.  This never applied to milk, although there may have been subsidies to produced milk powder.\"\n",
      "        },\n",
      "        {\n",
      "            \"author_id\": \"1579918554194927642\",\n",
      "            \"edit_history_tweet_ids\": [\n",
      "                \"1602711228899627011\"\n",
      "            ],\n",
      "            \"id\": \"1602711228899627011\",\n",
      "            \"text\": \"guy whose breakfast consists of 25 slices of bacon, 12 eggs, a gallon of milk and pound of butter thinks food prices are too high https://t.co/vJZcbAcXfR\"\n",
      "        },\n",
      "        {\n",
      "            \"author_id\": \"19546277\",\n",
      "            \"edit_history_tweet_ids\": [\n",
      "                \"1602660865882341376\"\n",
      "            ],\n",
      "            \"id\": \"1602660865882341376\",\n",
      "            \"text\": \"🍽 A closer look at food prices MoM, YoY:\\n\\nBread +2%,+15.7%\\nMeats -0.4%, +1.1%\\nEggs +2.3, +49.1%\\nMilk +0.8% +14.7%\\nFruits &amp; vegetables +1.4%, +9.7%\\nCoffee +0.5%, +14.6%\\nButter +0.2%, +27%\"\n",
      "        },\n",
      "        {\n",
      "            \"author_id\": \"3020866952\",\n",
      "            \"edit_history_tweet_ids\": [\n",
      "                \"1602389225399164928\"\n",
      "            ],\n",
      "            \"id\": \"1602389225399164928\",\n",
      "            \"text\": \"@DecaturBullet @LDadoberman I agree a lot on that! A lot of things are getting ridiculously priced. Butter has pretty much doubled. I could imagine the prices you actually have to pay for food &amp; health as well. Can’t be easy. Have you heard of gasbuddy? It’s might be something to look into. Get rewards for\"\n",
      "        },\n",
      "        {\n",
      "            \"author_id\": \"166942410\",\n",
      "            \"edit_history_tweet_ids\": [\n",
      "                \"1602319169130827782\"\n",
      "            ],\n",
      "            \"id\": \"1602319169130827782\",\n",
      "            \"text\": \"Jo Roberts told ITV News her business has been \\\"hit by different angles\\\" including soaring food prices and energy bills\\n\\nhttps://t.co/dKKMuZ3jkA\"\n",
      "        },\n",
      "        {\n",
      "            \"author_id\": \"2205370812\",\n",
      "            \"edit_history_tweet_ids\": [\n",
      "                \"1601985253408935936\"\n",
      "            ],\n",
      "            \"id\": \"1601985253408935936\",\n",
      "            \"text\": \"@CNN HAHAHAHAHAHAAHAHAHAHAHHAHAHAH!\\nButter is now $7.00/LB in California.\\nFood prices are nearly triple what they were under @realDonaldTrump.\\nNo wonder your audience is going away. This is such amazing propaganda.\"\n",
      "        },\n",
      "        {\n",
      "            \"author_id\": \"1179598431897174016\",\n",
      "            \"edit_history_tweet_ids\": [\n",
      "                \"1601976284371886080\"\n",
      "            ],\n",
      "            \"id\": \"1601976284371886080\",\n",
      "            \"text\": \"@TheChefsGardens Ooh. That sure would be handy for so many things. 🤩\\n\\nIt's exhausting to check all the food store and feed store prices before going anywhere, but we have to. The prices fluctuate so much that it's absolutely necessary to check prices before heading out. Butter alone! 🤦🏻‍♀️\"\n",
      "        },\n",
      "        {\n",
      "            \"author_id\": \"1295187449174462465\",\n",
      "            \"edit_history_tweet_ids\": [\n",
      "                \"1601939804983279617\"\n",
      "            ],\n",
      "            \"id\": \"1601939804983279617\",\n",
      "            \"text\": \"@nickcapra_gpc @stephen_taylor Give yer head a shake. Turdeau has borrowed more money than all other PMs combined! Oil &lt;$90/barrel and gas is &gt;$130/lt; with Harper oil was $100/barrel and gas was &lt;$1/lt. With Turdeau Lie-berals food prices way up, butter &gt;$6/lb, with Harper butter &lt;$2/lb. Wake up sunshine!\"\n",
      "        },\n",
      "        {\n",
      "            \"author_id\": \"1485752296935989253\",\n",
      "            \"edit_history_tweet_ids\": [\n",
      "                \"1601923755852398594\"\n",
      "            ],\n",
      "            \"id\": \"1601923755852398594\",\n",
      "            \"text\": \"@POTUS Eggs are 6x what they were last year, butter 2x as much.  I've had to triple my food budget for my family due to increase food prices.\"\n",
      "        },\n",
      "        {\n",
      "            \"author_id\": \"758711965447495681\",\n",
      "            \"edit_history_tweet_ids\": [\n",
      "                \"1601506447770386432\"\n",
      "            ],\n",
      "            \"id\": \"1601506447770386432\",\n",
      "            \"text\": \"food prices are insane atm whenever i tell the customer the price of the groceries i'm like uuuh the Fuck did you buy and it's like milk, butter and idk a potato\"\n",
      "        },\n",
      "        {\n",
      "            \"author_id\": \"301090498\",\n",
      "            \"edit_history_tweet_ids\": [\n",
      "                \"1601266090725634048\"\n",
      "            ],\n",
      "            \"id\": \"1601266090725634048\",\n",
      "            \"text\": \"@ansmmrs_a @TimRunsHisMouth @POTUS Food  &amp; had prices went up the day he took office. The War didn't start until Feb 22. And they kept going up to this day. $14 for 2 pks of butter at Costco? REALLY? Quit making excuses for this lame admin! Gas is going down because he released our reserves. It will go back up!\"\n",
      "        },\n",
      "        {\n",
      "            \"author_id\": \"56413858\",\n",
      "            \"edit_history_tweet_ids\": [\n",
      "                \"1601252869533057024\"\n",
      "            ],\n",
      "            \"id\": \"1601252869533057024\",\n",
      "            \"text\": \"INFLATION NATION: Big box retailer reports slight dip in crushing food prices\\nhttps://t.co/cuDFEgOdRf\"\n",
      "        },\n",
      "        {\n",
      "            \"author_id\": \"1246705848\",\n",
      "            \"edit_history_tweet_ids\": [\n",
      "                \"1601247854026280960\"\n",
      "            ],\n",
      "            \"id\": \"1601247854026280960\",\n",
      "            \"text\": \"Baking for the holidays? Track prices for butter, sugar, eggs, and flour from 1937-1969 with FRASER's collection of @BLS_gov's \\\"Retail Prices of Food\\\" bulletins https://t.co/InqBAgOg6w https://t.co/7i7GfQKxfm\"\n",
      "        },\n",
      "        {\n",
      "            \"author_id\": \"56982435\",\n",
      "            \"edit_history_tweet_ids\": [\n",
      "                \"1601214966593654784\"\n",
      "            ],\n",
      "            \"id\": \"1601214966593654784\",\n",
      "            \"text\": \"even those danish butter cookies are 'spensive now\\n\\nwill food prices drop or will they keep increasing from this point\\n\\nit's like jump bidding, ie instead of increasing at expected increments, the sudden jump is double, triple, or quadruple the expected increment\"\n",
      "        },\n",
      "        {\n",
      "            \"author_id\": \"1362167393447907329\",\n",
      "            \"edit_history_tweet_ids\": [\n",
      "                \"1601213597429866497\"\n",
      "            ],\n",
      "            \"id\": \"1601213597429866497\",\n",
      "            \"text\": \"Why is a Racist talking out they ass again??😩😩\\n\\nYou can be rich and still complain abt food prices, like how butter from where I am is abt 4$ I’m not broke but I’m gonna complain cuz wtf😩\\n\\nAnd don’t forgot Naruto and Hinata couldn’t even afford a door, shika- https://t.co/X3NZOmAYRf https://t.co/e0udFIBBpM\"\n",
      "        },\n",
      "        {\n",
      "            \"author_id\": \"711760467383877632\",\n",
      "            \"edit_history_tweet_ids\": [\n",
      "                \"1601178595426271235\"\n",
      "            ],\n",
      "            \"id\": \"1601178595426271235\",\n",
      "            \"text\": \"\\\"Hundreds of thousands of families unable to secure food\\\"\\n\\nCost of living crisis worsens for UK's vulnerable households as prices of staples like milk, butter rise by some 30%.\\n\\nOliver Regan brings you this report\\n\\nFor more videos, visit: https://t.co/AXC5qRugeb https://t.co/M8WQPCPWpX\"\n",
      "        },\n",
      "        {\n",
      "            \"author_id\": \"346304409\",\n",
      "            \"edit_history_tweet_ids\": [\n",
      "                \"1601002433265926145\"\n",
      "            ],\n",
      "            \"id\": \"1601002433265926145\",\n",
      "            \"text\": \"@POTUS I’m tired about hearing about gas prices.  FOOD prices are thru the roof!   Get diesel down ….Eggs $5 a doz, butter $3.99+, etc\"\n",
      "        },\n",
      "        {\n",
      "            \"author_id\": \"71432133\",\n",
      "            \"edit_history_tweet_ids\": [\n",
      "                \"1600904016128405505\"\n",
      "            ],\n",
      "            \"id\": \"1600904016128405505\",\n",
      "            \"text\": \"Insane that Egg and Butter prices have increased 4-5X!! - \\nUtah's independent eateries say 2022 is toughest year they've had https://t.co/dUXw2iKiAR\"\n",
      "        },\n",
      "        {\n",
      "            \"author_id\": \"2240647826\",\n",
      "            \"edit_history_tweet_ids\": [\n",
      "                \"1600824699512291328\"\n",
      "            ],\n",
      "            \"id\": \"1600824699512291328\",\n",
      "            \"text\": \"The Dutch Dairy Board/ZuivelNL have cut four of their five official dairy commodity prices: butter is down €150 to €5,450/t, SMP (food) down €160 to €2,810/t, SMP (feed) down €180 to €2,620/t and whey powder down €20 to €870/t. WMP was left unchanged at €4,150/t\"\n",
      "        },\n",
      "        {\n",
      "            \"author_id\": \"1516553761715593221\",\n",
      "            \"edit_history_tweet_ids\": [\n",
      "                \"1600553888968589348\"\n",
      "            ],\n",
      "            \"id\": \"1600553888968589348\",\n",
      "            \"text\": \"CFTC Ag Comm- issues raised are of the utmost significance and reflect challenges faced by the ag industry. Higher prices may mean those in fragile financial circumstances face hard choices about buying basic food sources butter, bread, or burgers.  https://t.co/XpECmnZsnd\"\n",
      "        },\n",
      "        {\n",
      "            \"author_id\": \"2876484751\",\n",
      "            \"edit_history_tweet_ids\": [\n",
      "                \"1600539545057230848\"\n",
      "            ],\n",
      "            \"id\": \"1600539545057230848\",\n",
      "            \"text\": \"For it's true vegetable prices came down in november which already factored by RBI in October CPI,other wise food inflation not came down,prices of cereals,atta, oil,rent,clothes,shoes,spices,milk,butter,etc prices not came down in november,so RBI governor told inflation to 6.8%\"\n",
      "        }\n",
      "    ],\n",
      "    \"meta\": {\n",
      "        \"newest_id\": \"1603013939956260864\",\n",
      "        \"next_token\": \"b26v89c19zqg8o3fqk0zkpfcc8acxgytsjx2shegl9bp9\",\n",
      "        \"oldest_id\": \"1600539545057230848\",\n",
      "        \"result_count\": 25\n",
      "    }\n",
      "}\n"
     ]
    }
   ],
   "source": [
    "import requests\n",
    "import json\n",
    "\n",
    "# As an alternative to the .env file, you can do this:\n",
    "# To set your environment variables in your terminal run the following line:\n",
    "# export 'BEARER_TOKEN'='<your_bearer_token>'\n",
    "bearer_token = config[\"BEARER_TOKEN\"]\n",
    "\n",
    "search_url = \"https://api.twitter.com/2/tweets/search/recent\"\n",
    "\n",
    "# Optional params: start_time,end_time,since_id,until_id,max_results,next_token,\n",
    "# expansions,tweet.fields,media.fields,poll.fields,place.fields,user.fields\n",
    "# query_params = {'query': '(from:twitterdev -is:retweet) OR #twitterdev','tweet.fields': 'author_id', \"max_results\":\"10\"}\n",
    "query_params = {\n",
    "#     'query': 'from:elonmusk -is:retweet is:verified',\n",
    "    'query' : '\"Butter\" food prices -is:retweet',\n",
    "    'tweet.fields': 'author_id', \n",
    "    'user.fields': 'name',\n",
    "    \"max_results\":\"25\",\n",
    "}\n",
    "\n",
    "def bearer_oauth(r):\n",
    "    \"\"\"\n",
    "    Method required by bearer token authentication.\n",
    "    \"\"\"\n",
    "\n",
    "    r.headers[\"Authorization\"] = f\"Bearer {bearer_token}\"\n",
    "    r.headers[\"User-Agent\"] = \"v2RecentSearchPython\"\n",
    "    return r\n",
    "\n",
    "def connect_to_endpoint(url, params):\n",
    "    response = requests.get(url, auth=bearer_oauth, params=params)\n",
    "    print(response.status_code)\n",
    "    if response.status_code != 200:\n",
    "        raise Exception(response.status_code, response.text)\n",
    "    return response.json()\n",
    "\n",
    "# Querying the API\n",
    "json_response = connect_to_endpoint(search_url, query_params)\n",
    "\n",
    "# Parsing the response\n",
    "parsedRes = json.dumps(json_response, indent=4, sort_keys=True, ensure_ascii=False)\n",
    "print(parsedRes)"
   ]
  },
  {
   "cell_type": "markdown",
   "id": "71073282",
   "metadata": {
    "ExecuteTime": {
     "end_time": "2022-11-08T16:38:26.165471Z",
     "start_time": "2022-11-08T16:38:26.160467Z"
    }
   },
   "source": [
    "## Real Time Tweet Streams\n",
    "\n",
    "We are not limited to just historical tweets: we can collect tweets as they are sent! \n",
    "\n",
    "(I don't know the actual delay between tweet and stream, but it is relatively fast)"
   ]
  },
  {
   "cell_type": "code",
   "execution_count": null,
   "id": "8b5e5b75",
   "metadata": {
    "ExecuteTime": {
     "end_time": "2022-11-08T18:21:17.036319Z",
     "start_time": "2022-11-08T18:21:17.029312Z"
    }
   },
   "outputs": [],
   "source": [
    "#!pip install twitter-stream.py"
   ]
  },
  {
   "cell_type": "code",
   "execution_count": 16,
   "id": "f64c833f-670e-4310-aeeb-ba030bfe7409",
   "metadata": {},
   "outputs": [],
   "source": [
    "twitter_keys=f'''keys:\n",
    "    access_token: {config[\"API_KEY\"]}\n",
    "    access_token_secret: {config[\"API_KEY_SECRET\"]}\n",
    "    bearer_token: {config[\"BEARER_TOKEN\"]}\n",
    "'''\n",
    "with open(\"C:/Users/User/Desktop/Masters 2022/Programming/Week 5th Dec/Week 12 Twitter API/Week 12 Twitter API/.twitter_keys.yaml\",\"w\") as file:\n",
    "    file.write(twitter_keys)\n",
    "with open(\"C:/Users/User/Desktop/Masters 2022/Programming/Week 5th Dec/Week 12 Twitter API/Week 12 Twitter API/.twitter_keys.yaml\", \"w\") as file:\n",
    "    file.write(twitter_keys)    \n",
    "#On mac\n",
    "# \"~/.twitter-keys.yaml\""
   ]
  },
  {
   "cell_type": "code",
   "execution_count": 14,
   "id": "20f3b499-2169-4729-a284-ecb94f174456",
   "metadata": {},
   "outputs": [],
   "source": [
    "# import json\n",
    "from twitter_stream import FilteredStream\n",
    "from time import time\n",
    "\n",
    "start = time()"
   ]
  },
  {
   "cell_type": "code",
   "execution_count": null,
   "id": "9cade2e5-6fb2-4893-8ff9-9269bf029a3c",
   "metadata": {},
   "outputs": [],
   "source": []
  },
  {
   "cell_type": "code",
   "execution_count": 17,
   "id": "b62d6d58-af8f-4f61-a1ff-11b0e70a76d3",
   "metadata": {},
   "outputs": [
    {
     "ename": "FileNotFoundError",
     "evalue": "[Errno 2] No such file or directory: 'C:\\\\Users\\\\User/.twitter-keys.yaml'",
     "output_type": "error",
     "traceback": [
      "\u001b[1;31m---------------------------------------------------------------------------\u001b[0m",
      "\u001b[1;31mFileNotFoundError\u001b[0m                         Traceback (most recent call last)",
      "\u001b[1;32m<ipython-input-17-6edd53ca4786>\u001b[0m in \u001b[0;36m<module>\u001b[1;34m\u001b[0m\n\u001b[0;32m     14\u001b[0m }\n\u001b[0;32m     15\u001b[0m \u001b[1;33m\u001b[0m\u001b[0m\n\u001b[1;32m---> 16\u001b[1;33m \u001b[0mstream\u001b[0m\u001b[1;33m.\u001b[0m\u001b[0madd_rule\u001b[0m\u001b[1;33m(\u001b[0m\u001b[0mdata\u001b[0m\u001b[1;33m=\u001b[0m\u001b[0mrule\u001b[0m\u001b[1;33m)\u001b[0m\u001b[1;33m\u001b[0m\u001b[1;33m\u001b[0m\u001b[0m\n\u001b[0m\u001b[0;32m     17\u001b[0m \u001b[0mtweetList\u001b[0m \u001b[1;33m=\u001b[0m \u001b[1;33m[\u001b[0m\u001b[1;33m]\u001b[0m\u001b[1;33m\u001b[0m\u001b[1;33m\u001b[0m\u001b[0m\n\u001b[0;32m     18\u001b[0m \u001b[1;32mfor\u001b[0m \u001b[0mtweet\u001b[0m \u001b[1;32min\u001b[0m \u001b[0mstream\u001b[0m\u001b[1;33m.\u001b[0m\u001b[0mconnect\u001b[0m\u001b[1;33m(\u001b[0m\u001b[1;33m)\u001b[0m\u001b[1;33m:\u001b[0m\u001b[1;33m\u001b[0m\u001b[1;33m\u001b[0m\u001b[0m\n",
      "\u001b[1;32m~\\anaconda3\\lib\\site-packages\\twitter_stream.py\u001b[0m in \u001b[0;36madd_rule\u001b[1;34m(self, data)\u001b[0m\n\u001b[0;32m    149\u001b[0m         \u001b[0mstream\u001b[0m\u001b[1;33m.\u001b[0m\u001b[0madd_rule\u001b[0m\u001b[1;33m(\u001b[0m\u001b[0mdata\u001b[0m\u001b[1;33m=\u001b[0m\u001b[0mrules\u001b[0m\u001b[1;33m)\u001b[0m\u001b[1;33m\u001b[0m\u001b[1;33m\u001b[0m\u001b[0m\n\u001b[0;32m    150\u001b[0m         \"\"\"\n\u001b[1;32m--> 151\u001b[1;33m         \u001b[1;32mreturn\u001b[0m \u001b[0mself\u001b[0m\u001b[1;33m.\u001b[0m\u001b[0mapi\u001b[0m\u001b[1;33m(\u001b[0m\u001b[0mmethod\u001b[0m\u001b[1;33m=\u001b[0m\u001b[1;34m\"POST\"\u001b[0m\u001b[1;33m,\u001b[0m \u001b[0mendpoint\u001b[0m\u001b[1;33m=\u001b[0m\u001b[1;34m\"search/stream/rules\"\u001b[0m\u001b[1;33m,\u001b[0m \u001b[0mdata\u001b[0m\u001b[1;33m=\u001b[0m\u001b[0mdata\u001b[0m\u001b[1;33m)\u001b[0m\u001b[1;33m.\u001b[0m\u001b[0mjson\u001b[0m\u001b[1;33m(\u001b[0m\u001b[1;33m)\u001b[0m\u001b[1;33m\u001b[0m\u001b[1;33m\u001b[0m\u001b[0m\n\u001b[0m\u001b[0;32m    152\u001b[0m \u001b[1;33m\u001b[0m\u001b[0m\n\u001b[0;32m    153\u001b[0m     \u001b[1;32mdef\u001b[0m \u001b[0mget_rules\u001b[0m\u001b[1;33m(\u001b[0m\u001b[0mself\u001b[0m\u001b[1;33m)\u001b[0m \u001b[1;33m->\u001b[0m \u001b[0mjson\u001b[0m\u001b[1;33m:\u001b[0m\u001b[1;33m\u001b[0m\u001b[1;33m\u001b[0m\u001b[0m\n",
      "\u001b[1;32m~\\anaconda3\\lib\\site-packages\\twitter_stream.py\u001b[0m in \u001b[0;36mwrapper\u001b[1;34m(args, **kwargs)\u001b[0m\n\u001b[0;32m     17\u001b[0m                     \u001b[0mcredentials\u001b[0m \u001b[1;33m=\u001b[0m \u001b[0myaml\u001b[0m\u001b[1;33m.\u001b[0m\u001b[0msafe_load\u001b[0m\u001b[1;33m(\u001b[0m\u001b[0mcredentials\u001b[0m\u001b[1;33m)\u001b[0m\u001b[1;33m[\u001b[0m\u001b[1;34m\"keys\"\u001b[0m\u001b[1;33m]\u001b[0m\u001b[1;33m\u001b[0m\u001b[1;33m\u001b[0m\u001b[0m\n\u001b[0;32m     18\u001b[0m             \u001b[1;32mexcept\u001b[0m \u001b[1;33m(\u001b[0m\u001b[0mFileNotFoundError\u001b[0m\u001b[1;33m,\u001b[0m \u001b[0mKeyError\u001b[0m\u001b[1;33m)\u001b[0m \u001b[1;32mas\u001b[0m \u001b[0mexception\u001b[0m\u001b[1;33m:\u001b[0m\u001b[1;33m\u001b[0m\u001b[1;33m\u001b[0m\u001b[0m\n\u001b[1;32m---> 19\u001b[1;33m                 \u001b[1;32mraise\u001b[0m \u001b[0mexception\u001b[0m\u001b[1;33m\u001b[0m\u001b[1;33m\u001b[0m\u001b[0m\n\u001b[0m\u001b[0;32m     20\u001b[0m             \u001b[1;32melse\u001b[0m\u001b[1;33m:\u001b[0m\u001b[1;33m\u001b[0m\u001b[1;33m\u001b[0m\u001b[0m\n\u001b[0;32m     21\u001b[0m                 \u001b[0mkwargs\u001b[0m\u001b[1;33m[\u001b[0m\u001b[1;34m\"auth\"\u001b[0m\u001b[1;33m]\u001b[0m \u001b[1;33m=\u001b[0m \u001b[0mcredentials\u001b[0m\u001b[1;33m\u001b[0m\u001b[1;33m\u001b[0m\u001b[0m\n",
      "\u001b[1;32m~\\anaconda3\\lib\\site-packages\\twitter_stream.py\u001b[0m in \u001b[0;36mwrapper\u001b[1;34m(args, **kwargs)\u001b[0m\n\u001b[0;32m     14\u001b[0m         \u001b[1;32mdef\u001b[0m \u001b[0mwrapper\u001b[0m\u001b[1;33m(\u001b[0m\u001b[0margs\u001b[0m\u001b[1;33m,\u001b[0m \u001b[1;33m**\u001b[0m\u001b[0mkwargs\u001b[0m\u001b[1;33m)\u001b[0m\u001b[1;33m:\u001b[0m\u001b[1;33m\u001b[0m\u001b[1;33m\u001b[0m\u001b[0m\n\u001b[0;32m     15\u001b[0m             \u001b[1;32mtry\u001b[0m\u001b[1;33m:\u001b[0m\u001b[1;33m\u001b[0m\u001b[1;33m\u001b[0m\u001b[0m\n\u001b[1;32m---> 16\u001b[1;33m                 \u001b[1;32mwith\u001b[0m \u001b[0mopen\u001b[0m\u001b[1;33m(\u001b[0m\u001b[0mos\u001b[0m\u001b[1;33m.\u001b[0m\u001b[0mpath\u001b[0m\u001b[1;33m.\u001b[0m\u001b[0mexpanduser\u001b[0m\u001b[1;33m(\u001b[0m\u001b[0mfilename\u001b[0m\u001b[1;33m)\u001b[0m\u001b[1;33m)\u001b[0m \u001b[1;32mas\u001b[0m \u001b[0mcredentials\u001b[0m\u001b[1;33m:\u001b[0m\u001b[1;33m\u001b[0m\u001b[1;33m\u001b[0m\u001b[0m\n\u001b[0m\u001b[0;32m     17\u001b[0m                     \u001b[0mcredentials\u001b[0m \u001b[1;33m=\u001b[0m \u001b[0myaml\u001b[0m\u001b[1;33m.\u001b[0m\u001b[0msafe_load\u001b[0m\u001b[1;33m(\u001b[0m\u001b[0mcredentials\u001b[0m\u001b[1;33m)\u001b[0m\u001b[1;33m[\u001b[0m\u001b[1;34m\"keys\"\u001b[0m\u001b[1;33m]\u001b[0m\u001b[1;33m\u001b[0m\u001b[1;33m\u001b[0m\u001b[0m\n\u001b[0;32m     18\u001b[0m             \u001b[1;32mexcept\u001b[0m \u001b[1;33m(\u001b[0m\u001b[0mFileNotFoundError\u001b[0m\u001b[1;33m,\u001b[0m \u001b[0mKeyError\u001b[0m\u001b[1;33m)\u001b[0m \u001b[1;32mas\u001b[0m \u001b[0mexception\u001b[0m\u001b[1;33m:\u001b[0m\u001b[1;33m\u001b[0m\u001b[1;33m\u001b[0m\u001b[0m\n",
      "\u001b[1;31mFileNotFoundError\u001b[0m: [Errno 2] No such file or directory: 'C:\\\\Users\\\\User/.twitter-keys.yaml'"
     ]
    }
   ],
   "source": [
    "# import json\n",
    "from twitter_stream import FilteredStream\n",
    "from time import time\n",
    "\n",
    "start = time()\n",
    "stream = FilteredStream()\n",
    "rule = {\n",
    "    \"add\" : [\n",
    "        {\n",
    "            \"value\": '\"World Cup\" -is:retweet ', \n",
    "             \"tag\": \"soccer\"\n",
    "        }\n",
    "    ]\n",
    "}\n",
    "\n",
    "stream.add_rule(data=rule)\n",
    "tweetList = []\n",
    "for tweet in stream.connect():\n",
    "    parsedTweet = json.dumps(tweet, indent=4, ensure_ascii=False)\n",
    "    tweetList.append(parsedTweet)\n",
    "    print(parsedTweet)\n",
    "    print(f\"There are: {len(tweetList)} tweets, about {len(tweetList)/(time()-start)} tweets per second.\")"
   ]
  },
  {
   "cell_type": "markdown",
   "id": "35f91415",
   "metadata": {},
   "source": [
    "## SampledStream API\n",
    "Returns a constant stream of tweets, and returns certain properties of those tweets\n",
    "\n",
    "As is, it will keep going until the notebook kernal is stopped (though you can add in time limits)"
   ]
  },
  {
   "cell_type": "code",
   "execution_count": null,
   "id": "5bbd6362",
   "metadata": {
    "ExecuteTime": {
     "end_time": "2022-11-08T18:20:09.993283Z",
     "start_time": "2022-11-08T18:18:27.349834Z"
    }
   },
   "outputs": [],
   "source": [
    "#Source: https://github.com/twitivity/twitter-stream.py\n",
    "# https://github.com/twitivity/twitter-stream.py/blob/main/twitter_stream.py\n",
    "\n",
    "import json\n",
    "from twitter_stream import SampledStream\n",
    "\n",
    "class Stream(SampledStream):\n",
    "    user_fields = ['name', 'location', 'public_metrics']\n",
    "    expansions = ['author_id']\n",
    "    tweet_fields = ['created_at']\n",
    "\n",
    "stream = Stream()\n",
    "for tweet in stream.connect():\n",
    "    print(json.dumps(tweet, indent=4,ensure_ascii=False))"
   ]
  },
  {
   "cell_type": "markdown",
   "id": "fa753289",
   "metadata": {},
   "source": [
    "## FilteredStream API\n",
    "Returns a constant stream of tweets that have been filtered by some rules\n",
    "\n",
    "As is, it will keep going until the notebook kernal is stopped (though you can add in time limits)"
   ]
  },
  {
   "cell_type": "code",
   "execution_count": null,
   "id": "6ca52cd6",
   "metadata": {
    "ExecuteTime": {
     "end_time": "2022-11-13T00:36:12.816672Z",
     "start_time": "2022-11-13T00:36:03.757430Z"
    },
    "scrolled": true
   },
   "outputs": [],
   "source": [
    "#Source: https://github.com/twitivity/twitter-stream.py\n",
    "# https://github.com/twitivity/twitter-stream.py/blob/main/twitter_stream.py\n",
    "\n",
    "import json\n",
    "from twitter_stream import FilteredStream\n",
    "from time import time\n",
    "\n",
    "start = time()\n",
    "stream = FilteredStream()\n",
    "rule = {\n",
    "    \"add\" : [\n",
    "        {\"value\": \"\\\"World Cup\\\" -is:retweet\", \"tag\":\"soccer\"}\n",
    "    ]\n",
    "}\n",
    "stream.add_rule(data=rule)\n",
    "tweetList = []\n",
    "for tweet in stream.connect():\n",
    "    parsedTweet = json.dumps(tweet, indent=4,ensure_ascii=False)\n",
    "    tweetList.append(parsedTweet)\n",
    "    print(parsedTweet)\n",
    "    print(f\"There are: {len(tweetList)} tweets, about {len(tweetList)/(time()-start)} tweets per second after {(time()-start)} seconds\")"
   ]
  },
  {
   "cell_type": "code",
   "execution_count": null,
   "id": "fbe1c302",
   "metadata": {
    "ExecuteTime": {
     "end_time": "2022-11-08T23:26:37.060168Z",
     "start_time": "2022-11-08T23:26:37.048169Z"
    }
   },
   "outputs": [],
   "source": [
    "len(tweetList)"
   ]
  },
  {
   "cell_type": "code",
   "execution_count": null,
   "id": "2259d7c6",
   "metadata": {
    "ExecuteTime": {
     "end_time": "2022-11-13T00:54:40.312025Z",
     "start_time": "2022-11-13T00:54:40.089789Z"
    }
   },
   "outputs": [],
   "source": []
  },
  {
   "cell_type": "code",
   "execution_count": null,
   "id": "6572e5d3",
   "metadata": {
    "ExecuteTime": {
     "end_time": "2022-11-08T17:22:51.342733Z",
     "start_time": "2022-11-08T17:22:51.330713Z"
    }
   },
   "outputs": [],
   "source": [
    "for tweet in searchTweetList:\n",
    "    print(tweet)"
   ]
  },
  {
   "cell_type": "markdown",
   "id": "1c273f22",
   "metadata": {},
   "source": [
    "REST API: Endpoint is watch, queries start at ? and are separated by &\n",
    "\n",
    "\n",
    "https://youtube.com/watch?v=dQw4w9WgXcQ&t=57"
   ]
  },
  {
   "cell_type": "code",
   "execution_count": null,
   "id": "e8968876",
   "metadata": {
    "ExecuteTime": {
     "end_time": "2022-11-08T23:33:58.243698Z",
     "start_time": "2022-11-08T23:33:55.549551Z"
    }
   },
   "outputs": [],
   "source": [
    "with open(\"Midterms Tweets.json\", \"w\") as file:\n",
    "    json.dump(tweetDict, file, indent=4)"
   ]
  },
  {
   "cell_type": "code",
   "execution_count": null,
   "id": "b8cf509e",
   "metadata": {},
   "outputs": [],
   "source": []
  }
 ],
 "metadata": {
  "kernelspec": {
   "display_name": "Python 3",
   "language": "python",
   "name": "python3"
  },
  "language_info": {
   "codemirror_mode": {
    "name": "ipython",
    "version": 3
   },
   "file_extension": ".py",
   "mimetype": "text/x-python",
   "name": "python",
   "nbconvert_exporter": "python",
   "pygments_lexer": "ipython3",
   "version": "3.8.8"
  }
 },
 "nbformat": 4,
 "nbformat_minor": 5
}
